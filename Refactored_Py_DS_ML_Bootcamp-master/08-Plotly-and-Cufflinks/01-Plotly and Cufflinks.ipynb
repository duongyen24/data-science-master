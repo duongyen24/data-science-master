{
 "cells": [
  {
   "cell_type": "markdown",
   "metadata": {},
   "source": [
    "___\n",
    "\n",
    "<a href='http://www.pieriandata.com'> <img src='../Pierian_Data_Logo.png' /></a>\n",
    "___\n",
    "# Plotly and Cufflinks"
   ]
  },
  {
   "cell_type": "markdown",
   "metadata": {},
   "source": [
    "Plotly is a library that allows you to create interactive plots that you can use in dashboards or websites (you can save them as html files or static images).\n",
    "\n",
    "## Installation\n",
    "\n",
    "In order for this all to work, you'll need to install plotly and cufflinks to call plots directly off of a pandas dataframe. These libraries are not currently available through **conda** but are available through **pip**. Install the libraries at your command line/terminal using:\n",
    "\n",
    "    pip install plotly\n",
    "    pip install cufflinks\n",
    "\n",
    "** NOTE: Make sure you only have one installation of Python on your computer when you do this, otherwise the installation may not work. **\n",
    "\n",
    "## Imports and Set-up"
   ]
  },
  {
   "cell_type": "code",
   "execution_count": 1,
   "metadata": {
    "collapsed": true
   },
   "outputs": [],
   "source": [
    "import pandas as pd\n",
    "import numpy as np\n",
    "%matplotlib inline"
   ]
  },
  {
   "cell_type": "code",
   "execution_count": 2,
   "metadata": {
    "collapsed": false
   },
   "outputs": [
    {
     "name": "stdout",
     "output_type": "stream",
     "text": [
      "5.1.0\n"
     ]
    }
   ],
   "source": [
    "from plotly import __version__\n",
    "from plotly.offline import download_plotlyjs, init_notebook_mode, plot, iplot\n",
    "\n",
    "print(__version__) # requires version >= 1.9.0"
   ]
  },
  {
   "cell_type": "code",
   "execution_count": 3,
   "metadata": {
    "collapsed": true
   },
   "outputs": [],
   "source": [
    "import cufflinks as cf"
   ]
  },
  {
   "cell_type": "code",
   "execution_count": 4,
   "metadata": {
    "collapsed": false
   },
   "outputs": [
    {
     "data": {
      "text/html": [
       "        <script type=\"text/javascript\">\n",
       "        window.PlotlyConfig = {MathJaxConfig: 'local'};\n",
       "        if (window.MathJax) {MathJax.Hub.Config({SVG: {font: \"STIX-Web\"}});}\n",
       "        if (typeof require !== 'undefined') {\n",
       "        require.undef(\"plotly\");\n",
       "        requirejs.config({\n",
       "            paths: {\n",
       "                'plotly': ['https://cdn.plot.ly/plotly-2.2.0.min']\n",
       "            }\n",
       "        });\n",
       "        require(['plotly'], function(Plotly) {\n",
       "            window._Plotly = Plotly;\n",
       "        });\n",
       "        }\n",
       "        </script>\n",
       "        "
      ]
     },
     "metadata": {},
     "output_type": "display_data"
    }
   ],
   "source": [
    "# For Notebooks\n",
    "init_notebook_mode(connected=True)"
   ]
  },
  {
   "cell_type": "code",
   "execution_count": 5,
   "metadata": {
    "collapsed": false
   },
   "outputs": [
    {
     "data": {
      "text/html": [
       "        <script type=\"text/javascript\">\n",
       "        window.PlotlyConfig = {MathJaxConfig: 'local'};\n",
       "        if (window.MathJax) {MathJax.Hub.Config({SVG: {font: \"STIX-Web\"}});}\n",
       "        if (typeof require !== 'undefined') {\n",
       "        require.undef(\"plotly\");\n",
       "        requirejs.config({\n",
       "            paths: {\n",
       "                'plotly': ['https://cdn.plot.ly/plotly-2.2.0.min']\n",
       "            }\n",
       "        });\n",
       "        require(['plotly'], function(Plotly) {\n",
       "            window._Plotly = Plotly;\n",
       "        });\n",
       "        }\n",
       "        </script>\n",
       "        "
      ]
     },
     "metadata": {},
     "output_type": "display_data"
    }
   ],
   "source": [
    "# For offline use\n",
    "cf.go_offline()"
   ]
  },
  {
   "cell_type": "markdown",
   "metadata": {},
   "source": [
    "### Fake Data"
   ]
  },
  {
   "cell_type": "code",
   "execution_count": 6,
   "metadata": {
    "collapsed": false
   },
   "outputs": [],
   "source": [
    "df = pd.DataFrame(np.random.randn(100,4),columns='A B C D'.split())"
   ]
  },
  {
   "cell_type": "code",
   "execution_count": 7,
   "metadata": {
    "collapsed": false
   },
   "outputs": [
    {
     "data": {
      "text/html": [
       "<div>\n",
       "<style scoped>\n",
       "    .dataframe tbody tr th:only-of-type {\n",
       "        vertical-align: middle;\n",
       "    }\n",
       "\n",
       "    .dataframe tbody tr th {\n",
       "        vertical-align: top;\n",
       "    }\n",
       "\n",
       "    .dataframe thead th {\n",
       "        text-align: right;\n",
       "    }\n",
       "</style>\n",
       "<table border=\"1\" class=\"dataframe\">\n",
       "  <thead>\n",
       "    <tr style=\"text-align: right;\">\n",
       "      <th></th>\n",
       "      <th>A</th>\n",
       "      <th>B</th>\n",
       "      <th>C</th>\n",
       "      <th>D</th>\n",
       "    </tr>\n",
       "  </thead>\n",
       "  <tbody>\n",
       "    <tr>\n",
       "      <th>0</th>\n",
       "      <td>-1.569881</td>\n",
       "      <td>-1.311400</td>\n",
       "      <td>-1.027796</td>\n",
       "      <td>0.119163</td>\n",
       "    </tr>\n",
       "    <tr>\n",
       "      <th>1</th>\n",
       "      <td>-0.246706</td>\n",
       "      <td>-0.551189</td>\n",
       "      <td>0.409896</td>\n",
       "      <td>-1.459269</td>\n",
       "    </tr>\n",
       "    <tr>\n",
       "      <th>2</th>\n",
       "      <td>0.930488</td>\n",
       "      <td>0.956411</td>\n",
       "      <td>1.535083</td>\n",
       "      <td>1.806079</td>\n",
       "    </tr>\n",
       "    <tr>\n",
       "      <th>3</th>\n",
       "      <td>-0.506625</td>\n",
       "      <td>-0.075654</td>\n",
       "      <td>1.346621</td>\n",
       "      <td>0.175037</td>\n",
       "    </tr>\n",
       "    <tr>\n",
       "      <th>4</th>\n",
       "      <td>0.684992</td>\n",
       "      <td>-0.459511</td>\n",
       "      <td>-0.213680</td>\n",
       "      <td>0.400245</td>\n",
       "    </tr>\n",
       "  </tbody>\n",
       "</table>\n",
       "</div>"
      ],
      "text/plain": [
       "          A         B         C         D\n",
       "0 -1.569881 -1.311400 -1.027796  0.119163\n",
       "1 -0.246706 -0.551189  0.409896 -1.459269\n",
       "2  0.930488  0.956411  1.535083  1.806079\n",
       "3 -0.506625 -0.075654  1.346621  0.175037\n",
       "4  0.684992 -0.459511 -0.213680  0.400245"
      ]
     },
     "execution_count": 7,
     "metadata": {},
     "output_type": "execute_result"
    }
   ],
   "source": [
    "df.head()"
   ]
  },
  {
   "cell_type": "code",
   "execution_count": 8,
   "metadata": {
    "collapsed": true
   },
   "outputs": [],
   "source": [
    "df2 = pd.DataFrame({'Category':['A','B','C'],'Values':[32,43,50]})"
   ]
  },
  {
   "cell_type": "code",
   "execution_count": 9,
   "metadata": {
    "collapsed": false
   },
   "outputs": [
    {
     "data": {
      "text/html": [
       "<div>\n",
       "<style scoped>\n",
       "    .dataframe tbody tr th:only-of-type {\n",
       "        vertical-align: middle;\n",
       "    }\n",
       "\n",
       "    .dataframe tbody tr th {\n",
       "        vertical-align: top;\n",
       "    }\n",
       "\n",
       "    .dataframe thead th {\n",
       "        text-align: right;\n",
       "    }\n",
       "</style>\n",
       "<table border=\"1\" class=\"dataframe\">\n",
       "  <thead>\n",
       "    <tr style=\"text-align: right;\">\n",
       "      <th></th>\n",
       "      <th>Category</th>\n",
       "      <th>Values</th>\n",
       "    </tr>\n",
       "  </thead>\n",
       "  <tbody>\n",
       "    <tr>\n",
       "      <th>0</th>\n",
       "      <td>A</td>\n",
       "      <td>32</td>\n",
       "    </tr>\n",
       "    <tr>\n",
       "      <th>1</th>\n",
       "      <td>B</td>\n",
       "      <td>43</td>\n",
       "    </tr>\n",
       "    <tr>\n",
       "      <th>2</th>\n",
       "      <td>C</td>\n",
       "      <td>50</td>\n",
       "    </tr>\n",
       "  </tbody>\n",
       "</table>\n",
       "</div>"
      ],
      "text/plain": [
       "  Category  Values\n",
       "0        A      32\n",
       "1        B      43\n",
       "2        C      50"
      ]
     },
     "execution_count": 9,
     "metadata": {},
     "output_type": "execute_result"
    }
   ],
   "source": [
    "df2.head()"
   ]
  },
  {
   "cell_type": "markdown",
   "metadata": {},
   "source": [
    "## Using Cufflinks and iplot()\n",
    "\n",
    "* scatter\n",
    "* bar\n",
    "* box\n",
    "* spread\n",
    "* ratio\n",
    "* heatmap\n",
    "* surface\n",
    "* histogram\n",
    "* bubble"
   ]
  },
  {
   "cell_type": "markdown",
   "metadata": {},
   "source": [
    "## Scatter"
   ]
  },
  {
   "cell_type": "code",
   "execution_count": 10,
   "metadata": {
    "collapsed": false
   },
   "outputs": [
    {
     "data": {
      "application/vnd.plotly.v1+json": {
       "config": {
        "linkText": "Export to plot.ly",
        "plotlyServerURL": "https://plot.ly",
        "showLink": true
       },
       "data": [
        {
         "line": {
          "color": "rgba(255, 153, 51, 1.0)",
          "dash": "solid",
          "shape": "linear",
          "width": 1.3
         },
         "marker": {
          "size": 10,
          "symbol": "circle"
         },
         "mode": "markers",
         "name": "B",
         "text": "",
         "type": "scatter",
         "x": [
          -1.5698810706263946,
          -0.24670595182913876,
          0.9304875741808672,
          -0.5066248091859992,
          0.6849922041296616,
          1.8970178017465043,
          0.8077409636879337,
          -1.0010217400668584,
          1.3704184544113829,
          0.4285482444378609,
          -1.4904588136094539,
          -1.057101523542387,
          -0.027965777366933554,
          0.49225766147762384,
          1.7494548923444855,
          0.6281606764666283,
          0.4124195324549872,
          -1.214371296495128,
          -1.0341361517499075,
          1.226524093673132,
          -0.3702532214319981,
          -1.026602653888882,
          -2.3899848709024765,
          0.18617738129491324,
          1.4205391403152827,
          0.16620298379615436,
          0.929471725944909,
          -0.2948437483626567,
          -0.19238683310333554,
          0.3847510505627772,
          1.0876155888389627,
          -0.13114344678221457,
          -2.6313549063054644,
          -0.3071103070391007,
          0.02304046542887793,
          0.2729530132607438,
          -0.5975479856090492,
          -1.307335029097629,
          -0.47343875594268553,
          0.40462706875938037,
          -0.3750837496186107,
          -1.153600856704141,
          -0.3210114638708474,
          -2.2727107459326708,
          0.14301117636838187,
          -0.4665470914808554,
          0.826330087593931,
          -0.4180146691670233,
          1.054261233414269,
          -0.769436597202262,
          0.30626623858840024,
          -1.222590132635321,
          -2.30431979214976,
          0.666109200462043,
          -1.6728303362407113,
          0.1360130473809156,
          0.2494020778281667,
          -1.4992821492867194,
          -0.5116902731427975,
          1.525411005806135,
          -1.0830706078125625,
          -1.1839618316805465,
          -1.2495174128404651,
          -0.25963125105376794,
          -1.0391021603416049,
          1.1701721156729272,
          0.5622979488932329,
          -0.4771715870306209,
          1.768125398112826,
          0.7841311388100116,
          -0.6192657048486289,
          -1.6034238616624827,
          -1.8180894620316153,
          -0.3769070560431302,
          -0.41583997308357923,
          -0.6968963202170636,
          0.13930902297487113,
          -0.6588464417475745,
          0.16723455663614806,
          -0.5816300010843882,
          0.8479015012297172,
          -0.8378041078347768,
          0.590067897520868,
          -0.7406499043141112,
          2.0006310452298584,
          0.05244393802697705,
          -1.2673761100060725,
          -1.856178347559622,
          -0.8744830899459701,
          -1.254130315577289,
          -1.1896877070913607,
          -1.1228223429505455,
          1.5350484892720089,
          -0.7992697234238435,
          0.4575057067461036,
          0.7343373638940573,
          1.1758847224955535,
          0.047416055252521176,
          -0.15774964088717078,
          -1.0755946344964076
         ],
         "y": [
          -1.3113999602332227,
          -0.5511892997361064,
          0.9564106365247286,
          -0.0756544666480186,
          -0.45951139552071874,
          -0.3443475067009876,
          0.5329020467359252,
          1.5965981779903844,
          -0.20924320022818726,
          1.0681126078401548,
          -0.45836557518658216,
          -1.4675364036403746,
          -0.6381239023755292,
          -0.04176861474034986,
          -0.44238044596072,
          -1.1019358315585372,
          -1.168885300883454,
          -1.0848304880389248,
          -0.8770366200242047,
          -0.8998816091576025,
          -0.257430903248447,
          -0.6354833792541387,
          -0.6693198479481702,
          -0.2559528260054829,
          1.0333323918355652,
          -0.05729430349437438,
          1.837781302884297,
          -0.46370353242448914,
          0.13857196530710683,
          -0.07449236233589691,
          0.8894995621514906,
          1.413508948643193,
          0.3150992901613012,
          -0.5601542001942031,
          -0.7421009574127645,
          0.9264598582933575,
          -1.1678766738320119,
          0.9199026350211115,
          1.3681026700375678,
          -1.1706032466392733,
          0.3058098352063741,
          1.0825115745711003,
          -0.7378682735739086,
          0.48708467631334085,
          -1.301103036688062,
          0.40206968519748654,
          -0.683857096879213,
          -1.8738912329733723,
          0.7171097033890735,
          0.03888805277076086,
          -1.1693617295332313,
          -1.500268149751419,
          1.344024211974228,
          -0.1555134136926965,
          -1.015500310369333,
          1.3380630990228026,
          1.0892709931382587,
          2.619925062300933,
          0.22134788766989708,
          -0.5265520734592678,
          -0.5930694400125788,
          2.0476451557714093,
          1.4136353954227314,
          -0.8583185862032842,
          0.909619416198989,
          -0.5818769144837174,
          -0.4288867922322983,
          -1.5589239266494332,
          -0.9503331341161685,
          -0.4871533471858235,
          0.37242352525385475,
          -0.12028847667674292,
          -0.5343988318276738,
          -0.29955801808268195,
          0.5750625586522502,
          -0.5439453452009341,
          -0.7457944468902554,
          0.21738104733639788,
          -0.8315775003113577,
          -0.16984480502465918,
          0.5637202019823333,
          -1.6541191753802165,
          0.7857574457781091,
          0.86207308970026,
          1.7636380440624961,
          0.5959513372063282,
          -1.18477284050119,
          0.5050905996685262,
          -0.7186843156620407,
          0.7277456402864244,
          -0.10883976841530896,
          -1.2800960574118065,
          0.9508036384404251,
          -1.2594942463628704,
          -0.43000599662706834,
          0.8518986087827631,
          2.1099835338576742,
          -1.1338620361510596,
          -0.1136365825121175,
          -0.31121735019710284
         ]
        }
       ],
       "layout": {
        "legend": {
         "bgcolor": "#F5F6F9",
         "font": {
          "color": "#4D5663"
         }
        },
        "paper_bgcolor": "#F5F6F9",
        "plot_bgcolor": "#F5F6F9",
        "template": {
         "data": {
          "bar": [
           {
            "error_x": {
             "color": "#2a3f5f"
            },
            "error_y": {
             "color": "#2a3f5f"
            },
            "marker": {
             "line": {
              "color": "#E5ECF6",
              "width": 0.5
             },
             "pattern": {
              "fillmode": "overlay",
              "size": 10,
              "solidity": 0.2
             }
            },
            "type": "bar"
           }
          ],
          "barpolar": [
           {
            "marker": {
             "line": {
              "color": "#E5ECF6",
              "width": 0.5
             },
             "pattern": {
              "fillmode": "overlay",
              "size": 10,
              "solidity": 0.2
             }
            },
            "type": "barpolar"
           }
          ],
          "carpet": [
           {
            "aaxis": {
             "endlinecolor": "#2a3f5f",
             "gridcolor": "white",
             "linecolor": "white",
             "minorgridcolor": "white",
             "startlinecolor": "#2a3f5f"
            },
            "baxis": {
             "endlinecolor": "#2a3f5f",
             "gridcolor": "white",
             "linecolor": "white",
             "minorgridcolor": "white",
             "startlinecolor": "#2a3f5f"
            },
            "type": "carpet"
           }
          ],
          "choropleth": [
           {
            "colorbar": {
             "outlinewidth": 0,
             "ticks": ""
            },
            "type": "choropleth"
           }
          ],
          "contour": [
           {
            "colorbar": {
             "outlinewidth": 0,
             "ticks": ""
            },
            "colorscale": [
             [
              0,
              "#0d0887"
             ],
             [
              0.1111111111111111,
              "#46039f"
             ],
             [
              0.2222222222222222,
              "#7201a8"
             ],
             [
              0.3333333333333333,
              "#9c179e"
             ],
             [
              0.4444444444444444,
              "#bd3786"
             ],
             [
              0.5555555555555556,
              "#d8576b"
             ],
             [
              0.6666666666666666,
              "#ed7953"
             ],
             [
              0.7777777777777778,
              "#fb9f3a"
             ],
             [
              0.8888888888888888,
              "#fdca26"
             ],
             [
              1,
              "#f0f921"
             ]
            ],
            "type": "contour"
           }
          ],
          "contourcarpet": [
           {
            "colorbar": {
             "outlinewidth": 0,
             "ticks": ""
            },
            "type": "contourcarpet"
           }
          ],
          "heatmap": [
           {
            "colorbar": {
             "outlinewidth": 0,
             "ticks": ""
            },
            "colorscale": [
             [
              0,
              "#0d0887"
             ],
             [
              0.1111111111111111,
              "#46039f"
             ],
             [
              0.2222222222222222,
              "#7201a8"
             ],
             [
              0.3333333333333333,
              "#9c179e"
             ],
             [
              0.4444444444444444,
              "#bd3786"
             ],
             [
              0.5555555555555556,
              "#d8576b"
             ],
             [
              0.6666666666666666,
              "#ed7953"
             ],
             [
              0.7777777777777778,
              "#fb9f3a"
             ],
             [
              0.8888888888888888,
              "#fdca26"
             ],
             [
              1,
              "#f0f921"
             ]
            ],
            "type": "heatmap"
           }
          ],
          "heatmapgl": [
           {
            "colorbar": {
             "outlinewidth": 0,
             "ticks": ""
            },
            "colorscale": [
             [
              0,
              "#0d0887"
             ],
             [
              0.1111111111111111,
              "#46039f"
             ],
             [
              0.2222222222222222,
              "#7201a8"
             ],
             [
              0.3333333333333333,
              "#9c179e"
             ],
             [
              0.4444444444444444,
              "#bd3786"
             ],
             [
              0.5555555555555556,
              "#d8576b"
             ],
             [
              0.6666666666666666,
              "#ed7953"
             ],
             [
              0.7777777777777778,
              "#fb9f3a"
             ],
             [
              0.8888888888888888,
              "#fdca26"
             ],
             [
              1,
              "#f0f921"
             ]
            ],
            "type": "heatmapgl"
           }
          ],
          "histogram": [
           {
            "marker": {
             "pattern": {
              "fillmode": "overlay",
              "size": 10,
              "solidity": 0.2
             }
            },
            "type": "histogram"
           }
          ],
          "histogram2d": [
           {
            "colorbar": {
             "outlinewidth": 0,
             "ticks": ""
            },
            "colorscale": [
             [
              0,
              "#0d0887"
             ],
             [
              0.1111111111111111,
              "#46039f"
             ],
             [
              0.2222222222222222,
              "#7201a8"
             ],
             [
              0.3333333333333333,
              "#9c179e"
             ],
             [
              0.4444444444444444,
              "#bd3786"
             ],
             [
              0.5555555555555556,
              "#d8576b"
             ],
             [
              0.6666666666666666,
              "#ed7953"
             ],
             [
              0.7777777777777778,
              "#fb9f3a"
             ],
             [
              0.8888888888888888,
              "#fdca26"
             ],
             [
              1,
              "#f0f921"
             ]
            ],
            "type": "histogram2d"
           }
          ],
          "histogram2dcontour": [
           {
            "colorbar": {
             "outlinewidth": 0,
             "ticks": ""
            },
            "colorscale": [
             [
              0,
              "#0d0887"
             ],
             [
              0.1111111111111111,
              "#46039f"
             ],
             [
              0.2222222222222222,
              "#7201a8"
             ],
             [
              0.3333333333333333,
              "#9c179e"
             ],
             [
              0.4444444444444444,
              "#bd3786"
             ],
             [
              0.5555555555555556,
              "#d8576b"
             ],
             [
              0.6666666666666666,
              "#ed7953"
             ],
             [
              0.7777777777777778,
              "#fb9f3a"
             ],
             [
              0.8888888888888888,
              "#fdca26"
             ],
             [
              1,
              "#f0f921"
             ]
            ],
            "type": "histogram2dcontour"
           }
          ],
          "mesh3d": [
           {
            "colorbar": {
             "outlinewidth": 0,
             "ticks": ""
            },
            "type": "mesh3d"
           }
          ],
          "parcoords": [
           {
            "line": {
             "colorbar": {
              "outlinewidth": 0,
              "ticks": ""
             }
            },
            "type": "parcoords"
           }
          ],
          "pie": [
           {
            "automargin": true,
            "type": "pie"
           }
          ],
          "scatter": [
           {
            "marker": {
             "colorbar": {
              "outlinewidth": 0,
              "ticks": ""
             }
            },
            "type": "scatter"
           }
          ],
          "scatter3d": [
           {
            "line": {
             "colorbar": {
              "outlinewidth": 0,
              "ticks": ""
             }
            },
            "marker": {
             "colorbar": {
              "outlinewidth": 0,
              "ticks": ""
             }
            },
            "type": "scatter3d"
           }
          ],
          "scattercarpet": [
           {
            "marker": {
             "colorbar": {
              "outlinewidth": 0,
              "ticks": ""
             }
            },
            "type": "scattercarpet"
           }
          ],
          "scattergeo": [
           {
            "marker": {
             "colorbar": {
              "outlinewidth": 0,
              "ticks": ""
             }
            },
            "type": "scattergeo"
           }
          ],
          "scattergl": [
           {
            "marker": {
             "colorbar": {
              "outlinewidth": 0,
              "ticks": ""
             }
            },
            "type": "scattergl"
           }
          ],
          "scattermapbox": [
           {
            "marker": {
             "colorbar": {
              "outlinewidth": 0,
              "ticks": ""
             }
            },
            "type": "scattermapbox"
           }
          ],
          "scatterpolar": [
           {
            "marker": {
             "colorbar": {
              "outlinewidth": 0,
              "ticks": ""
             }
            },
            "type": "scatterpolar"
           }
          ],
          "scatterpolargl": [
           {
            "marker": {
             "colorbar": {
              "outlinewidth": 0,
              "ticks": ""
             }
            },
            "type": "scatterpolargl"
           }
          ],
          "scatterternary": [
           {
            "marker": {
             "colorbar": {
              "outlinewidth": 0,
              "ticks": ""
             }
            },
            "type": "scatterternary"
           }
          ],
          "surface": [
           {
            "colorbar": {
             "outlinewidth": 0,
             "ticks": ""
            },
            "colorscale": [
             [
              0,
              "#0d0887"
             ],
             [
              0.1111111111111111,
              "#46039f"
             ],
             [
              0.2222222222222222,
              "#7201a8"
             ],
             [
              0.3333333333333333,
              "#9c179e"
             ],
             [
              0.4444444444444444,
              "#bd3786"
             ],
             [
              0.5555555555555556,
              "#d8576b"
             ],
             [
              0.6666666666666666,
              "#ed7953"
             ],
             [
              0.7777777777777778,
              "#fb9f3a"
             ],
             [
              0.8888888888888888,
              "#fdca26"
             ],
             [
              1,
              "#f0f921"
             ]
            ],
            "type": "surface"
           }
          ],
          "table": [
           {
            "cells": {
             "fill": {
              "color": "#EBF0F8"
             },
             "line": {
              "color": "white"
             }
            },
            "header": {
             "fill": {
              "color": "#C8D4E3"
             },
             "line": {
              "color": "white"
             }
            },
            "type": "table"
           }
          ]
         },
         "layout": {
          "annotationdefaults": {
           "arrowcolor": "#2a3f5f",
           "arrowhead": 0,
           "arrowwidth": 1
          },
          "autotypenumbers": "strict",
          "coloraxis": {
           "colorbar": {
            "outlinewidth": 0,
            "ticks": ""
           }
          },
          "colorscale": {
           "diverging": [
            [
             0,
             "#8e0152"
            ],
            [
             0.1,
             "#c51b7d"
            ],
            [
             0.2,
             "#de77ae"
            ],
            [
             0.3,
             "#f1b6da"
            ],
            [
             0.4,
             "#fde0ef"
            ],
            [
             0.5,
             "#f7f7f7"
            ],
            [
             0.6,
             "#e6f5d0"
            ],
            [
             0.7,
             "#b8e186"
            ],
            [
             0.8,
             "#7fbc41"
            ],
            [
             0.9,
             "#4d9221"
            ],
            [
             1,
             "#276419"
            ]
           ],
           "sequential": [
            [
             0,
             "#0d0887"
            ],
            [
             0.1111111111111111,
             "#46039f"
            ],
            [
             0.2222222222222222,
             "#7201a8"
            ],
            [
             0.3333333333333333,
             "#9c179e"
            ],
            [
             0.4444444444444444,
             "#bd3786"
            ],
            [
             0.5555555555555556,
             "#d8576b"
            ],
            [
             0.6666666666666666,
             "#ed7953"
            ],
            [
             0.7777777777777778,
             "#fb9f3a"
            ],
            [
             0.8888888888888888,
             "#fdca26"
            ],
            [
             1,
             "#f0f921"
            ]
           ],
           "sequentialminus": [
            [
             0,
             "#0d0887"
            ],
            [
             0.1111111111111111,
             "#46039f"
            ],
            [
             0.2222222222222222,
             "#7201a8"
            ],
            [
             0.3333333333333333,
             "#9c179e"
            ],
            [
             0.4444444444444444,
             "#bd3786"
            ],
            [
             0.5555555555555556,
             "#d8576b"
            ],
            [
             0.6666666666666666,
             "#ed7953"
            ],
            [
             0.7777777777777778,
             "#fb9f3a"
            ],
            [
             0.8888888888888888,
             "#fdca26"
            ],
            [
             1,
             "#f0f921"
            ]
           ]
          },
          "colorway": [
           "#636efa",
           "#EF553B",
           "#00cc96",
           "#ab63fa",
           "#FFA15A",
           "#19d3f3",
           "#FF6692",
           "#B6E880",
           "#FF97FF",
           "#FECB52"
          ],
          "font": {
           "color": "#2a3f5f"
          },
          "geo": {
           "bgcolor": "white",
           "lakecolor": "white",
           "landcolor": "#E5ECF6",
           "showlakes": true,
           "showland": true,
           "subunitcolor": "white"
          },
          "hoverlabel": {
           "align": "left"
          },
          "hovermode": "closest",
          "mapbox": {
           "style": "light"
          },
          "paper_bgcolor": "white",
          "plot_bgcolor": "#E5ECF6",
          "polar": {
           "angularaxis": {
            "gridcolor": "white",
            "linecolor": "white",
            "ticks": ""
           },
           "bgcolor": "#E5ECF6",
           "radialaxis": {
            "gridcolor": "white",
            "linecolor": "white",
            "ticks": ""
           }
          },
          "scene": {
           "xaxis": {
            "backgroundcolor": "#E5ECF6",
            "gridcolor": "white",
            "gridwidth": 2,
            "linecolor": "white",
            "showbackground": true,
            "ticks": "",
            "zerolinecolor": "white"
           },
           "yaxis": {
            "backgroundcolor": "#E5ECF6",
            "gridcolor": "white",
            "gridwidth": 2,
            "linecolor": "white",
            "showbackground": true,
            "ticks": "",
            "zerolinecolor": "white"
           },
           "zaxis": {
            "backgroundcolor": "#E5ECF6",
            "gridcolor": "white",
            "gridwidth": 2,
            "linecolor": "white",
            "showbackground": true,
            "ticks": "",
            "zerolinecolor": "white"
           }
          },
          "shapedefaults": {
           "line": {
            "color": "#2a3f5f"
           }
          },
          "ternary": {
           "aaxis": {
            "gridcolor": "white",
            "linecolor": "white",
            "ticks": ""
           },
           "baxis": {
            "gridcolor": "white",
            "linecolor": "white",
            "ticks": ""
           },
           "bgcolor": "#E5ECF6",
           "caxis": {
            "gridcolor": "white",
            "linecolor": "white",
            "ticks": ""
           }
          },
          "title": {
           "x": 0.05
          },
          "xaxis": {
           "automargin": true,
           "gridcolor": "white",
           "linecolor": "white",
           "ticks": "",
           "title": {
            "standoff": 15
           },
           "zerolinecolor": "white",
           "zerolinewidth": 2
          },
          "yaxis": {
           "automargin": true,
           "gridcolor": "white",
           "linecolor": "white",
           "ticks": "",
           "title": {
            "standoff": 15
           },
           "zerolinecolor": "white",
           "zerolinewidth": 2
          }
         }
        },
        "title": {
         "font": {
          "color": "#4D5663"
         }
        },
        "xaxis": {
         "gridcolor": "#E1E5ED",
         "showgrid": true,
         "tickfont": {
          "color": "#4D5663"
         },
         "title": {
          "font": {
           "color": "#4D5663"
          },
          "text": ""
         },
         "zerolinecolor": "#E1E5ED"
        },
        "yaxis": {
         "gridcolor": "#E1E5ED",
         "showgrid": true,
         "tickfont": {
          "color": "#4D5663"
         },
         "title": {
          "font": {
           "color": "#4D5663"
          },
          "text": ""
         },
         "zerolinecolor": "#E1E5ED"
        }
       }
      },
      "text/html": [
       "<div>                            <div id=\"e4f6dd78-9227-4a58-9194-cc86f00df9a3\" class=\"plotly-graph-div\" style=\"height:525px; width:100%;\"></div>            <script type=\"text/javascript\">                require([\"plotly\"], function(Plotly) {                    window.PLOTLYENV=window.PLOTLYENV || {};\n",
       "                    window.PLOTLYENV.BASE_URL='https://plot.ly';                                    if (document.getElementById(\"e4f6dd78-9227-4a58-9194-cc86f00df9a3\")) {                    Plotly.newPlot(                        \"e4f6dd78-9227-4a58-9194-cc86f00df9a3\",                        [{\"line\":{\"color\":\"rgba(255, 153, 51, 1.0)\",\"dash\":\"solid\",\"shape\":\"linear\",\"width\":1.3},\"marker\":{\"size\":10,\"symbol\":\"circle\"},\"mode\":\"markers\",\"name\":\"B\",\"text\":\"\",\"type\":\"scatter\",\"x\":[-1.5698810706263946,-0.24670595182913876,0.9304875741808672,-0.5066248091859992,0.6849922041296616,1.8970178017465043,0.8077409636879337,-1.0010217400668584,1.3704184544113829,0.4285482444378609,-1.4904588136094539,-1.057101523542387,-0.027965777366933554,0.49225766147762384,1.7494548923444855,0.6281606764666283,0.4124195324549872,-1.214371296495128,-1.0341361517499075,1.226524093673132,-0.3702532214319981,-1.026602653888882,-2.3899848709024765,0.18617738129491324,1.4205391403152827,0.16620298379615436,0.929471725944909,-0.2948437483626567,-0.19238683310333554,0.3847510505627772,1.0876155888389627,-0.13114344678221457,-2.6313549063054644,-0.3071103070391007,0.02304046542887793,0.2729530132607438,-0.5975479856090492,-1.307335029097629,-0.47343875594268553,0.40462706875938037,-0.3750837496186107,-1.153600856704141,-0.3210114638708474,-2.2727107459326708,0.14301117636838187,-0.4665470914808554,0.826330087593931,-0.4180146691670233,1.054261233414269,-0.769436597202262,0.30626623858840024,-1.222590132635321,-2.30431979214976,0.666109200462043,-1.6728303362407113,0.1360130473809156,0.2494020778281667,-1.4992821492867194,-0.5116902731427975,1.525411005806135,-1.0830706078125625,-1.1839618316805465,-1.2495174128404651,-0.25963125105376794,-1.0391021603416049,1.1701721156729272,0.5622979488932329,-0.4771715870306209,1.768125398112826,0.7841311388100116,-0.6192657048486289,-1.6034238616624827,-1.8180894620316153,-0.3769070560431302,-0.41583997308357923,-0.6968963202170636,0.13930902297487113,-0.6588464417475745,0.16723455663614806,-0.5816300010843882,0.8479015012297172,-0.8378041078347768,0.590067897520868,-0.7406499043141112,2.0006310452298584,0.05244393802697705,-1.2673761100060725,-1.856178347559622,-0.8744830899459701,-1.254130315577289,-1.1896877070913607,-1.1228223429505455,1.5350484892720089,-0.7992697234238435,0.4575057067461036,0.7343373638940573,1.1758847224955535,0.047416055252521176,-0.15774964088717078,-1.0755946344964076],\"y\":[-1.3113999602332227,-0.5511892997361064,0.9564106365247286,-0.0756544666480186,-0.45951139552071874,-0.3443475067009876,0.5329020467359252,1.5965981779903844,-0.20924320022818726,1.0681126078401548,-0.45836557518658216,-1.4675364036403746,-0.6381239023755292,-0.04176861474034986,-0.44238044596072,-1.1019358315585372,-1.168885300883454,-1.0848304880389248,-0.8770366200242047,-0.8998816091576025,-0.257430903248447,-0.6354833792541387,-0.6693198479481702,-0.2559528260054829,1.0333323918355652,-0.05729430349437438,1.837781302884297,-0.46370353242448914,0.13857196530710683,-0.07449236233589691,0.8894995621514906,1.413508948643193,0.3150992901613012,-0.5601542001942031,-0.7421009574127645,0.9264598582933575,-1.1678766738320119,0.9199026350211115,1.3681026700375678,-1.1706032466392733,0.3058098352063741,1.0825115745711003,-0.7378682735739086,0.48708467631334085,-1.301103036688062,0.40206968519748654,-0.683857096879213,-1.8738912329733723,0.7171097033890735,0.03888805277076086,-1.1693617295332313,-1.500268149751419,1.344024211974228,-0.1555134136926965,-1.015500310369333,1.3380630990228026,1.0892709931382587,2.619925062300933,0.22134788766989708,-0.5265520734592678,-0.5930694400125788,2.0476451557714093,1.4136353954227314,-0.8583185862032842,0.909619416198989,-0.5818769144837174,-0.4288867922322983,-1.5589239266494332,-0.9503331341161685,-0.4871533471858235,0.37242352525385475,-0.12028847667674292,-0.5343988318276738,-0.29955801808268195,0.5750625586522502,-0.5439453452009341,-0.7457944468902554,0.21738104733639788,-0.8315775003113577,-0.16984480502465918,0.5637202019823333,-1.6541191753802165,0.7857574457781091,0.86207308970026,1.7636380440624961,0.5959513372063282,-1.18477284050119,0.5050905996685262,-0.7186843156620407,0.7277456402864244,-0.10883976841530896,-1.2800960574118065,0.9508036384404251,-1.2594942463628704,-0.43000599662706834,0.8518986087827631,2.1099835338576742,-1.1338620361510596,-0.1136365825121175,-0.31121735019710284]}],                        {\"legend\":{\"bgcolor\":\"#F5F6F9\",\"font\":{\"color\":\"#4D5663\"}},\"paper_bgcolor\":\"#F5F6F9\",\"plot_bgcolor\":\"#F5F6F9\",\"template\":{\"data\":{\"bar\":[{\"error_x\":{\"color\":\"#2a3f5f\"},\"error_y\":{\"color\":\"#2a3f5f\"},\"marker\":{\"line\":{\"color\":\"#E5ECF6\",\"width\":0.5},\"pattern\":{\"fillmode\":\"overlay\",\"size\":10,\"solidity\":0.2}},\"type\":\"bar\"}],\"barpolar\":[{\"marker\":{\"line\":{\"color\":\"#E5ECF6\",\"width\":0.5},\"pattern\":{\"fillmode\":\"overlay\",\"size\":10,\"solidity\":0.2}},\"type\":\"barpolar\"}],\"carpet\":[{\"aaxis\":{\"endlinecolor\":\"#2a3f5f\",\"gridcolor\":\"white\",\"linecolor\":\"white\",\"minorgridcolor\":\"white\",\"startlinecolor\":\"#2a3f5f\"},\"baxis\":{\"endlinecolor\":\"#2a3f5f\",\"gridcolor\":\"white\",\"linecolor\":\"white\",\"minorgridcolor\":\"white\",\"startlinecolor\":\"#2a3f5f\"},\"type\":\"carpet\"}],\"choropleth\":[{\"colorbar\":{\"outlinewidth\":0,\"ticks\":\"\"},\"type\":\"choropleth\"}],\"contour\":[{\"colorbar\":{\"outlinewidth\":0,\"ticks\":\"\"},\"colorscale\":[[0.0,\"#0d0887\"],[0.1111111111111111,\"#46039f\"],[0.2222222222222222,\"#7201a8\"],[0.3333333333333333,\"#9c179e\"],[0.4444444444444444,\"#bd3786\"],[0.5555555555555556,\"#d8576b\"],[0.6666666666666666,\"#ed7953\"],[0.7777777777777778,\"#fb9f3a\"],[0.8888888888888888,\"#fdca26\"],[1.0,\"#f0f921\"]],\"type\":\"contour\"}],\"contourcarpet\":[{\"colorbar\":{\"outlinewidth\":0,\"ticks\":\"\"},\"type\":\"contourcarpet\"}],\"heatmap\":[{\"colorbar\":{\"outlinewidth\":0,\"ticks\":\"\"},\"colorscale\":[[0.0,\"#0d0887\"],[0.1111111111111111,\"#46039f\"],[0.2222222222222222,\"#7201a8\"],[0.3333333333333333,\"#9c179e\"],[0.4444444444444444,\"#bd3786\"],[0.5555555555555556,\"#d8576b\"],[0.6666666666666666,\"#ed7953\"],[0.7777777777777778,\"#fb9f3a\"],[0.8888888888888888,\"#fdca26\"],[1.0,\"#f0f921\"]],\"type\":\"heatmap\"}],\"heatmapgl\":[{\"colorbar\":{\"outlinewidth\":0,\"ticks\":\"\"},\"colorscale\":[[0.0,\"#0d0887\"],[0.1111111111111111,\"#46039f\"],[0.2222222222222222,\"#7201a8\"],[0.3333333333333333,\"#9c179e\"],[0.4444444444444444,\"#bd3786\"],[0.5555555555555556,\"#d8576b\"],[0.6666666666666666,\"#ed7953\"],[0.7777777777777778,\"#fb9f3a\"],[0.8888888888888888,\"#fdca26\"],[1.0,\"#f0f921\"]],\"type\":\"heatmapgl\"}],\"histogram\":[{\"marker\":{\"pattern\":{\"fillmode\":\"overlay\",\"size\":10,\"solidity\":0.2}},\"type\":\"histogram\"}],\"histogram2d\":[{\"colorbar\":{\"outlinewidth\":0,\"ticks\":\"\"},\"colorscale\":[[0.0,\"#0d0887\"],[0.1111111111111111,\"#46039f\"],[0.2222222222222222,\"#7201a8\"],[0.3333333333333333,\"#9c179e\"],[0.4444444444444444,\"#bd3786\"],[0.5555555555555556,\"#d8576b\"],[0.6666666666666666,\"#ed7953\"],[0.7777777777777778,\"#fb9f3a\"],[0.8888888888888888,\"#fdca26\"],[1.0,\"#f0f921\"]],\"type\":\"histogram2d\"}],\"histogram2dcontour\":[{\"colorbar\":{\"outlinewidth\":0,\"ticks\":\"\"},\"colorscale\":[[0.0,\"#0d0887\"],[0.1111111111111111,\"#46039f\"],[0.2222222222222222,\"#7201a8\"],[0.3333333333333333,\"#9c179e\"],[0.4444444444444444,\"#bd3786\"],[0.5555555555555556,\"#d8576b\"],[0.6666666666666666,\"#ed7953\"],[0.7777777777777778,\"#fb9f3a\"],[0.8888888888888888,\"#fdca26\"],[1.0,\"#f0f921\"]],\"type\":\"histogram2dcontour\"}],\"mesh3d\":[{\"colorbar\":{\"outlinewidth\":0,\"ticks\":\"\"},\"type\":\"mesh3d\"}],\"parcoords\":[{\"line\":{\"colorbar\":{\"outlinewidth\":0,\"ticks\":\"\"}},\"type\":\"parcoords\"}],\"pie\":[{\"automargin\":true,\"type\":\"pie\"}],\"scatter\":[{\"marker\":{\"colorbar\":{\"outlinewidth\":0,\"ticks\":\"\"}},\"type\":\"scatter\"}],\"scatter3d\":[{\"line\":{\"colorbar\":{\"outlinewidth\":0,\"ticks\":\"\"}},\"marker\":{\"colorbar\":{\"outlinewidth\":0,\"ticks\":\"\"}},\"type\":\"scatter3d\"}],\"scattercarpet\":[{\"marker\":{\"colorbar\":{\"outlinewidth\":0,\"ticks\":\"\"}},\"type\":\"scattercarpet\"}],\"scattergeo\":[{\"marker\":{\"colorbar\":{\"outlinewidth\":0,\"ticks\":\"\"}},\"type\":\"scattergeo\"}],\"scattergl\":[{\"marker\":{\"colorbar\":{\"outlinewidth\":0,\"ticks\":\"\"}},\"type\":\"scattergl\"}],\"scattermapbox\":[{\"marker\":{\"colorbar\":{\"outlinewidth\":0,\"ticks\":\"\"}},\"type\":\"scattermapbox\"}],\"scatterpolar\":[{\"marker\":{\"colorbar\":{\"outlinewidth\":0,\"ticks\":\"\"}},\"type\":\"scatterpolar\"}],\"scatterpolargl\":[{\"marker\":{\"colorbar\":{\"outlinewidth\":0,\"ticks\":\"\"}},\"type\":\"scatterpolargl\"}],\"scatterternary\":[{\"marker\":{\"colorbar\":{\"outlinewidth\":0,\"ticks\":\"\"}},\"type\":\"scatterternary\"}],\"surface\":[{\"colorbar\":{\"outlinewidth\":0,\"ticks\":\"\"},\"colorscale\":[[0.0,\"#0d0887\"],[0.1111111111111111,\"#46039f\"],[0.2222222222222222,\"#7201a8\"],[0.3333333333333333,\"#9c179e\"],[0.4444444444444444,\"#bd3786\"],[0.5555555555555556,\"#d8576b\"],[0.6666666666666666,\"#ed7953\"],[0.7777777777777778,\"#fb9f3a\"],[0.8888888888888888,\"#fdca26\"],[1.0,\"#f0f921\"]],\"type\":\"surface\"}],\"table\":[{\"cells\":{\"fill\":{\"color\":\"#EBF0F8\"},\"line\":{\"color\":\"white\"}},\"header\":{\"fill\":{\"color\":\"#C8D4E3\"},\"line\":{\"color\":\"white\"}},\"type\":\"table\"}]},\"layout\":{\"annotationdefaults\":{\"arrowcolor\":\"#2a3f5f\",\"arrowhead\":0,\"arrowwidth\":1},\"autotypenumbers\":\"strict\",\"coloraxis\":{\"colorbar\":{\"outlinewidth\":0,\"ticks\":\"\"}},\"colorscale\":{\"diverging\":[[0,\"#8e0152\"],[0.1,\"#c51b7d\"],[0.2,\"#de77ae\"],[0.3,\"#f1b6da\"],[0.4,\"#fde0ef\"],[0.5,\"#f7f7f7\"],[0.6,\"#e6f5d0\"],[0.7,\"#b8e186\"],[0.8,\"#7fbc41\"],[0.9,\"#4d9221\"],[1,\"#276419\"]],\"sequential\":[[0.0,\"#0d0887\"],[0.1111111111111111,\"#46039f\"],[0.2222222222222222,\"#7201a8\"],[0.3333333333333333,\"#9c179e\"],[0.4444444444444444,\"#bd3786\"],[0.5555555555555556,\"#d8576b\"],[0.6666666666666666,\"#ed7953\"],[0.7777777777777778,\"#fb9f3a\"],[0.8888888888888888,\"#fdca26\"],[1.0,\"#f0f921\"]],\"sequentialminus\":[[0.0,\"#0d0887\"],[0.1111111111111111,\"#46039f\"],[0.2222222222222222,\"#7201a8\"],[0.3333333333333333,\"#9c179e\"],[0.4444444444444444,\"#bd3786\"],[0.5555555555555556,\"#d8576b\"],[0.6666666666666666,\"#ed7953\"],[0.7777777777777778,\"#fb9f3a\"],[0.8888888888888888,\"#fdca26\"],[1.0,\"#f0f921\"]]},\"colorway\":[\"#636efa\",\"#EF553B\",\"#00cc96\",\"#ab63fa\",\"#FFA15A\",\"#19d3f3\",\"#FF6692\",\"#B6E880\",\"#FF97FF\",\"#FECB52\"],\"font\":{\"color\":\"#2a3f5f\"},\"geo\":{\"bgcolor\":\"white\",\"lakecolor\":\"white\",\"landcolor\":\"#E5ECF6\",\"showlakes\":true,\"showland\":true,\"subunitcolor\":\"white\"},\"hoverlabel\":{\"align\":\"left\"},\"hovermode\":\"closest\",\"mapbox\":{\"style\":\"light\"},\"paper_bgcolor\":\"white\",\"plot_bgcolor\":\"#E5ECF6\",\"polar\":{\"angularaxis\":{\"gridcolor\":\"white\",\"linecolor\":\"white\",\"ticks\":\"\"},\"bgcolor\":\"#E5ECF6\",\"radialaxis\":{\"gridcolor\":\"white\",\"linecolor\":\"white\",\"ticks\":\"\"}},\"scene\":{\"xaxis\":{\"backgroundcolor\":\"#E5ECF6\",\"gridcolor\":\"white\",\"gridwidth\":2,\"linecolor\":\"white\",\"showbackground\":true,\"ticks\":\"\",\"zerolinecolor\":\"white\"},\"yaxis\":{\"backgroundcolor\":\"#E5ECF6\",\"gridcolor\":\"white\",\"gridwidth\":2,\"linecolor\":\"white\",\"showbackground\":true,\"ticks\":\"\",\"zerolinecolor\":\"white\"},\"zaxis\":{\"backgroundcolor\":\"#E5ECF6\",\"gridcolor\":\"white\",\"gridwidth\":2,\"linecolor\":\"white\",\"showbackground\":true,\"ticks\":\"\",\"zerolinecolor\":\"white\"}},\"shapedefaults\":{\"line\":{\"color\":\"#2a3f5f\"}},\"ternary\":{\"aaxis\":{\"gridcolor\":\"white\",\"linecolor\":\"white\",\"ticks\":\"\"},\"baxis\":{\"gridcolor\":\"white\",\"linecolor\":\"white\",\"ticks\":\"\"},\"bgcolor\":\"#E5ECF6\",\"caxis\":{\"gridcolor\":\"white\",\"linecolor\":\"white\",\"ticks\":\"\"}},\"title\":{\"x\":0.05},\"xaxis\":{\"automargin\":true,\"gridcolor\":\"white\",\"linecolor\":\"white\",\"ticks\":\"\",\"title\":{\"standoff\":15},\"zerolinecolor\":\"white\",\"zerolinewidth\":2},\"yaxis\":{\"automargin\":true,\"gridcolor\":\"white\",\"linecolor\":\"white\",\"ticks\":\"\",\"title\":{\"standoff\":15},\"zerolinecolor\":\"white\",\"zerolinewidth\":2}}},\"title\":{\"font\":{\"color\":\"#4D5663\"}},\"xaxis\":{\"gridcolor\":\"#E1E5ED\",\"showgrid\":true,\"tickfont\":{\"color\":\"#4D5663\"},\"title\":{\"font\":{\"color\":\"#4D5663\"},\"text\":\"\"},\"zerolinecolor\":\"#E1E5ED\"},\"yaxis\":{\"gridcolor\":\"#E1E5ED\",\"showgrid\":true,\"tickfont\":{\"color\":\"#4D5663\"},\"title\":{\"font\":{\"color\":\"#4D5663\"},\"text\":\"\"},\"zerolinecolor\":\"#E1E5ED\"}},                        {\"showLink\": true, \"linkText\": \"Export to plot.ly\", \"plotlyServerURL\": \"https://plot.ly\", \"responsive\": true}                    ).then(function(){\n",
       "                            \n",
       "var gd = document.getElementById('e4f6dd78-9227-4a58-9194-cc86f00df9a3');\n",
       "var x = new MutationObserver(function (mutations, observer) {{\n",
       "        var display = window.getComputedStyle(gd).display;\n",
       "        if (!display || display === 'none') {{\n",
       "            console.log([gd, 'removed!']);\n",
       "            Plotly.purge(gd);\n",
       "            observer.disconnect();\n",
       "        }}\n",
       "}});\n",
       "\n",
       "// Listen for the removal of the full notebook cells\n",
       "var notebookContainer = gd.closest('#notebook-container');\n",
       "if (notebookContainer) {{\n",
       "    x.observe(notebookContainer, {childList: true});\n",
       "}}\n",
       "\n",
       "// Listen for the clearing of the current output cell\n",
       "var outputEl = gd.closest('.output');\n",
       "if (outputEl) {{\n",
       "    x.observe(outputEl, {childList: true});\n",
       "}}\n",
       "\n",
       "                        })                };                });            </script>        </div>"
      ]
     },
     "metadata": {},
     "output_type": "display_data"
    }
   ],
   "source": [
    "df.iplot(kind='scatter',x='A',y='B',mode='markers',size=10)"
   ]
  },
  {
   "cell_type": "markdown",
   "metadata": {},
   "source": [
    "## Bar Plots"
   ]
  },
  {
   "cell_type": "code",
   "execution_count": 11,
   "metadata": {
    "collapsed": false
   },
   "outputs": [
    {
     "data": {
      "application/vnd.plotly.v1+json": {
       "config": {
        "linkText": "Export to plot.ly",
        "plotlyServerURL": "https://plot.ly",
        "showLink": true
       },
       "data": [
        {
         "marker": {
          "color": "rgba(255, 153, 51, 0.6)",
          "line": {
           "color": "rgba(255, 153, 51, 1.0)",
           "width": 1
          }
         },
         "name": "Values",
         "orientation": "v",
         "text": "",
         "type": "bar",
         "x": [
          "A",
          "B",
          "C"
         ],
         "y": [
          32,
          43,
          50
         ]
        }
       ],
       "layout": {
        "legend": {
         "bgcolor": "#F5F6F9",
         "font": {
          "color": "#4D5663"
         }
        },
        "paper_bgcolor": "#F5F6F9",
        "plot_bgcolor": "#F5F6F9",
        "template": {
         "data": {
          "bar": [
           {
            "error_x": {
             "color": "#2a3f5f"
            },
            "error_y": {
             "color": "#2a3f5f"
            },
            "marker": {
             "line": {
              "color": "#E5ECF6",
              "width": 0.5
             },
             "pattern": {
              "fillmode": "overlay",
              "size": 10,
              "solidity": 0.2
             }
            },
            "type": "bar"
           }
          ],
          "barpolar": [
           {
            "marker": {
             "line": {
              "color": "#E5ECF6",
              "width": 0.5
             },
             "pattern": {
              "fillmode": "overlay",
              "size": 10,
              "solidity": 0.2
             }
            },
            "type": "barpolar"
           }
          ],
          "carpet": [
           {
            "aaxis": {
             "endlinecolor": "#2a3f5f",
             "gridcolor": "white",
             "linecolor": "white",
             "minorgridcolor": "white",
             "startlinecolor": "#2a3f5f"
            },
            "baxis": {
             "endlinecolor": "#2a3f5f",
             "gridcolor": "white",
             "linecolor": "white",
             "minorgridcolor": "white",
             "startlinecolor": "#2a3f5f"
            },
            "type": "carpet"
           }
          ],
          "choropleth": [
           {
            "colorbar": {
             "outlinewidth": 0,
             "ticks": ""
            },
            "type": "choropleth"
           }
          ],
          "contour": [
           {
            "colorbar": {
             "outlinewidth": 0,
             "ticks": ""
            },
            "colorscale": [
             [
              0,
              "#0d0887"
             ],
             [
              0.1111111111111111,
              "#46039f"
             ],
             [
              0.2222222222222222,
              "#7201a8"
             ],
             [
              0.3333333333333333,
              "#9c179e"
             ],
             [
              0.4444444444444444,
              "#bd3786"
             ],
             [
              0.5555555555555556,
              "#d8576b"
             ],
             [
              0.6666666666666666,
              "#ed7953"
             ],
             [
              0.7777777777777778,
              "#fb9f3a"
             ],
             [
              0.8888888888888888,
              "#fdca26"
             ],
             [
              1,
              "#f0f921"
             ]
            ],
            "type": "contour"
           }
          ],
          "contourcarpet": [
           {
            "colorbar": {
             "outlinewidth": 0,
             "ticks": ""
            },
            "type": "contourcarpet"
           }
          ],
          "heatmap": [
           {
            "colorbar": {
             "outlinewidth": 0,
             "ticks": ""
            },
            "colorscale": [
             [
              0,
              "#0d0887"
             ],
             [
              0.1111111111111111,
              "#46039f"
             ],
             [
              0.2222222222222222,
              "#7201a8"
             ],
             [
              0.3333333333333333,
              "#9c179e"
             ],
             [
              0.4444444444444444,
              "#bd3786"
             ],
             [
              0.5555555555555556,
              "#d8576b"
             ],
             [
              0.6666666666666666,
              "#ed7953"
             ],
             [
              0.7777777777777778,
              "#fb9f3a"
             ],
             [
              0.8888888888888888,
              "#fdca26"
             ],
             [
              1,
              "#f0f921"
             ]
            ],
            "type": "heatmap"
           }
          ],
          "heatmapgl": [
           {
            "colorbar": {
             "outlinewidth": 0,
             "ticks": ""
            },
            "colorscale": [
             [
              0,
              "#0d0887"
             ],
             [
              0.1111111111111111,
              "#46039f"
             ],
             [
              0.2222222222222222,
              "#7201a8"
             ],
             [
              0.3333333333333333,
              "#9c179e"
             ],
             [
              0.4444444444444444,
              "#bd3786"
             ],
             [
              0.5555555555555556,
              "#d8576b"
             ],
             [
              0.6666666666666666,
              "#ed7953"
             ],
             [
              0.7777777777777778,
              "#fb9f3a"
             ],
             [
              0.8888888888888888,
              "#fdca26"
             ],
             [
              1,
              "#f0f921"
             ]
            ],
            "type": "heatmapgl"
           }
          ],
          "histogram": [
           {
            "marker": {
             "pattern": {
              "fillmode": "overlay",
              "size": 10,
              "solidity": 0.2
             }
            },
            "type": "histogram"
           }
          ],
          "histogram2d": [
           {
            "colorbar": {
             "outlinewidth": 0,
             "ticks": ""
            },
            "colorscale": [
             [
              0,
              "#0d0887"
             ],
             [
              0.1111111111111111,
              "#46039f"
             ],
             [
              0.2222222222222222,
              "#7201a8"
             ],
             [
              0.3333333333333333,
              "#9c179e"
             ],
             [
              0.4444444444444444,
              "#bd3786"
             ],
             [
              0.5555555555555556,
              "#d8576b"
             ],
             [
              0.6666666666666666,
              "#ed7953"
             ],
             [
              0.7777777777777778,
              "#fb9f3a"
             ],
             [
              0.8888888888888888,
              "#fdca26"
             ],
             [
              1,
              "#f0f921"
             ]
            ],
            "type": "histogram2d"
           }
          ],
          "histogram2dcontour": [
           {
            "colorbar": {
             "outlinewidth": 0,
             "ticks": ""
            },
            "colorscale": [
             [
              0,
              "#0d0887"
             ],
             [
              0.1111111111111111,
              "#46039f"
             ],
             [
              0.2222222222222222,
              "#7201a8"
             ],
             [
              0.3333333333333333,
              "#9c179e"
             ],
             [
              0.4444444444444444,
              "#bd3786"
             ],
             [
              0.5555555555555556,
              "#d8576b"
             ],
             [
              0.6666666666666666,
              "#ed7953"
             ],
             [
              0.7777777777777778,
              "#fb9f3a"
             ],
             [
              0.8888888888888888,
              "#fdca26"
             ],
             [
              1,
              "#f0f921"
             ]
            ],
            "type": "histogram2dcontour"
           }
          ],
          "mesh3d": [
           {
            "colorbar": {
             "outlinewidth": 0,
             "ticks": ""
            },
            "type": "mesh3d"
           }
          ],
          "parcoords": [
           {
            "line": {
             "colorbar": {
              "outlinewidth": 0,
              "ticks": ""
             }
            },
            "type": "parcoords"
           }
          ],
          "pie": [
           {
            "automargin": true,
            "type": "pie"
           }
          ],
          "scatter": [
           {
            "marker": {
             "colorbar": {
              "outlinewidth": 0,
              "ticks": ""
             }
            },
            "type": "scatter"
           }
          ],
          "scatter3d": [
           {
            "line": {
             "colorbar": {
              "outlinewidth": 0,
              "ticks": ""
             }
            },
            "marker": {
             "colorbar": {
              "outlinewidth": 0,
              "ticks": ""
             }
            },
            "type": "scatter3d"
           }
          ],
          "scattercarpet": [
           {
            "marker": {
             "colorbar": {
              "outlinewidth": 0,
              "ticks": ""
             }
            },
            "type": "scattercarpet"
           }
          ],
          "scattergeo": [
           {
            "marker": {
             "colorbar": {
              "outlinewidth": 0,
              "ticks": ""
             }
            },
            "type": "scattergeo"
           }
          ],
          "scattergl": [
           {
            "marker": {
             "colorbar": {
              "outlinewidth": 0,
              "ticks": ""
             }
            },
            "type": "scattergl"
           }
          ],
          "scattermapbox": [
           {
            "marker": {
             "colorbar": {
              "outlinewidth": 0,
              "ticks": ""
             }
            },
            "type": "scattermapbox"
           }
          ],
          "scatterpolar": [
           {
            "marker": {
             "colorbar": {
              "outlinewidth": 0,
              "ticks": ""
             }
            },
            "type": "scatterpolar"
           }
          ],
          "scatterpolargl": [
           {
            "marker": {
             "colorbar": {
              "outlinewidth": 0,
              "ticks": ""
             }
            },
            "type": "scatterpolargl"
           }
          ],
          "scatterternary": [
           {
            "marker": {
             "colorbar": {
              "outlinewidth": 0,
              "ticks": ""
             }
            },
            "type": "scatterternary"
           }
          ],
          "surface": [
           {
            "colorbar": {
             "outlinewidth": 0,
             "ticks": ""
            },
            "colorscale": [
             [
              0,
              "#0d0887"
             ],
             [
              0.1111111111111111,
              "#46039f"
             ],
             [
              0.2222222222222222,
              "#7201a8"
             ],
             [
              0.3333333333333333,
              "#9c179e"
             ],
             [
              0.4444444444444444,
              "#bd3786"
             ],
             [
              0.5555555555555556,
              "#d8576b"
             ],
             [
              0.6666666666666666,
              "#ed7953"
             ],
             [
              0.7777777777777778,
              "#fb9f3a"
             ],
             [
              0.8888888888888888,
              "#fdca26"
             ],
             [
              1,
              "#f0f921"
             ]
            ],
            "type": "surface"
           }
          ],
          "table": [
           {
            "cells": {
             "fill": {
              "color": "#EBF0F8"
             },
             "line": {
              "color": "white"
             }
            },
            "header": {
             "fill": {
              "color": "#C8D4E3"
             },
             "line": {
              "color": "white"
             }
            },
            "type": "table"
           }
          ]
         },
         "layout": {
          "annotationdefaults": {
           "arrowcolor": "#2a3f5f",
           "arrowhead": 0,
           "arrowwidth": 1
          },
          "autotypenumbers": "strict",
          "coloraxis": {
           "colorbar": {
            "outlinewidth": 0,
            "ticks": ""
           }
          },
          "colorscale": {
           "diverging": [
            [
             0,
             "#8e0152"
            ],
            [
             0.1,
             "#c51b7d"
            ],
            [
             0.2,
             "#de77ae"
            ],
            [
             0.3,
             "#f1b6da"
            ],
            [
             0.4,
             "#fde0ef"
            ],
            [
             0.5,
             "#f7f7f7"
            ],
            [
             0.6,
             "#e6f5d0"
            ],
            [
             0.7,
             "#b8e186"
            ],
            [
             0.8,
             "#7fbc41"
            ],
            [
             0.9,
             "#4d9221"
            ],
            [
             1,
             "#276419"
            ]
           ],
           "sequential": [
            [
             0,
             "#0d0887"
            ],
            [
             0.1111111111111111,
             "#46039f"
            ],
            [
             0.2222222222222222,
             "#7201a8"
            ],
            [
             0.3333333333333333,
             "#9c179e"
            ],
            [
             0.4444444444444444,
             "#bd3786"
            ],
            [
             0.5555555555555556,
             "#d8576b"
            ],
            [
             0.6666666666666666,
             "#ed7953"
            ],
            [
             0.7777777777777778,
             "#fb9f3a"
            ],
            [
             0.8888888888888888,
             "#fdca26"
            ],
            [
             1,
             "#f0f921"
            ]
           ],
           "sequentialminus": [
            [
             0,
             "#0d0887"
            ],
            [
             0.1111111111111111,
             "#46039f"
            ],
            [
             0.2222222222222222,
             "#7201a8"
            ],
            [
             0.3333333333333333,
             "#9c179e"
            ],
            [
             0.4444444444444444,
             "#bd3786"
            ],
            [
             0.5555555555555556,
             "#d8576b"
            ],
            [
             0.6666666666666666,
             "#ed7953"
            ],
            [
             0.7777777777777778,
             "#fb9f3a"
            ],
            [
             0.8888888888888888,
             "#fdca26"
            ],
            [
             1,
             "#f0f921"
            ]
           ]
          },
          "colorway": [
           "#636efa",
           "#EF553B",
           "#00cc96",
           "#ab63fa",
           "#FFA15A",
           "#19d3f3",
           "#FF6692",
           "#B6E880",
           "#FF97FF",
           "#FECB52"
          ],
          "font": {
           "color": "#2a3f5f"
          },
          "geo": {
           "bgcolor": "white",
           "lakecolor": "white",
           "landcolor": "#E5ECF6",
           "showlakes": true,
           "showland": true,
           "subunitcolor": "white"
          },
          "hoverlabel": {
           "align": "left"
          },
          "hovermode": "closest",
          "mapbox": {
           "style": "light"
          },
          "paper_bgcolor": "white",
          "plot_bgcolor": "#E5ECF6",
          "polar": {
           "angularaxis": {
            "gridcolor": "white",
            "linecolor": "white",
            "ticks": ""
           },
           "bgcolor": "#E5ECF6",
           "radialaxis": {
            "gridcolor": "white",
            "linecolor": "white",
            "ticks": ""
           }
          },
          "scene": {
           "xaxis": {
            "backgroundcolor": "#E5ECF6",
            "gridcolor": "white",
            "gridwidth": 2,
            "linecolor": "white",
            "showbackground": true,
            "ticks": "",
            "zerolinecolor": "white"
           },
           "yaxis": {
            "backgroundcolor": "#E5ECF6",
            "gridcolor": "white",
            "gridwidth": 2,
            "linecolor": "white",
            "showbackground": true,
            "ticks": "",
            "zerolinecolor": "white"
           },
           "zaxis": {
            "backgroundcolor": "#E5ECF6",
            "gridcolor": "white",
            "gridwidth": 2,
            "linecolor": "white",
            "showbackground": true,
            "ticks": "",
            "zerolinecolor": "white"
           }
          },
          "shapedefaults": {
           "line": {
            "color": "#2a3f5f"
           }
          },
          "ternary": {
           "aaxis": {
            "gridcolor": "white",
            "linecolor": "white",
            "ticks": ""
           },
           "baxis": {
            "gridcolor": "white",
            "linecolor": "white",
            "ticks": ""
           },
           "bgcolor": "#E5ECF6",
           "caxis": {
            "gridcolor": "white",
            "linecolor": "white",
            "ticks": ""
           }
          },
          "title": {
           "x": 0.05
          },
          "xaxis": {
           "automargin": true,
           "gridcolor": "white",
           "linecolor": "white",
           "ticks": "",
           "title": {
            "standoff": 15
           },
           "zerolinecolor": "white",
           "zerolinewidth": 2
          },
          "yaxis": {
           "automargin": true,
           "gridcolor": "white",
           "linecolor": "white",
           "ticks": "",
           "title": {
            "standoff": 15
           },
           "zerolinecolor": "white",
           "zerolinewidth": 2
          }
         }
        },
        "title": {
         "font": {
          "color": "#4D5663"
         }
        },
        "xaxis": {
         "gridcolor": "#E1E5ED",
         "showgrid": true,
         "tickfont": {
          "color": "#4D5663"
         },
         "title": {
          "font": {
           "color": "#4D5663"
          },
          "text": ""
         },
         "zerolinecolor": "#E1E5ED"
        },
        "yaxis": {
         "gridcolor": "#E1E5ED",
         "showgrid": true,
         "tickfont": {
          "color": "#4D5663"
         },
         "title": {
          "font": {
           "color": "#4D5663"
          },
          "text": ""
         },
         "zerolinecolor": "#E1E5ED"
        }
       }
      },
      "text/html": [
       "<div>                            <div id=\"6d0483e7-03ad-4483-965d-5ba0e32925ce\" class=\"plotly-graph-div\" style=\"height:525px; width:100%;\"></div>            <script type=\"text/javascript\">                require([\"plotly\"], function(Plotly) {                    window.PLOTLYENV=window.PLOTLYENV || {};\n",
       "                    window.PLOTLYENV.BASE_URL='https://plot.ly';                                    if (document.getElementById(\"6d0483e7-03ad-4483-965d-5ba0e32925ce\")) {                    Plotly.newPlot(                        \"6d0483e7-03ad-4483-965d-5ba0e32925ce\",                        [{\"marker\":{\"color\":\"rgba(255, 153, 51, 0.6)\",\"line\":{\"color\":\"rgba(255, 153, 51, 1.0)\",\"width\":1}},\"name\":\"Values\",\"orientation\":\"v\",\"text\":\"\",\"type\":\"bar\",\"x\":[\"A\",\"B\",\"C\"],\"y\":[32,43,50]}],                        {\"legend\":{\"bgcolor\":\"#F5F6F9\",\"font\":{\"color\":\"#4D5663\"}},\"paper_bgcolor\":\"#F5F6F9\",\"plot_bgcolor\":\"#F5F6F9\",\"template\":{\"data\":{\"bar\":[{\"error_x\":{\"color\":\"#2a3f5f\"},\"error_y\":{\"color\":\"#2a3f5f\"},\"marker\":{\"line\":{\"color\":\"#E5ECF6\",\"width\":0.5},\"pattern\":{\"fillmode\":\"overlay\",\"size\":10,\"solidity\":0.2}},\"type\":\"bar\"}],\"barpolar\":[{\"marker\":{\"line\":{\"color\":\"#E5ECF6\",\"width\":0.5},\"pattern\":{\"fillmode\":\"overlay\",\"size\":10,\"solidity\":0.2}},\"type\":\"barpolar\"}],\"carpet\":[{\"aaxis\":{\"endlinecolor\":\"#2a3f5f\",\"gridcolor\":\"white\",\"linecolor\":\"white\",\"minorgridcolor\":\"white\",\"startlinecolor\":\"#2a3f5f\"},\"baxis\":{\"endlinecolor\":\"#2a3f5f\",\"gridcolor\":\"white\",\"linecolor\":\"white\",\"minorgridcolor\":\"white\",\"startlinecolor\":\"#2a3f5f\"},\"type\":\"carpet\"}],\"choropleth\":[{\"colorbar\":{\"outlinewidth\":0,\"ticks\":\"\"},\"type\":\"choropleth\"}],\"contour\":[{\"colorbar\":{\"outlinewidth\":0,\"ticks\":\"\"},\"colorscale\":[[0.0,\"#0d0887\"],[0.1111111111111111,\"#46039f\"],[0.2222222222222222,\"#7201a8\"],[0.3333333333333333,\"#9c179e\"],[0.4444444444444444,\"#bd3786\"],[0.5555555555555556,\"#d8576b\"],[0.6666666666666666,\"#ed7953\"],[0.7777777777777778,\"#fb9f3a\"],[0.8888888888888888,\"#fdca26\"],[1.0,\"#f0f921\"]],\"type\":\"contour\"}],\"contourcarpet\":[{\"colorbar\":{\"outlinewidth\":0,\"ticks\":\"\"},\"type\":\"contourcarpet\"}],\"heatmap\":[{\"colorbar\":{\"outlinewidth\":0,\"ticks\":\"\"},\"colorscale\":[[0.0,\"#0d0887\"],[0.1111111111111111,\"#46039f\"],[0.2222222222222222,\"#7201a8\"],[0.3333333333333333,\"#9c179e\"],[0.4444444444444444,\"#bd3786\"],[0.5555555555555556,\"#d8576b\"],[0.6666666666666666,\"#ed7953\"],[0.7777777777777778,\"#fb9f3a\"],[0.8888888888888888,\"#fdca26\"],[1.0,\"#f0f921\"]],\"type\":\"heatmap\"}],\"heatmapgl\":[{\"colorbar\":{\"outlinewidth\":0,\"ticks\":\"\"},\"colorscale\":[[0.0,\"#0d0887\"],[0.1111111111111111,\"#46039f\"],[0.2222222222222222,\"#7201a8\"],[0.3333333333333333,\"#9c179e\"],[0.4444444444444444,\"#bd3786\"],[0.5555555555555556,\"#d8576b\"],[0.6666666666666666,\"#ed7953\"],[0.7777777777777778,\"#fb9f3a\"],[0.8888888888888888,\"#fdca26\"],[1.0,\"#f0f921\"]],\"type\":\"heatmapgl\"}],\"histogram\":[{\"marker\":{\"pattern\":{\"fillmode\":\"overlay\",\"size\":10,\"solidity\":0.2}},\"type\":\"histogram\"}],\"histogram2d\":[{\"colorbar\":{\"outlinewidth\":0,\"ticks\":\"\"},\"colorscale\":[[0.0,\"#0d0887\"],[0.1111111111111111,\"#46039f\"],[0.2222222222222222,\"#7201a8\"],[0.3333333333333333,\"#9c179e\"],[0.4444444444444444,\"#bd3786\"],[0.5555555555555556,\"#d8576b\"],[0.6666666666666666,\"#ed7953\"],[0.7777777777777778,\"#fb9f3a\"],[0.8888888888888888,\"#fdca26\"],[1.0,\"#f0f921\"]],\"type\":\"histogram2d\"}],\"histogram2dcontour\":[{\"colorbar\":{\"outlinewidth\":0,\"ticks\":\"\"},\"colorscale\":[[0.0,\"#0d0887\"],[0.1111111111111111,\"#46039f\"],[0.2222222222222222,\"#7201a8\"],[0.3333333333333333,\"#9c179e\"],[0.4444444444444444,\"#bd3786\"],[0.5555555555555556,\"#d8576b\"],[0.6666666666666666,\"#ed7953\"],[0.7777777777777778,\"#fb9f3a\"],[0.8888888888888888,\"#fdca26\"],[1.0,\"#f0f921\"]],\"type\":\"histogram2dcontour\"}],\"mesh3d\":[{\"colorbar\":{\"outlinewidth\":0,\"ticks\":\"\"},\"type\":\"mesh3d\"}],\"parcoords\":[{\"line\":{\"colorbar\":{\"outlinewidth\":0,\"ticks\":\"\"}},\"type\":\"parcoords\"}],\"pie\":[{\"automargin\":true,\"type\":\"pie\"}],\"scatter\":[{\"marker\":{\"colorbar\":{\"outlinewidth\":0,\"ticks\":\"\"}},\"type\":\"scatter\"}],\"scatter3d\":[{\"line\":{\"colorbar\":{\"outlinewidth\":0,\"ticks\":\"\"}},\"marker\":{\"colorbar\":{\"outlinewidth\":0,\"ticks\":\"\"}},\"type\":\"scatter3d\"}],\"scattercarpet\":[{\"marker\":{\"colorbar\":{\"outlinewidth\":0,\"ticks\":\"\"}},\"type\":\"scattercarpet\"}],\"scattergeo\":[{\"marker\":{\"colorbar\":{\"outlinewidth\":0,\"ticks\":\"\"}},\"type\":\"scattergeo\"}],\"scattergl\":[{\"marker\":{\"colorbar\":{\"outlinewidth\":0,\"ticks\":\"\"}},\"type\":\"scattergl\"}],\"scattermapbox\":[{\"marker\":{\"colorbar\":{\"outlinewidth\":0,\"ticks\":\"\"}},\"type\":\"scattermapbox\"}],\"scatterpolar\":[{\"marker\":{\"colorbar\":{\"outlinewidth\":0,\"ticks\":\"\"}},\"type\":\"scatterpolar\"}],\"scatterpolargl\":[{\"marker\":{\"colorbar\":{\"outlinewidth\":0,\"ticks\":\"\"}},\"type\":\"scatterpolargl\"}],\"scatterternary\":[{\"marker\":{\"colorbar\":{\"outlinewidth\":0,\"ticks\":\"\"}},\"type\":\"scatterternary\"}],\"surface\":[{\"colorbar\":{\"outlinewidth\":0,\"ticks\":\"\"},\"colorscale\":[[0.0,\"#0d0887\"],[0.1111111111111111,\"#46039f\"],[0.2222222222222222,\"#7201a8\"],[0.3333333333333333,\"#9c179e\"],[0.4444444444444444,\"#bd3786\"],[0.5555555555555556,\"#d8576b\"],[0.6666666666666666,\"#ed7953\"],[0.7777777777777778,\"#fb9f3a\"],[0.8888888888888888,\"#fdca26\"],[1.0,\"#f0f921\"]],\"type\":\"surface\"}],\"table\":[{\"cells\":{\"fill\":{\"color\":\"#EBF0F8\"},\"line\":{\"color\":\"white\"}},\"header\":{\"fill\":{\"color\":\"#C8D4E3\"},\"line\":{\"color\":\"white\"}},\"type\":\"table\"}]},\"layout\":{\"annotationdefaults\":{\"arrowcolor\":\"#2a3f5f\",\"arrowhead\":0,\"arrowwidth\":1},\"autotypenumbers\":\"strict\",\"coloraxis\":{\"colorbar\":{\"outlinewidth\":0,\"ticks\":\"\"}},\"colorscale\":{\"diverging\":[[0,\"#8e0152\"],[0.1,\"#c51b7d\"],[0.2,\"#de77ae\"],[0.3,\"#f1b6da\"],[0.4,\"#fde0ef\"],[0.5,\"#f7f7f7\"],[0.6,\"#e6f5d0\"],[0.7,\"#b8e186\"],[0.8,\"#7fbc41\"],[0.9,\"#4d9221\"],[1,\"#276419\"]],\"sequential\":[[0.0,\"#0d0887\"],[0.1111111111111111,\"#46039f\"],[0.2222222222222222,\"#7201a8\"],[0.3333333333333333,\"#9c179e\"],[0.4444444444444444,\"#bd3786\"],[0.5555555555555556,\"#d8576b\"],[0.6666666666666666,\"#ed7953\"],[0.7777777777777778,\"#fb9f3a\"],[0.8888888888888888,\"#fdca26\"],[1.0,\"#f0f921\"]],\"sequentialminus\":[[0.0,\"#0d0887\"],[0.1111111111111111,\"#46039f\"],[0.2222222222222222,\"#7201a8\"],[0.3333333333333333,\"#9c179e\"],[0.4444444444444444,\"#bd3786\"],[0.5555555555555556,\"#d8576b\"],[0.6666666666666666,\"#ed7953\"],[0.7777777777777778,\"#fb9f3a\"],[0.8888888888888888,\"#fdca26\"],[1.0,\"#f0f921\"]]},\"colorway\":[\"#636efa\",\"#EF553B\",\"#00cc96\",\"#ab63fa\",\"#FFA15A\",\"#19d3f3\",\"#FF6692\",\"#B6E880\",\"#FF97FF\",\"#FECB52\"],\"font\":{\"color\":\"#2a3f5f\"},\"geo\":{\"bgcolor\":\"white\",\"lakecolor\":\"white\",\"landcolor\":\"#E5ECF6\",\"showlakes\":true,\"showland\":true,\"subunitcolor\":\"white\"},\"hoverlabel\":{\"align\":\"left\"},\"hovermode\":\"closest\",\"mapbox\":{\"style\":\"light\"},\"paper_bgcolor\":\"white\",\"plot_bgcolor\":\"#E5ECF6\",\"polar\":{\"angularaxis\":{\"gridcolor\":\"white\",\"linecolor\":\"white\",\"ticks\":\"\"},\"bgcolor\":\"#E5ECF6\",\"radialaxis\":{\"gridcolor\":\"white\",\"linecolor\":\"white\",\"ticks\":\"\"}},\"scene\":{\"xaxis\":{\"backgroundcolor\":\"#E5ECF6\",\"gridcolor\":\"white\",\"gridwidth\":2,\"linecolor\":\"white\",\"showbackground\":true,\"ticks\":\"\",\"zerolinecolor\":\"white\"},\"yaxis\":{\"backgroundcolor\":\"#E5ECF6\",\"gridcolor\":\"white\",\"gridwidth\":2,\"linecolor\":\"white\",\"showbackground\":true,\"ticks\":\"\",\"zerolinecolor\":\"white\"},\"zaxis\":{\"backgroundcolor\":\"#E5ECF6\",\"gridcolor\":\"white\",\"gridwidth\":2,\"linecolor\":\"white\",\"showbackground\":true,\"ticks\":\"\",\"zerolinecolor\":\"white\"}},\"shapedefaults\":{\"line\":{\"color\":\"#2a3f5f\"}},\"ternary\":{\"aaxis\":{\"gridcolor\":\"white\",\"linecolor\":\"white\",\"ticks\":\"\"},\"baxis\":{\"gridcolor\":\"white\",\"linecolor\":\"white\",\"ticks\":\"\"},\"bgcolor\":\"#E5ECF6\",\"caxis\":{\"gridcolor\":\"white\",\"linecolor\":\"white\",\"ticks\":\"\"}},\"title\":{\"x\":0.05},\"xaxis\":{\"automargin\":true,\"gridcolor\":\"white\",\"linecolor\":\"white\",\"ticks\":\"\",\"title\":{\"standoff\":15},\"zerolinecolor\":\"white\",\"zerolinewidth\":2},\"yaxis\":{\"automargin\":true,\"gridcolor\":\"white\",\"linecolor\":\"white\",\"ticks\":\"\",\"title\":{\"standoff\":15},\"zerolinecolor\":\"white\",\"zerolinewidth\":2}}},\"title\":{\"font\":{\"color\":\"#4D5663\"}},\"xaxis\":{\"gridcolor\":\"#E1E5ED\",\"showgrid\":true,\"tickfont\":{\"color\":\"#4D5663\"},\"title\":{\"font\":{\"color\":\"#4D5663\"},\"text\":\"\"},\"zerolinecolor\":\"#E1E5ED\"},\"yaxis\":{\"gridcolor\":\"#E1E5ED\",\"showgrid\":true,\"tickfont\":{\"color\":\"#4D5663\"},\"title\":{\"font\":{\"color\":\"#4D5663\"},\"text\":\"\"},\"zerolinecolor\":\"#E1E5ED\"}},                        {\"showLink\": true, \"linkText\": \"Export to plot.ly\", \"plotlyServerURL\": \"https://plot.ly\", \"responsive\": true}                    ).then(function(){\n",
       "                            \n",
       "var gd = document.getElementById('6d0483e7-03ad-4483-965d-5ba0e32925ce');\n",
       "var x = new MutationObserver(function (mutations, observer) {{\n",
       "        var display = window.getComputedStyle(gd).display;\n",
       "        if (!display || display === 'none') {{\n",
       "            console.log([gd, 'removed!']);\n",
       "            Plotly.purge(gd);\n",
       "            observer.disconnect();\n",
       "        }}\n",
       "}});\n",
       "\n",
       "// Listen for the removal of the full notebook cells\n",
       "var notebookContainer = gd.closest('#notebook-container');\n",
       "if (notebookContainer) {{\n",
       "    x.observe(notebookContainer, {childList: true});\n",
       "}}\n",
       "\n",
       "// Listen for the clearing of the current output cell\n",
       "var outputEl = gd.closest('.output');\n",
       "if (outputEl) {{\n",
       "    x.observe(outputEl, {childList: true});\n",
       "}}\n",
       "\n",
       "                        })                };                });            </script>        </div>"
      ]
     },
     "metadata": {},
     "output_type": "display_data"
    }
   ],
   "source": [
    "df2.iplot(kind='bar',x='Category',y='Values')"
   ]
  },
  {
   "cell_type": "code",
   "execution_count": 12,
   "metadata": {
    "collapsed": false
   },
   "outputs": [
    {
     "data": {
      "application/vnd.plotly.v1+json": {
       "config": {
        "linkText": "Export to plot.ly",
        "plotlyServerURL": "https://plot.ly",
        "showLink": true
       },
       "data": [
        {
         "marker": {
          "color": "rgba(255, 153, 51, 0.6)",
          "line": {
           "color": "rgba(255, 153, 51, 1.0)",
           "width": 1
          }
         },
         "name": "None",
         "orientation": "v",
         "text": "",
         "type": "bar",
         "x": [
          "A",
          "B",
          "C",
          "D"
         ],
         "y": [
          100,
          100,
          100,
          100
         ]
        }
       ],
       "layout": {
        "legend": {
         "bgcolor": "#F5F6F9",
         "font": {
          "color": "#4D5663"
         }
        },
        "paper_bgcolor": "#F5F6F9",
        "plot_bgcolor": "#F5F6F9",
        "template": {
         "data": {
          "bar": [
           {
            "error_x": {
             "color": "#2a3f5f"
            },
            "error_y": {
             "color": "#2a3f5f"
            },
            "marker": {
             "line": {
              "color": "#E5ECF6",
              "width": 0.5
             },
             "pattern": {
              "fillmode": "overlay",
              "size": 10,
              "solidity": 0.2
             }
            },
            "type": "bar"
           }
          ],
          "barpolar": [
           {
            "marker": {
             "line": {
              "color": "#E5ECF6",
              "width": 0.5
             },
             "pattern": {
              "fillmode": "overlay",
              "size": 10,
              "solidity": 0.2
             }
            },
            "type": "barpolar"
           }
          ],
          "carpet": [
           {
            "aaxis": {
             "endlinecolor": "#2a3f5f",
             "gridcolor": "white",
             "linecolor": "white",
             "minorgridcolor": "white",
             "startlinecolor": "#2a3f5f"
            },
            "baxis": {
             "endlinecolor": "#2a3f5f",
             "gridcolor": "white",
             "linecolor": "white",
             "minorgridcolor": "white",
             "startlinecolor": "#2a3f5f"
            },
            "type": "carpet"
           }
          ],
          "choropleth": [
           {
            "colorbar": {
             "outlinewidth": 0,
             "ticks": ""
            },
            "type": "choropleth"
           }
          ],
          "contour": [
           {
            "colorbar": {
             "outlinewidth": 0,
             "ticks": ""
            },
            "colorscale": [
             [
              0,
              "#0d0887"
             ],
             [
              0.1111111111111111,
              "#46039f"
             ],
             [
              0.2222222222222222,
              "#7201a8"
             ],
             [
              0.3333333333333333,
              "#9c179e"
             ],
             [
              0.4444444444444444,
              "#bd3786"
             ],
             [
              0.5555555555555556,
              "#d8576b"
             ],
             [
              0.6666666666666666,
              "#ed7953"
             ],
             [
              0.7777777777777778,
              "#fb9f3a"
             ],
             [
              0.8888888888888888,
              "#fdca26"
             ],
             [
              1,
              "#f0f921"
             ]
            ],
            "type": "contour"
           }
          ],
          "contourcarpet": [
           {
            "colorbar": {
             "outlinewidth": 0,
             "ticks": ""
            },
            "type": "contourcarpet"
           }
          ],
          "heatmap": [
           {
            "colorbar": {
             "outlinewidth": 0,
             "ticks": ""
            },
            "colorscale": [
             [
              0,
              "#0d0887"
             ],
             [
              0.1111111111111111,
              "#46039f"
             ],
             [
              0.2222222222222222,
              "#7201a8"
             ],
             [
              0.3333333333333333,
              "#9c179e"
             ],
             [
              0.4444444444444444,
              "#bd3786"
             ],
             [
              0.5555555555555556,
              "#d8576b"
             ],
             [
              0.6666666666666666,
              "#ed7953"
             ],
             [
              0.7777777777777778,
              "#fb9f3a"
             ],
             [
              0.8888888888888888,
              "#fdca26"
             ],
             [
              1,
              "#f0f921"
             ]
            ],
            "type": "heatmap"
           }
          ],
          "heatmapgl": [
           {
            "colorbar": {
             "outlinewidth": 0,
             "ticks": ""
            },
            "colorscale": [
             [
              0,
              "#0d0887"
             ],
             [
              0.1111111111111111,
              "#46039f"
             ],
             [
              0.2222222222222222,
              "#7201a8"
             ],
             [
              0.3333333333333333,
              "#9c179e"
             ],
             [
              0.4444444444444444,
              "#bd3786"
             ],
             [
              0.5555555555555556,
              "#d8576b"
             ],
             [
              0.6666666666666666,
              "#ed7953"
             ],
             [
              0.7777777777777778,
              "#fb9f3a"
             ],
             [
              0.8888888888888888,
              "#fdca26"
             ],
             [
              1,
              "#f0f921"
             ]
            ],
            "type": "heatmapgl"
           }
          ],
          "histogram": [
           {
            "marker": {
             "pattern": {
              "fillmode": "overlay",
              "size": 10,
              "solidity": 0.2
             }
            },
            "type": "histogram"
           }
          ],
          "histogram2d": [
           {
            "colorbar": {
             "outlinewidth": 0,
             "ticks": ""
            },
            "colorscale": [
             [
              0,
              "#0d0887"
             ],
             [
              0.1111111111111111,
              "#46039f"
             ],
             [
              0.2222222222222222,
              "#7201a8"
             ],
             [
              0.3333333333333333,
              "#9c179e"
             ],
             [
              0.4444444444444444,
              "#bd3786"
             ],
             [
              0.5555555555555556,
              "#d8576b"
             ],
             [
              0.6666666666666666,
              "#ed7953"
             ],
             [
              0.7777777777777778,
              "#fb9f3a"
             ],
             [
              0.8888888888888888,
              "#fdca26"
             ],
             [
              1,
              "#f0f921"
             ]
            ],
            "type": "histogram2d"
           }
          ],
          "histogram2dcontour": [
           {
            "colorbar": {
             "outlinewidth": 0,
             "ticks": ""
            },
            "colorscale": [
             [
              0,
              "#0d0887"
             ],
             [
              0.1111111111111111,
              "#46039f"
             ],
             [
              0.2222222222222222,
              "#7201a8"
             ],
             [
              0.3333333333333333,
              "#9c179e"
             ],
             [
              0.4444444444444444,
              "#bd3786"
             ],
             [
              0.5555555555555556,
              "#d8576b"
             ],
             [
              0.6666666666666666,
              "#ed7953"
             ],
             [
              0.7777777777777778,
              "#fb9f3a"
             ],
             [
              0.8888888888888888,
              "#fdca26"
             ],
             [
              1,
              "#f0f921"
             ]
            ],
            "type": "histogram2dcontour"
           }
          ],
          "mesh3d": [
           {
            "colorbar": {
             "outlinewidth": 0,
             "ticks": ""
            },
            "type": "mesh3d"
           }
          ],
          "parcoords": [
           {
            "line": {
             "colorbar": {
              "outlinewidth": 0,
              "ticks": ""
             }
            },
            "type": "parcoords"
           }
          ],
          "pie": [
           {
            "automargin": true,
            "type": "pie"
           }
          ],
          "scatter": [
           {
            "marker": {
             "colorbar": {
              "outlinewidth": 0,
              "ticks": ""
             }
            },
            "type": "scatter"
           }
          ],
          "scatter3d": [
           {
            "line": {
             "colorbar": {
              "outlinewidth": 0,
              "ticks": ""
             }
            },
            "marker": {
             "colorbar": {
              "outlinewidth": 0,
              "ticks": ""
             }
            },
            "type": "scatter3d"
           }
          ],
          "scattercarpet": [
           {
            "marker": {
             "colorbar": {
              "outlinewidth": 0,
              "ticks": ""
             }
            },
            "type": "scattercarpet"
           }
          ],
          "scattergeo": [
           {
            "marker": {
             "colorbar": {
              "outlinewidth": 0,
              "ticks": ""
             }
            },
            "type": "scattergeo"
           }
          ],
          "scattergl": [
           {
            "marker": {
             "colorbar": {
              "outlinewidth": 0,
              "ticks": ""
             }
            },
            "type": "scattergl"
           }
          ],
          "scattermapbox": [
           {
            "marker": {
             "colorbar": {
              "outlinewidth": 0,
              "ticks": ""
             }
            },
            "type": "scattermapbox"
           }
          ],
          "scatterpolar": [
           {
            "marker": {
             "colorbar": {
              "outlinewidth": 0,
              "ticks": ""
             }
            },
            "type": "scatterpolar"
           }
          ],
          "scatterpolargl": [
           {
            "marker": {
             "colorbar": {
              "outlinewidth": 0,
              "ticks": ""
             }
            },
            "type": "scatterpolargl"
           }
          ],
          "scatterternary": [
           {
            "marker": {
             "colorbar": {
              "outlinewidth": 0,
              "ticks": ""
             }
            },
            "type": "scatterternary"
           }
          ],
          "surface": [
           {
            "colorbar": {
             "outlinewidth": 0,
             "ticks": ""
            },
            "colorscale": [
             [
              0,
              "#0d0887"
             ],
             [
              0.1111111111111111,
              "#46039f"
             ],
             [
              0.2222222222222222,
              "#7201a8"
             ],
             [
              0.3333333333333333,
              "#9c179e"
             ],
             [
              0.4444444444444444,
              "#bd3786"
             ],
             [
              0.5555555555555556,
              "#d8576b"
             ],
             [
              0.6666666666666666,
              "#ed7953"
             ],
             [
              0.7777777777777778,
              "#fb9f3a"
             ],
             [
              0.8888888888888888,
              "#fdca26"
             ],
             [
              1,
              "#f0f921"
             ]
            ],
            "type": "surface"
           }
          ],
          "table": [
           {
            "cells": {
             "fill": {
              "color": "#EBF0F8"
             },
             "line": {
              "color": "white"
             }
            },
            "header": {
             "fill": {
              "color": "#C8D4E3"
             },
             "line": {
              "color": "white"
             }
            },
            "type": "table"
           }
          ]
         },
         "layout": {
          "annotationdefaults": {
           "arrowcolor": "#2a3f5f",
           "arrowhead": 0,
           "arrowwidth": 1
          },
          "autotypenumbers": "strict",
          "coloraxis": {
           "colorbar": {
            "outlinewidth": 0,
            "ticks": ""
           }
          },
          "colorscale": {
           "diverging": [
            [
             0,
             "#8e0152"
            ],
            [
             0.1,
             "#c51b7d"
            ],
            [
             0.2,
             "#de77ae"
            ],
            [
             0.3,
             "#f1b6da"
            ],
            [
             0.4,
             "#fde0ef"
            ],
            [
             0.5,
             "#f7f7f7"
            ],
            [
             0.6,
             "#e6f5d0"
            ],
            [
             0.7,
             "#b8e186"
            ],
            [
             0.8,
             "#7fbc41"
            ],
            [
             0.9,
             "#4d9221"
            ],
            [
             1,
             "#276419"
            ]
           ],
           "sequential": [
            [
             0,
             "#0d0887"
            ],
            [
             0.1111111111111111,
             "#46039f"
            ],
            [
             0.2222222222222222,
             "#7201a8"
            ],
            [
             0.3333333333333333,
             "#9c179e"
            ],
            [
             0.4444444444444444,
             "#bd3786"
            ],
            [
             0.5555555555555556,
             "#d8576b"
            ],
            [
             0.6666666666666666,
             "#ed7953"
            ],
            [
             0.7777777777777778,
             "#fb9f3a"
            ],
            [
             0.8888888888888888,
             "#fdca26"
            ],
            [
             1,
             "#f0f921"
            ]
           ],
           "sequentialminus": [
            [
             0,
             "#0d0887"
            ],
            [
             0.1111111111111111,
             "#46039f"
            ],
            [
             0.2222222222222222,
             "#7201a8"
            ],
            [
             0.3333333333333333,
             "#9c179e"
            ],
            [
             0.4444444444444444,
             "#bd3786"
            ],
            [
             0.5555555555555556,
             "#d8576b"
            ],
            [
             0.6666666666666666,
             "#ed7953"
            ],
            [
             0.7777777777777778,
             "#fb9f3a"
            ],
            [
             0.8888888888888888,
             "#fdca26"
            ],
            [
             1,
             "#f0f921"
            ]
           ]
          },
          "colorway": [
           "#636efa",
           "#EF553B",
           "#00cc96",
           "#ab63fa",
           "#FFA15A",
           "#19d3f3",
           "#FF6692",
           "#B6E880",
           "#FF97FF",
           "#FECB52"
          ],
          "font": {
           "color": "#2a3f5f"
          },
          "geo": {
           "bgcolor": "white",
           "lakecolor": "white",
           "landcolor": "#E5ECF6",
           "showlakes": true,
           "showland": true,
           "subunitcolor": "white"
          },
          "hoverlabel": {
           "align": "left"
          },
          "hovermode": "closest",
          "mapbox": {
           "style": "light"
          },
          "paper_bgcolor": "white",
          "plot_bgcolor": "#E5ECF6",
          "polar": {
           "angularaxis": {
            "gridcolor": "white",
            "linecolor": "white",
            "ticks": ""
           },
           "bgcolor": "#E5ECF6",
           "radialaxis": {
            "gridcolor": "white",
            "linecolor": "white",
            "ticks": ""
           }
          },
          "scene": {
           "xaxis": {
            "backgroundcolor": "#E5ECF6",
            "gridcolor": "white",
            "gridwidth": 2,
            "linecolor": "white",
            "showbackground": true,
            "ticks": "",
            "zerolinecolor": "white"
           },
           "yaxis": {
            "backgroundcolor": "#E5ECF6",
            "gridcolor": "white",
            "gridwidth": 2,
            "linecolor": "white",
            "showbackground": true,
            "ticks": "",
            "zerolinecolor": "white"
           },
           "zaxis": {
            "backgroundcolor": "#E5ECF6",
            "gridcolor": "white",
            "gridwidth": 2,
            "linecolor": "white",
            "showbackground": true,
            "ticks": "",
            "zerolinecolor": "white"
           }
          },
          "shapedefaults": {
           "line": {
            "color": "#2a3f5f"
           }
          },
          "ternary": {
           "aaxis": {
            "gridcolor": "white",
            "linecolor": "white",
            "ticks": ""
           },
           "baxis": {
            "gridcolor": "white",
            "linecolor": "white",
            "ticks": ""
           },
           "bgcolor": "#E5ECF6",
           "caxis": {
            "gridcolor": "white",
            "linecolor": "white",
            "ticks": ""
           }
          },
          "title": {
           "x": 0.05
          },
          "xaxis": {
           "automargin": true,
           "gridcolor": "white",
           "linecolor": "white",
           "ticks": "",
           "title": {
            "standoff": 15
           },
           "zerolinecolor": "white",
           "zerolinewidth": 2
          },
          "yaxis": {
           "automargin": true,
           "gridcolor": "white",
           "linecolor": "white",
           "ticks": "",
           "title": {
            "standoff": 15
           },
           "zerolinecolor": "white",
           "zerolinewidth": 2
          }
         }
        },
        "title": {
         "font": {
          "color": "#4D5663"
         }
        },
        "xaxis": {
         "gridcolor": "#E1E5ED",
         "showgrid": true,
         "tickfont": {
          "color": "#4D5663"
         },
         "title": {
          "font": {
           "color": "#4D5663"
          },
          "text": ""
         },
         "zerolinecolor": "#E1E5ED"
        },
        "yaxis": {
         "gridcolor": "#E1E5ED",
         "showgrid": true,
         "tickfont": {
          "color": "#4D5663"
         },
         "title": {
          "font": {
           "color": "#4D5663"
          },
          "text": ""
         },
         "zerolinecolor": "#E1E5ED"
        }
       }
      },
      "text/html": [
       "<div>                            <div id=\"ef025c5d-0e07-476a-b162-9b83234025af\" class=\"plotly-graph-div\" style=\"height:525px; width:100%;\"></div>            <script type=\"text/javascript\">                require([\"plotly\"], function(Plotly) {                    window.PLOTLYENV=window.PLOTLYENV || {};\n",
       "                    window.PLOTLYENV.BASE_URL='https://plot.ly';                                    if (document.getElementById(\"ef025c5d-0e07-476a-b162-9b83234025af\")) {                    Plotly.newPlot(                        \"ef025c5d-0e07-476a-b162-9b83234025af\",                        [{\"marker\":{\"color\":\"rgba(255, 153, 51, 0.6)\",\"line\":{\"color\":\"rgba(255, 153, 51, 1.0)\",\"width\":1}},\"name\":\"None\",\"orientation\":\"v\",\"text\":\"\",\"type\":\"bar\",\"x\":[\"A\",\"B\",\"C\",\"D\"],\"y\":[100,100,100,100]}],                        {\"legend\":{\"bgcolor\":\"#F5F6F9\",\"font\":{\"color\":\"#4D5663\"}},\"paper_bgcolor\":\"#F5F6F9\",\"plot_bgcolor\":\"#F5F6F9\",\"template\":{\"data\":{\"bar\":[{\"error_x\":{\"color\":\"#2a3f5f\"},\"error_y\":{\"color\":\"#2a3f5f\"},\"marker\":{\"line\":{\"color\":\"#E5ECF6\",\"width\":0.5},\"pattern\":{\"fillmode\":\"overlay\",\"size\":10,\"solidity\":0.2}},\"type\":\"bar\"}],\"barpolar\":[{\"marker\":{\"line\":{\"color\":\"#E5ECF6\",\"width\":0.5},\"pattern\":{\"fillmode\":\"overlay\",\"size\":10,\"solidity\":0.2}},\"type\":\"barpolar\"}],\"carpet\":[{\"aaxis\":{\"endlinecolor\":\"#2a3f5f\",\"gridcolor\":\"white\",\"linecolor\":\"white\",\"minorgridcolor\":\"white\",\"startlinecolor\":\"#2a3f5f\"},\"baxis\":{\"endlinecolor\":\"#2a3f5f\",\"gridcolor\":\"white\",\"linecolor\":\"white\",\"minorgridcolor\":\"white\",\"startlinecolor\":\"#2a3f5f\"},\"type\":\"carpet\"}],\"choropleth\":[{\"colorbar\":{\"outlinewidth\":0,\"ticks\":\"\"},\"type\":\"choropleth\"}],\"contour\":[{\"colorbar\":{\"outlinewidth\":0,\"ticks\":\"\"},\"colorscale\":[[0.0,\"#0d0887\"],[0.1111111111111111,\"#46039f\"],[0.2222222222222222,\"#7201a8\"],[0.3333333333333333,\"#9c179e\"],[0.4444444444444444,\"#bd3786\"],[0.5555555555555556,\"#d8576b\"],[0.6666666666666666,\"#ed7953\"],[0.7777777777777778,\"#fb9f3a\"],[0.8888888888888888,\"#fdca26\"],[1.0,\"#f0f921\"]],\"type\":\"contour\"}],\"contourcarpet\":[{\"colorbar\":{\"outlinewidth\":0,\"ticks\":\"\"},\"type\":\"contourcarpet\"}],\"heatmap\":[{\"colorbar\":{\"outlinewidth\":0,\"ticks\":\"\"},\"colorscale\":[[0.0,\"#0d0887\"],[0.1111111111111111,\"#46039f\"],[0.2222222222222222,\"#7201a8\"],[0.3333333333333333,\"#9c179e\"],[0.4444444444444444,\"#bd3786\"],[0.5555555555555556,\"#d8576b\"],[0.6666666666666666,\"#ed7953\"],[0.7777777777777778,\"#fb9f3a\"],[0.8888888888888888,\"#fdca26\"],[1.0,\"#f0f921\"]],\"type\":\"heatmap\"}],\"heatmapgl\":[{\"colorbar\":{\"outlinewidth\":0,\"ticks\":\"\"},\"colorscale\":[[0.0,\"#0d0887\"],[0.1111111111111111,\"#46039f\"],[0.2222222222222222,\"#7201a8\"],[0.3333333333333333,\"#9c179e\"],[0.4444444444444444,\"#bd3786\"],[0.5555555555555556,\"#d8576b\"],[0.6666666666666666,\"#ed7953\"],[0.7777777777777778,\"#fb9f3a\"],[0.8888888888888888,\"#fdca26\"],[1.0,\"#f0f921\"]],\"type\":\"heatmapgl\"}],\"histogram\":[{\"marker\":{\"pattern\":{\"fillmode\":\"overlay\",\"size\":10,\"solidity\":0.2}},\"type\":\"histogram\"}],\"histogram2d\":[{\"colorbar\":{\"outlinewidth\":0,\"ticks\":\"\"},\"colorscale\":[[0.0,\"#0d0887\"],[0.1111111111111111,\"#46039f\"],[0.2222222222222222,\"#7201a8\"],[0.3333333333333333,\"#9c179e\"],[0.4444444444444444,\"#bd3786\"],[0.5555555555555556,\"#d8576b\"],[0.6666666666666666,\"#ed7953\"],[0.7777777777777778,\"#fb9f3a\"],[0.8888888888888888,\"#fdca26\"],[1.0,\"#f0f921\"]],\"type\":\"histogram2d\"}],\"histogram2dcontour\":[{\"colorbar\":{\"outlinewidth\":0,\"ticks\":\"\"},\"colorscale\":[[0.0,\"#0d0887\"],[0.1111111111111111,\"#46039f\"],[0.2222222222222222,\"#7201a8\"],[0.3333333333333333,\"#9c179e\"],[0.4444444444444444,\"#bd3786\"],[0.5555555555555556,\"#d8576b\"],[0.6666666666666666,\"#ed7953\"],[0.7777777777777778,\"#fb9f3a\"],[0.8888888888888888,\"#fdca26\"],[1.0,\"#f0f921\"]],\"type\":\"histogram2dcontour\"}],\"mesh3d\":[{\"colorbar\":{\"outlinewidth\":0,\"ticks\":\"\"},\"type\":\"mesh3d\"}],\"parcoords\":[{\"line\":{\"colorbar\":{\"outlinewidth\":0,\"ticks\":\"\"}},\"type\":\"parcoords\"}],\"pie\":[{\"automargin\":true,\"type\":\"pie\"}],\"scatter\":[{\"marker\":{\"colorbar\":{\"outlinewidth\":0,\"ticks\":\"\"}},\"type\":\"scatter\"}],\"scatter3d\":[{\"line\":{\"colorbar\":{\"outlinewidth\":0,\"ticks\":\"\"}},\"marker\":{\"colorbar\":{\"outlinewidth\":0,\"ticks\":\"\"}},\"type\":\"scatter3d\"}],\"scattercarpet\":[{\"marker\":{\"colorbar\":{\"outlinewidth\":0,\"ticks\":\"\"}},\"type\":\"scattercarpet\"}],\"scattergeo\":[{\"marker\":{\"colorbar\":{\"outlinewidth\":0,\"ticks\":\"\"}},\"type\":\"scattergeo\"}],\"scattergl\":[{\"marker\":{\"colorbar\":{\"outlinewidth\":0,\"ticks\":\"\"}},\"type\":\"scattergl\"}],\"scattermapbox\":[{\"marker\":{\"colorbar\":{\"outlinewidth\":0,\"ticks\":\"\"}},\"type\":\"scattermapbox\"}],\"scatterpolar\":[{\"marker\":{\"colorbar\":{\"outlinewidth\":0,\"ticks\":\"\"}},\"type\":\"scatterpolar\"}],\"scatterpolargl\":[{\"marker\":{\"colorbar\":{\"outlinewidth\":0,\"ticks\":\"\"}},\"type\":\"scatterpolargl\"}],\"scatterternary\":[{\"marker\":{\"colorbar\":{\"outlinewidth\":0,\"ticks\":\"\"}},\"type\":\"scatterternary\"}],\"surface\":[{\"colorbar\":{\"outlinewidth\":0,\"ticks\":\"\"},\"colorscale\":[[0.0,\"#0d0887\"],[0.1111111111111111,\"#46039f\"],[0.2222222222222222,\"#7201a8\"],[0.3333333333333333,\"#9c179e\"],[0.4444444444444444,\"#bd3786\"],[0.5555555555555556,\"#d8576b\"],[0.6666666666666666,\"#ed7953\"],[0.7777777777777778,\"#fb9f3a\"],[0.8888888888888888,\"#fdca26\"],[1.0,\"#f0f921\"]],\"type\":\"surface\"}],\"table\":[{\"cells\":{\"fill\":{\"color\":\"#EBF0F8\"},\"line\":{\"color\":\"white\"}},\"header\":{\"fill\":{\"color\":\"#C8D4E3\"},\"line\":{\"color\":\"white\"}},\"type\":\"table\"}]},\"layout\":{\"annotationdefaults\":{\"arrowcolor\":\"#2a3f5f\",\"arrowhead\":0,\"arrowwidth\":1},\"autotypenumbers\":\"strict\",\"coloraxis\":{\"colorbar\":{\"outlinewidth\":0,\"ticks\":\"\"}},\"colorscale\":{\"diverging\":[[0,\"#8e0152\"],[0.1,\"#c51b7d\"],[0.2,\"#de77ae\"],[0.3,\"#f1b6da\"],[0.4,\"#fde0ef\"],[0.5,\"#f7f7f7\"],[0.6,\"#e6f5d0\"],[0.7,\"#b8e186\"],[0.8,\"#7fbc41\"],[0.9,\"#4d9221\"],[1,\"#276419\"]],\"sequential\":[[0.0,\"#0d0887\"],[0.1111111111111111,\"#46039f\"],[0.2222222222222222,\"#7201a8\"],[0.3333333333333333,\"#9c179e\"],[0.4444444444444444,\"#bd3786\"],[0.5555555555555556,\"#d8576b\"],[0.6666666666666666,\"#ed7953\"],[0.7777777777777778,\"#fb9f3a\"],[0.8888888888888888,\"#fdca26\"],[1.0,\"#f0f921\"]],\"sequentialminus\":[[0.0,\"#0d0887\"],[0.1111111111111111,\"#46039f\"],[0.2222222222222222,\"#7201a8\"],[0.3333333333333333,\"#9c179e\"],[0.4444444444444444,\"#bd3786\"],[0.5555555555555556,\"#d8576b\"],[0.6666666666666666,\"#ed7953\"],[0.7777777777777778,\"#fb9f3a\"],[0.8888888888888888,\"#fdca26\"],[1.0,\"#f0f921\"]]},\"colorway\":[\"#636efa\",\"#EF553B\",\"#00cc96\",\"#ab63fa\",\"#FFA15A\",\"#19d3f3\",\"#FF6692\",\"#B6E880\",\"#FF97FF\",\"#FECB52\"],\"font\":{\"color\":\"#2a3f5f\"},\"geo\":{\"bgcolor\":\"white\",\"lakecolor\":\"white\",\"landcolor\":\"#E5ECF6\",\"showlakes\":true,\"showland\":true,\"subunitcolor\":\"white\"},\"hoverlabel\":{\"align\":\"left\"},\"hovermode\":\"closest\",\"mapbox\":{\"style\":\"light\"},\"paper_bgcolor\":\"white\",\"plot_bgcolor\":\"#E5ECF6\",\"polar\":{\"angularaxis\":{\"gridcolor\":\"white\",\"linecolor\":\"white\",\"ticks\":\"\"},\"bgcolor\":\"#E5ECF6\",\"radialaxis\":{\"gridcolor\":\"white\",\"linecolor\":\"white\",\"ticks\":\"\"}},\"scene\":{\"xaxis\":{\"backgroundcolor\":\"#E5ECF6\",\"gridcolor\":\"white\",\"gridwidth\":2,\"linecolor\":\"white\",\"showbackground\":true,\"ticks\":\"\",\"zerolinecolor\":\"white\"},\"yaxis\":{\"backgroundcolor\":\"#E5ECF6\",\"gridcolor\":\"white\",\"gridwidth\":2,\"linecolor\":\"white\",\"showbackground\":true,\"ticks\":\"\",\"zerolinecolor\":\"white\"},\"zaxis\":{\"backgroundcolor\":\"#E5ECF6\",\"gridcolor\":\"white\",\"gridwidth\":2,\"linecolor\":\"white\",\"showbackground\":true,\"ticks\":\"\",\"zerolinecolor\":\"white\"}},\"shapedefaults\":{\"line\":{\"color\":\"#2a3f5f\"}},\"ternary\":{\"aaxis\":{\"gridcolor\":\"white\",\"linecolor\":\"white\",\"ticks\":\"\"},\"baxis\":{\"gridcolor\":\"white\",\"linecolor\":\"white\",\"ticks\":\"\"},\"bgcolor\":\"#E5ECF6\",\"caxis\":{\"gridcolor\":\"white\",\"linecolor\":\"white\",\"ticks\":\"\"}},\"title\":{\"x\":0.05},\"xaxis\":{\"automargin\":true,\"gridcolor\":\"white\",\"linecolor\":\"white\",\"ticks\":\"\",\"title\":{\"standoff\":15},\"zerolinecolor\":\"white\",\"zerolinewidth\":2},\"yaxis\":{\"automargin\":true,\"gridcolor\":\"white\",\"linecolor\":\"white\",\"ticks\":\"\",\"title\":{\"standoff\":15},\"zerolinecolor\":\"white\",\"zerolinewidth\":2}}},\"title\":{\"font\":{\"color\":\"#4D5663\"}},\"xaxis\":{\"gridcolor\":\"#E1E5ED\",\"showgrid\":true,\"tickfont\":{\"color\":\"#4D5663\"},\"title\":{\"font\":{\"color\":\"#4D5663\"},\"text\":\"\"},\"zerolinecolor\":\"#E1E5ED\"},\"yaxis\":{\"gridcolor\":\"#E1E5ED\",\"showgrid\":true,\"tickfont\":{\"color\":\"#4D5663\"},\"title\":{\"font\":{\"color\":\"#4D5663\"},\"text\":\"\"},\"zerolinecolor\":\"#E1E5ED\"}},                        {\"showLink\": true, \"linkText\": \"Export to plot.ly\", \"plotlyServerURL\": \"https://plot.ly\", \"responsive\": true}                    ).then(function(){\n",
       "                            \n",
       "var gd = document.getElementById('ef025c5d-0e07-476a-b162-9b83234025af');\n",
       "var x = new MutationObserver(function (mutations, observer) {{\n",
       "        var display = window.getComputedStyle(gd).display;\n",
       "        if (!display || display === 'none') {{\n",
       "            console.log([gd, 'removed!']);\n",
       "            Plotly.purge(gd);\n",
       "            observer.disconnect();\n",
       "        }}\n",
       "}});\n",
       "\n",
       "// Listen for the removal of the full notebook cells\n",
       "var notebookContainer = gd.closest('#notebook-container');\n",
       "if (notebookContainer) {{\n",
       "    x.observe(notebookContainer, {childList: true});\n",
       "}}\n",
       "\n",
       "// Listen for the clearing of the current output cell\n",
       "var outputEl = gd.closest('.output');\n",
       "if (outputEl) {{\n",
       "    x.observe(outputEl, {childList: true});\n",
       "}}\n",
       "\n",
       "                        })                };                });            </script>        </div>"
      ]
     },
     "metadata": {},
     "output_type": "display_data"
    }
   ],
   "source": [
    "df.count().iplot(kind='bar')"
   ]
  },
  {
   "cell_type": "markdown",
   "metadata": {},
   "source": [
    "## Boxplots"
   ]
  },
  {
   "cell_type": "code",
   "execution_count": 13,
   "metadata": {
    "collapsed": false
   },
   "outputs": [
    {
     "data": {
      "application/vnd.plotly.v1+json": {
       "config": {
        "linkText": "Export to plot.ly",
        "plotlyServerURL": "https://plot.ly",
        "showLink": true
       },
       "data": [
        {
         "boxpoints": false,
         "line": {
          "width": 1.3
         },
         "marker": {
          "color": "rgba(255, 153, 51, 1.0)"
         },
         "name": "A",
         "orientation": "v",
         "type": "box",
         "y": [
          -1.5698810706263946,
          -0.24670595182913876,
          0.9304875741808672,
          -0.5066248091859992,
          0.6849922041296616,
          1.8970178017465043,
          0.8077409636879337,
          -1.0010217400668584,
          1.3704184544113829,
          0.4285482444378609,
          -1.4904588136094539,
          -1.057101523542387,
          -0.027965777366933554,
          0.49225766147762384,
          1.7494548923444855,
          0.6281606764666283,
          0.4124195324549872,
          -1.214371296495128,
          -1.0341361517499075,
          1.226524093673132,
          -0.3702532214319981,
          -1.026602653888882,
          -2.3899848709024765,
          0.18617738129491324,
          1.4205391403152827,
          0.16620298379615436,
          0.929471725944909,
          -0.2948437483626567,
          -0.19238683310333554,
          0.3847510505627772,
          1.0876155888389627,
          -0.13114344678221457,
          -2.6313549063054644,
          -0.3071103070391007,
          0.02304046542887793,
          0.2729530132607438,
          -0.5975479856090492,
          -1.307335029097629,
          -0.47343875594268553,
          0.40462706875938037,
          -0.3750837496186107,
          -1.153600856704141,
          -0.3210114638708474,
          -2.2727107459326708,
          0.14301117636838187,
          -0.4665470914808554,
          0.826330087593931,
          -0.4180146691670233,
          1.054261233414269,
          -0.769436597202262,
          0.30626623858840024,
          -1.222590132635321,
          -2.30431979214976,
          0.666109200462043,
          -1.6728303362407113,
          0.1360130473809156,
          0.2494020778281667,
          -1.4992821492867194,
          -0.5116902731427975,
          1.525411005806135,
          -1.0830706078125625,
          -1.1839618316805465,
          -1.2495174128404651,
          -0.25963125105376794,
          -1.0391021603416049,
          1.1701721156729272,
          0.5622979488932329,
          -0.4771715870306209,
          1.768125398112826,
          0.7841311388100116,
          -0.6192657048486289,
          -1.6034238616624827,
          -1.8180894620316153,
          -0.3769070560431302,
          -0.41583997308357923,
          -0.6968963202170636,
          0.13930902297487113,
          -0.6588464417475745,
          0.16723455663614806,
          -0.5816300010843882,
          0.8479015012297172,
          -0.8378041078347768,
          0.590067897520868,
          -0.7406499043141112,
          2.0006310452298584,
          0.05244393802697705,
          -1.2673761100060725,
          -1.856178347559622,
          -0.8744830899459701,
          -1.254130315577289,
          -1.1896877070913607,
          -1.1228223429505455,
          1.5350484892720089,
          -0.7992697234238435,
          0.4575057067461036,
          0.7343373638940573,
          1.1758847224955535,
          0.047416055252521176,
          -0.15774964088717078,
          -1.0755946344964076
         ]
        },
        {
         "boxpoints": false,
         "line": {
          "width": 1.3
         },
         "marker": {
          "color": "rgba(55, 128, 191, 1.0)"
         },
         "name": "B",
         "orientation": "v",
         "type": "box",
         "y": [
          -1.3113999602332227,
          -0.5511892997361064,
          0.9564106365247286,
          -0.0756544666480186,
          -0.45951139552071874,
          -0.3443475067009876,
          0.5329020467359252,
          1.5965981779903844,
          -0.20924320022818726,
          1.0681126078401548,
          -0.45836557518658216,
          -1.4675364036403746,
          -0.6381239023755292,
          -0.04176861474034986,
          -0.44238044596072,
          -1.1019358315585372,
          -1.168885300883454,
          -1.0848304880389248,
          -0.8770366200242047,
          -0.8998816091576025,
          -0.257430903248447,
          -0.6354833792541387,
          -0.6693198479481702,
          -0.2559528260054829,
          1.0333323918355652,
          -0.05729430349437438,
          1.837781302884297,
          -0.46370353242448914,
          0.13857196530710683,
          -0.07449236233589691,
          0.8894995621514906,
          1.413508948643193,
          0.3150992901613012,
          -0.5601542001942031,
          -0.7421009574127645,
          0.9264598582933575,
          -1.1678766738320119,
          0.9199026350211115,
          1.3681026700375678,
          -1.1706032466392733,
          0.3058098352063741,
          1.0825115745711003,
          -0.7378682735739086,
          0.48708467631334085,
          -1.301103036688062,
          0.40206968519748654,
          -0.683857096879213,
          -1.8738912329733723,
          0.7171097033890735,
          0.03888805277076086,
          -1.1693617295332313,
          -1.500268149751419,
          1.344024211974228,
          -0.1555134136926965,
          -1.015500310369333,
          1.3380630990228026,
          1.0892709931382587,
          2.619925062300933,
          0.22134788766989708,
          -0.5265520734592678,
          -0.5930694400125788,
          2.0476451557714093,
          1.4136353954227314,
          -0.8583185862032842,
          0.909619416198989,
          -0.5818769144837174,
          -0.4288867922322983,
          -1.5589239266494332,
          -0.9503331341161685,
          -0.4871533471858235,
          0.37242352525385475,
          -0.12028847667674292,
          -0.5343988318276738,
          -0.29955801808268195,
          0.5750625586522502,
          -0.5439453452009341,
          -0.7457944468902554,
          0.21738104733639788,
          -0.8315775003113577,
          -0.16984480502465918,
          0.5637202019823333,
          -1.6541191753802165,
          0.7857574457781091,
          0.86207308970026,
          1.7636380440624961,
          0.5959513372063282,
          -1.18477284050119,
          0.5050905996685262,
          -0.7186843156620407,
          0.7277456402864244,
          -0.10883976841530896,
          -1.2800960574118065,
          0.9508036384404251,
          -1.2594942463628704,
          -0.43000599662706834,
          0.8518986087827631,
          2.1099835338576742,
          -1.1338620361510596,
          -0.1136365825121175,
          -0.31121735019710284
         ]
        },
        {
         "boxpoints": false,
         "line": {
          "width": 1.3
         },
         "marker": {
          "color": "rgba(50, 171, 96, 1.0)"
         },
         "name": "C",
         "orientation": "v",
         "type": "box",
         "y": [
          -1.0277963728535986,
          0.40989558310469754,
          1.5350833310466399,
          1.3466211188459762,
          -0.21367980255378222,
          1.2184655661005612,
          -0.6647654704441155,
          -0.29656148351361705,
          -0.06744189322680803,
          -1.3484300862502496,
          0.15333275929662857,
          -0.00467568605895884,
          -0.2234287586903079,
          0.3696942580553424,
          -0.41792444436395626,
          -0.1569977293394031,
          -0.5095993491606567,
          0.5745633524870278,
          -2.2398401018261382,
          0.3192320536826866,
          0.967901483115932,
          -0.9000300782616163,
          0.6067188264020787,
          0.7894484684607743,
          -0.3830919249875024,
          -0.7074251059165702,
          -0.19143053267822113,
          -0.1413670345240148,
          -1.69169055813557,
          -1.788890845039639,
          0.07415872083724469,
          1.0109338646896295,
          -1.3100173079714235,
          2.150113178962219,
          -1.7546385518249705,
          1.0009792275862728,
          -1.3585838232375798,
          -0.21359845961706492,
          -1.0813905362427447,
          1.0749224280672565,
          -0.18737033437610848,
          -1.7971427774277917,
          -1.047275195508696,
          1.7027055795242951,
          -0.6898197958463056,
          -0.7592564238997,
          -1.1235688499199932,
          1.3756404611182302,
          1.0878703036748185,
          -1.8299870025566054,
          -0.5799561064215722,
          0.45626182851647223,
          -1.2536998431038242,
          0.4257854020936454,
          1.5383060981235064,
          1.2394853172000297,
          0.15178919377392014,
          0.11073815820235751,
          0.9286710682278193,
          -0.3501847278893218,
          0.17397667124766542,
          -2.071540002418569,
          -1.0418663340023109,
          1.4920333413205007,
          -1.6068871602601513,
          1.1335329089549389,
          -2.836924965596087,
          -0.7026162138622402,
          0.33643398686605996,
          1.2759651685706939,
          0.542788998294374,
          1.3425499456449346,
          0.7621067184879887,
          1.43586364624196,
          1.4373060592357538,
          -0.2482253153282465,
          1.043067030646993,
          -0.36941445515650223,
          0.05914853991195712,
          -0.793042217815076,
          -1.0673095885301342,
          0.6799265133512832,
          -0.480819229332368,
          -0.2978631306610548,
          -1.0119249092306795,
          -0.8146444117100996,
          0.2801903327454848,
          -1.7641375948739253,
          1.8184834808705337,
          1.9645831622733163,
          0.5416108056019772,
          0.15602645917752933,
          -1.1834000280969932,
          -0.4207260809567789,
          -1.3327165332387945,
          0.47186598864130247,
          -0.7778869548074504,
          -0.5920684790184321,
          0.9101906882047125,
          0.3506728388666368
         ]
        },
        {
         "boxpoints": false,
         "line": {
          "width": 1.3
         },
         "marker": {
          "color": "rgba(128, 0, 128, 1.0)"
         },
         "name": "D",
         "orientation": "v",
         "type": "box",
         "y": [
          0.11916300730724995,
          -1.4592692105065774,
          1.8060787265728209,
          0.17503686989704614,
          0.4002454291850666,
          0.23442417470708268,
          0.5211046975249474,
          -0.13331146722298096,
          1.3413432082634766,
          0.9070099714622281,
          -2.3225068323745783,
          0.6253873437887567,
          3.0466517695337525,
          -0.025011387807534646,
          -0.8860579464022152,
          1.6765125166940615,
          -0.11688507057655162,
          2.0049154406765943,
          -1.7819306251585108,
          0.6250653565631049,
          -0.11927060224478235,
          1.3282812020097987,
          -0.43286371754802067,
          -0.7222402384231267,
          0.7178791083335256,
          1.5392952692396078,
          -0.344324965708766,
          0.13697617689928157,
          0.2657755877942632,
          -0.029288934925322592,
          0.41260051196259867,
          -0.22709844551062744,
          1.1618448532858292,
          0.8713936509936363,
          -0.5747425397960325,
          -0.7090434234352573,
          -1.4798393200272502,
          0.5993461404480717,
          -0.38894346952187886,
          -1.0224766008311459,
          0.8361269045230068,
          -0.4607977158558291,
          1.3277074186126048,
          -1.0145407490900704,
          0.6158886736937428,
          -0.8992843420412125,
          -0.6328992936225387,
          1.5522000275928174,
          1.416024771743824,
          0.6671488569132367,
          -0.9181512029359704,
          1.393091774531936,
          0.21083496487777947,
          -0.02364027596915868,
          0.8407388672370442,
          0.5934273987204705,
          0.8942461268039573,
          -0.5154282920383036,
          -0.8405199440371842,
          -0.529500492907707,
          0.23962397399718713,
          -0.15886143787690304,
          -2.722358198099253,
          0.3644950846587262,
          -0.18774141478002443,
          -1.3522265386480665,
          0.10854659998751222,
          -0.4536121680961895,
          -1.0680147908978759,
          1.2661333001982447,
          -1.3736912107361086,
          -1.2448775356293391,
          1.042802288713844,
          1.0851361086215612,
          -0.0901420510111028,
          -0.5762695845980996,
          -0.6311621396718728,
          -1.5522369447132873,
          -0.14015381932139637,
          0.9058169016568614,
          -1.1957279074720533,
          0.16939695104059013,
          1.3270627820032574,
          -0.6494277271569843,
          0.7626597171223247,
          -0.8784213191418017,
          1.5672003706559743,
          -0.9221939029516824,
          2.2888040124200995,
          0.37551063253596534,
          0.966739310650984,
          -1.2730325142011747,
          -0.4051704723522564,
          0.15662872419060897,
          -0.657969810606721,
          -0.7772228227370723,
          -0.61291068342699,
          0.44983091151087035,
          -1.7570401870403525,
          0.0564620110552343
         ]
        }
       ],
       "layout": {
        "legend": {
         "bgcolor": "#F5F6F9",
         "font": {
          "color": "#4D5663"
         }
        },
        "paper_bgcolor": "#F5F6F9",
        "plot_bgcolor": "#F5F6F9",
        "template": {
         "data": {
          "bar": [
           {
            "error_x": {
             "color": "#2a3f5f"
            },
            "error_y": {
             "color": "#2a3f5f"
            },
            "marker": {
             "line": {
              "color": "#E5ECF6",
              "width": 0.5
             },
             "pattern": {
              "fillmode": "overlay",
              "size": 10,
              "solidity": 0.2
             }
            },
            "type": "bar"
           }
          ],
          "barpolar": [
           {
            "marker": {
             "line": {
              "color": "#E5ECF6",
              "width": 0.5
             },
             "pattern": {
              "fillmode": "overlay",
              "size": 10,
              "solidity": 0.2
             }
            },
            "type": "barpolar"
           }
          ],
          "carpet": [
           {
            "aaxis": {
             "endlinecolor": "#2a3f5f",
             "gridcolor": "white",
             "linecolor": "white",
             "minorgridcolor": "white",
             "startlinecolor": "#2a3f5f"
            },
            "baxis": {
             "endlinecolor": "#2a3f5f",
             "gridcolor": "white",
             "linecolor": "white",
             "minorgridcolor": "white",
             "startlinecolor": "#2a3f5f"
            },
            "type": "carpet"
           }
          ],
          "choropleth": [
           {
            "colorbar": {
             "outlinewidth": 0,
             "ticks": ""
            },
            "type": "choropleth"
           }
          ],
          "contour": [
           {
            "colorbar": {
             "outlinewidth": 0,
             "ticks": ""
            },
            "colorscale": [
             [
              0,
              "#0d0887"
             ],
             [
              0.1111111111111111,
              "#46039f"
             ],
             [
              0.2222222222222222,
              "#7201a8"
             ],
             [
              0.3333333333333333,
              "#9c179e"
             ],
             [
              0.4444444444444444,
              "#bd3786"
             ],
             [
              0.5555555555555556,
              "#d8576b"
             ],
             [
              0.6666666666666666,
              "#ed7953"
             ],
             [
              0.7777777777777778,
              "#fb9f3a"
             ],
             [
              0.8888888888888888,
              "#fdca26"
             ],
             [
              1,
              "#f0f921"
             ]
            ],
            "type": "contour"
           }
          ],
          "contourcarpet": [
           {
            "colorbar": {
             "outlinewidth": 0,
             "ticks": ""
            },
            "type": "contourcarpet"
           }
          ],
          "heatmap": [
           {
            "colorbar": {
             "outlinewidth": 0,
             "ticks": ""
            },
            "colorscale": [
             [
              0,
              "#0d0887"
             ],
             [
              0.1111111111111111,
              "#46039f"
             ],
             [
              0.2222222222222222,
              "#7201a8"
             ],
             [
              0.3333333333333333,
              "#9c179e"
             ],
             [
              0.4444444444444444,
              "#bd3786"
             ],
             [
              0.5555555555555556,
              "#d8576b"
             ],
             [
              0.6666666666666666,
              "#ed7953"
             ],
             [
              0.7777777777777778,
              "#fb9f3a"
             ],
             [
              0.8888888888888888,
              "#fdca26"
             ],
             [
              1,
              "#f0f921"
             ]
            ],
            "type": "heatmap"
           }
          ],
          "heatmapgl": [
           {
            "colorbar": {
             "outlinewidth": 0,
             "ticks": ""
            },
            "colorscale": [
             [
              0,
              "#0d0887"
             ],
             [
              0.1111111111111111,
              "#46039f"
             ],
             [
              0.2222222222222222,
              "#7201a8"
             ],
             [
              0.3333333333333333,
              "#9c179e"
             ],
             [
              0.4444444444444444,
              "#bd3786"
             ],
             [
              0.5555555555555556,
              "#d8576b"
             ],
             [
              0.6666666666666666,
              "#ed7953"
             ],
             [
              0.7777777777777778,
              "#fb9f3a"
             ],
             [
              0.8888888888888888,
              "#fdca26"
             ],
             [
              1,
              "#f0f921"
             ]
            ],
            "type": "heatmapgl"
           }
          ],
          "histogram": [
           {
            "marker": {
             "pattern": {
              "fillmode": "overlay",
              "size": 10,
              "solidity": 0.2
             }
            },
            "type": "histogram"
           }
          ],
          "histogram2d": [
           {
            "colorbar": {
             "outlinewidth": 0,
             "ticks": ""
            },
            "colorscale": [
             [
              0,
              "#0d0887"
             ],
             [
              0.1111111111111111,
              "#46039f"
             ],
             [
              0.2222222222222222,
              "#7201a8"
             ],
             [
              0.3333333333333333,
              "#9c179e"
             ],
             [
              0.4444444444444444,
              "#bd3786"
             ],
             [
              0.5555555555555556,
              "#d8576b"
             ],
             [
              0.6666666666666666,
              "#ed7953"
             ],
             [
              0.7777777777777778,
              "#fb9f3a"
             ],
             [
              0.8888888888888888,
              "#fdca26"
             ],
             [
              1,
              "#f0f921"
             ]
            ],
            "type": "histogram2d"
           }
          ],
          "histogram2dcontour": [
           {
            "colorbar": {
             "outlinewidth": 0,
             "ticks": ""
            },
            "colorscale": [
             [
              0,
              "#0d0887"
             ],
             [
              0.1111111111111111,
              "#46039f"
             ],
             [
              0.2222222222222222,
              "#7201a8"
             ],
             [
              0.3333333333333333,
              "#9c179e"
             ],
             [
              0.4444444444444444,
              "#bd3786"
             ],
             [
              0.5555555555555556,
              "#d8576b"
             ],
             [
              0.6666666666666666,
              "#ed7953"
             ],
             [
              0.7777777777777778,
              "#fb9f3a"
             ],
             [
              0.8888888888888888,
              "#fdca26"
             ],
             [
              1,
              "#f0f921"
             ]
            ],
            "type": "histogram2dcontour"
           }
          ],
          "mesh3d": [
           {
            "colorbar": {
             "outlinewidth": 0,
             "ticks": ""
            },
            "type": "mesh3d"
           }
          ],
          "parcoords": [
           {
            "line": {
             "colorbar": {
              "outlinewidth": 0,
              "ticks": ""
             }
            },
            "type": "parcoords"
           }
          ],
          "pie": [
           {
            "automargin": true,
            "type": "pie"
           }
          ],
          "scatter": [
           {
            "marker": {
             "colorbar": {
              "outlinewidth": 0,
              "ticks": ""
             }
            },
            "type": "scatter"
           }
          ],
          "scatter3d": [
           {
            "line": {
             "colorbar": {
              "outlinewidth": 0,
              "ticks": ""
             }
            },
            "marker": {
             "colorbar": {
              "outlinewidth": 0,
              "ticks": ""
             }
            },
            "type": "scatter3d"
           }
          ],
          "scattercarpet": [
           {
            "marker": {
             "colorbar": {
              "outlinewidth": 0,
              "ticks": ""
             }
            },
            "type": "scattercarpet"
           }
          ],
          "scattergeo": [
           {
            "marker": {
             "colorbar": {
              "outlinewidth": 0,
              "ticks": ""
             }
            },
            "type": "scattergeo"
           }
          ],
          "scattergl": [
           {
            "marker": {
             "colorbar": {
              "outlinewidth": 0,
              "ticks": ""
             }
            },
            "type": "scattergl"
           }
          ],
          "scattermapbox": [
           {
            "marker": {
             "colorbar": {
              "outlinewidth": 0,
              "ticks": ""
             }
            },
            "type": "scattermapbox"
           }
          ],
          "scatterpolar": [
           {
            "marker": {
             "colorbar": {
              "outlinewidth": 0,
              "ticks": ""
             }
            },
            "type": "scatterpolar"
           }
          ],
          "scatterpolargl": [
           {
            "marker": {
             "colorbar": {
              "outlinewidth": 0,
              "ticks": ""
             }
            },
            "type": "scatterpolargl"
           }
          ],
          "scatterternary": [
           {
            "marker": {
             "colorbar": {
              "outlinewidth": 0,
              "ticks": ""
             }
            },
            "type": "scatterternary"
           }
          ],
          "surface": [
           {
            "colorbar": {
             "outlinewidth": 0,
             "ticks": ""
            },
            "colorscale": [
             [
              0,
              "#0d0887"
             ],
             [
              0.1111111111111111,
              "#46039f"
             ],
             [
              0.2222222222222222,
              "#7201a8"
             ],
             [
              0.3333333333333333,
              "#9c179e"
             ],
             [
              0.4444444444444444,
              "#bd3786"
             ],
             [
              0.5555555555555556,
              "#d8576b"
             ],
             [
              0.6666666666666666,
              "#ed7953"
             ],
             [
              0.7777777777777778,
              "#fb9f3a"
             ],
             [
              0.8888888888888888,
              "#fdca26"
             ],
             [
              1,
              "#f0f921"
             ]
            ],
            "type": "surface"
           }
          ],
          "table": [
           {
            "cells": {
             "fill": {
              "color": "#EBF0F8"
             },
             "line": {
              "color": "white"
             }
            },
            "header": {
             "fill": {
              "color": "#C8D4E3"
             },
             "line": {
              "color": "white"
             }
            },
            "type": "table"
           }
          ]
         },
         "layout": {
          "annotationdefaults": {
           "arrowcolor": "#2a3f5f",
           "arrowhead": 0,
           "arrowwidth": 1
          },
          "autotypenumbers": "strict",
          "coloraxis": {
           "colorbar": {
            "outlinewidth": 0,
            "ticks": ""
           }
          },
          "colorscale": {
           "diverging": [
            [
             0,
             "#8e0152"
            ],
            [
             0.1,
             "#c51b7d"
            ],
            [
             0.2,
             "#de77ae"
            ],
            [
             0.3,
             "#f1b6da"
            ],
            [
             0.4,
             "#fde0ef"
            ],
            [
             0.5,
             "#f7f7f7"
            ],
            [
             0.6,
             "#e6f5d0"
            ],
            [
             0.7,
             "#b8e186"
            ],
            [
             0.8,
             "#7fbc41"
            ],
            [
             0.9,
             "#4d9221"
            ],
            [
             1,
             "#276419"
            ]
           ],
           "sequential": [
            [
             0,
             "#0d0887"
            ],
            [
             0.1111111111111111,
             "#46039f"
            ],
            [
             0.2222222222222222,
             "#7201a8"
            ],
            [
             0.3333333333333333,
             "#9c179e"
            ],
            [
             0.4444444444444444,
             "#bd3786"
            ],
            [
             0.5555555555555556,
             "#d8576b"
            ],
            [
             0.6666666666666666,
             "#ed7953"
            ],
            [
             0.7777777777777778,
             "#fb9f3a"
            ],
            [
             0.8888888888888888,
             "#fdca26"
            ],
            [
             1,
             "#f0f921"
            ]
           ],
           "sequentialminus": [
            [
             0,
             "#0d0887"
            ],
            [
             0.1111111111111111,
             "#46039f"
            ],
            [
             0.2222222222222222,
             "#7201a8"
            ],
            [
             0.3333333333333333,
             "#9c179e"
            ],
            [
             0.4444444444444444,
             "#bd3786"
            ],
            [
             0.5555555555555556,
             "#d8576b"
            ],
            [
             0.6666666666666666,
             "#ed7953"
            ],
            [
             0.7777777777777778,
             "#fb9f3a"
            ],
            [
             0.8888888888888888,
             "#fdca26"
            ],
            [
             1,
             "#f0f921"
            ]
           ]
          },
          "colorway": [
           "#636efa",
           "#EF553B",
           "#00cc96",
           "#ab63fa",
           "#FFA15A",
           "#19d3f3",
           "#FF6692",
           "#B6E880",
           "#FF97FF",
           "#FECB52"
          ],
          "font": {
           "color": "#2a3f5f"
          },
          "geo": {
           "bgcolor": "white",
           "lakecolor": "white",
           "landcolor": "#E5ECF6",
           "showlakes": true,
           "showland": true,
           "subunitcolor": "white"
          },
          "hoverlabel": {
           "align": "left"
          },
          "hovermode": "closest",
          "mapbox": {
           "style": "light"
          },
          "paper_bgcolor": "white",
          "plot_bgcolor": "#E5ECF6",
          "polar": {
           "angularaxis": {
            "gridcolor": "white",
            "linecolor": "white",
            "ticks": ""
           },
           "bgcolor": "#E5ECF6",
           "radialaxis": {
            "gridcolor": "white",
            "linecolor": "white",
            "ticks": ""
           }
          },
          "scene": {
           "xaxis": {
            "backgroundcolor": "#E5ECF6",
            "gridcolor": "white",
            "gridwidth": 2,
            "linecolor": "white",
            "showbackground": true,
            "ticks": "",
            "zerolinecolor": "white"
           },
           "yaxis": {
            "backgroundcolor": "#E5ECF6",
            "gridcolor": "white",
            "gridwidth": 2,
            "linecolor": "white",
            "showbackground": true,
            "ticks": "",
            "zerolinecolor": "white"
           },
           "zaxis": {
            "backgroundcolor": "#E5ECF6",
            "gridcolor": "white",
            "gridwidth": 2,
            "linecolor": "white",
            "showbackground": true,
            "ticks": "",
            "zerolinecolor": "white"
           }
          },
          "shapedefaults": {
           "line": {
            "color": "#2a3f5f"
           }
          },
          "ternary": {
           "aaxis": {
            "gridcolor": "white",
            "linecolor": "white",
            "ticks": ""
           },
           "baxis": {
            "gridcolor": "white",
            "linecolor": "white",
            "ticks": ""
           },
           "bgcolor": "#E5ECF6",
           "caxis": {
            "gridcolor": "white",
            "linecolor": "white",
            "ticks": ""
           }
          },
          "title": {
           "x": 0.05
          },
          "xaxis": {
           "automargin": true,
           "gridcolor": "white",
           "linecolor": "white",
           "ticks": "",
           "title": {
            "standoff": 15
           },
           "zerolinecolor": "white",
           "zerolinewidth": 2
          },
          "yaxis": {
           "automargin": true,
           "gridcolor": "white",
           "linecolor": "white",
           "ticks": "",
           "title": {
            "standoff": 15
           },
           "zerolinecolor": "white",
           "zerolinewidth": 2
          }
         }
        },
        "title": {
         "font": {
          "color": "#4D5663"
         }
        },
        "xaxis": {
         "gridcolor": "#E1E5ED",
         "showgrid": true,
         "tickfont": {
          "color": "#4D5663"
         },
         "title": {
          "font": {
           "color": "#4D5663"
          },
          "text": ""
         },
         "zerolinecolor": "#E1E5ED"
        },
        "yaxis": {
         "gridcolor": "#E1E5ED",
         "showgrid": true,
         "tickfont": {
          "color": "#4D5663"
         },
         "title": {
          "font": {
           "color": "#4D5663"
          },
          "text": ""
         },
         "zerolinecolor": "#E1E5ED"
        }
       }
      },
      "text/html": [
       "<div>                            <div id=\"ec576dfb-f934-43cd-ab2f-87bd7cc1b0db\" class=\"plotly-graph-div\" style=\"height:525px; width:100%;\"></div>            <script type=\"text/javascript\">                require([\"plotly\"], function(Plotly) {                    window.PLOTLYENV=window.PLOTLYENV || {};\n",
       "                    window.PLOTLYENV.BASE_URL='https://plot.ly';                                    if (document.getElementById(\"ec576dfb-f934-43cd-ab2f-87bd7cc1b0db\")) {                    Plotly.newPlot(                        \"ec576dfb-f934-43cd-ab2f-87bd7cc1b0db\",                        [{\"boxpoints\":false,\"line\":{\"width\":1.3},\"marker\":{\"color\":\"rgba(255, 153, 51, 1.0)\"},\"name\":\"A\",\"orientation\":\"v\",\"type\":\"box\",\"y\":[-1.5698810706263946,-0.24670595182913876,0.9304875741808672,-0.5066248091859992,0.6849922041296616,1.8970178017465043,0.8077409636879337,-1.0010217400668584,1.3704184544113829,0.4285482444378609,-1.4904588136094539,-1.057101523542387,-0.027965777366933554,0.49225766147762384,1.7494548923444855,0.6281606764666283,0.4124195324549872,-1.214371296495128,-1.0341361517499075,1.226524093673132,-0.3702532214319981,-1.026602653888882,-2.3899848709024765,0.18617738129491324,1.4205391403152827,0.16620298379615436,0.929471725944909,-0.2948437483626567,-0.19238683310333554,0.3847510505627772,1.0876155888389627,-0.13114344678221457,-2.6313549063054644,-0.3071103070391007,0.02304046542887793,0.2729530132607438,-0.5975479856090492,-1.307335029097629,-0.47343875594268553,0.40462706875938037,-0.3750837496186107,-1.153600856704141,-0.3210114638708474,-2.2727107459326708,0.14301117636838187,-0.4665470914808554,0.826330087593931,-0.4180146691670233,1.054261233414269,-0.769436597202262,0.30626623858840024,-1.222590132635321,-2.30431979214976,0.666109200462043,-1.6728303362407113,0.1360130473809156,0.2494020778281667,-1.4992821492867194,-0.5116902731427975,1.525411005806135,-1.0830706078125625,-1.1839618316805465,-1.2495174128404651,-0.25963125105376794,-1.0391021603416049,1.1701721156729272,0.5622979488932329,-0.4771715870306209,1.768125398112826,0.7841311388100116,-0.6192657048486289,-1.6034238616624827,-1.8180894620316153,-0.3769070560431302,-0.41583997308357923,-0.6968963202170636,0.13930902297487113,-0.6588464417475745,0.16723455663614806,-0.5816300010843882,0.8479015012297172,-0.8378041078347768,0.590067897520868,-0.7406499043141112,2.0006310452298584,0.05244393802697705,-1.2673761100060725,-1.856178347559622,-0.8744830899459701,-1.254130315577289,-1.1896877070913607,-1.1228223429505455,1.5350484892720089,-0.7992697234238435,0.4575057067461036,0.7343373638940573,1.1758847224955535,0.047416055252521176,-0.15774964088717078,-1.0755946344964076]},{\"boxpoints\":false,\"line\":{\"width\":1.3},\"marker\":{\"color\":\"rgba(55, 128, 191, 1.0)\"},\"name\":\"B\",\"orientation\":\"v\",\"type\":\"box\",\"y\":[-1.3113999602332227,-0.5511892997361064,0.9564106365247286,-0.0756544666480186,-0.45951139552071874,-0.3443475067009876,0.5329020467359252,1.5965981779903844,-0.20924320022818726,1.0681126078401548,-0.45836557518658216,-1.4675364036403746,-0.6381239023755292,-0.04176861474034986,-0.44238044596072,-1.1019358315585372,-1.168885300883454,-1.0848304880389248,-0.8770366200242047,-0.8998816091576025,-0.257430903248447,-0.6354833792541387,-0.6693198479481702,-0.2559528260054829,1.0333323918355652,-0.05729430349437438,1.837781302884297,-0.46370353242448914,0.13857196530710683,-0.07449236233589691,0.8894995621514906,1.413508948643193,0.3150992901613012,-0.5601542001942031,-0.7421009574127645,0.9264598582933575,-1.1678766738320119,0.9199026350211115,1.3681026700375678,-1.1706032466392733,0.3058098352063741,1.0825115745711003,-0.7378682735739086,0.48708467631334085,-1.301103036688062,0.40206968519748654,-0.683857096879213,-1.8738912329733723,0.7171097033890735,0.03888805277076086,-1.1693617295332313,-1.500268149751419,1.344024211974228,-0.1555134136926965,-1.015500310369333,1.3380630990228026,1.0892709931382587,2.619925062300933,0.22134788766989708,-0.5265520734592678,-0.5930694400125788,2.0476451557714093,1.4136353954227314,-0.8583185862032842,0.909619416198989,-0.5818769144837174,-0.4288867922322983,-1.5589239266494332,-0.9503331341161685,-0.4871533471858235,0.37242352525385475,-0.12028847667674292,-0.5343988318276738,-0.29955801808268195,0.5750625586522502,-0.5439453452009341,-0.7457944468902554,0.21738104733639788,-0.8315775003113577,-0.16984480502465918,0.5637202019823333,-1.6541191753802165,0.7857574457781091,0.86207308970026,1.7636380440624961,0.5959513372063282,-1.18477284050119,0.5050905996685262,-0.7186843156620407,0.7277456402864244,-0.10883976841530896,-1.2800960574118065,0.9508036384404251,-1.2594942463628704,-0.43000599662706834,0.8518986087827631,2.1099835338576742,-1.1338620361510596,-0.1136365825121175,-0.31121735019710284]},{\"boxpoints\":false,\"line\":{\"width\":1.3},\"marker\":{\"color\":\"rgba(50, 171, 96, 1.0)\"},\"name\":\"C\",\"orientation\":\"v\",\"type\":\"box\",\"y\":[-1.0277963728535986,0.40989558310469754,1.5350833310466399,1.3466211188459762,-0.21367980255378222,1.2184655661005612,-0.6647654704441155,-0.29656148351361705,-0.06744189322680803,-1.3484300862502496,0.15333275929662857,-0.00467568605895884,-0.2234287586903079,0.3696942580553424,-0.41792444436395626,-0.1569977293394031,-0.5095993491606567,0.5745633524870278,-2.2398401018261382,0.3192320536826866,0.967901483115932,-0.9000300782616163,0.6067188264020787,0.7894484684607743,-0.3830919249875024,-0.7074251059165702,-0.19143053267822113,-0.1413670345240148,-1.69169055813557,-1.788890845039639,0.07415872083724469,1.0109338646896295,-1.3100173079714235,2.150113178962219,-1.7546385518249705,1.0009792275862728,-1.3585838232375798,-0.21359845961706492,-1.0813905362427447,1.0749224280672565,-0.18737033437610848,-1.7971427774277917,-1.047275195508696,1.7027055795242951,-0.6898197958463056,-0.7592564238997,-1.1235688499199932,1.3756404611182302,1.0878703036748185,-1.8299870025566054,-0.5799561064215722,0.45626182851647223,-1.2536998431038242,0.4257854020936454,1.5383060981235064,1.2394853172000297,0.15178919377392014,0.11073815820235751,0.9286710682278193,-0.3501847278893218,0.17397667124766542,-2.071540002418569,-1.0418663340023109,1.4920333413205007,-1.6068871602601513,1.1335329089549389,-2.836924965596087,-0.7026162138622402,0.33643398686605996,1.2759651685706939,0.542788998294374,1.3425499456449346,0.7621067184879887,1.43586364624196,1.4373060592357538,-0.2482253153282465,1.043067030646993,-0.36941445515650223,0.05914853991195712,-0.793042217815076,-1.0673095885301342,0.6799265133512832,-0.480819229332368,-0.2978631306610548,-1.0119249092306795,-0.8146444117100996,0.2801903327454848,-1.7641375948739253,1.8184834808705337,1.9645831622733163,0.5416108056019772,0.15602645917752933,-1.1834000280969932,-0.4207260809567789,-1.3327165332387945,0.47186598864130247,-0.7778869548074504,-0.5920684790184321,0.9101906882047125,0.3506728388666368]},{\"boxpoints\":false,\"line\":{\"width\":1.3},\"marker\":{\"color\":\"rgba(128, 0, 128, 1.0)\"},\"name\":\"D\",\"orientation\":\"v\",\"type\":\"box\",\"y\":[0.11916300730724995,-1.4592692105065774,1.8060787265728209,0.17503686989704614,0.4002454291850666,0.23442417470708268,0.5211046975249474,-0.13331146722298096,1.3413432082634766,0.9070099714622281,-2.3225068323745783,0.6253873437887567,3.0466517695337525,-0.025011387807534646,-0.8860579464022152,1.6765125166940615,-0.11688507057655162,2.0049154406765943,-1.7819306251585108,0.6250653565631049,-0.11927060224478235,1.3282812020097987,-0.43286371754802067,-0.7222402384231267,0.7178791083335256,1.5392952692396078,-0.344324965708766,0.13697617689928157,0.2657755877942632,-0.029288934925322592,0.41260051196259867,-0.22709844551062744,1.1618448532858292,0.8713936509936363,-0.5747425397960325,-0.7090434234352573,-1.4798393200272502,0.5993461404480717,-0.38894346952187886,-1.0224766008311459,0.8361269045230068,-0.4607977158558291,1.3277074186126048,-1.0145407490900704,0.6158886736937428,-0.8992843420412125,-0.6328992936225387,1.5522000275928174,1.416024771743824,0.6671488569132367,-0.9181512029359704,1.393091774531936,0.21083496487777947,-0.02364027596915868,0.8407388672370442,0.5934273987204705,0.8942461268039573,-0.5154282920383036,-0.8405199440371842,-0.529500492907707,0.23962397399718713,-0.15886143787690304,-2.722358198099253,0.3644950846587262,-0.18774141478002443,-1.3522265386480665,0.10854659998751222,-0.4536121680961895,-1.0680147908978759,1.2661333001982447,-1.3736912107361086,-1.2448775356293391,1.042802288713844,1.0851361086215612,-0.0901420510111028,-0.5762695845980996,-0.6311621396718728,-1.5522369447132873,-0.14015381932139637,0.9058169016568614,-1.1957279074720533,0.16939695104059013,1.3270627820032574,-0.6494277271569843,0.7626597171223247,-0.8784213191418017,1.5672003706559743,-0.9221939029516824,2.2888040124200995,0.37551063253596534,0.966739310650984,-1.2730325142011747,-0.4051704723522564,0.15662872419060897,-0.657969810606721,-0.7772228227370723,-0.61291068342699,0.44983091151087035,-1.7570401870403525,0.0564620110552343]}],                        {\"legend\":{\"bgcolor\":\"#F5F6F9\",\"font\":{\"color\":\"#4D5663\"}},\"paper_bgcolor\":\"#F5F6F9\",\"plot_bgcolor\":\"#F5F6F9\",\"template\":{\"data\":{\"bar\":[{\"error_x\":{\"color\":\"#2a3f5f\"},\"error_y\":{\"color\":\"#2a3f5f\"},\"marker\":{\"line\":{\"color\":\"#E5ECF6\",\"width\":0.5},\"pattern\":{\"fillmode\":\"overlay\",\"size\":10,\"solidity\":0.2}},\"type\":\"bar\"}],\"barpolar\":[{\"marker\":{\"line\":{\"color\":\"#E5ECF6\",\"width\":0.5},\"pattern\":{\"fillmode\":\"overlay\",\"size\":10,\"solidity\":0.2}},\"type\":\"barpolar\"}],\"carpet\":[{\"aaxis\":{\"endlinecolor\":\"#2a3f5f\",\"gridcolor\":\"white\",\"linecolor\":\"white\",\"minorgridcolor\":\"white\",\"startlinecolor\":\"#2a3f5f\"},\"baxis\":{\"endlinecolor\":\"#2a3f5f\",\"gridcolor\":\"white\",\"linecolor\":\"white\",\"minorgridcolor\":\"white\",\"startlinecolor\":\"#2a3f5f\"},\"type\":\"carpet\"}],\"choropleth\":[{\"colorbar\":{\"outlinewidth\":0,\"ticks\":\"\"},\"type\":\"choropleth\"}],\"contour\":[{\"colorbar\":{\"outlinewidth\":0,\"ticks\":\"\"},\"colorscale\":[[0.0,\"#0d0887\"],[0.1111111111111111,\"#46039f\"],[0.2222222222222222,\"#7201a8\"],[0.3333333333333333,\"#9c179e\"],[0.4444444444444444,\"#bd3786\"],[0.5555555555555556,\"#d8576b\"],[0.6666666666666666,\"#ed7953\"],[0.7777777777777778,\"#fb9f3a\"],[0.8888888888888888,\"#fdca26\"],[1.0,\"#f0f921\"]],\"type\":\"contour\"}],\"contourcarpet\":[{\"colorbar\":{\"outlinewidth\":0,\"ticks\":\"\"},\"type\":\"contourcarpet\"}],\"heatmap\":[{\"colorbar\":{\"outlinewidth\":0,\"ticks\":\"\"},\"colorscale\":[[0.0,\"#0d0887\"],[0.1111111111111111,\"#46039f\"],[0.2222222222222222,\"#7201a8\"],[0.3333333333333333,\"#9c179e\"],[0.4444444444444444,\"#bd3786\"],[0.5555555555555556,\"#d8576b\"],[0.6666666666666666,\"#ed7953\"],[0.7777777777777778,\"#fb9f3a\"],[0.8888888888888888,\"#fdca26\"],[1.0,\"#f0f921\"]],\"type\":\"heatmap\"}],\"heatmapgl\":[{\"colorbar\":{\"outlinewidth\":0,\"ticks\":\"\"},\"colorscale\":[[0.0,\"#0d0887\"],[0.1111111111111111,\"#46039f\"],[0.2222222222222222,\"#7201a8\"],[0.3333333333333333,\"#9c179e\"],[0.4444444444444444,\"#bd3786\"],[0.5555555555555556,\"#d8576b\"],[0.6666666666666666,\"#ed7953\"],[0.7777777777777778,\"#fb9f3a\"],[0.8888888888888888,\"#fdca26\"],[1.0,\"#f0f921\"]],\"type\":\"heatmapgl\"}],\"histogram\":[{\"marker\":{\"pattern\":{\"fillmode\":\"overlay\",\"size\":10,\"solidity\":0.2}},\"type\":\"histogram\"}],\"histogram2d\":[{\"colorbar\":{\"outlinewidth\":0,\"ticks\":\"\"},\"colorscale\":[[0.0,\"#0d0887\"],[0.1111111111111111,\"#46039f\"],[0.2222222222222222,\"#7201a8\"],[0.3333333333333333,\"#9c179e\"],[0.4444444444444444,\"#bd3786\"],[0.5555555555555556,\"#d8576b\"],[0.6666666666666666,\"#ed7953\"],[0.7777777777777778,\"#fb9f3a\"],[0.8888888888888888,\"#fdca26\"],[1.0,\"#f0f921\"]],\"type\":\"histogram2d\"}],\"histogram2dcontour\":[{\"colorbar\":{\"outlinewidth\":0,\"ticks\":\"\"},\"colorscale\":[[0.0,\"#0d0887\"],[0.1111111111111111,\"#46039f\"],[0.2222222222222222,\"#7201a8\"],[0.3333333333333333,\"#9c179e\"],[0.4444444444444444,\"#bd3786\"],[0.5555555555555556,\"#d8576b\"],[0.6666666666666666,\"#ed7953\"],[0.7777777777777778,\"#fb9f3a\"],[0.8888888888888888,\"#fdca26\"],[1.0,\"#f0f921\"]],\"type\":\"histogram2dcontour\"}],\"mesh3d\":[{\"colorbar\":{\"outlinewidth\":0,\"ticks\":\"\"},\"type\":\"mesh3d\"}],\"parcoords\":[{\"line\":{\"colorbar\":{\"outlinewidth\":0,\"ticks\":\"\"}},\"type\":\"parcoords\"}],\"pie\":[{\"automargin\":true,\"type\":\"pie\"}],\"scatter\":[{\"marker\":{\"colorbar\":{\"outlinewidth\":0,\"ticks\":\"\"}},\"type\":\"scatter\"}],\"scatter3d\":[{\"line\":{\"colorbar\":{\"outlinewidth\":0,\"ticks\":\"\"}},\"marker\":{\"colorbar\":{\"outlinewidth\":0,\"ticks\":\"\"}},\"type\":\"scatter3d\"}],\"scattercarpet\":[{\"marker\":{\"colorbar\":{\"outlinewidth\":0,\"ticks\":\"\"}},\"type\":\"scattercarpet\"}],\"scattergeo\":[{\"marker\":{\"colorbar\":{\"outlinewidth\":0,\"ticks\":\"\"}},\"type\":\"scattergeo\"}],\"scattergl\":[{\"marker\":{\"colorbar\":{\"outlinewidth\":0,\"ticks\":\"\"}},\"type\":\"scattergl\"}],\"scattermapbox\":[{\"marker\":{\"colorbar\":{\"outlinewidth\":0,\"ticks\":\"\"}},\"type\":\"scattermapbox\"}],\"scatterpolar\":[{\"marker\":{\"colorbar\":{\"outlinewidth\":0,\"ticks\":\"\"}},\"type\":\"scatterpolar\"}],\"scatterpolargl\":[{\"marker\":{\"colorbar\":{\"outlinewidth\":0,\"ticks\":\"\"}},\"type\":\"scatterpolargl\"}],\"scatterternary\":[{\"marker\":{\"colorbar\":{\"outlinewidth\":0,\"ticks\":\"\"}},\"type\":\"scatterternary\"}],\"surface\":[{\"colorbar\":{\"outlinewidth\":0,\"ticks\":\"\"},\"colorscale\":[[0.0,\"#0d0887\"],[0.1111111111111111,\"#46039f\"],[0.2222222222222222,\"#7201a8\"],[0.3333333333333333,\"#9c179e\"],[0.4444444444444444,\"#bd3786\"],[0.5555555555555556,\"#d8576b\"],[0.6666666666666666,\"#ed7953\"],[0.7777777777777778,\"#fb9f3a\"],[0.8888888888888888,\"#fdca26\"],[1.0,\"#f0f921\"]],\"type\":\"surface\"}],\"table\":[{\"cells\":{\"fill\":{\"color\":\"#EBF0F8\"},\"line\":{\"color\":\"white\"}},\"header\":{\"fill\":{\"color\":\"#C8D4E3\"},\"line\":{\"color\":\"white\"}},\"type\":\"table\"}]},\"layout\":{\"annotationdefaults\":{\"arrowcolor\":\"#2a3f5f\",\"arrowhead\":0,\"arrowwidth\":1},\"autotypenumbers\":\"strict\",\"coloraxis\":{\"colorbar\":{\"outlinewidth\":0,\"ticks\":\"\"}},\"colorscale\":{\"diverging\":[[0,\"#8e0152\"],[0.1,\"#c51b7d\"],[0.2,\"#de77ae\"],[0.3,\"#f1b6da\"],[0.4,\"#fde0ef\"],[0.5,\"#f7f7f7\"],[0.6,\"#e6f5d0\"],[0.7,\"#b8e186\"],[0.8,\"#7fbc41\"],[0.9,\"#4d9221\"],[1,\"#276419\"]],\"sequential\":[[0.0,\"#0d0887\"],[0.1111111111111111,\"#46039f\"],[0.2222222222222222,\"#7201a8\"],[0.3333333333333333,\"#9c179e\"],[0.4444444444444444,\"#bd3786\"],[0.5555555555555556,\"#d8576b\"],[0.6666666666666666,\"#ed7953\"],[0.7777777777777778,\"#fb9f3a\"],[0.8888888888888888,\"#fdca26\"],[1.0,\"#f0f921\"]],\"sequentialminus\":[[0.0,\"#0d0887\"],[0.1111111111111111,\"#46039f\"],[0.2222222222222222,\"#7201a8\"],[0.3333333333333333,\"#9c179e\"],[0.4444444444444444,\"#bd3786\"],[0.5555555555555556,\"#d8576b\"],[0.6666666666666666,\"#ed7953\"],[0.7777777777777778,\"#fb9f3a\"],[0.8888888888888888,\"#fdca26\"],[1.0,\"#f0f921\"]]},\"colorway\":[\"#636efa\",\"#EF553B\",\"#00cc96\",\"#ab63fa\",\"#FFA15A\",\"#19d3f3\",\"#FF6692\",\"#B6E880\",\"#FF97FF\",\"#FECB52\"],\"font\":{\"color\":\"#2a3f5f\"},\"geo\":{\"bgcolor\":\"white\",\"lakecolor\":\"white\",\"landcolor\":\"#E5ECF6\",\"showlakes\":true,\"showland\":true,\"subunitcolor\":\"white\"},\"hoverlabel\":{\"align\":\"left\"},\"hovermode\":\"closest\",\"mapbox\":{\"style\":\"light\"},\"paper_bgcolor\":\"white\",\"plot_bgcolor\":\"#E5ECF6\",\"polar\":{\"angularaxis\":{\"gridcolor\":\"white\",\"linecolor\":\"white\",\"ticks\":\"\"},\"bgcolor\":\"#E5ECF6\",\"radialaxis\":{\"gridcolor\":\"white\",\"linecolor\":\"white\",\"ticks\":\"\"}},\"scene\":{\"xaxis\":{\"backgroundcolor\":\"#E5ECF6\",\"gridcolor\":\"white\",\"gridwidth\":2,\"linecolor\":\"white\",\"showbackground\":true,\"ticks\":\"\",\"zerolinecolor\":\"white\"},\"yaxis\":{\"backgroundcolor\":\"#E5ECF6\",\"gridcolor\":\"white\",\"gridwidth\":2,\"linecolor\":\"white\",\"showbackground\":true,\"ticks\":\"\",\"zerolinecolor\":\"white\"},\"zaxis\":{\"backgroundcolor\":\"#E5ECF6\",\"gridcolor\":\"white\",\"gridwidth\":2,\"linecolor\":\"white\",\"showbackground\":true,\"ticks\":\"\",\"zerolinecolor\":\"white\"}},\"shapedefaults\":{\"line\":{\"color\":\"#2a3f5f\"}},\"ternary\":{\"aaxis\":{\"gridcolor\":\"white\",\"linecolor\":\"white\",\"ticks\":\"\"},\"baxis\":{\"gridcolor\":\"white\",\"linecolor\":\"white\",\"ticks\":\"\"},\"bgcolor\":\"#E5ECF6\",\"caxis\":{\"gridcolor\":\"white\",\"linecolor\":\"white\",\"ticks\":\"\"}},\"title\":{\"x\":0.05},\"xaxis\":{\"automargin\":true,\"gridcolor\":\"white\",\"linecolor\":\"white\",\"ticks\":\"\",\"title\":{\"standoff\":15},\"zerolinecolor\":\"white\",\"zerolinewidth\":2},\"yaxis\":{\"automargin\":true,\"gridcolor\":\"white\",\"linecolor\":\"white\",\"ticks\":\"\",\"title\":{\"standoff\":15},\"zerolinecolor\":\"white\",\"zerolinewidth\":2}}},\"title\":{\"font\":{\"color\":\"#4D5663\"}},\"xaxis\":{\"gridcolor\":\"#E1E5ED\",\"showgrid\":true,\"tickfont\":{\"color\":\"#4D5663\"},\"title\":{\"font\":{\"color\":\"#4D5663\"},\"text\":\"\"},\"zerolinecolor\":\"#E1E5ED\"},\"yaxis\":{\"gridcolor\":\"#E1E5ED\",\"showgrid\":true,\"tickfont\":{\"color\":\"#4D5663\"},\"title\":{\"font\":{\"color\":\"#4D5663\"},\"text\":\"\"},\"zerolinecolor\":\"#E1E5ED\"}},                        {\"showLink\": true, \"linkText\": \"Export to plot.ly\", \"plotlyServerURL\": \"https://plot.ly\", \"responsive\": true}                    ).then(function(){\n",
       "                            \n",
       "var gd = document.getElementById('ec576dfb-f934-43cd-ab2f-87bd7cc1b0db');\n",
       "var x = new MutationObserver(function (mutations, observer) {{\n",
       "        var display = window.getComputedStyle(gd).display;\n",
       "        if (!display || display === 'none') {{\n",
       "            console.log([gd, 'removed!']);\n",
       "            Plotly.purge(gd);\n",
       "            observer.disconnect();\n",
       "        }}\n",
       "}});\n",
       "\n",
       "// Listen for the removal of the full notebook cells\n",
       "var notebookContainer = gd.closest('#notebook-container');\n",
       "if (notebookContainer) {{\n",
       "    x.observe(notebookContainer, {childList: true});\n",
       "}}\n",
       "\n",
       "// Listen for the clearing of the current output cell\n",
       "var outputEl = gd.closest('.output');\n",
       "if (outputEl) {{\n",
       "    x.observe(outputEl, {childList: true});\n",
       "}}\n",
       "\n",
       "                        })                };                });            </script>        </div>"
      ]
     },
     "metadata": {},
     "output_type": "display_data"
    }
   ],
   "source": [
    "df.iplot(kind='box')"
   ]
  },
  {
   "cell_type": "markdown",
   "metadata": {},
   "source": [
    "## 3d Surface"
   ]
  },
  {
   "cell_type": "code",
   "execution_count": 14,
   "metadata": {
    "collapsed": false
   },
   "outputs": [
    {
     "data": {
      "application/vnd.plotly.v1+json": {
       "config": {
        "linkText": "Export to plot.ly",
        "plotlyServerURL": "https://plot.ly",
        "showLink": true
       },
       "data": [
        {
         "colorscale": [
          [
           0,
           "rgb(165,0,38)"
          ],
          [
           0.1,
           "rgb(215,48,39)"
          ],
          [
           0.2,
           "rgb(244,109,67)"
          ],
          [
           0.3,
           "rgb(253,174,97)"
          ],
          [
           0.4,
           "rgb(254,224,144)"
          ],
          [
           0.5,
           "rgb(255,255,191)"
          ],
          [
           0.6,
           "rgb(224,243,248)"
          ],
          [
           0.7,
           "rgb(171,217,233)"
          ],
          [
           0.8,
           "rgb(116,173,209)"
          ],
          [
           0.9,
           "rgb(69,117,180)"
          ],
          [
           1,
           "rgb(49,54,149)"
          ]
         ],
         "type": "surface",
         "x": [
          0,
          1,
          2,
          3,
          4
         ],
         "y": [
          "x",
          "y",
          "z"
         ],
         "z": [
          [
           1,
           2,
           3,
           4,
           5
          ],
          [
           10,
           20,
           30,
           20,
           10
          ],
          [
           5,
           4,
           3,
           2,
           1
          ]
         ]
        }
       ],
       "layout": {
        "legend": {
         "bgcolor": "#F5F6F9",
         "font": {
          "color": "#4D5663"
         }
        },
        "paper_bgcolor": "#F5F6F9",
        "plot_bgcolor": "#F5F6F9",
        "template": {
         "data": {
          "bar": [
           {
            "error_x": {
             "color": "#2a3f5f"
            },
            "error_y": {
             "color": "#2a3f5f"
            },
            "marker": {
             "line": {
              "color": "#E5ECF6",
              "width": 0.5
             },
             "pattern": {
              "fillmode": "overlay",
              "size": 10,
              "solidity": 0.2
             }
            },
            "type": "bar"
           }
          ],
          "barpolar": [
           {
            "marker": {
             "line": {
              "color": "#E5ECF6",
              "width": 0.5
             },
             "pattern": {
              "fillmode": "overlay",
              "size": 10,
              "solidity": 0.2
             }
            },
            "type": "barpolar"
           }
          ],
          "carpet": [
           {
            "aaxis": {
             "endlinecolor": "#2a3f5f",
             "gridcolor": "white",
             "linecolor": "white",
             "minorgridcolor": "white",
             "startlinecolor": "#2a3f5f"
            },
            "baxis": {
             "endlinecolor": "#2a3f5f",
             "gridcolor": "white",
             "linecolor": "white",
             "minorgridcolor": "white",
             "startlinecolor": "#2a3f5f"
            },
            "type": "carpet"
           }
          ],
          "choropleth": [
           {
            "colorbar": {
             "outlinewidth": 0,
             "ticks": ""
            },
            "type": "choropleth"
           }
          ],
          "contour": [
           {
            "colorbar": {
             "outlinewidth": 0,
             "ticks": ""
            },
            "colorscale": [
             [
              0,
              "#0d0887"
             ],
             [
              0.1111111111111111,
              "#46039f"
             ],
             [
              0.2222222222222222,
              "#7201a8"
             ],
             [
              0.3333333333333333,
              "#9c179e"
             ],
             [
              0.4444444444444444,
              "#bd3786"
             ],
             [
              0.5555555555555556,
              "#d8576b"
             ],
             [
              0.6666666666666666,
              "#ed7953"
             ],
             [
              0.7777777777777778,
              "#fb9f3a"
             ],
             [
              0.8888888888888888,
              "#fdca26"
             ],
             [
              1,
              "#f0f921"
             ]
            ],
            "type": "contour"
           }
          ],
          "contourcarpet": [
           {
            "colorbar": {
             "outlinewidth": 0,
             "ticks": ""
            },
            "type": "contourcarpet"
           }
          ],
          "heatmap": [
           {
            "colorbar": {
             "outlinewidth": 0,
             "ticks": ""
            },
            "colorscale": [
             [
              0,
              "#0d0887"
             ],
             [
              0.1111111111111111,
              "#46039f"
             ],
             [
              0.2222222222222222,
              "#7201a8"
             ],
             [
              0.3333333333333333,
              "#9c179e"
             ],
             [
              0.4444444444444444,
              "#bd3786"
             ],
             [
              0.5555555555555556,
              "#d8576b"
             ],
             [
              0.6666666666666666,
              "#ed7953"
             ],
             [
              0.7777777777777778,
              "#fb9f3a"
             ],
             [
              0.8888888888888888,
              "#fdca26"
             ],
             [
              1,
              "#f0f921"
             ]
            ],
            "type": "heatmap"
           }
          ],
          "heatmapgl": [
           {
            "colorbar": {
             "outlinewidth": 0,
             "ticks": ""
            },
            "colorscale": [
             [
              0,
              "#0d0887"
             ],
             [
              0.1111111111111111,
              "#46039f"
             ],
             [
              0.2222222222222222,
              "#7201a8"
             ],
             [
              0.3333333333333333,
              "#9c179e"
             ],
             [
              0.4444444444444444,
              "#bd3786"
             ],
             [
              0.5555555555555556,
              "#d8576b"
             ],
             [
              0.6666666666666666,
              "#ed7953"
             ],
             [
              0.7777777777777778,
              "#fb9f3a"
             ],
             [
              0.8888888888888888,
              "#fdca26"
             ],
             [
              1,
              "#f0f921"
             ]
            ],
            "type": "heatmapgl"
           }
          ],
          "histogram": [
           {
            "marker": {
             "pattern": {
              "fillmode": "overlay",
              "size": 10,
              "solidity": 0.2
             }
            },
            "type": "histogram"
           }
          ],
          "histogram2d": [
           {
            "colorbar": {
             "outlinewidth": 0,
             "ticks": ""
            },
            "colorscale": [
             [
              0,
              "#0d0887"
             ],
             [
              0.1111111111111111,
              "#46039f"
             ],
             [
              0.2222222222222222,
              "#7201a8"
             ],
             [
              0.3333333333333333,
              "#9c179e"
             ],
             [
              0.4444444444444444,
              "#bd3786"
             ],
             [
              0.5555555555555556,
              "#d8576b"
             ],
             [
              0.6666666666666666,
              "#ed7953"
             ],
             [
              0.7777777777777778,
              "#fb9f3a"
             ],
             [
              0.8888888888888888,
              "#fdca26"
             ],
             [
              1,
              "#f0f921"
             ]
            ],
            "type": "histogram2d"
           }
          ],
          "histogram2dcontour": [
           {
            "colorbar": {
             "outlinewidth": 0,
             "ticks": ""
            },
            "colorscale": [
             [
              0,
              "#0d0887"
             ],
             [
              0.1111111111111111,
              "#46039f"
             ],
             [
              0.2222222222222222,
              "#7201a8"
             ],
             [
              0.3333333333333333,
              "#9c179e"
             ],
             [
              0.4444444444444444,
              "#bd3786"
             ],
             [
              0.5555555555555556,
              "#d8576b"
             ],
             [
              0.6666666666666666,
              "#ed7953"
             ],
             [
              0.7777777777777778,
              "#fb9f3a"
             ],
             [
              0.8888888888888888,
              "#fdca26"
             ],
             [
              1,
              "#f0f921"
             ]
            ],
            "type": "histogram2dcontour"
           }
          ],
          "mesh3d": [
           {
            "colorbar": {
             "outlinewidth": 0,
             "ticks": ""
            },
            "type": "mesh3d"
           }
          ],
          "parcoords": [
           {
            "line": {
             "colorbar": {
              "outlinewidth": 0,
              "ticks": ""
             }
            },
            "type": "parcoords"
           }
          ],
          "pie": [
           {
            "automargin": true,
            "type": "pie"
           }
          ],
          "scatter": [
           {
            "marker": {
             "colorbar": {
              "outlinewidth": 0,
              "ticks": ""
             }
            },
            "type": "scatter"
           }
          ],
          "scatter3d": [
           {
            "line": {
             "colorbar": {
              "outlinewidth": 0,
              "ticks": ""
             }
            },
            "marker": {
             "colorbar": {
              "outlinewidth": 0,
              "ticks": ""
             }
            },
            "type": "scatter3d"
           }
          ],
          "scattercarpet": [
           {
            "marker": {
             "colorbar": {
              "outlinewidth": 0,
              "ticks": ""
             }
            },
            "type": "scattercarpet"
           }
          ],
          "scattergeo": [
           {
            "marker": {
             "colorbar": {
              "outlinewidth": 0,
              "ticks": ""
             }
            },
            "type": "scattergeo"
           }
          ],
          "scattergl": [
           {
            "marker": {
             "colorbar": {
              "outlinewidth": 0,
              "ticks": ""
             }
            },
            "type": "scattergl"
           }
          ],
          "scattermapbox": [
           {
            "marker": {
             "colorbar": {
              "outlinewidth": 0,
              "ticks": ""
             }
            },
            "type": "scattermapbox"
           }
          ],
          "scatterpolar": [
           {
            "marker": {
             "colorbar": {
              "outlinewidth": 0,
              "ticks": ""
             }
            },
            "type": "scatterpolar"
           }
          ],
          "scatterpolargl": [
           {
            "marker": {
             "colorbar": {
              "outlinewidth": 0,
              "ticks": ""
             }
            },
            "type": "scatterpolargl"
           }
          ],
          "scatterternary": [
           {
            "marker": {
             "colorbar": {
              "outlinewidth": 0,
              "ticks": ""
             }
            },
            "type": "scatterternary"
           }
          ],
          "surface": [
           {
            "colorbar": {
             "outlinewidth": 0,
             "ticks": ""
            },
            "colorscale": [
             [
              0,
              "#0d0887"
             ],
             [
              0.1111111111111111,
              "#46039f"
             ],
             [
              0.2222222222222222,
              "#7201a8"
             ],
             [
              0.3333333333333333,
              "#9c179e"
             ],
             [
              0.4444444444444444,
              "#bd3786"
             ],
             [
              0.5555555555555556,
              "#d8576b"
             ],
             [
              0.6666666666666666,
              "#ed7953"
             ],
             [
              0.7777777777777778,
              "#fb9f3a"
             ],
             [
              0.8888888888888888,
              "#fdca26"
             ],
             [
              1,
              "#f0f921"
             ]
            ],
            "type": "surface"
           }
          ],
          "table": [
           {
            "cells": {
             "fill": {
              "color": "#EBF0F8"
             },
             "line": {
              "color": "white"
             }
            },
            "header": {
             "fill": {
              "color": "#C8D4E3"
             },
             "line": {
              "color": "white"
             }
            },
            "type": "table"
           }
          ]
         },
         "layout": {
          "annotationdefaults": {
           "arrowcolor": "#2a3f5f",
           "arrowhead": 0,
           "arrowwidth": 1
          },
          "autotypenumbers": "strict",
          "coloraxis": {
           "colorbar": {
            "outlinewidth": 0,
            "ticks": ""
           }
          },
          "colorscale": {
           "diverging": [
            [
             0,
             "#8e0152"
            ],
            [
             0.1,
             "#c51b7d"
            ],
            [
             0.2,
             "#de77ae"
            ],
            [
             0.3,
             "#f1b6da"
            ],
            [
             0.4,
             "#fde0ef"
            ],
            [
             0.5,
             "#f7f7f7"
            ],
            [
             0.6,
             "#e6f5d0"
            ],
            [
             0.7,
             "#b8e186"
            ],
            [
             0.8,
             "#7fbc41"
            ],
            [
             0.9,
             "#4d9221"
            ],
            [
             1,
             "#276419"
            ]
           ],
           "sequential": [
            [
             0,
             "#0d0887"
            ],
            [
             0.1111111111111111,
             "#46039f"
            ],
            [
             0.2222222222222222,
             "#7201a8"
            ],
            [
             0.3333333333333333,
             "#9c179e"
            ],
            [
             0.4444444444444444,
             "#bd3786"
            ],
            [
             0.5555555555555556,
             "#d8576b"
            ],
            [
             0.6666666666666666,
             "#ed7953"
            ],
            [
             0.7777777777777778,
             "#fb9f3a"
            ],
            [
             0.8888888888888888,
             "#fdca26"
            ],
            [
             1,
             "#f0f921"
            ]
           ],
           "sequentialminus": [
            [
             0,
             "#0d0887"
            ],
            [
             0.1111111111111111,
             "#46039f"
            ],
            [
             0.2222222222222222,
             "#7201a8"
            ],
            [
             0.3333333333333333,
             "#9c179e"
            ],
            [
             0.4444444444444444,
             "#bd3786"
            ],
            [
             0.5555555555555556,
             "#d8576b"
            ],
            [
             0.6666666666666666,
             "#ed7953"
            ],
            [
             0.7777777777777778,
             "#fb9f3a"
            ],
            [
             0.8888888888888888,
             "#fdca26"
            ],
            [
             1,
             "#f0f921"
            ]
           ]
          },
          "colorway": [
           "#636efa",
           "#EF553B",
           "#00cc96",
           "#ab63fa",
           "#FFA15A",
           "#19d3f3",
           "#FF6692",
           "#B6E880",
           "#FF97FF",
           "#FECB52"
          ],
          "font": {
           "color": "#2a3f5f"
          },
          "geo": {
           "bgcolor": "white",
           "lakecolor": "white",
           "landcolor": "#E5ECF6",
           "showlakes": true,
           "showland": true,
           "subunitcolor": "white"
          },
          "hoverlabel": {
           "align": "left"
          },
          "hovermode": "closest",
          "mapbox": {
           "style": "light"
          },
          "paper_bgcolor": "white",
          "plot_bgcolor": "#E5ECF6",
          "polar": {
           "angularaxis": {
            "gridcolor": "white",
            "linecolor": "white",
            "ticks": ""
           },
           "bgcolor": "#E5ECF6",
           "radialaxis": {
            "gridcolor": "white",
            "linecolor": "white",
            "ticks": ""
           }
          },
          "scene": {
           "xaxis": {
            "backgroundcolor": "#E5ECF6",
            "gridcolor": "white",
            "gridwidth": 2,
            "linecolor": "white",
            "showbackground": true,
            "ticks": "",
            "zerolinecolor": "white"
           },
           "yaxis": {
            "backgroundcolor": "#E5ECF6",
            "gridcolor": "white",
            "gridwidth": 2,
            "linecolor": "white",
            "showbackground": true,
            "ticks": "",
            "zerolinecolor": "white"
           },
           "zaxis": {
            "backgroundcolor": "#E5ECF6",
            "gridcolor": "white",
            "gridwidth": 2,
            "linecolor": "white",
            "showbackground": true,
            "ticks": "",
            "zerolinecolor": "white"
           }
          },
          "shapedefaults": {
           "line": {
            "color": "#2a3f5f"
           }
          },
          "ternary": {
           "aaxis": {
            "gridcolor": "white",
            "linecolor": "white",
            "ticks": ""
           },
           "baxis": {
            "gridcolor": "white",
            "linecolor": "white",
            "ticks": ""
           },
           "bgcolor": "#E5ECF6",
           "caxis": {
            "gridcolor": "white",
            "linecolor": "white",
            "ticks": ""
           }
          },
          "title": {
           "x": 0.05
          },
          "xaxis": {
           "automargin": true,
           "gridcolor": "white",
           "linecolor": "white",
           "ticks": "",
           "title": {
            "standoff": 15
           },
           "zerolinecolor": "white",
           "zerolinewidth": 2
          },
          "yaxis": {
           "automargin": true,
           "gridcolor": "white",
           "linecolor": "white",
           "ticks": "",
           "title": {
            "standoff": 15
           },
           "zerolinecolor": "white",
           "zerolinewidth": 2
          }
         }
        },
        "title": {
         "font": {
          "color": "#4D5663"
         }
        },
        "xaxis": {
         "gridcolor": "#E1E5ED",
         "showgrid": true,
         "tickfont": {
          "color": "#4D5663"
         },
         "title": {
          "font": {
           "color": "#4D5663"
          },
          "text": ""
         },
         "zerolinecolor": "#E1E5ED"
        },
        "yaxis": {
         "gridcolor": "#E1E5ED",
         "showgrid": true,
         "tickfont": {
          "color": "#4D5663"
         },
         "title": {
          "font": {
           "color": "#4D5663"
          },
          "text": ""
         },
         "zerolinecolor": "#E1E5ED"
        }
       }
      },
      "text/html": [
       "<div>                            <div id=\"2aa5cbac-7809-40c6-a2b9-a54ee714c07b\" class=\"plotly-graph-div\" style=\"height:525px; width:100%;\"></div>            <script type=\"text/javascript\">                require([\"plotly\"], function(Plotly) {                    window.PLOTLYENV=window.PLOTLYENV || {};\n",
       "                    window.PLOTLYENV.BASE_URL='https://plot.ly';                                    if (document.getElementById(\"2aa5cbac-7809-40c6-a2b9-a54ee714c07b\")) {                    Plotly.newPlot(                        \"2aa5cbac-7809-40c6-a2b9-a54ee714c07b\",                        [{\"colorscale\":[[0.0,\"rgb(165,0,38)\"],[0.1,\"rgb(215,48,39)\"],[0.2,\"rgb(244,109,67)\"],[0.3,\"rgb(253,174,97)\"],[0.4,\"rgb(254,224,144)\"],[0.5,\"rgb(255,255,191)\"],[0.6,\"rgb(224,243,248)\"],[0.7,\"rgb(171,217,233)\"],[0.8,\"rgb(116,173,209)\"],[0.9,\"rgb(69,117,180)\"],[1.0,\"rgb(49,54,149)\"]],\"type\":\"surface\",\"x\":[0,1,2,3,4],\"y\":[\"x\",\"y\",\"z\"],\"z\":[[1,2,3,4,5],[10,20,30,20,10],[5,4,3,2,1]]}],                        {\"legend\":{\"bgcolor\":\"#F5F6F9\",\"font\":{\"color\":\"#4D5663\"}},\"paper_bgcolor\":\"#F5F6F9\",\"plot_bgcolor\":\"#F5F6F9\",\"template\":{\"data\":{\"bar\":[{\"error_x\":{\"color\":\"#2a3f5f\"},\"error_y\":{\"color\":\"#2a3f5f\"},\"marker\":{\"line\":{\"color\":\"#E5ECF6\",\"width\":0.5},\"pattern\":{\"fillmode\":\"overlay\",\"size\":10,\"solidity\":0.2}},\"type\":\"bar\"}],\"barpolar\":[{\"marker\":{\"line\":{\"color\":\"#E5ECF6\",\"width\":0.5},\"pattern\":{\"fillmode\":\"overlay\",\"size\":10,\"solidity\":0.2}},\"type\":\"barpolar\"}],\"carpet\":[{\"aaxis\":{\"endlinecolor\":\"#2a3f5f\",\"gridcolor\":\"white\",\"linecolor\":\"white\",\"minorgridcolor\":\"white\",\"startlinecolor\":\"#2a3f5f\"},\"baxis\":{\"endlinecolor\":\"#2a3f5f\",\"gridcolor\":\"white\",\"linecolor\":\"white\",\"minorgridcolor\":\"white\",\"startlinecolor\":\"#2a3f5f\"},\"type\":\"carpet\"}],\"choropleth\":[{\"colorbar\":{\"outlinewidth\":0,\"ticks\":\"\"},\"type\":\"choropleth\"}],\"contour\":[{\"colorbar\":{\"outlinewidth\":0,\"ticks\":\"\"},\"colorscale\":[[0.0,\"#0d0887\"],[0.1111111111111111,\"#46039f\"],[0.2222222222222222,\"#7201a8\"],[0.3333333333333333,\"#9c179e\"],[0.4444444444444444,\"#bd3786\"],[0.5555555555555556,\"#d8576b\"],[0.6666666666666666,\"#ed7953\"],[0.7777777777777778,\"#fb9f3a\"],[0.8888888888888888,\"#fdca26\"],[1.0,\"#f0f921\"]],\"type\":\"contour\"}],\"contourcarpet\":[{\"colorbar\":{\"outlinewidth\":0,\"ticks\":\"\"},\"type\":\"contourcarpet\"}],\"heatmap\":[{\"colorbar\":{\"outlinewidth\":0,\"ticks\":\"\"},\"colorscale\":[[0.0,\"#0d0887\"],[0.1111111111111111,\"#46039f\"],[0.2222222222222222,\"#7201a8\"],[0.3333333333333333,\"#9c179e\"],[0.4444444444444444,\"#bd3786\"],[0.5555555555555556,\"#d8576b\"],[0.6666666666666666,\"#ed7953\"],[0.7777777777777778,\"#fb9f3a\"],[0.8888888888888888,\"#fdca26\"],[1.0,\"#f0f921\"]],\"type\":\"heatmap\"}],\"heatmapgl\":[{\"colorbar\":{\"outlinewidth\":0,\"ticks\":\"\"},\"colorscale\":[[0.0,\"#0d0887\"],[0.1111111111111111,\"#46039f\"],[0.2222222222222222,\"#7201a8\"],[0.3333333333333333,\"#9c179e\"],[0.4444444444444444,\"#bd3786\"],[0.5555555555555556,\"#d8576b\"],[0.6666666666666666,\"#ed7953\"],[0.7777777777777778,\"#fb9f3a\"],[0.8888888888888888,\"#fdca26\"],[1.0,\"#f0f921\"]],\"type\":\"heatmapgl\"}],\"histogram\":[{\"marker\":{\"pattern\":{\"fillmode\":\"overlay\",\"size\":10,\"solidity\":0.2}},\"type\":\"histogram\"}],\"histogram2d\":[{\"colorbar\":{\"outlinewidth\":0,\"ticks\":\"\"},\"colorscale\":[[0.0,\"#0d0887\"],[0.1111111111111111,\"#46039f\"],[0.2222222222222222,\"#7201a8\"],[0.3333333333333333,\"#9c179e\"],[0.4444444444444444,\"#bd3786\"],[0.5555555555555556,\"#d8576b\"],[0.6666666666666666,\"#ed7953\"],[0.7777777777777778,\"#fb9f3a\"],[0.8888888888888888,\"#fdca26\"],[1.0,\"#f0f921\"]],\"type\":\"histogram2d\"}],\"histogram2dcontour\":[{\"colorbar\":{\"outlinewidth\":0,\"ticks\":\"\"},\"colorscale\":[[0.0,\"#0d0887\"],[0.1111111111111111,\"#46039f\"],[0.2222222222222222,\"#7201a8\"],[0.3333333333333333,\"#9c179e\"],[0.4444444444444444,\"#bd3786\"],[0.5555555555555556,\"#d8576b\"],[0.6666666666666666,\"#ed7953\"],[0.7777777777777778,\"#fb9f3a\"],[0.8888888888888888,\"#fdca26\"],[1.0,\"#f0f921\"]],\"type\":\"histogram2dcontour\"}],\"mesh3d\":[{\"colorbar\":{\"outlinewidth\":0,\"ticks\":\"\"},\"type\":\"mesh3d\"}],\"parcoords\":[{\"line\":{\"colorbar\":{\"outlinewidth\":0,\"ticks\":\"\"}},\"type\":\"parcoords\"}],\"pie\":[{\"automargin\":true,\"type\":\"pie\"}],\"scatter\":[{\"marker\":{\"colorbar\":{\"outlinewidth\":0,\"ticks\":\"\"}},\"type\":\"scatter\"}],\"scatter3d\":[{\"line\":{\"colorbar\":{\"outlinewidth\":0,\"ticks\":\"\"}},\"marker\":{\"colorbar\":{\"outlinewidth\":0,\"ticks\":\"\"}},\"type\":\"scatter3d\"}],\"scattercarpet\":[{\"marker\":{\"colorbar\":{\"outlinewidth\":0,\"ticks\":\"\"}},\"type\":\"scattercarpet\"}],\"scattergeo\":[{\"marker\":{\"colorbar\":{\"outlinewidth\":0,\"ticks\":\"\"}},\"type\":\"scattergeo\"}],\"scattergl\":[{\"marker\":{\"colorbar\":{\"outlinewidth\":0,\"ticks\":\"\"}},\"type\":\"scattergl\"}],\"scattermapbox\":[{\"marker\":{\"colorbar\":{\"outlinewidth\":0,\"ticks\":\"\"}},\"type\":\"scattermapbox\"}],\"scatterpolar\":[{\"marker\":{\"colorbar\":{\"outlinewidth\":0,\"ticks\":\"\"}},\"type\":\"scatterpolar\"}],\"scatterpolargl\":[{\"marker\":{\"colorbar\":{\"outlinewidth\":0,\"ticks\":\"\"}},\"type\":\"scatterpolargl\"}],\"scatterternary\":[{\"marker\":{\"colorbar\":{\"outlinewidth\":0,\"ticks\":\"\"}},\"type\":\"scatterternary\"}],\"surface\":[{\"colorbar\":{\"outlinewidth\":0,\"ticks\":\"\"},\"colorscale\":[[0.0,\"#0d0887\"],[0.1111111111111111,\"#46039f\"],[0.2222222222222222,\"#7201a8\"],[0.3333333333333333,\"#9c179e\"],[0.4444444444444444,\"#bd3786\"],[0.5555555555555556,\"#d8576b\"],[0.6666666666666666,\"#ed7953\"],[0.7777777777777778,\"#fb9f3a\"],[0.8888888888888888,\"#fdca26\"],[1.0,\"#f0f921\"]],\"type\":\"surface\"}],\"table\":[{\"cells\":{\"fill\":{\"color\":\"#EBF0F8\"},\"line\":{\"color\":\"white\"}},\"header\":{\"fill\":{\"color\":\"#C8D4E3\"},\"line\":{\"color\":\"white\"}},\"type\":\"table\"}]},\"layout\":{\"annotationdefaults\":{\"arrowcolor\":\"#2a3f5f\",\"arrowhead\":0,\"arrowwidth\":1},\"autotypenumbers\":\"strict\",\"coloraxis\":{\"colorbar\":{\"outlinewidth\":0,\"ticks\":\"\"}},\"colorscale\":{\"diverging\":[[0,\"#8e0152\"],[0.1,\"#c51b7d\"],[0.2,\"#de77ae\"],[0.3,\"#f1b6da\"],[0.4,\"#fde0ef\"],[0.5,\"#f7f7f7\"],[0.6,\"#e6f5d0\"],[0.7,\"#b8e186\"],[0.8,\"#7fbc41\"],[0.9,\"#4d9221\"],[1,\"#276419\"]],\"sequential\":[[0.0,\"#0d0887\"],[0.1111111111111111,\"#46039f\"],[0.2222222222222222,\"#7201a8\"],[0.3333333333333333,\"#9c179e\"],[0.4444444444444444,\"#bd3786\"],[0.5555555555555556,\"#d8576b\"],[0.6666666666666666,\"#ed7953\"],[0.7777777777777778,\"#fb9f3a\"],[0.8888888888888888,\"#fdca26\"],[1.0,\"#f0f921\"]],\"sequentialminus\":[[0.0,\"#0d0887\"],[0.1111111111111111,\"#46039f\"],[0.2222222222222222,\"#7201a8\"],[0.3333333333333333,\"#9c179e\"],[0.4444444444444444,\"#bd3786\"],[0.5555555555555556,\"#d8576b\"],[0.6666666666666666,\"#ed7953\"],[0.7777777777777778,\"#fb9f3a\"],[0.8888888888888888,\"#fdca26\"],[1.0,\"#f0f921\"]]},\"colorway\":[\"#636efa\",\"#EF553B\",\"#00cc96\",\"#ab63fa\",\"#FFA15A\",\"#19d3f3\",\"#FF6692\",\"#B6E880\",\"#FF97FF\",\"#FECB52\"],\"font\":{\"color\":\"#2a3f5f\"},\"geo\":{\"bgcolor\":\"white\",\"lakecolor\":\"white\",\"landcolor\":\"#E5ECF6\",\"showlakes\":true,\"showland\":true,\"subunitcolor\":\"white\"},\"hoverlabel\":{\"align\":\"left\"},\"hovermode\":\"closest\",\"mapbox\":{\"style\":\"light\"},\"paper_bgcolor\":\"white\",\"plot_bgcolor\":\"#E5ECF6\",\"polar\":{\"angularaxis\":{\"gridcolor\":\"white\",\"linecolor\":\"white\",\"ticks\":\"\"},\"bgcolor\":\"#E5ECF6\",\"radialaxis\":{\"gridcolor\":\"white\",\"linecolor\":\"white\",\"ticks\":\"\"}},\"scene\":{\"xaxis\":{\"backgroundcolor\":\"#E5ECF6\",\"gridcolor\":\"white\",\"gridwidth\":2,\"linecolor\":\"white\",\"showbackground\":true,\"ticks\":\"\",\"zerolinecolor\":\"white\"},\"yaxis\":{\"backgroundcolor\":\"#E5ECF6\",\"gridcolor\":\"white\",\"gridwidth\":2,\"linecolor\":\"white\",\"showbackground\":true,\"ticks\":\"\",\"zerolinecolor\":\"white\"},\"zaxis\":{\"backgroundcolor\":\"#E5ECF6\",\"gridcolor\":\"white\",\"gridwidth\":2,\"linecolor\":\"white\",\"showbackground\":true,\"ticks\":\"\",\"zerolinecolor\":\"white\"}},\"shapedefaults\":{\"line\":{\"color\":\"#2a3f5f\"}},\"ternary\":{\"aaxis\":{\"gridcolor\":\"white\",\"linecolor\":\"white\",\"ticks\":\"\"},\"baxis\":{\"gridcolor\":\"white\",\"linecolor\":\"white\",\"ticks\":\"\"},\"bgcolor\":\"#E5ECF6\",\"caxis\":{\"gridcolor\":\"white\",\"linecolor\":\"white\",\"ticks\":\"\"}},\"title\":{\"x\":0.05},\"xaxis\":{\"automargin\":true,\"gridcolor\":\"white\",\"linecolor\":\"white\",\"ticks\":\"\",\"title\":{\"standoff\":15},\"zerolinecolor\":\"white\",\"zerolinewidth\":2},\"yaxis\":{\"automargin\":true,\"gridcolor\":\"white\",\"linecolor\":\"white\",\"ticks\":\"\",\"title\":{\"standoff\":15},\"zerolinecolor\":\"white\",\"zerolinewidth\":2}}},\"title\":{\"font\":{\"color\":\"#4D5663\"}},\"xaxis\":{\"gridcolor\":\"#E1E5ED\",\"showgrid\":true,\"tickfont\":{\"color\":\"#4D5663\"},\"title\":{\"font\":{\"color\":\"#4D5663\"},\"text\":\"\"},\"zerolinecolor\":\"#E1E5ED\"},\"yaxis\":{\"gridcolor\":\"#E1E5ED\",\"showgrid\":true,\"tickfont\":{\"color\":\"#4D5663\"},\"title\":{\"font\":{\"color\":\"#4D5663\"},\"text\":\"\"},\"zerolinecolor\":\"#E1E5ED\"}},                        {\"showLink\": true, \"linkText\": \"Export to plot.ly\", \"plotlyServerURL\": \"https://plot.ly\", \"responsive\": true}                    ).then(function(){\n",
       "                            \n",
       "var gd = document.getElementById('2aa5cbac-7809-40c6-a2b9-a54ee714c07b');\n",
       "var x = new MutationObserver(function (mutations, observer) {{\n",
       "        var display = window.getComputedStyle(gd).display;\n",
       "        if (!display || display === 'none') {{\n",
       "            console.log([gd, 'removed!']);\n",
       "            Plotly.purge(gd);\n",
       "            observer.disconnect();\n",
       "        }}\n",
       "}});\n",
       "\n",
       "// Listen for the removal of the full notebook cells\n",
       "var notebookContainer = gd.closest('#notebook-container');\n",
       "if (notebookContainer) {{\n",
       "    x.observe(notebookContainer, {childList: true});\n",
       "}}\n",
       "\n",
       "// Listen for the clearing of the current output cell\n",
       "var outputEl = gd.closest('.output');\n",
       "if (outputEl) {{\n",
       "    x.observe(outputEl, {childList: true});\n",
       "}}\n",
       "\n",
       "                        })                };                });            </script>        </div>"
      ]
     },
     "metadata": {},
     "output_type": "display_data"
    }
   ],
   "source": [
    "df3 = pd.DataFrame({'x':[1,2,3,4,5],'y':[10,20,30,20,10],'z':[5,4,3,2,1]})\n",
    "df3.iplot(kind='surface',colorscale='rdylbu')"
   ]
  },
  {
   "cell_type": "markdown",
   "metadata": {},
   "source": [
    "## Spread"
   ]
  },
  {
   "cell_type": "code",
   "execution_count": 15,
   "metadata": {
    "collapsed": false
   },
   "outputs": [
    {
     "name": "stderr",
     "output_type": "stream",
     "text": [
      "C:\\Users\\Admin\\anaconda3\\lib\\site-packages\\cufflinks\\plotlytools.py:849: FutureWarning:\n",
      "\n",
      "The pandas.np module is deprecated and will be removed from pandas in a future version. Import numpy directly instead\n",
      "\n",
      "C:\\Users\\Admin\\anaconda3\\lib\\site-packages\\cufflinks\\plotlytools.py:850: FutureWarning:\n",
      "\n",
      "The pandas.np module is deprecated and will be removed from pandas in a future version. Import numpy directly instead\n",
      "\n"
     ]
    },
    {
     "data": {
      "application/vnd.plotly.v1+json": {
       "config": {
        "linkText": "Export to plot.ly",
        "plotlyServerURL": "https://plot.ly",
        "showLink": true
       },
       "data": [
        {
         "line": {
          "color": "rgba(255, 153, 51, 1.0)",
          "dash": "solid",
          "shape": "linear",
          "width": 1.3
         },
         "mode": "lines",
         "name": "A",
         "text": "",
         "type": "scatter",
         "x": [
          0,
          1,
          2,
          3,
          4,
          5,
          6,
          7,
          8,
          9,
          10,
          11,
          12,
          13,
          14,
          15,
          16,
          17,
          18,
          19,
          20,
          21,
          22,
          23,
          24,
          25,
          26,
          27,
          28,
          29,
          30,
          31,
          32,
          33,
          34,
          35,
          36,
          37,
          38,
          39,
          40,
          41,
          42,
          43,
          44,
          45,
          46,
          47,
          48,
          49,
          50,
          51,
          52,
          53,
          54,
          55,
          56,
          57,
          58,
          59,
          60,
          61,
          62,
          63,
          64,
          65,
          66,
          67,
          68,
          69,
          70,
          71,
          72,
          73,
          74,
          75,
          76,
          77,
          78,
          79,
          80,
          81,
          82,
          83,
          84,
          85,
          86,
          87,
          88,
          89,
          90,
          91,
          92,
          93,
          94,
          95,
          96,
          97,
          98,
          99
         ],
         "y": [
          -1.5698810706263946,
          -0.24670595182913876,
          0.9304875741808672,
          -0.5066248091859992,
          0.6849922041296616,
          1.8970178017465043,
          0.8077409636879337,
          -1.0010217400668584,
          1.3704184544113829,
          0.4285482444378609,
          -1.4904588136094539,
          -1.057101523542387,
          -0.027965777366933554,
          0.49225766147762384,
          1.7494548923444855,
          0.6281606764666283,
          0.4124195324549872,
          -1.214371296495128,
          -1.0341361517499075,
          1.226524093673132,
          -0.3702532214319981,
          -1.026602653888882,
          -2.3899848709024765,
          0.18617738129491324,
          1.4205391403152827,
          0.16620298379615436,
          0.929471725944909,
          -0.2948437483626567,
          -0.19238683310333554,
          0.3847510505627772,
          1.0876155888389627,
          -0.13114344678221457,
          -2.6313549063054644,
          -0.3071103070391007,
          0.02304046542887793,
          0.2729530132607438,
          -0.5975479856090492,
          -1.307335029097629,
          -0.47343875594268553,
          0.40462706875938037,
          -0.3750837496186107,
          -1.153600856704141,
          -0.3210114638708474,
          -2.2727107459326708,
          0.14301117636838187,
          -0.4665470914808554,
          0.826330087593931,
          -0.4180146691670233,
          1.054261233414269,
          -0.769436597202262,
          0.30626623858840024,
          -1.222590132635321,
          -2.30431979214976,
          0.666109200462043,
          -1.6728303362407113,
          0.1360130473809156,
          0.2494020778281667,
          -1.4992821492867194,
          -0.5116902731427975,
          1.525411005806135,
          -1.0830706078125625,
          -1.1839618316805465,
          -1.2495174128404651,
          -0.25963125105376794,
          -1.0391021603416049,
          1.1701721156729272,
          0.5622979488932329,
          -0.4771715870306209,
          1.768125398112826,
          0.7841311388100116,
          -0.6192657048486289,
          -1.6034238616624827,
          -1.8180894620316153,
          -0.3769070560431302,
          -0.41583997308357923,
          -0.6968963202170636,
          0.13930902297487113,
          -0.6588464417475745,
          0.16723455663614806,
          -0.5816300010843882,
          0.8479015012297172,
          -0.8378041078347768,
          0.590067897520868,
          -0.7406499043141112,
          2.0006310452298584,
          0.05244393802697705,
          -1.2673761100060725,
          -1.856178347559622,
          -0.8744830899459701,
          -1.254130315577289,
          -1.1896877070913607,
          -1.1228223429505455,
          1.5350484892720089,
          -0.7992697234238435,
          0.4575057067461036,
          0.7343373638940573,
          1.1758847224955535,
          0.047416055252521176,
          -0.15774964088717078,
          -1.0755946344964076
         ]
        },
        {
         "line": {
          "color": "rgba(55, 128, 191, 1.0)",
          "dash": "solid",
          "shape": "linear",
          "width": 1.3
         },
         "mode": "lines",
         "name": "B",
         "text": "",
         "type": "scatter",
         "x": [
          0,
          1,
          2,
          3,
          4,
          5,
          6,
          7,
          8,
          9,
          10,
          11,
          12,
          13,
          14,
          15,
          16,
          17,
          18,
          19,
          20,
          21,
          22,
          23,
          24,
          25,
          26,
          27,
          28,
          29,
          30,
          31,
          32,
          33,
          34,
          35,
          36,
          37,
          38,
          39,
          40,
          41,
          42,
          43,
          44,
          45,
          46,
          47,
          48,
          49,
          50,
          51,
          52,
          53,
          54,
          55,
          56,
          57,
          58,
          59,
          60,
          61,
          62,
          63,
          64,
          65,
          66,
          67,
          68,
          69,
          70,
          71,
          72,
          73,
          74,
          75,
          76,
          77,
          78,
          79,
          80,
          81,
          82,
          83,
          84,
          85,
          86,
          87,
          88,
          89,
          90,
          91,
          92,
          93,
          94,
          95,
          96,
          97,
          98,
          99
         ],
         "y": [
          -1.3113999602332227,
          -0.5511892997361064,
          0.9564106365247286,
          -0.0756544666480186,
          -0.45951139552071874,
          -0.3443475067009876,
          0.5329020467359252,
          1.5965981779903844,
          -0.20924320022818726,
          1.0681126078401548,
          -0.45836557518658216,
          -1.4675364036403746,
          -0.6381239023755292,
          -0.04176861474034986,
          -0.44238044596072,
          -1.1019358315585372,
          -1.168885300883454,
          -1.0848304880389248,
          -0.8770366200242047,
          -0.8998816091576025,
          -0.257430903248447,
          -0.6354833792541387,
          -0.6693198479481702,
          -0.2559528260054829,
          1.0333323918355652,
          -0.05729430349437438,
          1.837781302884297,
          -0.46370353242448914,
          0.13857196530710683,
          -0.07449236233589691,
          0.8894995621514906,
          1.413508948643193,
          0.3150992901613012,
          -0.5601542001942031,
          -0.7421009574127645,
          0.9264598582933575,
          -1.1678766738320119,
          0.9199026350211115,
          1.3681026700375678,
          -1.1706032466392733,
          0.3058098352063741,
          1.0825115745711003,
          -0.7378682735739086,
          0.48708467631334085,
          -1.301103036688062,
          0.40206968519748654,
          -0.683857096879213,
          -1.8738912329733723,
          0.7171097033890735,
          0.03888805277076086,
          -1.1693617295332313,
          -1.500268149751419,
          1.344024211974228,
          -0.1555134136926965,
          -1.015500310369333,
          1.3380630990228026,
          1.0892709931382587,
          2.619925062300933,
          0.22134788766989708,
          -0.5265520734592678,
          -0.5930694400125788,
          2.0476451557714093,
          1.4136353954227314,
          -0.8583185862032842,
          0.909619416198989,
          -0.5818769144837174,
          -0.4288867922322983,
          -1.5589239266494332,
          -0.9503331341161685,
          -0.4871533471858235,
          0.37242352525385475,
          -0.12028847667674292,
          -0.5343988318276738,
          -0.29955801808268195,
          0.5750625586522502,
          -0.5439453452009341,
          -0.7457944468902554,
          0.21738104733639788,
          -0.8315775003113577,
          -0.16984480502465918,
          0.5637202019823333,
          -1.6541191753802165,
          0.7857574457781091,
          0.86207308970026,
          1.7636380440624961,
          0.5959513372063282,
          -1.18477284050119,
          0.5050905996685262,
          -0.7186843156620407,
          0.7277456402864244,
          -0.10883976841530896,
          -1.2800960574118065,
          0.9508036384404251,
          -1.2594942463628704,
          -0.43000599662706834,
          0.8518986087827631,
          2.1099835338576742,
          -1.1338620361510596,
          -0.1136365825121175,
          -0.31121735019710284
         ]
        },
        {
         "connectgaps": false,
         "fill": "tozeroy",
         "line": {
          "color": "green",
          "dash": "solid",
          "shape": "linear",
          "width": 0.5
         },
         "mode": "lines",
         "name": "Spread",
         "showlegend": false,
         "type": "scatter",
         "x": [
          0,
          1,
          2,
          3,
          4,
          5,
          6,
          7,
          8,
          9,
          10,
          11,
          12,
          13,
          14,
          15,
          16,
          17,
          18,
          19,
          20,
          21,
          22,
          23,
          24,
          25,
          26,
          27,
          28,
          29,
          30,
          31,
          32,
          33,
          34,
          35,
          36,
          37,
          38,
          39,
          40,
          41,
          42,
          43,
          44,
          45,
          46,
          47,
          48,
          49,
          50,
          51,
          52,
          53,
          54,
          55,
          56,
          57,
          58,
          59,
          60,
          61,
          62,
          63,
          64,
          65,
          66,
          67,
          68,
          69,
          70,
          71,
          72,
          73,
          74,
          75,
          76,
          77,
          78,
          79,
          80,
          81,
          82,
          83,
          84,
          85,
          86,
          87,
          88,
          89,
          90,
          91,
          92,
          93,
          94,
          95,
          96,
          97,
          98,
          99
         ],
         "xaxis": "x2",
         "y": [
          "",
          0.3044833479069676,
          "",
          "",
          1.1445035996503803,
          2.241365308447492,
          0.27483891695200846,
          "",
          1.57966165463957,
          "",
          "",
          0.41043488009798756,
          0.6101581250085957,
          0.5340262762179737,
          2.1918353383052054,
          1.7300965080251656,
          1.5813048333384412,
          "",
          "",
          2.1264057028307346,
          "",
          "",
          "",
          0.44213020730039615,
          0.3872067484797175,
          0.22349728729052876,
          "",
          0.16885978406183244,
          "",
          0.4592434128986741,
          0.19811602668747208,
          "",
          "",
          0.25304389315510245,
          0.7651414228416424,
          "",
          0.5703286882229627,
          "",
          "",
          1.5752303153986538,
          "",
          "",
          0.4168568097030612,
          "",
          1.444114213056444,
          "",
          1.510187184473144,
          1.455876563806349,
          0.3371515300251954,
          "",
          1.4756279681216316,
          0.27767801711609796,
          "",
          0.8216226141547396,
          "",
          "",
          "",
          "",
          "",
          2.051963079265403,
          "",
          "",
          "",
          0.5986873351495162,
          "",
          1.7520490301566447,
          0.9911847411255312,
          1.0817523396188125,
          2.7184585322289943,
          1.2712844859958352,
          "",
          "",
          "",
          "",
          "",
          "",
          0.8851034698651266,
          "",
          0.9988120569475057,
          "",
          0.2841812992473839,
          0.8163150675454397,
          "",
          "",
          0.23699300116736222,
          "",
          "",
          "",
          "",
          "",
          "",
          0.15727371446126104,
          0.5842448508315837,
          0.46022452293902694,
          0.8875117033731719,
          "",
          "",
          1.1812780914035808,
          "",
          ""
         ],
         "yaxis": "y2"
        },
        {
         "connectgaps": false,
         "fill": "tozeroy",
         "line": {
          "color": "red",
          "dash": "solid",
          "shape": "linear",
          "width": 0.5
         },
         "mode": "lines",
         "name": "Spread",
         "showlegend": false,
         "type": "scatter",
         "x": [
          0,
          1,
          2,
          3,
          4,
          5,
          6,
          7,
          8,
          9,
          10,
          11,
          12,
          13,
          14,
          15,
          16,
          17,
          18,
          19,
          20,
          21,
          22,
          23,
          24,
          25,
          26,
          27,
          28,
          29,
          30,
          31,
          32,
          33,
          34,
          35,
          36,
          37,
          38,
          39,
          40,
          41,
          42,
          43,
          44,
          45,
          46,
          47,
          48,
          49,
          50,
          51,
          52,
          53,
          54,
          55,
          56,
          57,
          58,
          59,
          60,
          61,
          62,
          63,
          64,
          65,
          66,
          67,
          68,
          69,
          70,
          71,
          72,
          73,
          74,
          75,
          76,
          77,
          78,
          79,
          80,
          81,
          82,
          83,
          84,
          85,
          86,
          87,
          88,
          89,
          90,
          91,
          92,
          93,
          94,
          95,
          96,
          97,
          98,
          99
         ],
         "xaxis": "x2",
         "y": [
          -0.2584811103931719,
          "",
          -0.025923062343861325,
          -0.43097034253798056,
          "",
          "",
          "",
          -2.5976199180572426,
          "",
          -0.639564363402294,
          -1.0320932384228718,
          "",
          "",
          "",
          "",
          "",
          "",
          -0.1295408084562033,
          -0.1570995317257028,
          "",
          -0.11282231818355115,
          -0.3911192746347433,
          -1.7206650229543063,
          "",
          "",
          "",
          -0.9083095769393881,
          "",
          -0.3309587984104424,
          "",
          "",
          -1.5446523954254077,
          -2.9464541964667657,
          "",
          "",
          -0.6535068450326138,
          "",
          -2.2272376641187406,
          -1.8415414259802534,
          "",
          -0.6808935848249849,
          -2.236112431275241,
          "",
          -2.7597954222460115,
          "",
          -0.8686167766783419,
          "",
          "",
          "",
          -0.8083246499730229,
          "",
          "",
          -3.648344004123988,
          "",
          -0.6573300258713783,
          -1.202050051641887,
          -0.839868915310092,
          -4.119207211587653,
          -0.7330381608126946,
          "",
          -0.4900011677999837,
          -3.231606987451956,
          -2.6631528082631966,
          "",
          -1.9487215765405939,
          "",
          "",
          "",
          "",
          "",
          -0.9916892301024836,
          -1.4831353849857398,
          -1.2836906302039415,
          -0.07734903796044823,
          -0.9909025317358294,
          -0.15295097501612953,
          "",
          -0.8762274890839723,
          "",
          -0.4117851960597291,
          "",
          "",
          -0.19568954825724116,
          -1.6027229940143712,
          "",
          -0.5435073991793512,
          -0.08260326950488261,
          -2.3612689472281483,
          -0.1557987742839294,
          -1.9818759558637133,
          -1.080847938676052,
          "",
          "",
          "",
          "",
          -0.11756124488870578,
          -0.9340988113621207,
          "",
          -0.04411305837505328,
          -0.7643772842993047
         ],
         "yaxis": "y2"
        }
       ],
       "layout": {
        "hovermode": "x",
        "legend": {
         "bgcolor": "#F5F6F9",
         "font": {
          "color": "#4D5663"
         }
        },
        "paper_bgcolor": "#F5F6F9",
        "plot_bgcolor": "#F5F6F9",
        "template": {
         "data": {
          "bar": [
           {
            "error_x": {
             "color": "#2a3f5f"
            },
            "error_y": {
             "color": "#2a3f5f"
            },
            "marker": {
             "line": {
              "color": "#E5ECF6",
              "width": 0.5
             },
             "pattern": {
              "fillmode": "overlay",
              "size": 10,
              "solidity": 0.2
             }
            },
            "type": "bar"
           }
          ],
          "barpolar": [
           {
            "marker": {
             "line": {
              "color": "#E5ECF6",
              "width": 0.5
             },
             "pattern": {
              "fillmode": "overlay",
              "size": 10,
              "solidity": 0.2
             }
            },
            "type": "barpolar"
           }
          ],
          "carpet": [
           {
            "aaxis": {
             "endlinecolor": "#2a3f5f",
             "gridcolor": "white",
             "linecolor": "white",
             "minorgridcolor": "white",
             "startlinecolor": "#2a3f5f"
            },
            "baxis": {
             "endlinecolor": "#2a3f5f",
             "gridcolor": "white",
             "linecolor": "white",
             "minorgridcolor": "white",
             "startlinecolor": "#2a3f5f"
            },
            "type": "carpet"
           }
          ],
          "choropleth": [
           {
            "colorbar": {
             "outlinewidth": 0,
             "ticks": ""
            },
            "type": "choropleth"
           }
          ],
          "contour": [
           {
            "colorbar": {
             "outlinewidth": 0,
             "ticks": ""
            },
            "colorscale": [
             [
              0,
              "#0d0887"
             ],
             [
              0.1111111111111111,
              "#46039f"
             ],
             [
              0.2222222222222222,
              "#7201a8"
             ],
             [
              0.3333333333333333,
              "#9c179e"
             ],
             [
              0.4444444444444444,
              "#bd3786"
             ],
             [
              0.5555555555555556,
              "#d8576b"
             ],
             [
              0.6666666666666666,
              "#ed7953"
             ],
             [
              0.7777777777777778,
              "#fb9f3a"
             ],
             [
              0.8888888888888888,
              "#fdca26"
             ],
             [
              1,
              "#f0f921"
             ]
            ],
            "type": "contour"
           }
          ],
          "contourcarpet": [
           {
            "colorbar": {
             "outlinewidth": 0,
             "ticks": ""
            },
            "type": "contourcarpet"
           }
          ],
          "heatmap": [
           {
            "colorbar": {
             "outlinewidth": 0,
             "ticks": ""
            },
            "colorscale": [
             [
              0,
              "#0d0887"
             ],
             [
              0.1111111111111111,
              "#46039f"
             ],
             [
              0.2222222222222222,
              "#7201a8"
             ],
             [
              0.3333333333333333,
              "#9c179e"
             ],
             [
              0.4444444444444444,
              "#bd3786"
             ],
             [
              0.5555555555555556,
              "#d8576b"
             ],
             [
              0.6666666666666666,
              "#ed7953"
             ],
             [
              0.7777777777777778,
              "#fb9f3a"
             ],
             [
              0.8888888888888888,
              "#fdca26"
             ],
             [
              1,
              "#f0f921"
             ]
            ],
            "type": "heatmap"
           }
          ],
          "heatmapgl": [
           {
            "colorbar": {
             "outlinewidth": 0,
             "ticks": ""
            },
            "colorscale": [
             [
              0,
              "#0d0887"
             ],
             [
              0.1111111111111111,
              "#46039f"
             ],
             [
              0.2222222222222222,
              "#7201a8"
             ],
             [
              0.3333333333333333,
              "#9c179e"
             ],
             [
              0.4444444444444444,
              "#bd3786"
             ],
             [
              0.5555555555555556,
              "#d8576b"
             ],
             [
              0.6666666666666666,
              "#ed7953"
             ],
             [
              0.7777777777777778,
              "#fb9f3a"
             ],
             [
              0.8888888888888888,
              "#fdca26"
             ],
             [
              1,
              "#f0f921"
             ]
            ],
            "type": "heatmapgl"
           }
          ],
          "histogram": [
           {
            "marker": {
             "pattern": {
              "fillmode": "overlay",
              "size": 10,
              "solidity": 0.2
             }
            },
            "type": "histogram"
           }
          ],
          "histogram2d": [
           {
            "colorbar": {
             "outlinewidth": 0,
             "ticks": ""
            },
            "colorscale": [
             [
              0,
              "#0d0887"
             ],
             [
              0.1111111111111111,
              "#46039f"
             ],
             [
              0.2222222222222222,
              "#7201a8"
             ],
             [
              0.3333333333333333,
              "#9c179e"
             ],
             [
              0.4444444444444444,
              "#bd3786"
             ],
             [
              0.5555555555555556,
              "#d8576b"
             ],
             [
              0.6666666666666666,
              "#ed7953"
             ],
             [
              0.7777777777777778,
              "#fb9f3a"
             ],
             [
              0.8888888888888888,
              "#fdca26"
             ],
             [
              1,
              "#f0f921"
             ]
            ],
            "type": "histogram2d"
           }
          ],
          "histogram2dcontour": [
           {
            "colorbar": {
             "outlinewidth": 0,
             "ticks": ""
            },
            "colorscale": [
             [
              0,
              "#0d0887"
             ],
             [
              0.1111111111111111,
              "#46039f"
             ],
             [
              0.2222222222222222,
              "#7201a8"
             ],
             [
              0.3333333333333333,
              "#9c179e"
             ],
             [
              0.4444444444444444,
              "#bd3786"
             ],
             [
              0.5555555555555556,
              "#d8576b"
             ],
             [
              0.6666666666666666,
              "#ed7953"
             ],
             [
              0.7777777777777778,
              "#fb9f3a"
             ],
             [
              0.8888888888888888,
              "#fdca26"
             ],
             [
              1,
              "#f0f921"
             ]
            ],
            "type": "histogram2dcontour"
           }
          ],
          "mesh3d": [
           {
            "colorbar": {
             "outlinewidth": 0,
             "ticks": ""
            },
            "type": "mesh3d"
           }
          ],
          "parcoords": [
           {
            "line": {
             "colorbar": {
              "outlinewidth": 0,
              "ticks": ""
             }
            },
            "type": "parcoords"
           }
          ],
          "pie": [
           {
            "automargin": true,
            "type": "pie"
           }
          ],
          "scatter": [
           {
            "marker": {
             "colorbar": {
              "outlinewidth": 0,
              "ticks": ""
             }
            },
            "type": "scatter"
           }
          ],
          "scatter3d": [
           {
            "line": {
             "colorbar": {
              "outlinewidth": 0,
              "ticks": ""
             }
            },
            "marker": {
             "colorbar": {
              "outlinewidth": 0,
              "ticks": ""
             }
            },
            "type": "scatter3d"
           }
          ],
          "scattercarpet": [
           {
            "marker": {
             "colorbar": {
              "outlinewidth": 0,
              "ticks": ""
             }
            },
            "type": "scattercarpet"
           }
          ],
          "scattergeo": [
           {
            "marker": {
             "colorbar": {
              "outlinewidth": 0,
              "ticks": ""
             }
            },
            "type": "scattergeo"
           }
          ],
          "scattergl": [
           {
            "marker": {
             "colorbar": {
              "outlinewidth": 0,
              "ticks": ""
             }
            },
            "type": "scattergl"
           }
          ],
          "scattermapbox": [
           {
            "marker": {
             "colorbar": {
              "outlinewidth": 0,
              "ticks": ""
             }
            },
            "type": "scattermapbox"
           }
          ],
          "scatterpolar": [
           {
            "marker": {
             "colorbar": {
              "outlinewidth": 0,
              "ticks": ""
             }
            },
            "type": "scatterpolar"
           }
          ],
          "scatterpolargl": [
           {
            "marker": {
             "colorbar": {
              "outlinewidth": 0,
              "ticks": ""
             }
            },
            "type": "scatterpolargl"
           }
          ],
          "scatterternary": [
           {
            "marker": {
             "colorbar": {
              "outlinewidth": 0,
              "ticks": ""
             }
            },
            "type": "scatterternary"
           }
          ],
          "surface": [
           {
            "colorbar": {
             "outlinewidth": 0,
             "ticks": ""
            },
            "colorscale": [
             [
              0,
              "#0d0887"
             ],
             [
              0.1111111111111111,
              "#46039f"
             ],
             [
              0.2222222222222222,
              "#7201a8"
             ],
             [
              0.3333333333333333,
              "#9c179e"
             ],
             [
              0.4444444444444444,
              "#bd3786"
             ],
             [
              0.5555555555555556,
              "#d8576b"
             ],
             [
              0.6666666666666666,
              "#ed7953"
             ],
             [
              0.7777777777777778,
              "#fb9f3a"
             ],
             [
              0.8888888888888888,
              "#fdca26"
             ],
             [
              1,
              "#f0f921"
             ]
            ],
            "type": "surface"
           }
          ],
          "table": [
           {
            "cells": {
             "fill": {
              "color": "#EBF0F8"
             },
             "line": {
              "color": "white"
             }
            },
            "header": {
             "fill": {
              "color": "#C8D4E3"
             },
             "line": {
              "color": "white"
             }
            },
            "type": "table"
           }
          ]
         },
         "layout": {
          "annotationdefaults": {
           "arrowcolor": "#2a3f5f",
           "arrowhead": 0,
           "arrowwidth": 1
          },
          "autotypenumbers": "strict",
          "coloraxis": {
           "colorbar": {
            "outlinewidth": 0,
            "ticks": ""
           }
          },
          "colorscale": {
           "diverging": [
            [
             0,
             "#8e0152"
            ],
            [
             0.1,
             "#c51b7d"
            ],
            [
             0.2,
             "#de77ae"
            ],
            [
             0.3,
             "#f1b6da"
            ],
            [
             0.4,
             "#fde0ef"
            ],
            [
             0.5,
             "#f7f7f7"
            ],
            [
             0.6,
             "#e6f5d0"
            ],
            [
             0.7,
             "#b8e186"
            ],
            [
             0.8,
             "#7fbc41"
            ],
            [
             0.9,
             "#4d9221"
            ],
            [
             1,
             "#276419"
            ]
           ],
           "sequential": [
            [
             0,
             "#0d0887"
            ],
            [
             0.1111111111111111,
             "#46039f"
            ],
            [
             0.2222222222222222,
             "#7201a8"
            ],
            [
             0.3333333333333333,
             "#9c179e"
            ],
            [
             0.4444444444444444,
             "#bd3786"
            ],
            [
             0.5555555555555556,
             "#d8576b"
            ],
            [
             0.6666666666666666,
             "#ed7953"
            ],
            [
             0.7777777777777778,
             "#fb9f3a"
            ],
            [
             0.8888888888888888,
             "#fdca26"
            ],
            [
             1,
             "#f0f921"
            ]
           ],
           "sequentialminus": [
            [
             0,
             "#0d0887"
            ],
            [
             0.1111111111111111,
             "#46039f"
            ],
            [
             0.2222222222222222,
             "#7201a8"
            ],
            [
             0.3333333333333333,
             "#9c179e"
            ],
            [
             0.4444444444444444,
             "#bd3786"
            ],
            [
             0.5555555555555556,
             "#d8576b"
            ],
            [
             0.6666666666666666,
             "#ed7953"
            ],
            [
             0.7777777777777778,
             "#fb9f3a"
            ],
            [
             0.8888888888888888,
             "#fdca26"
            ],
            [
             1,
             "#f0f921"
            ]
           ]
          },
          "colorway": [
           "#636efa",
           "#EF553B",
           "#00cc96",
           "#ab63fa",
           "#FFA15A",
           "#19d3f3",
           "#FF6692",
           "#B6E880",
           "#FF97FF",
           "#FECB52"
          ],
          "font": {
           "color": "#2a3f5f"
          },
          "geo": {
           "bgcolor": "white",
           "lakecolor": "white",
           "landcolor": "#E5ECF6",
           "showlakes": true,
           "showland": true,
           "subunitcolor": "white"
          },
          "hoverlabel": {
           "align": "left"
          },
          "hovermode": "closest",
          "mapbox": {
           "style": "light"
          },
          "paper_bgcolor": "white",
          "plot_bgcolor": "#E5ECF6",
          "polar": {
           "angularaxis": {
            "gridcolor": "white",
            "linecolor": "white",
            "ticks": ""
           },
           "bgcolor": "#E5ECF6",
           "radialaxis": {
            "gridcolor": "white",
            "linecolor": "white",
            "ticks": ""
           }
          },
          "scene": {
           "xaxis": {
            "backgroundcolor": "#E5ECF6",
            "gridcolor": "white",
            "gridwidth": 2,
            "linecolor": "white",
            "showbackground": true,
            "ticks": "",
            "zerolinecolor": "white"
           },
           "yaxis": {
            "backgroundcolor": "#E5ECF6",
            "gridcolor": "white",
            "gridwidth": 2,
            "linecolor": "white",
            "showbackground": true,
            "ticks": "",
            "zerolinecolor": "white"
           },
           "zaxis": {
            "backgroundcolor": "#E5ECF6",
            "gridcolor": "white",
            "gridwidth": 2,
            "linecolor": "white",
            "showbackground": true,
            "ticks": "",
            "zerolinecolor": "white"
           }
          },
          "shapedefaults": {
           "line": {
            "color": "#2a3f5f"
           }
          },
          "ternary": {
           "aaxis": {
            "gridcolor": "white",
            "linecolor": "white",
            "ticks": ""
           },
           "baxis": {
            "gridcolor": "white",
            "linecolor": "white",
            "ticks": ""
           },
           "bgcolor": "#E5ECF6",
           "caxis": {
            "gridcolor": "white",
            "linecolor": "white",
            "ticks": ""
           }
          },
          "title": {
           "x": 0.05
          },
          "xaxis": {
           "automargin": true,
           "gridcolor": "white",
           "linecolor": "white",
           "ticks": "",
           "title": {
            "standoff": 15
           },
           "zerolinecolor": "white",
           "zerolinewidth": 2
          },
          "yaxis": {
           "automargin": true,
           "gridcolor": "white",
           "linecolor": "white",
           "ticks": "",
           "title": {
            "standoff": 15
           },
           "zerolinecolor": "white",
           "zerolinewidth": 2
          }
         }
        },
        "title": {
         "font": {
          "color": "#4D5663"
         }
        },
        "xaxis": {
         "gridcolor": "#E1E5ED",
         "showgrid": true,
         "tickfont": {
          "color": "#4D5663"
         },
         "title": {
          "font": {
           "color": "#4D5663"
          },
          "text": ""
         },
         "zerolinecolor": "#E1E5ED"
        },
        "xaxis2": {
         "anchor": "y2",
         "gridcolor": "#E1E5ED",
         "showgrid": true,
         "showticklabels": false,
         "tickfont": {
          "color": "#4D5663"
         },
         "title": {
          "font": {
           "color": "#4D5663"
          },
          "text": ""
         },
         "zerolinecolor": "#E1E5ED"
        },
        "yaxis": {
         "domain": [
          0.3,
          1
         ],
         "gridcolor": "#E1E5ED",
         "showgrid": true,
         "tickfont": {
          "color": "#4D5663"
         },
         "title": {
          "font": {
           "color": "#4D5663"
          },
          "text": ""
         },
         "zerolinecolor": "#E1E5ED"
        },
        "yaxis2": {
         "domain": [
          0,
          0.25
         ],
         "gridcolor": "#E1E5ED",
         "showgrid": true,
         "tickfont": {
          "color": "#4D5663"
         },
         "title": {
          "font": {
           "color": "#4D5663"
          },
          "text": "Spread"
         },
         "zerolinecolor": "#E1E5ED"
        }
       }
      },
      "text/html": [
       "<div>                            <div id=\"681c70f6-bcfb-42c5-8460-b7e17b42ac31\" class=\"plotly-graph-div\" style=\"height:525px; width:100%;\"></div>            <script type=\"text/javascript\">                require([\"plotly\"], function(Plotly) {                    window.PLOTLYENV=window.PLOTLYENV || {};\n",
       "                    window.PLOTLYENV.BASE_URL='https://plot.ly';                                    if (document.getElementById(\"681c70f6-bcfb-42c5-8460-b7e17b42ac31\")) {                    Plotly.newPlot(                        \"681c70f6-bcfb-42c5-8460-b7e17b42ac31\",                        [{\"line\":{\"color\":\"rgba(255, 153, 51, 1.0)\",\"dash\":\"solid\",\"shape\":\"linear\",\"width\":1.3},\"mode\":\"lines\",\"name\":\"A\",\"text\":\"\",\"type\":\"scatter\",\"x\":[0,1,2,3,4,5,6,7,8,9,10,11,12,13,14,15,16,17,18,19,20,21,22,23,24,25,26,27,28,29,30,31,32,33,34,35,36,37,38,39,40,41,42,43,44,45,46,47,48,49,50,51,52,53,54,55,56,57,58,59,60,61,62,63,64,65,66,67,68,69,70,71,72,73,74,75,76,77,78,79,80,81,82,83,84,85,86,87,88,89,90,91,92,93,94,95,96,97,98,99],\"y\":[-1.5698810706263946,-0.24670595182913876,0.9304875741808672,-0.5066248091859992,0.6849922041296616,1.8970178017465043,0.8077409636879337,-1.0010217400668584,1.3704184544113829,0.4285482444378609,-1.4904588136094539,-1.057101523542387,-0.027965777366933554,0.49225766147762384,1.7494548923444855,0.6281606764666283,0.4124195324549872,-1.214371296495128,-1.0341361517499075,1.226524093673132,-0.3702532214319981,-1.026602653888882,-2.3899848709024765,0.18617738129491324,1.4205391403152827,0.16620298379615436,0.929471725944909,-0.2948437483626567,-0.19238683310333554,0.3847510505627772,1.0876155888389627,-0.13114344678221457,-2.6313549063054644,-0.3071103070391007,0.02304046542887793,0.2729530132607438,-0.5975479856090492,-1.307335029097629,-0.47343875594268553,0.40462706875938037,-0.3750837496186107,-1.153600856704141,-0.3210114638708474,-2.2727107459326708,0.14301117636838187,-0.4665470914808554,0.826330087593931,-0.4180146691670233,1.054261233414269,-0.769436597202262,0.30626623858840024,-1.222590132635321,-2.30431979214976,0.666109200462043,-1.6728303362407113,0.1360130473809156,0.2494020778281667,-1.4992821492867194,-0.5116902731427975,1.525411005806135,-1.0830706078125625,-1.1839618316805465,-1.2495174128404651,-0.25963125105376794,-1.0391021603416049,1.1701721156729272,0.5622979488932329,-0.4771715870306209,1.768125398112826,0.7841311388100116,-0.6192657048486289,-1.6034238616624827,-1.8180894620316153,-0.3769070560431302,-0.41583997308357923,-0.6968963202170636,0.13930902297487113,-0.6588464417475745,0.16723455663614806,-0.5816300010843882,0.8479015012297172,-0.8378041078347768,0.590067897520868,-0.7406499043141112,2.0006310452298584,0.05244393802697705,-1.2673761100060725,-1.856178347559622,-0.8744830899459701,-1.254130315577289,-1.1896877070913607,-1.1228223429505455,1.5350484892720089,-0.7992697234238435,0.4575057067461036,0.7343373638940573,1.1758847224955535,0.047416055252521176,-0.15774964088717078,-1.0755946344964076]},{\"line\":{\"color\":\"rgba(55, 128, 191, 1.0)\",\"dash\":\"solid\",\"shape\":\"linear\",\"width\":1.3},\"mode\":\"lines\",\"name\":\"B\",\"text\":\"\",\"type\":\"scatter\",\"x\":[0,1,2,3,4,5,6,7,8,9,10,11,12,13,14,15,16,17,18,19,20,21,22,23,24,25,26,27,28,29,30,31,32,33,34,35,36,37,38,39,40,41,42,43,44,45,46,47,48,49,50,51,52,53,54,55,56,57,58,59,60,61,62,63,64,65,66,67,68,69,70,71,72,73,74,75,76,77,78,79,80,81,82,83,84,85,86,87,88,89,90,91,92,93,94,95,96,97,98,99],\"y\":[-1.3113999602332227,-0.5511892997361064,0.9564106365247286,-0.0756544666480186,-0.45951139552071874,-0.3443475067009876,0.5329020467359252,1.5965981779903844,-0.20924320022818726,1.0681126078401548,-0.45836557518658216,-1.4675364036403746,-0.6381239023755292,-0.04176861474034986,-0.44238044596072,-1.1019358315585372,-1.168885300883454,-1.0848304880389248,-0.8770366200242047,-0.8998816091576025,-0.257430903248447,-0.6354833792541387,-0.6693198479481702,-0.2559528260054829,1.0333323918355652,-0.05729430349437438,1.837781302884297,-0.46370353242448914,0.13857196530710683,-0.07449236233589691,0.8894995621514906,1.413508948643193,0.3150992901613012,-0.5601542001942031,-0.7421009574127645,0.9264598582933575,-1.1678766738320119,0.9199026350211115,1.3681026700375678,-1.1706032466392733,0.3058098352063741,1.0825115745711003,-0.7378682735739086,0.48708467631334085,-1.301103036688062,0.40206968519748654,-0.683857096879213,-1.8738912329733723,0.7171097033890735,0.03888805277076086,-1.1693617295332313,-1.500268149751419,1.344024211974228,-0.1555134136926965,-1.015500310369333,1.3380630990228026,1.0892709931382587,2.619925062300933,0.22134788766989708,-0.5265520734592678,-0.5930694400125788,2.0476451557714093,1.4136353954227314,-0.8583185862032842,0.909619416198989,-0.5818769144837174,-0.4288867922322983,-1.5589239266494332,-0.9503331341161685,-0.4871533471858235,0.37242352525385475,-0.12028847667674292,-0.5343988318276738,-0.29955801808268195,0.5750625586522502,-0.5439453452009341,-0.7457944468902554,0.21738104733639788,-0.8315775003113577,-0.16984480502465918,0.5637202019823333,-1.6541191753802165,0.7857574457781091,0.86207308970026,1.7636380440624961,0.5959513372063282,-1.18477284050119,0.5050905996685262,-0.7186843156620407,0.7277456402864244,-0.10883976841530896,-1.2800960574118065,0.9508036384404251,-1.2594942463628704,-0.43000599662706834,0.8518986087827631,2.1099835338576742,-1.1338620361510596,-0.1136365825121175,-0.31121735019710284]},{\"connectgaps\":false,\"fill\":\"tozeroy\",\"line\":{\"color\":\"green\",\"dash\":\"solid\",\"shape\":\"linear\",\"width\":0.5},\"mode\":\"lines\",\"name\":\"Spread\",\"showlegend\":false,\"type\":\"scatter\",\"x\":[0,1,2,3,4,5,6,7,8,9,10,11,12,13,14,15,16,17,18,19,20,21,22,23,24,25,26,27,28,29,30,31,32,33,34,35,36,37,38,39,40,41,42,43,44,45,46,47,48,49,50,51,52,53,54,55,56,57,58,59,60,61,62,63,64,65,66,67,68,69,70,71,72,73,74,75,76,77,78,79,80,81,82,83,84,85,86,87,88,89,90,91,92,93,94,95,96,97,98,99],\"xaxis\":\"x2\",\"y\":[\"\",0.3044833479069676,\"\",\"\",1.1445035996503803,2.241365308447492,0.27483891695200846,\"\",1.57966165463957,\"\",\"\",0.41043488009798756,0.6101581250085957,0.5340262762179737,2.1918353383052054,1.7300965080251656,1.5813048333384412,\"\",\"\",2.1264057028307346,\"\",\"\",\"\",0.44213020730039615,0.3872067484797175,0.22349728729052876,\"\",0.16885978406183244,\"\",0.4592434128986741,0.19811602668747208,\"\",\"\",0.25304389315510245,0.7651414228416424,\"\",0.5703286882229627,\"\",\"\",1.5752303153986538,\"\",\"\",0.4168568097030612,\"\",1.444114213056444,\"\",1.510187184473144,1.455876563806349,0.3371515300251954,\"\",1.4756279681216316,0.27767801711609796,\"\",0.8216226141547396,\"\",\"\",\"\",\"\",\"\",2.051963079265403,\"\",\"\",\"\",0.5986873351495162,\"\",1.7520490301566447,0.9911847411255312,1.0817523396188125,2.7184585322289943,1.2712844859958352,\"\",\"\",\"\",\"\",\"\",\"\",0.8851034698651266,\"\",0.9988120569475057,\"\",0.2841812992473839,0.8163150675454397,\"\",\"\",0.23699300116736222,\"\",\"\",\"\",\"\",\"\",\"\",0.15727371446126104,0.5842448508315837,0.46022452293902694,0.8875117033731719,\"\",\"\",1.1812780914035808,\"\",\"\"],\"yaxis\":\"y2\"},{\"connectgaps\":false,\"fill\":\"tozeroy\",\"line\":{\"color\":\"red\",\"dash\":\"solid\",\"shape\":\"linear\",\"width\":0.5},\"mode\":\"lines\",\"name\":\"Spread\",\"showlegend\":false,\"type\":\"scatter\",\"x\":[0,1,2,3,4,5,6,7,8,9,10,11,12,13,14,15,16,17,18,19,20,21,22,23,24,25,26,27,28,29,30,31,32,33,34,35,36,37,38,39,40,41,42,43,44,45,46,47,48,49,50,51,52,53,54,55,56,57,58,59,60,61,62,63,64,65,66,67,68,69,70,71,72,73,74,75,76,77,78,79,80,81,82,83,84,85,86,87,88,89,90,91,92,93,94,95,96,97,98,99],\"xaxis\":\"x2\",\"y\":[-0.2584811103931719,\"\",-0.025923062343861325,-0.43097034253798056,\"\",\"\",\"\",-2.5976199180572426,\"\",-0.639564363402294,-1.0320932384228718,\"\",\"\",\"\",\"\",\"\",\"\",-0.1295408084562033,-0.1570995317257028,\"\",-0.11282231818355115,-0.3911192746347433,-1.7206650229543063,\"\",\"\",\"\",-0.9083095769393881,\"\",-0.3309587984104424,\"\",\"\",-1.5446523954254077,-2.9464541964667657,\"\",\"\",-0.6535068450326138,\"\",-2.2272376641187406,-1.8415414259802534,\"\",-0.6808935848249849,-2.236112431275241,\"\",-2.7597954222460115,\"\",-0.8686167766783419,\"\",\"\",\"\",-0.8083246499730229,\"\",\"\",-3.648344004123988,\"\",-0.6573300258713783,-1.202050051641887,-0.839868915310092,-4.119207211587653,-0.7330381608126946,\"\",-0.4900011677999837,-3.231606987451956,-2.6631528082631966,\"\",-1.9487215765405939,\"\",\"\",\"\",\"\",\"\",-0.9916892301024836,-1.4831353849857398,-1.2836906302039415,-0.07734903796044823,-0.9909025317358294,-0.15295097501612953,\"\",-0.8762274890839723,\"\",-0.4117851960597291,\"\",\"\",-0.19568954825724116,-1.6027229940143712,\"\",-0.5435073991793512,-0.08260326950488261,-2.3612689472281483,-0.1557987742839294,-1.9818759558637133,-1.080847938676052,\"\",\"\",\"\",\"\",-0.11756124488870578,-0.9340988113621207,\"\",-0.04411305837505328,-0.7643772842993047],\"yaxis\":\"y2\"}],                        {\"hovermode\":\"x\",\"legend\":{\"bgcolor\":\"#F5F6F9\",\"font\":{\"color\":\"#4D5663\"}},\"paper_bgcolor\":\"#F5F6F9\",\"plot_bgcolor\":\"#F5F6F9\",\"template\":{\"data\":{\"bar\":[{\"error_x\":{\"color\":\"#2a3f5f\"},\"error_y\":{\"color\":\"#2a3f5f\"},\"marker\":{\"line\":{\"color\":\"#E5ECF6\",\"width\":0.5},\"pattern\":{\"fillmode\":\"overlay\",\"size\":10,\"solidity\":0.2}},\"type\":\"bar\"}],\"barpolar\":[{\"marker\":{\"line\":{\"color\":\"#E5ECF6\",\"width\":0.5},\"pattern\":{\"fillmode\":\"overlay\",\"size\":10,\"solidity\":0.2}},\"type\":\"barpolar\"}],\"carpet\":[{\"aaxis\":{\"endlinecolor\":\"#2a3f5f\",\"gridcolor\":\"white\",\"linecolor\":\"white\",\"minorgridcolor\":\"white\",\"startlinecolor\":\"#2a3f5f\"},\"baxis\":{\"endlinecolor\":\"#2a3f5f\",\"gridcolor\":\"white\",\"linecolor\":\"white\",\"minorgridcolor\":\"white\",\"startlinecolor\":\"#2a3f5f\"},\"type\":\"carpet\"}],\"choropleth\":[{\"colorbar\":{\"outlinewidth\":0,\"ticks\":\"\"},\"type\":\"choropleth\"}],\"contour\":[{\"colorbar\":{\"outlinewidth\":0,\"ticks\":\"\"},\"colorscale\":[[0.0,\"#0d0887\"],[0.1111111111111111,\"#46039f\"],[0.2222222222222222,\"#7201a8\"],[0.3333333333333333,\"#9c179e\"],[0.4444444444444444,\"#bd3786\"],[0.5555555555555556,\"#d8576b\"],[0.6666666666666666,\"#ed7953\"],[0.7777777777777778,\"#fb9f3a\"],[0.8888888888888888,\"#fdca26\"],[1.0,\"#f0f921\"]],\"type\":\"contour\"}],\"contourcarpet\":[{\"colorbar\":{\"outlinewidth\":0,\"ticks\":\"\"},\"type\":\"contourcarpet\"}],\"heatmap\":[{\"colorbar\":{\"outlinewidth\":0,\"ticks\":\"\"},\"colorscale\":[[0.0,\"#0d0887\"],[0.1111111111111111,\"#46039f\"],[0.2222222222222222,\"#7201a8\"],[0.3333333333333333,\"#9c179e\"],[0.4444444444444444,\"#bd3786\"],[0.5555555555555556,\"#d8576b\"],[0.6666666666666666,\"#ed7953\"],[0.7777777777777778,\"#fb9f3a\"],[0.8888888888888888,\"#fdca26\"],[1.0,\"#f0f921\"]],\"type\":\"heatmap\"}],\"heatmapgl\":[{\"colorbar\":{\"outlinewidth\":0,\"ticks\":\"\"},\"colorscale\":[[0.0,\"#0d0887\"],[0.1111111111111111,\"#46039f\"],[0.2222222222222222,\"#7201a8\"],[0.3333333333333333,\"#9c179e\"],[0.4444444444444444,\"#bd3786\"],[0.5555555555555556,\"#d8576b\"],[0.6666666666666666,\"#ed7953\"],[0.7777777777777778,\"#fb9f3a\"],[0.8888888888888888,\"#fdca26\"],[1.0,\"#f0f921\"]],\"type\":\"heatmapgl\"}],\"histogram\":[{\"marker\":{\"pattern\":{\"fillmode\":\"overlay\",\"size\":10,\"solidity\":0.2}},\"type\":\"histogram\"}],\"histogram2d\":[{\"colorbar\":{\"outlinewidth\":0,\"ticks\":\"\"},\"colorscale\":[[0.0,\"#0d0887\"],[0.1111111111111111,\"#46039f\"],[0.2222222222222222,\"#7201a8\"],[0.3333333333333333,\"#9c179e\"],[0.4444444444444444,\"#bd3786\"],[0.5555555555555556,\"#d8576b\"],[0.6666666666666666,\"#ed7953\"],[0.7777777777777778,\"#fb9f3a\"],[0.8888888888888888,\"#fdca26\"],[1.0,\"#f0f921\"]],\"type\":\"histogram2d\"}],\"histogram2dcontour\":[{\"colorbar\":{\"outlinewidth\":0,\"ticks\":\"\"},\"colorscale\":[[0.0,\"#0d0887\"],[0.1111111111111111,\"#46039f\"],[0.2222222222222222,\"#7201a8\"],[0.3333333333333333,\"#9c179e\"],[0.4444444444444444,\"#bd3786\"],[0.5555555555555556,\"#d8576b\"],[0.6666666666666666,\"#ed7953\"],[0.7777777777777778,\"#fb9f3a\"],[0.8888888888888888,\"#fdca26\"],[1.0,\"#f0f921\"]],\"type\":\"histogram2dcontour\"}],\"mesh3d\":[{\"colorbar\":{\"outlinewidth\":0,\"ticks\":\"\"},\"type\":\"mesh3d\"}],\"parcoords\":[{\"line\":{\"colorbar\":{\"outlinewidth\":0,\"ticks\":\"\"}},\"type\":\"parcoords\"}],\"pie\":[{\"automargin\":true,\"type\":\"pie\"}],\"scatter\":[{\"marker\":{\"colorbar\":{\"outlinewidth\":0,\"ticks\":\"\"}},\"type\":\"scatter\"}],\"scatter3d\":[{\"line\":{\"colorbar\":{\"outlinewidth\":0,\"ticks\":\"\"}},\"marker\":{\"colorbar\":{\"outlinewidth\":0,\"ticks\":\"\"}},\"type\":\"scatter3d\"}],\"scattercarpet\":[{\"marker\":{\"colorbar\":{\"outlinewidth\":0,\"ticks\":\"\"}},\"type\":\"scattercarpet\"}],\"scattergeo\":[{\"marker\":{\"colorbar\":{\"outlinewidth\":0,\"ticks\":\"\"}},\"type\":\"scattergeo\"}],\"scattergl\":[{\"marker\":{\"colorbar\":{\"outlinewidth\":0,\"ticks\":\"\"}},\"type\":\"scattergl\"}],\"scattermapbox\":[{\"marker\":{\"colorbar\":{\"outlinewidth\":0,\"ticks\":\"\"}},\"type\":\"scattermapbox\"}],\"scatterpolar\":[{\"marker\":{\"colorbar\":{\"outlinewidth\":0,\"ticks\":\"\"}},\"type\":\"scatterpolar\"}],\"scatterpolargl\":[{\"marker\":{\"colorbar\":{\"outlinewidth\":0,\"ticks\":\"\"}},\"type\":\"scatterpolargl\"}],\"scatterternary\":[{\"marker\":{\"colorbar\":{\"outlinewidth\":0,\"ticks\":\"\"}},\"type\":\"scatterternary\"}],\"surface\":[{\"colorbar\":{\"outlinewidth\":0,\"ticks\":\"\"},\"colorscale\":[[0.0,\"#0d0887\"],[0.1111111111111111,\"#46039f\"],[0.2222222222222222,\"#7201a8\"],[0.3333333333333333,\"#9c179e\"],[0.4444444444444444,\"#bd3786\"],[0.5555555555555556,\"#d8576b\"],[0.6666666666666666,\"#ed7953\"],[0.7777777777777778,\"#fb9f3a\"],[0.8888888888888888,\"#fdca26\"],[1.0,\"#f0f921\"]],\"type\":\"surface\"}],\"table\":[{\"cells\":{\"fill\":{\"color\":\"#EBF0F8\"},\"line\":{\"color\":\"white\"}},\"header\":{\"fill\":{\"color\":\"#C8D4E3\"},\"line\":{\"color\":\"white\"}},\"type\":\"table\"}]},\"layout\":{\"annotationdefaults\":{\"arrowcolor\":\"#2a3f5f\",\"arrowhead\":0,\"arrowwidth\":1},\"autotypenumbers\":\"strict\",\"coloraxis\":{\"colorbar\":{\"outlinewidth\":0,\"ticks\":\"\"}},\"colorscale\":{\"diverging\":[[0,\"#8e0152\"],[0.1,\"#c51b7d\"],[0.2,\"#de77ae\"],[0.3,\"#f1b6da\"],[0.4,\"#fde0ef\"],[0.5,\"#f7f7f7\"],[0.6,\"#e6f5d0\"],[0.7,\"#b8e186\"],[0.8,\"#7fbc41\"],[0.9,\"#4d9221\"],[1,\"#276419\"]],\"sequential\":[[0.0,\"#0d0887\"],[0.1111111111111111,\"#46039f\"],[0.2222222222222222,\"#7201a8\"],[0.3333333333333333,\"#9c179e\"],[0.4444444444444444,\"#bd3786\"],[0.5555555555555556,\"#d8576b\"],[0.6666666666666666,\"#ed7953\"],[0.7777777777777778,\"#fb9f3a\"],[0.8888888888888888,\"#fdca26\"],[1.0,\"#f0f921\"]],\"sequentialminus\":[[0.0,\"#0d0887\"],[0.1111111111111111,\"#46039f\"],[0.2222222222222222,\"#7201a8\"],[0.3333333333333333,\"#9c179e\"],[0.4444444444444444,\"#bd3786\"],[0.5555555555555556,\"#d8576b\"],[0.6666666666666666,\"#ed7953\"],[0.7777777777777778,\"#fb9f3a\"],[0.8888888888888888,\"#fdca26\"],[1.0,\"#f0f921\"]]},\"colorway\":[\"#636efa\",\"#EF553B\",\"#00cc96\",\"#ab63fa\",\"#FFA15A\",\"#19d3f3\",\"#FF6692\",\"#B6E880\",\"#FF97FF\",\"#FECB52\"],\"font\":{\"color\":\"#2a3f5f\"},\"geo\":{\"bgcolor\":\"white\",\"lakecolor\":\"white\",\"landcolor\":\"#E5ECF6\",\"showlakes\":true,\"showland\":true,\"subunitcolor\":\"white\"},\"hoverlabel\":{\"align\":\"left\"},\"hovermode\":\"closest\",\"mapbox\":{\"style\":\"light\"},\"paper_bgcolor\":\"white\",\"plot_bgcolor\":\"#E5ECF6\",\"polar\":{\"angularaxis\":{\"gridcolor\":\"white\",\"linecolor\":\"white\",\"ticks\":\"\"},\"bgcolor\":\"#E5ECF6\",\"radialaxis\":{\"gridcolor\":\"white\",\"linecolor\":\"white\",\"ticks\":\"\"}},\"scene\":{\"xaxis\":{\"backgroundcolor\":\"#E5ECF6\",\"gridcolor\":\"white\",\"gridwidth\":2,\"linecolor\":\"white\",\"showbackground\":true,\"ticks\":\"\",\"zerolinecolor\":\"white\"},\"yaxis\":{\"backgroundcolor\":\"#E5ECF6\",\"gridcolor\":\"white\",\"gridwidth\":2,\"linecolor\":\"white\",\"showbackground\":true,\"ticks\":\"\",\"zerolinecolor\":\"white\"},\"zaxis\":{\"backgroundcolor\":\"#E5ECF6\",\"gridcolor\":\"white\",\"gridwidth\":2,\"linecolor\":\"white\",\"showbackground\":true,\"ticks\":\"\",\"zerolinecolor\":\"white\"}},\"shapedefaults\":{\"line\":{\"color\":\"#2a3f5f\"}},\"ternary\":{\"aaxis\":{\"gridcolor\":\"white\",\"linecolor\":\"white\",\"ticks\":\"\"},\"baxis\":{\"gridcolor\":\"white\",\"linecolor\":\"white\",\"ticks\":\"\"},\"bgcolor\":\"#E5ECF6\",\"caxis\":{\"gridcolor\":\"white\",\"linecolor\":\"white\",\"ticks\":\"\"}},\"title\":{\"x\":0.05},\"xaxis\":{\"automargin\":true,\"gridcolor\":\"white\",\"linecolor\":\"white\",\"ticks\":\"\",\"title\":{\"standoff\":15},\"zerolinecolor\":\"white\",\"zerolinewidth\":2},\"yaxis\":{\"automargin\":true,\"gridcolor\":\"white\",\"linecolor\":\"white\",\"ticks\":\"\",\"title\":{\"standoff\":15},\"zerolinecolor\":\"white\",\"zerolinewidth\":2}}},\"title\":{\"font\":{\"color\":\"#4D5663\"}},\"xaxis\":{\"gridcolor\":\"#E1E5ED\",\"showgrid\":true,\"tickfont\":{\"color\":\"#4D5663\"},\"title\":{\"font\":{\"color\":\"#4D5663\"},\"text\":\"\"},\"zerolinecolor\":\"#E1E5ED\"},\"xaxis2\":{\"anchor\":\"y2\",\"gridcolor\":\"#E1E5ED\",\"showgrid\":true,\"showticklabels\":false,\"tickfont\":{\"color\":\"#4D5663\"},\"title\":{\"font\":{\"color\":\"#4D5663\"},\"text\":\"\"},\"zerolinecolor\":\"#E1E5ED\"},\"yaxis\":{\"domain\":[0.3,1],\"gridcolor\":\"#E1E5ED\",\"showgrid\":true,\"tickfont\":{\"color\":\"#4D5663\"},\"title\":{\"font\":{\"color\":\"#4D5663\"},\"text\":\"\"},\"zerolinecolor\":\"#E1E5ED\"},\"yaxis2\":{\"domain\":[0,0.25],\"gridcolor\":\"#E1E5ED\",\"showgrid\":true,\"tickfont\":{\"color\":\"#4D5663\"},\"title\":{\"font\":{\"color\":\"#4D5663\"},\"text\":\"Spread\"},\"zerolinecolor\":\"#E1E5ED\"}},                        {\"showLink\": true, \"linkText\": \"Export to plot.ly\", \"plotlyServerURL\": \"https://plot.ly\", \"responsive\": true}                    ).then(function(){\n",
       "                            \n",
       "var gd = document.getElementById('681c70f6-bcfb-42c5-8460-b7e17b42ac31');\n",
       "var x = new MutationObserver(function (mutations, observer) {{\n",
       "        var display = window.getComputedStyle(gd).display;\n",
       "        if (!display || display === 'none') {{\n",
       "            console.log([gd, 'removed!']);\n",
       "            Plotly.purge(gd);\n",
       "            observer.disconnect();\n",
       "        }}\n",
       "}});\n",
       "\n",
       "// Listen for the removal of the full notebook cells\n",
       "var notebookContainer = gd.closest('#notebook-container');\n",
       "if (notebookContainer) {{\n",
       "    x.observe(notebookContainer, {childList: true});\n",
       "}}\n",
       "\n",
       "// Listen for the clearing of the current output cell\n",
       "var outputEl = gd.closest('.output');\n",
       "if (outputEl) {{\n",
       "    x.observe(outputEl, {childList: true});\n",
       "}}\n",
       "\n",
       "                        })                };                });            </script>        </div>"
      ]
     },
     "metadata": {},
     "output_type": "display_data"
    }
   ],
   "source": [
    "df[['A','B']].iplot(kind='spread')"
   ]
  },
  {
   "cell_type": "markdown",
   "metadata": {},
   "source": [
    "## histogram"
   ]
  },
  {
   "cell_type": "code",
   "execution_count": 16,
   "metadata": {
    "collapsed": false
   },
   "outputs": [
    {
     "data": {
      "application/vnd.plotly.v1+json": {
       "config": {
        "linkText": "Export to plot.ly",
        "plotlyServerURL": "https://plot.ly",
        "showLink": true
       },
       "data": [
        {
         "histfunc": "count",
         "histnorm": "",
         "marker": {
          "color": "rgba(255, 153, 51, 1.0)",
          "line": {
           "color": "#4D5663",
           "width": 1.3
          }
         },
         "name": "A",
         "nbinsx": 25,
         "opacity": 0.8,
         "orientation": "v",
         "type": "histogram",
         "x": [
          -1.5698810706263946,
          -0.24670595182913876,
          0.9304875741808672,
          -0.5066248091859992,
          0.6849922041296616,
          1.8970178017465043,
          0.8077409636879337,
          -1.0010217400668584,
          1.3704184544113829,
          0.4285482444378609,
          -1.4904588136094539,
          -1.057101523542387,
          -0.027965777366933554,
          0.49225766147762384,
          1.7494548923444855,
          0.6281606764666283,
          0.4124195324549872,
          -1.214371296495128,
          -1.0341361517499075,
          1.226524093673132,
          -0.3702532214319981,
          -1.026602653888882,
          -2.3899848709024765,
          0.18617738129491324,
          1.4205391403152827,
          0.16620298379615436,
          0.929471725944909,
          -0.2948437483626567,
          -0.19238683310333554,
          0.3847510505627772,
          1.0876155888389627,
          -0.13114344678221457,
          -2.6313549063054644,
          -0.3071103070391007,
          0.02304046542887793,
          0.2729530132607438,
          -0.5975479856090492,
          -1.307335029097629,
          -0.47343875594268553,
          0.40462706875938037,
          -0.3750837496186107,
          -1.153600856704141,
          -0.3210114638708474,
          -2.2727107459326708,
          0.14301117636838187,
          -0.4665470914808554,
          0.826330087593931,
          -0.4180146691670233,
          1.054261233414269,
          -0.769436597202262,
          0.30626623858840024,
          -1.222590132635321,
          -2.30431979214976,
          0.666109200462043,
          -1.6728303362407113,
          0.1360130473809156,
          0.2494020778281667,
          -1.4992821492867194,
          -0.5116902731427975,
          1.525411005806135,
          -1.0830706078125625,
          -1.1839618316805465,
          -1.2495174128404651,
          -0.25963125105376794,
          -1.0391021603416049,
          1.1701721156729272,
          0.5622979488932329,
          -0.4771715870306209,
          1.768125398112826,
          0.7841311388100116,
          -0.6192657048486289,
          -1.6034238616624827,
          -1.8180894620316153,
          -0.3769070560431302,
          -0.41583997308357923,
          -0.6968963202170636,
          0.13930902297487113,
          -0.6588464417475745,
          0.16723455663614806,
          -0.5816300010843882,
          0.8479015012297172,
          -0.8378041078347768,
          0.590067897520868,
          -0.7406499043141112,
          2.0006310452298584,
          0.05244393802697705,
          -1.2673761100060725,
          -1.856178347559622,
          -0.8744830899459701,
          -1.254130315577289,
          -1.1896877070913607,
          -1.1228223429505455,
          1.5350484892720089,
          -0.7992697234238435,
          0.4575057067461036,
          0.7343373638940573,
          1.1758847224955535,
          0.047416055252521176,
          -0.15774964088717078,
          -1.0755946344964076
         ]
        }
       ],
       "layout": {
        "barmode": "overlay",
        "legend": {
         "bgcolor": "#F5F6F9",
         "font": {
          "color": "#4D5663"
         }
        },
        "paper_bgcolor": "#F5F6F9",
        "plot_bgcolor": "#F5F6F9",
        "template": {
         "data": {
          "bar": [
           {
            "error_x": {
             "color": "#2a3f5f"
            },
            "error_y": {
             "color": "#2a3f5f"
            },
            "marker": {
             "line": {
              "color": "#E5ECF6",
              "width": 0.5
             },
             "pattern": {
              "fillmode": "overlay",
              "size": 10,
              "solidity": 0.2
             }
            },
            "type": "bar"
           }
          ],
          "barpolar": [
           {
            "marker": {
             "line": {
              "color": "#E5ECF6",
              "width": 0.5
             },
             "pattern": {
              "fillmode": "overlay",
              "size": 10,
              "solidity": 0.2
             }
            },
            "type": "barpolar"
           }
          ],
          "carpet": [
           {
            "aaxis": {
             "endlinecolor": "#2a3f5f",
             "gridcolor": "white",
             "linecolor": "white",
             "minorgridcolor": "white",
             "startlinecolor": "#2a3f5f"
            },
            "baxis": {
             "endlinecolor": "#2a3f5f",
             "gridcolor": "white",
             "linecolor": "white",
             "minorgridcolor": "white",
             "startlinecolor": "#2a3f5f"
            },
            "type": "carpet"
           }
          ],
          "choropleth": [
           {
            "colorbar": {
             "outlinewidth": 0,
             "ticks": ""
            },
            "type": "choropleth"
           }
          ],
          "contour": [
           {
            "colorbar": {
             "outlinewidth": 0,
             "ticks": ""
            },
            "colorscale": [
             [
              0,
              "#0d0887"
             ],
             [
              0.1111111111111111,
              "#46039f"
             ],
             [
              0.2222222222222222,
              "#7201a8"
             ],
             [
              0.3333333333333333,
              "#9c179e"
             ],
             [
              0.4444444444444444,
              "#bd3786"
             ],
             [
              0.5555555555555556,
              "#d8576b"
             ],
             [
              0.6666666666666666,
              "#ed7953"
             ],
             [
              0.7777777777777778,
              "#fb9f3a"
             ],
             [
              0.8888888888888888,
              "#fdca26"
             ],
             [
              1,
              "#f0f921"
             ]
            ],
            "type": "contour"
           }
          ],
          "contourcarpet": [
           {
            "colorbar": {
             "outlinewidth": 0,
             "ticks": ""
            },
            "type": "contourcarpet"
           }
          ],
          "heatmap": [
           {
            "colorbar": {
             "outlinewidth": 0,
             "ticks": ""
            },
            "colorscale": [
             [
              0,
              "#0d0887"
             ],
             [
              0.1111111111111111,
              "#46039f"
             ],
             [
              0.2222222222222222,
              "#7201a8"
             ],
             [
              0.3333333333333333,
              "#9c179e"
             ],
             [
              0.4444444444444444,
              "#bd3786"
             ],
             [
              0.5555555555555556,
              "#d8576b"
             ],
             [
              0.6666666666666666,
              "#ed7953"
             ],
             [
              0.7777777777777778,
              "#fb9f3a"
             ],
             [
              0.8888888888888888,
              "#fdca26"
             ],
             [
              1,
              "#f0f921"
             ]
            ],
            "type": "heatmap"
           }
          ],
          "heatmapgl": [
           {
            "colorbar": {
             "outlinewidth": 0,
             "ticks": ""
            },
            "colorscale": [
             [
              0,
              "#0d0887"
             ],
             [
              0.1111111111111111,
              "#46039f"
             ],
             [
              0.2222222222222222,
              "#7201a8"
             ],
             [
              0.3333333333333333,
              "#9c179e"
             ],
             [
              0.4444444444444444,
              "#bd3786"
             ],
             [
              0.5555555555555556,
              "#d8576b"
             ],
             [
              0.6666666666666666,
              "#ed7953"
             ],
             [
              0.7777777777777778,
              "#fb9f3a"
             ],
             [
              0.8888888888888888,
              "#fdca26"
             ],
             [
              1,
              "#f0f921"
             ]
            ],
            "type": "heatmapgl"
           }
          ],
          "histogram": [
           {
            "marker": {
             "pattern": {
              "fillmode": "overlay",
              "size": 10,
              "solidity": 0.2
             }
            },
            "type": "histogram"
           }
          ],
          "histogram2d": [
           {
            "colorbar": {
             "outlinewidth": 0,
             "ticks": ""
            },
            "colorscale": [
             [
              0,
              "#0d0887"
             ],
             [
              0.1111111111111111,
              "#46039f"
             ],
             [
              0.2222222222222222,
              "#7201a8"
             ],
             [
              0.3333333333333333,
              "#9c179e"
             ],
             [
              0.4444444444444444,
              "#bd3786"
             ],
             [
              0.5555555555555556,
              "#d8576b"
             ],
             [
              0.6666666666666666,
              "#ed7953"
             ],
             [
              0.7777777777777778,
              "#fb9f3a"
             ],
             [
              0.8888888888888888,
              "#fdca26"
             ],
             [
              1,
              "#f0f921"
             ]
            ],
            "type": "histogram2d"
           }
          ],
          "histogram2dcontour": [
           {
            "colorbar": {
             "outlinewidth": 0,
             "ticks": ""
            },
            "colorscale": [
             [
              0,
              "#0d0887"
             ],
             [
              0.1111111111111111,
              "#46039f"
             ],
             [
              0.2222222222222222,
              "#7201a8"
             ],
             [
              0.3333333333333333,
              "#9c179e"
             ],
             [
              0.4444444444444444,
              "#bd3786"
             ],
             [
              0.5555555555555556,
              "#d8576b"
             ],
             [
              0.6666666666666666,
              "#ed7953"
             ],
             [
              0.7777777777777778,
              "#fb9f3a"
             ],
             [
              0.8888888888888888,
              "#fdca26"
             ],
             [
              1,
              "#f0f921"
             ]
            ],
            "type": "histogram2dcontour"
           }
          ],
          "mesh3d": [
           {
            "colorbar": {
             "outlinewidth": 0,
             "ticks": ""
            },
            "type": "mesh3d"
           }
          ],
          "parcoords": [
           {
            "line": {
             "colorbar": {
              "outlinewidth": 0,
              "ticks": ""
             }
            },
            "type": "parcoords"
           }
          ],
          "pie": [
           {
            "automargin": true,
            "type": "pie"
           }
          ],
          "scatter": [
           {
            "marker": {
             "colorbar": {
              "outlinewidth": 0,
              "ticks": ""
             }
            },
            "type": "scatter"
           }
          ],
          "scatter3d": [
           {
            "line": {
             "colorbar": {
              "outlinewidth": 0,
              "ticks": ""
             }
            },
            "marker": {
             "colorbar": {
              "outlinewidth": 0,
              "ticks": ""
             }
            },
            "type": "scatter3d"
           }
          ],
          "scattercarpet": [
           {
            "marker": {
             "colorbar": {
              "outlinewidth": 0,
              "ticks": ""
             }
            },
            "type": "scattercarpet"
           }
          ],
          "scattergeo": [
           {
            "marker": {
             "colorbar": {
              "outlinewidth": 0,
              "ticks": ""
             }
            },
            "type": "scattergeo"
           }
          ],
          "scattergl": [
           {
            "marker": {
             "colorbar": {
              "outlinewidth": 0,
              "ticks": ""
             }
            },
            "type": "scattergl"
           }
          ],
          "scattermapbox": [
           {
            "marker": {
             "colorbar": {
              "outlinewidth": 0,
              "ticks": ""
             }
            },
            "type": "scattermapbox"
           }
          ],
          "scatterpolar": [
           {
            "marker": {
             "colorbar": {
              "outlinewidth": 0,
              "ticks": ""
             }
            },
            "type": "scatterpolar"
           }
          ],
          "scatterpolargl": [
           {
            "marker": {
             "colorbar": {
              "outlinewidth": 0,
              "ticks": ""
             }
            },
            "type": "scatterpolargl"
           }
          ],
          "scatterternary": [
           {
            "marker": {
             "colorbar": {
              "outlinewidth": 0,
              "ticks": ""
             }
            },
            "type": "scatterternary"
           }
          ],
          "surface": [
           {
            "colorbar": {
             "outlinewidth": 0,
             "ticks": ""
            },
            "colorscale": [
             [
              0,
              "#0d0887"
             ],
             [
              0.1111111111111111,
              "#46039f"
             ],
             [
              0.2222222222222222,
              "#7201a8"
             ],
             [
              0.3333333333333333,
              "#9c179e"
             ],
             [
              0.4444444444444444,
              "#bd3786"
             ],
             [
              0.5555555555555556,
              "#d8576b"
             ],
             [
              0.6666666666666666,
              "#ed7953"
             ],
             [
              0.7777777777777778,
              "#fb9f3a"
             ],
             [
              0.8888888888888888,
              "#fdca26"
             ],
             [
              1,
              "#f0f921"
             ]
            ],
            "type": "surface"
           }
          ],
          "table": [
           {
            "cells": {
             "fill": {
              "color": "#EBF0F8"
             },
             "line": {
              "color": "white"
             }
            },
            "header": {
             "fill": {
              "color": "#C8D4E3"
             },
             "line": {
              "color": "white"
             }
            },
            "type": "table"
           }
          ]
         },
         "layout": {
          "annotationdefaults": {
           "arrowcolor": "#2a3f5f",
           "arrowhead": 0,
           "arrowwidth": 1
          },
          "autotypenumbers": "strict",
          "coloraxis": {
           "colorbar": {
            "outlinewidth": 0,
            "ticks": ""
           }
          },
          "colorscale": {
           "diverging": [
            [
             0,
             "#8e0152"
            ],
            [
             0.1,
             "#c51b7d"
            ],
            [
             0.2,
             "#de77ae"
            ],
            [
             0.3,
             "#f1b6da"
            ],
            [
             0.4,
             "#fde0ef"
            ],
            [
             0.5,
             "#f7f7f7"
            ],
            [
             0.6,
             "#e6f5d0"
            ],
            [
             0.7,
             "#b8e186"
            ],
            [
             0.8,
             "#7fbc41"
            ],
            [
             0.9,
             "#4d9221"
            ],
            [
             1,
             "#276419"
            ]
           ],
           "sequential": [
            [
             0,
             "#0d0887"
            ],
            [
             0.1111111111111111,
             "#46039f"
            ],
            [
             0.2222222222222222,
             "#7201a8"
            ],
            [
             0.3333333333333333,
             "#9c179e"
            ],
            [
             0.4444444444444444,
             "#bd3786"
            ],
            [
             0.5555555555555556,
             "#d8576b"
            ],
            [
             0.6666666666666666,
             "#ed7953"
            ],
            [
             0.7777777777777778,
             "#fb9f3a"
            ],
            [
             0.8888888888888888,
             "#fdca26"
            ],
            [
             1,
             "#f0f921"
            ]
           ],
           "sequentialminus": [
            [
             0,
             "#0d0887"
            ],
            [
             0.1111111111111111,
             "#46039f"
            ],
            [
             0.2222222222222222,
             "#7201a8"
            ],
            [
             0.3333333333333333,
             "#9c179e"
            ],
            [
             0.4444444444444444,
             "#bd3786"
            ],
            [
             0.5555555555555556,
             "#d8576b"
            ],
            [
             0.6666666666666666,
             "#ed7953"
            ],
            [
             0.7777777777777778,
             "#fb9f3a"
            ],
            [
             0.8888888888888888,
             "#fdca26"
            ],
            [
             1,
             "#f0f921"
            ]
           ]
          },
          "colorway": [
           "#636efa",
           "#EF553B",
           "#00cc96",
           "#ab63fa",
           "#FFA15A",
           "#19d3f3",
           "#FF6692",
           "#B6E880",
           "#FF97FF",
           "#FECB52"
          ],
          "font": {
           "color": "#2a3f5f"
          },
          "geo": {
           "bgcolor": "white",
           "lakecolor": "white",
           "landcolor": "#E5ECF6",
           "showlakes": true,
           "showland": true,
           "subunitcolor": "white"
          },
          "hoverlabel": {
           "align": "left"
          },
          "hovermode": "closest",
          "mapbox": {
           "style": "light"
          },
          "paper_bgcolor": "white",
          "plot_bgcolor": "#E5ECF6",
          "polar": {
           "angularaxis": {
            "gridcolor": "white",
            "linecolor": "white",
            "ticks": ""
           },
           "bgcolor": "#E5ECF6",
           "radialaxis": {
            "gridcolor": "white",
            "linecolor": "white",
            "ticks": ""
           }
          },
          "scene": {
           "xaxis": {
            "backgroundcolor": "#E5ECF6",
            "gridcolor": "white",
            "gridwidth": 2,
            "linecolor": "white",
            "showbackground": true,
            "ticks": "",
            "zerolinecolor": "white"
           },
           "yaxis": {
            "backgroundcolor": "#E5ECF6",
            "gridcolor": "white",
            "gridwidth": 2,
            "linecolor": "white",
            "showbackground": true,
            "ticks": "",
            "zerolinecolor": "white"
           },
           "zaxis": {
            "backgroundcolor": "#E5ECF6",
            "gridcolor": "white",
            "gridwidth": 2,
            "linecolor": "white",
            "showbackground": true,
            "ticks": "",
            "zerolinecolor": "white"
           }
          },
          "shapedefaults": {
           "line": {
            "color": "#2a3f5f"
           }
          },
          "ternary": {
           "aaxis": {
            "gridcolor": "white",
            "linecolor": "white",
            "ticks": ""
           },
           "baxis": {
            "gridcolor": "white",
            "linecolor": "white",
            "ticks": ""
           },
           "bgcolor": "#E5ECF6",
           "caxis": {
            "gridcolor": "white",
            "linecolor": "white",
            "ticks": ""
           }
          },
          "title": {
           "x": 0.05
          },
          "xaxis": {
           "automargin": true,
           "gridcolor": "white",
           "linecolor": "white",
           "ticks": "",
           "title": {
            "standoff": 15
           },
           "zerolinecolor": "white",
           "zerolinewidth": 2
          },
          "yaxis": {
           "automargin": true,
           "gridcolor": "white",
           "linecolor": "white",
           "ticks": "",
           "title": {
            "standoff": 15
           },
           "zerolinecolor": "white",
           "zerolinewidth": 2
          }
         }
        },
        "title": {
         "font": {
          "color": "#4D5663"
         }
        },
        "xaxis": {
         "gridcolor": "#E1E5ED",
         "showgrid": true,
         "tickfont": {
          "color": "#4D5663"
         },
         "title": {
          "font": {
           "color": "#4D5663"
          },
          "text": ""
         },
         "zerolinecolor": "#E1E5ED"
        },
        "yaxis": {
         "gridcolor": "#E1E5ED",
         "showgrid": true,
         "tickfont": {
          "color": "#4D5663"
         },
         "title": {
          "font": {
           "color": "#4D5663"
          },
          "text": ""
         },
         "zerolinecolor": "#E1E5ED"
        }
       }
      },
      "text/html": [
       "<div>                            <div id=\"bd793945-9af3-4b3d-93fe-6fd05dd86ef7\" class=\"plotly-graph-div\" style=\"height:525px; width:100%;\"></div>            <script type=\"text/javascript\">                require([\"plotly\"], function(Plotly) {                    window.PLOTLYENV=window.PLOTLYENV || {};\n",
       "                    window.PLOTLYENV.BASE_URL='https://plot.ly';                                    if (document.getElementById(\"bd793945-9af3-4b3d-93fe-6fd05dd86ef7\")) {                    Plotly.newPlot(                        \"bd793945-9af3-4b3d-93fe-6fd05dd86ef7\",                        [{\"histfunc\":\"count\",\"histnorm\":\"\",\"marker\":{\"color\":\"rgba(255, 153, 51, 1.0)\",\"line\":{\"color\":\"#4D5663\",\"width\":1.3}},\"name\":\"A\",\"nbinsx\":25,\"opacity\":0.8,\"orientation\":\"v\",\"type\":\"histogram\",\"x\":[-1.5698810706263946,-0.24670595182913876,0.9304875741808672,-0.5066248091859992,0.6849922041296616,1.8970178017465043,0.8077409636879337,-1.0010217400668584,1.3704184544113829,0.4285482444378609,-1.4904588136094539,-1.057101523542387,-0.027965777366933554,0.49225766147762384,1.7494548923444855,0.6281606764666283,0.4124195324549872,-1.214371296495128,-1.0341361517499075,1.226524093673132,-0.3702532214319981,-1.026602653888882,-2.3899848709024765,0.18617738129491324,1.4205391403152827,0.16620298379615436,0.929471725944909,-0.2948437483626567,-0.19238683310333554,0.3847510505627772,1.0876155888389627,-0.13114344678221457,-2.6313549063054644,-0.3071103070391007,0.02304046542887793,0.2729530132607438,-0.5975479856090492,-1.307335029097629,-0.47343875594268553,0.40462706875938037,-0.3750837496186107,-1.153600856704141,-0.3210114638708474,-2.2727107459326708,0.14301117636838187,-0.4665470914808554,0.826330087593931,-0.4180146691670233,1.054261233414269,-0.769436597202262,0.30626623858840024,-1.222590132635321,-2.30431979214976,0.666109200462043,-1.6728303362407113,0.1360130473809156,0.2494020778281667,-1.4992821492867194,-0.5116902731427975,1.525411005806135,-1.0830706078125625,-1.1839618316805465,-1.2495174128404651,-0.25963125105376794,-1.0391021603416049,1.1701721156729272,0.5622979488932329,-0.4771715870306209,1.768125398112826,0.7841311388100116,-0.6192657048486289,-1.6034238616624827,-1.8180894620316153,-0.3769070560431302,-0.41583997308357923,-0.6968963202170636,0.13930902297487113,-0.6588464417475745,0.16723455663614806,-0.5816300010843882,0.8479015012297172,-0.8378041078347768,0.590067897520868,-0.7406499043141112,2.0006310452298584,0.05244393802697705,-1.2673761100060725,-1.856178347559622,-0.8744830899459701,-1.254130315577289,-1.1896877070913607,-1.1228223429505455,1.5350484892720089,-0.7992697234238435,0.4575057067461036,0.7343373638940573,1.1758847224955535,0.047416055252521176,-0.15774964088717078,-1.0755946344964076]}],                        {\"barmode\":\"overlay\",\"legend\":{\"bgcolor\":\"#F5F6F9\",\"font\":{\"color\":\"#4D5663\"}},\"paper_bgcolor\":\"#F5F6F9\",\"plot_bgcolor\":\"#F5F6F9\",\"template\":{\"data\":{\"bar\":[{\"error_x\":{\"color\":\"#2a3f5f\"},\"error_y\":{\"color\":\"#2a3f5f\"},\"marker\":{\"line\":{\"color\":\"#E5ECF6\",\"width\":0.5},\"pattern\":{\"fillmode\":\"overlay\",\"size\":10,\"solidity\":0.2}},\"type\":\"bar\"}],\"barpolar\":[{\"marker\":{\"line\":{\"color\":\"#E5ECF6\",\"width\":0.5},\"pattern\":{\"fillmode\":\"overlay\",\"size\":10,\"solidity\":0.2}},\"type\":\"barpolar\"}],\"carpet\":[{\"aaxis\":{\"endlinecolor\":\"#2a3f5f\",\"gridcolor\":\"white\",\"linecolor\":\"white\",\"minorgridcolor\":\"white\",\"startlinecolor\":\"#2a3f5f\"},\"baxis\":{\"endlinecolor\":\"#2a3f5f\",\"gridcolor\":\"white\",\"linecolor\":\"white\",\"minorgridcolor\":\"white\",\"startlinecolor\":\"#2a3f5f\"},\"type\":\"carpet\"}],\"choropleth\":[{\"colorbar\":{\"outlinewidth\":0,\"ticks\":\"\"},\"type\":\"choropleth\"}],\"contour\":[{\"colorbar\":{\"outlinewidth\":0,\"ticks\":\"\"},\"colorscale\":[[0.0,\"#0d0887\"],[0.1111111111111111,\"#46039f\"],[0.2222222222222222,\"#7201a8\"],[0.3333333333333333,\"#9c179e\"],[0.4444444444444444,\"#bd3786\"],[0.5555555555555556,\"#d8576b\"],[0.6666666666666666,\"#ed7953\"],[0.7777777777777778,\"#fb9f3a\"],[0.8888888888888888,\"#fdca26\"],[1.0,\"#f0f921\"]],\"type\":\"contour\"}],\"contourcarpet\":[{\"colorbar\":{\"outlinewidth\":0,\"ticks\":\"\"},\"type\":\"contourcarpet\"}],\"heatmap\":[{\"colorbar\":{\"outlinewidth\":0,\"ticks\":\"\"},\"colorscale\":[[0.0,\"#0d0887\"],[0.1111111111111111,\"#46039f\"],[0.2222222222222222,\"#7201a8\"],[0.3333333333333333,\"#9c179e\"],[0.4444444444444444,\"#bd3786\"],[0.5555555555555556,\"#d8576b\"],[0.6666666666666666,\"#ed7953\"],[0.7777777777777778,\"#fb9f3a\"],[0.8888888888888888,\"#fdca26\"],[1.0,\"#f0f921\"]],\"type\":\"heatmap\"}],\"heatmapgl\":[{\"colorbar\":{\"outlinewidth\":0,\"ticks\":\"\"},\"colorscale\":[[0.0,\"#0d0887\"],[0.1111111111111111,\"#46039f\"],[0.2222222222222222,\"#7201a8\"],[0.3333333333333333,\"#9c179e\"],[0.4444444444444444,\"#bd3786\"],[0.5555555555555556,\"#d8576b\"],[0.6666666666666666,\"#ed7953\"],[0.7777777777777778,\"#fb9f3a\"],[0.8888888888888888,\"#fdca26\"],[1.0,\"#f0f921\"]],\"type\":\"heatmapgl\"}],\"histogram\":[{\"marker\":{\"pattern\":{\"fillmode\":\"overlay\",\"size\":10,\"solidity\":0.2}},\"type\":\"histogram\"}],\"histogram2d\":[{\"colorbar\":{\"outlinewidth\":0,\"ticks\":\"\"},\"colorscale\":[[0.0,\"#0d0887\"],[0.1111111111111111,\"#46039f\"],[0.2222222222222222,\"#7201a8\"],[0.3333333333333333,\"#9c179e\"],[0.4444444444444444,\"#bd3786\"],[0.5555555555555556,\"#d8576b\"],[0.6666666666666666,\"#ed7953\"],[0.7777777777777778,\"#fb9f3a\"],[0.8888888888888888,\"#fdca26\"],[1.0,\"#f0f921\"]],\"type\":\"histogram2d\"}],\"histogram2dcontour\":[{\"colorbar\":{\"outlinewidth\":0,\"ticks\":\"\"},\"colorscale\":[[0.0,\"#0d0887\"],[0.1111111111111111,\"#46039f\"],[0.2222222222222222,\"#7201a8\"],[0.3333333333333333,\"#9c179e\"],[0.4444444444444444,\"#bd3786\"],[0.5555555555555556,\"#d8576b\"],[0.6666666666666666,\"#ed7953\"],[0.7777777777777778,\"#fb9f3a\"],[0.8888888888888888,\"#fdca26\"],[1.0,\"#f0f921\"]],\"type\":\"histogram2dcontour\"}],\"mesh3d\":[{\"colorbar\":{\"outlinewidth\":0,\"ticks\":\"\"},\"type\":\"mesh3d\"}],\"parcoords\":[{\"line\":{\"colorbar\":{\"outlinewidth\":0,\"ticks\":\"\"}},\"type\":\"parcoords\"}],\"pie\":[{\"automargin\":true,\"type\":\"pie\"}],\"scatter\":[{\"marker\":{\"colorbar\":{\"outlinewidth\":0,\"ticks\":\"\"}},\"type\":\"scatter\"}],\"scatter3d\":[{\"line\":{\"colorbar\":{\"outlinewidth\":0,\"ticks\":\"\"}},\"marker\":{\"colorbar\":{\"outlinewidth\":0,\"ticks\":\"\"}},\"type\":\"scatter3d\"}],\"scattercarpet\":[{\"marker\":{\"colorbar\":{\"outlinewidth\":0,\"ticks\":\"\"}},\"type\":\"scattercarpet\"}],\"scattergeo\":[{\"marker\":{\"colorbar\":{\"outlinewidth\":0,\"ticks\":\"\"}},\"type\":\"scattergeo\"}],\"scattergl\":[{\"marker\":{\"colorbar\":{\"outlinewidth\":0,\"ticks\":\"\"}},\"type\":\"scattergl\"}],\"scattermapbox\":[{\"marker\":{\"colorbar\":{\"outlinewidth\":0,\"ticks\":\"\"}},\"type\":\"scattermapbox\"}],\"scatterpolar\":[{\"marker\":{\"colorbar\":{\"outlinewidth\":0,\"ticks\":\"\"}},\"type\":\"scatterpolar\"}],\"scatterpolargl\":[{\"marker\":{\"colorbar\":{\"outlinewidth\":0,\"ticks\":\"\"}},\"type\":\"scatterpolargl\"}],\"scatterternary\":[{\"marker\":{\"colorbar\":{\"outlinewidth\":0,\"ticks\":\"\"}},\"type\":\"scatterternary\"}],\"surface\":[{\"colorbar\":{\"outlinewidth\":0,\"ticks\":\"\"},\"colorscale\":[[0.0,\"#0d0887\"],[0.1111111111111111,\"#46039f\"],[0.2222222222222222,\"#7201a8\"],[0.3333333333333333,\"#9c179e\"],[0.4444444444444444,\"#bd3786\"],[0.5555555555555556,\"#d8576b\"],[0.6666666666666666,\"#ed7953\"],[0.7777777777777778,\"#fb9f3a\"],[0.8888888888888888,\"#fdca26\"],[1.0,\"#f0f921\"]],\"type\":\"surface\"}],\"table\":[{\"cells\":{\"fill\":{\"color\":\"#EBF0F8\"},\"line\":{\"color\":\"white\"}},\"header\":{\"fill\":{\"color\":\"#C8D4E3\"},\"line\":{\"color\":\"white\"}},\"type\":\"table\"}]},\"layout\":{\"annotationdefaults\":{\"arrowcolor\":\"#2a3f5f\",\"arrowhead\":0,\"arrowwidth\":1},\"autotypenumbers\":\"strict\",\"coloraxis\":{\"colorbar\":{\"outlinewidth\":0,\"ticks\":\"\"}},\"colorscale\":{\"diverging\":[[0,\"#8e0152\"],[0.1,\"#c51b7d\"],[0.2,\"#de77ae\"],[0.3,\"#f1b6da\"],[0.4,\"#fde0ef\"],[0.5,\"#f7f7f7\"],[0.6,\"#e6f5d0\"],[0.7,\"#b8e186\"],[0.8,\"#7fbc41\"],[0.9,\"#4d9221\"],[1,\"#276419\"]],\"sequential\":[[0.0,\"#0d0887\"],[0.1111111111111111,\"#46039f\"],[0.2222222222222222,\"#7201a8\"],[0.3333333333333333,\"#9c179e\"],[0.4444444444444444,\"#bd3786\"],[0.5555555555555556,\"#d8576b\"],[0.6666666666666666,\"#ed7953\"],[0.7777777777777778,\"#fb9f3a\"],[0.8888888888888888,\"#fdca26\"],[1.0,\"#f0f921\"]],\"sequentialminus\":[[0.0,\"#0d0887\"],[0.1111111111111111,\"#46039f\"],[0.2222222222222222,\"#7201a8\"],[0.3333333333333333,\"#9c179e\"],[0.4444444444444444,\"#bd3786\"],[0.5555555555555556,\"#d8576b\"],[0.6666666666666666,\"#ed7953\"],[0.7777777777777778,\"#fb9f3a\"],[0.8888888888888888,\"#fdca26\"],[1.0,\"#f0f921\"]]},\"colorway\":[\"#636efa\",\"#EF553B\",\"#00cc96\",\"#ab63fa\",\"#FFA15A\",\"#19d3f3\",\"#FF6692\",\"#B6E880\",\"#FF97FF\",\"#FECB52\"],\"font\":{\"color\":\"#2a3f5f\"},\"geo\":{\"bgcolor\":\"white\",\"lakecolor\":\"white\",\"landcolor\":\"#E5ECF6\",\"showlakes\":true,\"showland\":true,\"subunitcolor\":\"white\"},\"hoverlabel\":{\"align\":\"left\"},\"hovermode\":\"closest\",\"mapbox\":{\"style\":\"light\"},\"paper_bgcolor\":\"white\",\"plot_bgcolor\":\"#E5ECF6\",\"polar\":{\"angularaxis\":{\"gridcolor\":\"white\",\"linecolor\":\"white\",\"ticks\":\"\"},\"bgcolor\":\"#E5ECF6\",\"radialaxis\":{\"gridcolor\":\"white\",\"linecolor\":\"white\",\"ticks\":\"\"}},\"scene\":{\"xaxis\":{\"backgroundcolor\":\"#E5ECF6\",\"gridcolor\":\"white\",\"gridwidth\":2,\"linecolor\":\"white\",\"showbackground\":true,\"ticks\":\"\",\"zerolinecolor\":\"white\"},\"yaxis\":{\"backgroundcolor\":\"#E5ECF6\",\"gridcolor\":\"white\",\"gridwidth\":2,\"linecolor\":\"white\",\"showbackground\":true,\"ticks\":\"\",\"zerolinecolor\":\"white\"},\"zaxis\":{\"backgroundcolor\":\"#E5ECF6\",\"gridcolor\":\"white\",\"gridwidth\":2,\"linecolor\":\"white\",\"showbackground\":true,\"ticks\":\"\",\"zerolinecolor\":\"white\"}},\"shapedefaults\":{\"line\":{\"color\":\"#2a3f5f\"}},\"ternary\":{\"aaxis\":{\"gridcolor\":\"white\",\"linecolor\":\"white\",\"ticks\":\"\"},\"baxis\":{\"gridcolor\":\"white\",\"linecolor\":\"white\",\"ticks\":\"\"},\"bgcolor\":\"#E5ECF6\",\"caxis\":{\"gridcolor\":\"white\",\"linecolor\":\"white\",\"ticks\":\"\"}},\"title\":{\"x\":0.05},\"xaxis\":{\"automargin\":true,\"gridcolor\":\"white\",\"linecolor\":\"white\",\"ticks\":\"\",\"title\":{\"standoff\":15},\"zerolinecolor\":\"white\",\"zerolinewidth\":2},\"yaxis\":{\"automargin\":true,\"gridcolor\":\"white\",\"linecolor\":\"white\",\"ticks\":\"\",\"title\":{\"standoff\":15},\"zerolinecolor\":\"white\",\"zerolinewidth\":2}}},\"title\":{\"font\":{\"color\":\"#4D5663\"}},\"xaxis\":{\"gridcolor\":\"#E1E5ED\",\"showgrid\":true,\"tickfont\":{\"color\":\"#4D5663\"},\"title\":{\"font\":{\"color\":\"#4D5663\"},\"text\":\"\"},\"zerolinecolor\":\"#E1E5ED\"},\"yaxis\":{\"gridcolor\":\"#E1E5ED\",\"showgrid\":true,\"tickfont\":{\"color\":\"#4D5663\"},\"title\":{\"font\":{\"color\":\"#4D5663\"},\"text\":\"\"},\"zerolinecolor\":\"#E1E5ED\"}},                        {\"showLink\": true, \"linkText\": \"Export to plot.ly\", \"plotlyServerURL\": \"https://plot.ly\", \"responsive\": true}                    ).then(function(){\n",
       "                            \n",
       "var gd = document.getElementById('bd793945-9af3-4b3d-93fe-6fd05dd86ef7');\n",
       "var x = new MutationObserver(function (mutations, observer) {{\n",
       "        var display = window.getComputedStyle(gd).display;\n",
       "        if (!display || display === 'none') {{\n",
       "            console.log([gd, 'removed!']);\n",
       "            Plotly.purge(gd);\n",
       "            observer.disconnect();\n",
       "        }}\n",
       "}});\n",
       "\n",
       "// Listen for the removal of the full notebook cells\n",
       "var notebookContainer = gd.closest('#notebook-container');\n",
       "if (notebookContainer) {{\n",
       "    x.observe(notebookContainer, {childList: true});\n",
       "}}\n",
       "\n",
       "// Listen for the clearing of the current output cell\n",
       "var outputEl = gd.closest('.output');\n",
       "if (outputEl) {{\n",
       "    x.observe(outputEl, {childList: true});\n",
       "}}\n",
       "\n",
       "                        })                };                });            </script>        </div>"
      ]
     },
     "metadata": {},
     "output_type": "display_data"
    }
   ],
   "source": [
    "df['A'].iplot(kind='hist',bins=25)"
   ]
  },
  {
   "cell_type": "code",
   "execution_count": 17,
   "metadata": {
    "collapsed": false
   },
   "outputs": [
    {
     "data": {
      "application/vnd.plotly.v1+json": {
       "config": {
        "linkText": "Export to plot.ly",
        "plotlyServerURL": "https://plot.ly",
        "showLink": true
       },
       "data": [
        {
         "marker": {
          "color": [
           "rgb(255, 153, 51)",
           "rgb(55, 128, 191)",
           "rgb(50, 171, 96)",
           "rgb(128, 0, 128)",
           "rgb(219, 64, 82)",
           "rgb(0, 128, 128)",
           "rgb(255, 255, 51)",
           "rgb(128, 128, 0)",
           "rgb(251, 128, 114)",
           "rgb(128, 177, 211)"
          ],
          "line": {
           "width": 1.3
          },
          "size": [
           48,
           77,
           99,
           95,
           64,
           93,
           55,
           62,
           67,
           41,
           71,
           68,
           64,
           76,
           60,
           65,
           58,
           80,
           23,
           75,
           88,
           50,
           81,
           84,
           61,
           54,
           65,
           66,
           34,
           33,
           70,
           89,
           42,
           112,
           33,
           88,
           41,
           64,
           47,
           90,
           65,
           32,
           47,
           103,
           55,
           53,
           46,
           96,
           90,
           32,
           57,
           78,
           43,
           77,
           99,
           93,
           71,
           71,
           87,
           61,
           72,
           27,
           47,
           98,
           36,
           91,
           12,
           54,
           75,
           94,
           79,
           95,
           84,
           97,
           97,
           63,
           89,
           61,
           70,
           52,
           47,
           82,
           59,
           62,
           48,
           52,
           74,
           33,
           105,
           108,
           79,
           72,
           45,
           60,
           42,
           78,
           53,
           57,
           87,
           75
          ],
          "symbol": "circle"
         },
         "mode": "markers",
         "text": "",
         "type": "scatter",
         "x": [
          -1.5698810706263946,
          -0.24670595182913876,
          0.9304875741808672,
          -0.5066248091859992,
          0.6849922041296616,
          1.8970178017465043,
          0.8077409636879337,
          -1.0010217400668584,
          1.3704184544113829,
          0.4285482444378609,
          -1.4904588136094539,
          -1.057101523542387,
          -0.027965777366933554,
          0.49225766147762384,
          1.7494548923444855,
          0.6281606764666283,
          0.4124195324549872,
          -1.214371296495128,
          -1.0341361517499075,
          1.226524093673132,
          -0.3702532214319981,
          -1.026602653888882,
          -2.3899848709024765,
          0.18617738129491324,
          1.4205391403152827,
          0.16620298379615436,
          0.929471725944909,
          -0.2948437483626567,
          -0.19238683310333554,
          0.3847510505627772,
          1.0876155888389627,
          -0.13114344678221457,
          -2.6313549063054644,
          -0.3071103070391007,
          0.02304046542887793,
          0.2729530132607438,
          -0.5975479856090492,
          -1.307335029097629,
          -0.47343875594268553,
          0.40462706875938037,
          -0.3750837496186107,
          -1.153600856704141,
          -0.3210114638708474,
          -2.2727107459326708,
          0.14301117636838187,
          -0.4665470914808554,
          0.826330087593931,
          -0.4180146691670233,
          1.054261233414269,
          -0.769436597202262,
          0.30626623858840024,
          -1.222590132635321,
          -2.30431979214976,
          0.666109200462043,
          -1.6728303362407113,
          0.1360130473809156,
          0.2494020778281667,
          -1.4992821492867194,
          -0.5116902731427975,
          1.525411005806135,
          -1.0830706078125625,
          -1.1839618316805465,
          -1.2495174128404651,
          -0.25963125105376794,
          -1.0391021603416049,
          1.1701721156729272,
          0.5622979488932329,
          -0.4771715870306209,
          1.768125398112826,
          0.7841311388100116,
          -0.6192657048486289,
          -1.6034238616624827,
          -1.8180894620316153,
          -0.3769070560431302,
          -0.41583997308357923,
          -0.6968963202170636,
          0.13930902297487113,
          -0.6588464417475745,
          0.16723455663614806,
          -0.5816300010843882,
          0.8479015012297172,
          -0.8378041078347768,
          0.590067897520868,
          -0.7406499043141112,
          2.0006310452298584,
          0.05244393802697705,
          -1.2673761100060725,
          -1.856178347559622,
          -0.8744830899459701,
          -1.254130315577289,
          -1.1896877070913607,
          -1.1228223429505455,
          1.5350484892720089,
          -0.7992697234238435,
          0.4575057067461036,
          0.7343373638940573,
          1.1758847224955535,
          0.047416055252521176,
          -0.15774964088717078,
          -1.0755946344964076
         ],
         "y": [
          -1.3113999602332227,
          -0.5511892997361064,
          0.9564106365247286,
          -0.0756544666480186,
          -0.45951139552071874,
          -0.3443475067009876,
          0.5329020467359252,
          1.5965981779903844,
          -0.20924320022818726,
          1.0681126078401548,
          -0.45836557518658216,
          -1.4675364036403746,
          -0.6381239023755292,
          -0.04176861474034986,
          -0.44238044596072,
          -1.1019358315585372,
          -1.168885300883454,
          -1.0848304880389248,
          -0.8770366200242047,
          -0.8998816091576025,
          -0.257430903248447,
          -0.6354833792541387,
          -0.6693198479481702,
          -0.2559528260054829,
          1.0333323918355652,
          -0.05729430349437438,
          1.837781302884297,
          -0.46370353242448914,
          0.13857196530710683,
          -0.07449236233589691,
          0.8894995621514906,
          1.413508948643193,
          0.3150992901613012,
          -0.5601542001942031,
          -0.7421009574127645,
          0.9264598582933575,
          -1.1678766738320119,
          0.9199026350211115,
          1.3681026700375678,
          -1.1706032466392733,
          0.3058098352063741,
          1.0825115745711003,
          -0.7378682735739086,
          0.48708467631334085,
          -1.301103036688062,
          0.40206968519748654,
          -0.683857096879213,
          -1.8738912329733723,
          0.7171097033890735,
          0.03888805277076086,
          -1.1693617295332313,
          -1.500268149751419,
          1.344024211974228,
          -0.1555134136926965,
          -1.015500310369333,
          1.3380630990228026,
          1.0892709931382587,
          2.619925062300933,
          0.22134788766989708,
          -0.5265520734592678,
          -0.5930694400125788,
          2.0476451557714093,
          1.4136353954227314,
          -0.8583185862032842,
          0.909619416198989,
          -0.5818769144837174,
          -0.4288867922322983,
          -1.5589239266494332,
          -0.9503331341161685,
          -0.4871533471858235,
          0.37242352525385475,
          -0.12028847667674292,
          -0.5343988318276738,
          -0.29955801808268195,
          0.5750625586522502,
          -0.5439453452009341,
          -0.7457944468902554,
          0.21738104733639788,
          -0.8315775003113577,
          -0.16984480502465918,
          0.5637202019823333,
          -1.6541191753802165,
          0.7857574457781091,
          0.86207308970026,
          1.7636380440624961,
          0.5959513372063282,
          -1.18477284050119,
          0.5050905996685262,
          -0.7186843156620407,
          0.7277456402864244,
          -0.10883976841530896,
          -1.2800960574118065,
          0.9508036384404251,
          -1.2594942463628704,
          -0.43000599662706834,
          0.8518986087827631,
          2.1099835338576742,
          -1.1338620361510596,
          -0.1136365825121175,
          -0.31121735019710284
         ]
        }
       ],
       "layout": {
        "legend": {
         "bgcolor": "#F5F6F9",
         "font": {
          "color": "#4D5663"
         }
        },
        "paper_bgcolor": "#F5F6F9",
        "plot_bgcolor": "#F5F6F9",
        "template": {
         "data": {
          "bar": [
           {
            "error_x": {
             "color": "#2a3f5f"
            },
            "error_y": {
             "color": "#2a3f5f"
            },
            "marker": {
             "line": {
              "color": "#E5ECF6",
              "width": 0.5
             },
             "pattern": {
              "fillmode": "overlay",
              "size": 10,
              "solidity": 0.2
             }
            },
            "type": "bar"
           }
          ],
          "barpolar": [
           {
            "marker": {
             "line": {
              "color": "#E5ECF6",
              "width": 0.5
             },
             "pattern": {
              "fillmode": "overlay",
              "size": 10,
              "solidity": 0.2
             }
            },
            "type": "barpolar"
           }
          ],
          "carpet": [
           {
            "aaxis": {
             "endlinecolor": "#2a3f5f",
             "gridcolor": "white",
             "linecolor": "white",
             "minorgridcolor": "white",
             "startlinecolor": "#2a3f5f"
            },
            "baxis": {
             "endlinecolor": "#2a3f5f",
             "gridcolor": "white",
             "linecolor": "white",
             "minorgridcolor": "white",
             "startlinecolor": "#2a3f5f"
            },
            "type": "carpet"
           }
          ],
          "choropleth": [
           {
            "colorbar": {
             "outlinewidth": 0,
             "ticks": ""
            },
            "type": "choropleth"
           }
          ],
          "contour": [
           {
            "colorbar": {
             "outlinewidth": 0,
             "ticks": ""
            },
            "colorscale": [
             [
              0,
              "#0d0887"
             ],
             [
              0.1111111111111111,
              "#46039f"
             ],
             [
              0.2222222222222222,
              "#7201a8"
             ],
             [
              0.3333333333333333,
              "#9c179e"
             ],
             [
              0.4444444444444444,
              "#bd3786"
             ],
             [
              0.5555555555555556,
              "#d8576b"
             ],
             [
              0.6666666666666666,
              "#ed7953"
             ],
             [
              0.7777777777777778,
              "#fb9f3a"
             ],
             [
              0.8888888888888888,
              "#fdca26"
             ],
             [
              1,
              "#f0f921"
             ]
            ],
            "type": "contour"
           }
          ],
          "contourcarpet": [
           {
            "colorbar": {
             "outlinewidth": 0,
             "ticks": ""
            },
            "type": "contourcarpet"
           }
          ],
          "heatmap": [
           {
            "colorbar": {
             "outlinewidth": 0,
             "ticks": ""
            },
            "colorscale": [
             [
              0,
              "#0d0887"
             ],
             [
              0.1111111111111111,
              "#46039f"
             ],
             [
              0.2222222222222222,
              "#7201a8"
             ],
             [
              0.3333333333333333,
              "#9c179e"
             ],
             [
              0.4444444444444444,
              "#bd3786"
             ],
             [
              0.5555555555555556,
              "#d8576b"
             ],
             [
              0.6666666666666666,
              "#ed7953"
             ],
             [
              0.7777777777777778,
              "#fb9f3a"
             ],
             [
              0.8888888888888888,
              "#fdca26"
             ],
             [
              1,
              "#f0f921"
             ]
            ],
            "type": "heatmap"
           }
          ],
          "heatmapgl": [
           {
            "colorbar": {
             "outlinewidth": 0,
             "ticks": ""
            },
            "colorscale": [
             [
              0,
              "#0d0887"
             ],
             [
              0.1111111111111111,
              "#46039f"
             ],
             [
              0.2222222222222222,
              "#7201a8"
             ],
             [
              0.3333333333333333,
              "#9c179e"
             ],
             [
              0.4444444444444444,
              "#bd3786"
             ],
             [
              0.5555555555555556,
              "#d8576b"
             ],
             [
              0.6666666666666666,
              "#ed7953"
             ],
             [
              0.7777777777777778,
              "#fb9f3a"
             ],
             [
              0.8888888888888888,
              "#fdca26"
             ],
             [
              1,
              "#f0f921"
             ]
            ],
            "type": "heatmapgl"
           }
          ],
          "histogram": [
           {
            "marker": {
             "pattern": {
              "fillmode": "overlay",
              "size": 10,
              "solidity": 0.2
             }
            },
            "type": "histogram"
           }
          ],
          "histogram2d": [
           {
            "colorbar": {
             "outlinewidth": 0,
             "ticks": ""
            },
            "colorscale": [
             [
              0,
              "#0d0887"
             ],
             [
              0.1111111111111111,
              "#46039f"
             ],
             [
              0.2222222222222222,
              "#7201a8"
             ],
             [
              0.3333333333333333,
              "#9c179e"
             ],
             [
              0.4444444444444444,
              "#bd3786"
             ],
             [
              0.5555555555555556,
              "#d8576b"
             ],
             [
              0.6666666666666666,
              "#ed7953"
             ],
             [
              0.7777777777777778,
              "#fb9f3a"
             ],
             [
              0.8888888888888888,
              "#fdca26"
             ],
             [
              1,
              "#f0f921"
             ]
            ],
            "type": "histogram2d"
           }
          ],
          "histogram2dcontour": [
           {
            "colorbar": {
             "outlinewidth": 0,
             "ticks": ""
            },
            "colorscale": [
             [
              0,
              "#0d0887"
             ],
             [
              0.1111111111111111,
              "#46039f"
             ],
             [
              0.2222222222222222,
              "#7201a8"
             ],
             [
              0.3333333333333333,
              "#9c179e"
             ],
             [
              0.4444444444444444,
              "#bd3786"
             ],
             [
              0.5555555555555556,
              "#d8576b"
             ],
             [
              0.6666666666666666,
              "#ed7953"
             ],
             [
              0.7777777777777778,
              "#fb9f3a"
             ],
             [
              0.8888888888888888,
              "#fdca26"
             ],
             [
              1,
              "#f0f921"
             ]
            ],
            "type": "histogram2dcontour"
           }
          ],
          "mesh3d": [
           {
            "colorbar": {
             "outlinewidth": 0,
             "ticks": ""
            },
            "type": "mesh3d"
           }
          ],
          "parcoords": [
           {
            "line": {
             "colorbar": {
              "outlinewidth": 0,
              "ticks": ""
             }
            },
            "type": "parcoords"
           }
          ],
          "pie": [
           {
            "automargin": true,
            "type": "pie"
           }
          ],
          "scatter": [
           {
            "marker": {
             "colorbar": {
              "outlinewidth": 0,
              "ticks": ""
             }
            },
            "type": "scatter"
           }
          ],
          "scatter3d": [
           {
            "line": {
             "colorbar": {
              "outlinewidth": 0,
              "ticks": ""
             }
            },
            "marker": {
             "colorbar": {
              "outlinewidth": 0,
              "ticks": ""
             }
            },
            "type": "scatter3d"
           }
          ],
          "scattercarpet": [
           {
            "marker": {
             "colorbar": {
              "outlinewidth": 0,
              "ticks": ""
             }
            },
            "type": "scattercarpet"
           }
          ],
          "scattergeo": [
           {
            "marker": {
             "colorbar": {
              "outlinewidth": 0,
              "ticks": ""
             }
            },
            "type": "scattergeo"
           }
          ],
          "scattergl": [
           {
            "marker": {
             "colorbar": {
              "outlinewidth": 0,
              "ticks": ""
             }
            },
            "type": "scattergl"
           }
          ],
          "scattermapbox": [
           {
            "marker": {
             "colorbar": {
              "outlinewidth": 0,
              "ticks": ""
             }
            },
            "type": "scattermapbox"
           }
          ],
          "scatterpolar": [
           {
            "marker": {
             "colorbar": {
              "outlinewidth": 0,
              "ticks": ""
             }
            },
            "type": "scatterpolar"
           }
          ],
          "scatterpolargl": [
           {
            "marker": {
             "colorbar": {
              "outlinewidth": 0,
              "ticks": ""
             }
            },
            "type": "scatterpolargl"
           }
          ],
          "scatterternary": [
           {
            "marker": {
             "colorbar": {
              "outlinewidth": 0,
              "ticks": ""
             }
            },
            "type": "scatterternary"
           }
          ],
          "surface": [
           {
            "colorbar": {
             "outlinewidth": 0,
             "ticks": ""
            },
            "colorscale": [
             [
              0,
              "#0d0887"
             ],
             [
              0.1111111111111111,
              "#46039f"
             ],
             [
              0.2222222222222222,
              "#7201a8"
             ],
             [
              0.3333333333333333,
              "#9c179e"
             ],
             [
              0.4444444444444444,
              "#bd3786"
             ],
             [
              0.5555555555555556,
              "#d8576b"
             ],
             [
              0.6666666666666666,
              "#ed7953"
             ],
             [
              0.7777777777777778,
              "#fb9f3a"
             ],
             [
              0.8888888888888888,
              "#fdca26"
             ],
             [
              1,
              "#f0f921"
             ]
            ],
            "type": "surface"
           }
          ],
          "table": [
           {
            "cells": {
             "fill": {
              "color": "#EBF0F8"
             },
             "line": {
              "color": "white"
             }
            },
            "header": {
             "fill": {
              "color": "#C8D4E3"
             },
             "line": {
              "color": "white"
             }
            },
            "type": "table"
           }
          ]
         },
         "layout": {
          "annotationdefaults": {
           "arrowcolor": "#2a3f5f",
           "arrowhead": 0,
           "arrowwidth": 1
          },
          "autotypenumbers": "strict",
          "coloraxis": {
           "colorbar": {
            "outlinewidth": 0,
            "ticks": ""
           }
          },
          "colorscale": {
           "diverging": [
            [
             0,
             "#8e0152"
            ],
            [
             0.1,
             "#c51b7d"
            ],
            [
             0.2,
             "#de77ae"
            ],
            [
             0.3,
             "#f1b6da"
            ],
            [
             0.4,
             "#fde0ef"
            ],
            [
             0.5,
             "#f7f7f7"
            ],
            [
             0.6,
             "#e6f5d0"
            ],
            [
             0.7,
             "#b8e186"
            ],
            [
             0.8,
             "#7fbc41"
            ],
            [
             0.9,
             "#4d9221"
            ],
            [
             1,
             "#276419"
            ]
           ],
           "sequential": [
            [
             0,
             "#0d0887"
            ],
            [
             0.1111111111111111,
             "#46039f"
            ],
            [
             0.2222222222222222,
             "#7201a8"
            ],
            [
             0.3333333333333333,
             "#9c179e"
            ],
            [
             0.4444444444444444,
             "#bd3786"
            ],
            [
             0.5555555555555556,
             "#d8576b"
            ],
            [
             0.6666666666666666,
             "#ed7953"
            ],
            [
             0.7777777777777778,
             "#fb9f3a"
            ],
            [
             0.8888888888888888,
             "#fdca26"
            ],
            [
             1,
             "#f0f921"
            ]
           ],
           "sequentialminus": [
            [
             0,
             "#0d0887"
            ],
            [
             0.1111111111111111,
             "#46039f"
            ],
            [
             0.2222222222222222,
             "#7201a8"
            ],
            [
             0.3333333333333333,
             "#9c179e"
            ],
            [
             0.4444444444444444,
             "#bd3786"
            ],
            [
             0.5555555555555556,
             "#d8576b"
            ],
            [
             0.6666666666666666,
             "#ed7953"
            ],
            [
             0.7777777777777778,
             "#fb9f3a"
            ],
            [
             0.8888888888888888,
             "#fdca26"
            ],
            [
             1,
             "#f0f921"
            ]
           ]
          },
          "colorway": [
           "#636efa",
           "#EF553B",
           "#00cc96",
           "#ab63fa",
           "#FFA15A",
           "#19d3f3",
           "#FF6692",
           "#B6E880",
           "#FF97FF",
           "#FECB52"
          ],
          "font": {
           "color": "#2a3f5f"
          },
          "geo": {
           "bgcolor": "white",
           "lakecolor": "white",
           "landcolor": "#E5ECF6",
           "showlakes": true,
           "showland": true,
           "subunitcolor": "white"
          },
          "hoverlabel": {
           "align": "left"
          },
          "hovermode": "closest",
          "mapbox": {
           "style": "light"
          },
          "paper_bgcolor": "white",
          "plot_bgcolor": "#E5ECF6",
          "polar": {
           "angularaxis": {
            "gridcolor": "white",
            "linecolor": "white",
            "ticks": ""
           },
           "bgcolor": "#E5ECF6",
           "radialaxis": {
            "gridcolor": "white",
            "linecolor": "white",
            "ticks": ""
           }
          },
          "scene": {
           "xaxis": {
            "backgroundcolor": "#E5ECF6",
            "gridcolor": "white",
            "gridwidth": 2,
            "linecolor": "white",
            "showbackground": true,
            "ticks": "",
            "zerolinecolor": "white"
           },
           "yaxis": {
            "backgroundcolor": "#E5ECF6",
            "gridcolor": "white",
            "gridwidth": 2,
            "linecolor": "white",
            "showbackground": true,
            "ticks": "",
            "zerolinecolor": "white"
           },
           "zaxis": {
            "backgroundcolor": "#E5ECF6",
            "gridcolor": "white",
            "gridwidth": 2,
            "linecolor": "white",
            "showbackground": true,
            "ticks": "",
            "zerolinecolor": "white"
           }
          },
          "shapedefaults": {
           "line": {
            "color": "#2a3f5f"
           }
          },
          "ternary": {
           "aaxis": {
            "gridcolor": "white",
            "linecolor": "white",
            "ticks": ""
           },
           "baxis": {
            "gridcolor": "white",
            "linecolor": "white",
            "ticks": ""
           },
           "bgcolor": "#E5ECF6",
           "caxis": {
            "gridcolor": "white",
            "linecolor": "white",
            "ticks": ""
           }
          },
          "title": {
           "x": 0.05
          },
          "xaxis": {
           "automargin": true,
           "gridcolor": "white",
           "linecolor": "white",
           "ticks": "",
           "title": {
            "standoff": 15
           },
           "zerolinecolor": "white",
           "zerolinewidth": 2
          },
          "yaxis": {
           "automargin": true,
           "gridcolor": "white",
           "linecolor": "white",
           "ticks": "",
           "title": {
            "standoff": 15
           },
           "zerolinecolor": "white",
           "zerolinewidth": 2
          }
         }
        },
        "title": {
         "font": {
          "color": "#4D5663"
         }
        },
        "xaxis": {
         "gridcolor": "#E1E5ED",
         "showgrid": true,
         "tickfont": {
          "color": "#4D5663"
         },
         "title": {
          "font": {
           "color": "#4D5663"
          },
          "text": ""
         },
         "zerolinecolor": "#E1E5ED"
        },
        "yaxis": {
         "gridcolor": "#E1E5ED",
         "showgrid": true,
         "tickfont": {
          "color": "#4D5663"
         },
         "title": {
          "font": {
           "color": "#4D5663"
          },
          "text": ""
         },
         "zerolinecolor": "#E1E5ED"
        }
       }
      },
      "text/html": [
       "<div>                            <div id=\"6a4df4ef-10e9-4a0c-a30b-2d6c706339f2\" class=\"plotly-graph-div\" style=\"height:525px; width:100%;\"></div>            <script type=\"text/javascript\">                require([\"plotly\"], function(Plotly) {                    window.PLOTLYENV=window.PLOTLYENV || {};\n",
       "                    window.PLOTLYENV.BASE_URL='https://plot.ly';                                    if (document.getElementById(\"6a4df4ef-10e9-4a0c-a30b-2d6c706339f2\")) {                    Plotly.newPlot(                        \"6a4df4ef-10e9-4a0c-a30b-2d6c706339f2\",                        [{\"marker\":{\"color\":[\"rgb(255, 153, 51)\",\"rgb(55, 128, 191)\",\"rgb(50, 171, 96)\",\"rgb(128, 0, 128)\",\"rgb(219, 64, 82)\",\"rgb(0, 128, 128)\",\"rgb(255, 255, 51)\",\"rgb(128, 128, 0)\",\"rgb(251, 128, 114)\",\"rgb(128, 177, 211)\"],\"line\":{\"width\":1.3},\"size\":[48,77,99,95,64,93,55,62,67,41,71,68,64,76,60,65,58,80,23,75,88,50,81,84,61,54,65,66,34,33,70,89,42,112,33,88,41,64,47,90,65,32,47,103,55,53,46,96,90,32,57,78,43,77,99,93,71,71,87,61,72,27,47,98,36,91,12,54,75,94,79,95,84,97,97,63,89,61,70,52,47,82,59,62,48,52,74,33,105,108,79,72,45,60,42,78,53,57,87,75],\"symbol\":\"circle\"},\"mode\":\"markers\",\"text\":\"\",\"type\":\"scatter\",\"x\":[-1.5698810706263946,-0.24670595182913876,0.9304875741808672,-0.5066248091859992,0.6849922041296616,1.8970178017465043,0.8077409636879337,-1.0010217400668584,1.3704184544113829,0.4285482444378609,-1.4904588136094539,-1.057101523542387,-0.027965777366933554,0.49225766147762384,1.7494548923444855,0.6281606764666283,0.4124195324549872,-1.214371296495128,-1.0341361517499075,1.226524093673132,-0.3702532214319981,-1.026602653888882,-2.3899848709024765,0.18617738129491324,1.4205391403152827,0.16620298379615436,0.929471725944909,-0.2948437483626567,-0.19238683310333554,0.3847510505627772,1.0876155888389627,-0.13114344678221457,-2.6313549063054644,-0.3071103070391007,0.02304046542887793,0.2729530132607438,-0.5975479856090492,-1.307335029097629,-0.47343875594268553,0.40462706875938037,-0.3750837496186107,-1.153600856704141,-0.3210114638708474,-2.2727107459326708,0.14301117636838187,-0.4665470914808554,0.826330087593931,-0.4180146691670233,1.054261233414269,-0.769436597202262,0.30626623858840024,-1.222590132635321,-2.30431979214976,0.666109200462043,-1.6728303362407113,0.1360130473809156,0.2494020778281667,-1.4992821492867194,-0.5116902731427975,1.525411005806135,-1.0830706078125625,-1.1839618316805465,-1.2495174128404651,-0.25963125105376794,-1.0391021603416049,1.1701721156729272,0.5622979488932329,-0.4771715870306209,1.768125398112826,0.7841311388100116,-0.6192657048486289,-1.6034238616624827,-1.8180894620316153,-0.3769070560431302,-0.41583997308357923,-0.6968963202170636,0.13930902297487113,-0.6588464417475745,0.16723455663614806,-0.5816300010843882,0.8479015012297172,-0.8378041078347768,0.590067897520868,-0.7406499043141112,2.0006310452298584,0.05244393802697705,-1.2673761100060725,-1.856178347559622,-0.8744830899459701,-1.254130315577289,-1.1896877070913607,-1.1228223429505455,1.5350484892720089,-0.7992697234238435,0.4575057067461036,0.7343373638940573,1.1758847224955535,0.047416055252521176,-0.15774964088717078,-1.0755946344964076],\"y\":[-1.3113999602332227,-0.5511892997361064,0.9564106365247286,-0.0756544666480186,-0.45951139552071874,-0.3443475067009876,0.5329020467359252,1.5965981779903844,-0.20924320022818726,1.0681126078401548,-0.45836557518658216,-1.4675364036403746,-0.6381239023755292,-0.04176861474034986,-0.44238044596072,-1.1019358315585372,-1.168885300883454,-1.0848304880389248,-0.8770366200242047,-0.8998816091576025,-0.257430903248447,-0.6354833792541387,-0.6693198479481702,-0.2559528260054829,1.0333323918355652,-0.05729430349437438,1.837781302884297,-0.46370353242448914,0.13857196530710683,-0.07449236233589691,0.8894995621514906,1.413508948643193,0.3150992901613012,-0.5601542001942031,-0.7421009574127645,0.9264598582933575,-1.1678766738320119,0.9199026350211115,1.3681026700375678,-1.1706032466392733,0.3058098352063741,1.0825115745711003,-0.7378682735739086,0.48708467631334085,-1.301103036688062,0.40206968519748654,-0.683857096879213,-1.8738912329733723,0.7171097033890735,0.03888805277076086,-1.1693617295332313,-1.500268149751419,1.344024211974228,-0.1555134136926965,-1.015500310369333,1.3380630990228026,1.0892709931382587,2.619925062300933,0.22134788766989708,-0.5265520734592678,-0.5930694400125788,2.0476451557714093,1.4136353954227314,-0.8583185862032842,0.909619416198989,-0.5818769144837174,-0.4288867922322983,-1.5589239266494332,-0.9503331341161685,-0.4871533471858235,0.37242352525385475,-0.12028847667674292,-0.5343988318276738,-0.29955801808268195,0.5750625586522502,-0.5439453452009341,-0.7457944468902554,0.21738104733639788,-0.8315775003113577,-0.16984480502465918,0.5637202019823333,-1.6541191753802165,0.7857574457781091,0.86207308970026,1.7636380440624961,0.5959513372063282,-1.18477284050119,0.5050905996685262,-0.7186843156620407,0.7277456402864244,-0.10883976841530896,-1.2800960574118065,0.9508036384404251,-1.2594942463628704,-0.43000599662706834,0.8518986087827631,2.1099835338576742,-1.1338620361510596,-0.1136365825121175,-0.31121735019710284]}],                        {\"legend\":{\"bgcolor\":\"#F5F6F9\",\"font\":{\"color\":\"#4D5663\"}},\"paper_bgcolor\":\"#F5F6F9\",\"plot_bgcolor\":\"#F5F6F9\",\"template\":{\"data\":{\"bar\":[{\"error_x\":{\"color\":\"#2a3f5f\"},\"error_y\":{\"color\":\"#2a3f5f\"},\"marker\":{\"line\":{\"color\":\"#E5ECF6\",\"width\":0.5},\"pattern\":{\"fillmode\":\"overlay\",\"size\":10,\"solidity\":0.2}},\"type\":\"bar\"}],\"barpolar\":[{\"marker\":{\"line\":{\"color\":\"#E5ECF6\",\"width\":0.5},\"pattern\":{\"fillmode\":\"overlay\",\"size\":10,\"solidity\":0.2}},\"type\":\"barpolar\"}],\"carpet\":[{\"aaxis\":{\"endlinecolor\":\"#2a3f5f\",\"gridcolor\":\"white\",\"linecolor\":\"white\",\"minorgridcolor\":\"white\",\"startlinecolor\":\"#2a3f5f\"},\"baxis\":{\"endlinecolor\":\"#2a3f5f\",\"gridcolor\":\"white\",\"linecolor\":\"white\",\"minorgridcolor\":\"white\",\"startlinecolor\":\"#2a3f5f\"},\"type\":\"carpet\"}],\"choropleth\":[{\"colorbar\":{\"outlinewidth\":0,\"ticks\":\"\"},\"type\":\"choropleth\"}],\"contour\":[{\"colorbar\":{\"outlinewidth\":0,\"ticks\":\"\"},\"colorscale\":[[0.0,\"#0d0887\"],[0.1111111111111111,\"#46039f\"],[0.2222222222222222,\"#7201a8\"],[0.3333333333333333,\"#9c179e\"],[0.4444444444444444,\"#bd3786\"],[0.5555555555555556,\"#d8576b\"],[0.6666666666666666,\"#ed7953\"],[0.7777777777777778,\"#fb9f3a\"],[0.8888888888888888,\"#fdca26\"],[1.0,\"#f0f921\"]],\"type\":\"contour\"}],\"contourcarpet\":[{\"colorbar\":{\"outlinewidth\":0,\"ticks\":\"\"},\"type\":\"contourcarpet\"}],\"heatmap\":[{\"colorbar\":{\"outlinewidth\":0,\"ticks\":\"\"},\"colorscale\":[[0.0,\"#0d0887\"],[0.1111111111111111,\"#46039f\"],[0.2222222222222222,\"#7201a8\"],[0.3333333333333333,\"#9c179e\"],[0.4444444444444444,\"#bd3786\"],[0.5555555555555556,\"#d8576b\"],[0.6666666666666666,\"#ed7953\"],[0.7777777777777778,\"#fb9f3a\"],[0.8888888888888888,\"#fdca26\"],[1.0,\"#f0f921\"]],\"type\":\"heatmap\"}],\"heatmapgl\":[{\"colorbar\":{\"outlinewidth\":0,\"ticks\":\"\"},\"colorscale\":[[0.0,\"#0d0887\"],[0.1111111111111111,\"#46039f\"],[0.2222222222222222,\"#7201a8\"],[0.3333333333333333,\"#9c179e\"],[0.4444444444444444,\"#bd3786\"],[0.5555555555555556,\"#d8576b\"],[0.6666666666666666,\"#ed7953\"],[0.7777777777777778,\"#fb9f3a\"],[0.8888888888888888,\"#fdca26\"],[1.0,\"#f0f921\"]],\"type\":\"heatmapgl\"}],\"histogram\":[{\"marker\":{\"pattern\":{\"fillmode\":\"overlay\",\"size\":10,\"solidity\":0.2}},\"type\":\"histogram\"}],\"histogram2d\":[{\"colorbar\":{\"outlinewidth\":0,\"ticks\":\"\"},\"colorscale\":[[0.0,\"#0d0887\"],[0.1111111111111111,\"#46039f\"],[0.2222222222222222,\"#7201a8\"],[0.3333333333333333,\"#9c179e\"],[0.4444444444444444,\"#bd3786\"],[0.5555555555555556,\"#d8576b\"],[0.6666666666666666,\"#ed7953\"],[0.7777777777777778,\"#fb9f3a\"],[0.8888888888888888,\"#fdca26\"],[1.0,\"#f0f921\"]],\"type\":\"histogram2d\"}],\"histogram2dcontour\":[{\"colorbar\":{\"outlinewidth\":0,\"ticks\":\"\"},\"colorscale\":[[0.0,\"#0d0887\"],[0.1111111111111111,\"#46039f\"],[0.2222222222222222,\"#7201a8\"],[0.3333333333333333,\"#9c179e\"],[0.4444444444444444,\"#bd3786\"],[0.5555555555555556,\"#d8576b\"],[0.6666666666666666,\"#ed7953\"],[0.7777777777777778,\"#fb9f3a\"],[0.8888888888888888,\"#fdca26\"],[1.0,\"#f0f921\"]],\"type\":\"histogram2dcontour\"}],\"mesh3d\":[{\"colorbar\":{\"outlinewidth\":0,\"ticks\":\"\"},\"type\":\"mesh3d\"}],\"parcoords\":[{\"line\":{\"colorbar\":{\"outlinewidth\":0,\"ticks\":\"\"}},\"type\":\"parcoords\"}],\"pie\":[{\"automargin\":true,\"type\":\"pie\"}],\"scatter\":[{\"marker\":{\"colorbar\":{\"outlinewidth\":0,\"ticks\":\"\"}},\"type\":\"scatter\"}],\"scatter3d\":[{\"line\":{\"colorbar\":{\"outlinewidth\":0,\"ticks\":\"\"}},\"marker\":{\"colorbar\":{\"outlinewidth\":0,\"ticks\":\"\"}},\"type\":\"scatter3d\"}],\"scattercarpet\":[{\"marker\":{\"colorbar\":{\"outlinewidth\":0,\"ticks\":\"\"}},\"type\":\"scattercarpet\"}],\"scattergeo\":[{\"marker\":{\"colorbar\":{\"outlinewidth\":0,\"ticks\":\"\"}},\"type\":\"scattergeo\"}],\"scattergl\":[{\"marker\":{\"colorbar\":{\"outlinewidth\":0,\"ticks\":\"\"}},\"type\":\"scattergl\"}],\"scattermapbox\":[{\"marker\":{\"colorbar\":{\"outlinewidth\":0,\"ticks\":\"\"}},\"type\":\"scattermapbox\"}],\"scatterpolar\":[{\"marker\":{\"colorbar\":{\"outlinewidth\":0,\"ticks\":\"\"}},\"type\":\"scatterpolar\"}],\"scatterpolargl\":[{\"marker\":{\"colorbar\":{\"outlinewidth\":0,\"ticks\":\"\"}},\"type\":\"scatterpolargl\"}],\"scatterternary\":[{\"marker\":{\"colorbar\":{\"outlinewidth\":0,\"ticks\":\"\"}},\"type\":\"scatterternary\"}],\"surface\":[{\"colorbar\":{\"outlinewidth\":0,\"ticks\":\"\"},\"colorscale\":[[0.0,\"#0d0887\"],[0.1111111111111111,\"#46039f\"],[0.2222222222222222,\"#7201a8\"],[0.3333333333333333,\"#9c179e\"],[0.4444444444444444,\"#bd3786\"],[0.5555555555555556,\"#d8576b\"],[0.6666666666666666,\"#ed7953\"],[0.7777777777777778,\"#fb9f3a\"],[0.8888888888888888,\"#fdca26\"],[1.0,\"#f0f921\"]],\"type\":\"surface\"}],\"table\":[{\"cells\":{\"fill\":{\"color\":\"#EBF0F8\"},\"line\":{\"color\":\"white\"}},\"header\":{\"fill\":{\"color\":\"#C8D4E3\"},\"line\":{\"color\":\"white\"}},\"type\":\"table\"}]},\"layout\":{\"annotationdefaults\":{\"arrowcolor\":\"#2a3f5f\",\"arrowhead\":0,\"arrowwidth\":1},\"autotypenumbers\":\"strict\",\"coloraxis\":{\"colorbar\":{\"outlinewidth\":0,\"ticks\":\"\"}},\"colorscale\":{\"diverging\":[[0,\"#8e0152\"],[0.1,\"#c51b7d\"],[0.2,\"#de77ae\"],[0.3,\"#f1b6da\"],[0.4,\"#fde0ef\"],[0.5,\"#f7f7f7\"],[0.6,\"#e6f5d0\"],[0.7,\"#b8e186\"],[0.8,\"#7fbc41\"],[0.9,\"#4d9221\"],[1,\"#276419\"]],\"sequential\":[[0.0,\"#0d0887\"],[0.1111111111111111,\"#46039f\"],[0.2222222222222222,\"#7201a8\"],[0.3333333333333333,\"#9c179e\"],[0.4444444444444444,\"#bd3786\"],[0.5555555555555556,\"#d8576b\"],[0.6666666666666666,\"#ed7953\"],[0.7777777777777778,\"#fb9f3a\"],[0.8888888888888888,\"#fdca26\"],[1.0,\"#f0f921\"]],\"sequentialminus\":[[0.0,\"#0d0887\"],[0.1111111111111111,\"#46039f\"],[0.2222222222222222,\"#7201a8\"],[0.3333333333333333,\"#9c179e\"],[0.4444444444444444,\"#bd3786\"],[0.5555555555555556,\"#d8576b\"],[0.6666666666666666,\"#ed7953\"],[0.7777777777777778,\"#fb9f3a\"],[0.8888888888888888,\"#fdca26\"],[1.0,\"#f0f921\"]]},\"colorway\":[\"#636efa\",\"#EF553B\",\"#00cc96\",\"#ab63fa\",\"#FFA15A\",\"#19d3f3\",\"#FF6692\",\"#B6E880\",\"#FF97FF\",\"#FECB52\"],\"font\":{\"color\":\"#2a3f5f\"},\"geo\":{\"bgcolor\":\"white\",\"lakecolor\":\"white\",\"landcolor\":\"#E5ECF6\",\"showlakes\":true,\"showland\":true,\"subunitcolor\":\"white\"},\"hoverlabel\":{\"align\":\"left\"},\"hovermode\":\"closest\",\"mapbox\":{\"style\":\"light\"},\"paper_bgcolor\":\"white\",\"plot_bgcolor\":\"#E5ECF6\",\"polar\":{\"angularaxis\":{\"gridcolor\":\"white\",\"linecolor\":\"white\",\"ticks\":\"\"},\"bgcolor\":\"#E5ECF6\",\"radialaxis\":{\"gridcolor\":\"white\",\"linecolor\":\"white\",\"ticks\":\"\"}},\"scene\":{\"xaxis\":{\"backgroundcolor\":\"#E5ECF6\",\"gridcolor\":\"white\",\"gridwidth\":2,\"linecolor\":\"white\",\"showbackground\":true,\"ticks\":\"\",\"zerolinecolor\":\"white\"},\"yaxis\":{\"backgroundcolor\":\"#E5ECF6\",\"gridcolor\":\"white\",\"gridwidth\":2,\"linecolor\":\"white\",\"showbackground\":true,\"ticks\":\"\",\"zerolinecolor\":\"white\"},\"zaxis\":{\"backgroundcolor\":\"#E5ECF6\",\"gridcolor\":\"white\",\"gridwidth\":2,\"linecolor\":\"white\",\"showbackground\":true,\"ticks\":\"\",\"zerolinecolor\":\"white\"}},\"shapedefaults\":{\"line\":{\"color\":\"#2a3f5f\"}},\"ternary\":{\"aaxis\":{\"gridcolor\":\"white\",\"linecolor\":\"white\",\"ticks\":\"\"},\"baxis\":{\"gridcolor\":\"white\",\"linecolor\":\"white\",\"ticks\":\"\"},\"bgcolor\":\"#E5ECF6\",\"caxis\":{\"gridcolor\":\"white\",\"linecolor\":\"white\",\"ticks\":\"\"}},\"title\":{\"x\":0.05},\"xaxis\":{\"automargin\":true,\"gridcolor\":\"white\",\"linecolor\":\"white\",\"ticks\":\"\",\"title\":{\"standoff\":15},\"zerolinecolor\":\"white\",\"zerolinewidth\":2},\"yaxis\":{\"automargin\":true,\"gridcolor\":\"white\",\"linecolor\":\"white\",\"ticks\":\"\",\"title\":{\"standoff\":15},\"zerolinecolor\":\"white\",\"zerolinewidth\":2}}},\"title\":{\"font\":{\"color\":\"#4D5663\"}},\"xaxis\":{\"gridcolor\":\"#E1E5ED\",\"showgrid\":true,\"tickfont\":{\"color\":\"#4D5663\"},\"title\":{\"font\":{\"color\":\"#4D5663\"},\"text\":\"\"},\"zerolinecolor\":\"#E1E5ED\"},\"yaxis\":{\"gridcolor\":\"#E1E5ED\",\"showgrid\":true,\"tickfont\":{\"color\":\"#4D5663\"},\"title\":{\"font\":{\"color\":\"#4D5663\"},\"text\":\"\"},\"zerolinecolor\":\"#E1E5ED\"}},                        {\"showLink\": true, \"linkText\": \"Export to plot.ly\", \"plotlyServerURL\": \"https://plot.ly\", \"responsive\": true}                    ).then(function(){\n",
       "                            \n",
       "var gd = document.getElementById('6a4df4ef-10e9-4a0c-a30b-2d6c706339f2');\n",
       "var x = new MutationObserver(function (mutations, observer) {{\n",
       "        var display = window.getComputedStyle(gd).display;\n",
       "        if (!display || display === 'none') {{\n",
       "            console.log([gd, 'removed!']);\n",
       "            Plotly.purge(gd);\n",
       "            observer.disconnect();\n",
       "        }}\n",
       "}});\n",
       "\n",
       "// Listen for the removal of the full notebook cells\n",
       "var notebookContainer = gd.closest('#notebook-container');\n",
       "if (notebookContainer) {{\n",
       "    x.observe(notebookContainer, {childList: true});\n",
       "}}\n",
       "\n",
       "// Listen for the clearing of the current output cell\n",
       "var outputEl = gd.closest('.output');\n",
       "if (outputEl) {{\n",
       "    x.observe(outputEl, {childList: true});\n",
       "}}\n",
       "\n",
       "                        })                };                });            </script>        </div>"
      ]
     },
     "metadata": {},
     "output_type": "display_data"
    }
   ],
   "source": [
    "df.iplot(kind='bubble',x='A',y='B',size='C')"
   ]
  },
  {
   "cell_type": "markdown",
   "metadata": {},
   "source": [
    "## scatter_matrix()\n",
    "\n",
    "Similar to sns.pairplot()"
   ]
  },
  {
   "cell_type": "code",
   "execution_count": 18,
   "metadata": {
    "collapsed": false
   },
   "outputs": [
    {
     "data": {
      "application/vnd.plotly.v1+json": {
       "config": {
        "linkText": "Export to plot.ly",
        "plotlyServerURL": "https://plot.ly",
        "showLink": true
       },
       "data": [
        {
         "histfunc": "count",
         "histnorm": "",
         "marker": {
          "color": "rgba(255, 153, 51, 1.0)",
          "line": {
           "color": "#4D5663",
           "width": 1.3
          }
         },
         "name": "A",
         "nbinsx": 10,
         "opacity": 0.8,
         "orientation": "v",
         "type": "histogram",
         "x": [
          -1.5698810706263946,
          -0.24670595182913876,
          0.9304875741808672,
          -0.5066248091859992,
          0.6849922041296616,
          1.8970178017465043,
          0.8077409636879337,
          -1.0010217400668584,
          1.3704184544113829,
          0.4285482444378609,
          -1.4904588136094539,
          -1.057101523542387,
          -0.027965777366933554,
          0.49225766147762384,
          1.7494548923444855,
          0.6281606764666283,
          0.4124195324549872,
          -1.214371296495128,
          -1.0341361517499075,
          1.226524093673132,
          -0.3702532214319981,
          -1.026602653888882,
          -2.3899848709024765,
          0.18617738129491324,
          1.4205391403152827,
          0.16620298379615436,
          0.929471725944909,
          -0.2948437483626567,
          -0.19238683310333554,
          0.3847510505627772,
          1.0876155888389627,
          -0.13114344678221457,
          -2.6313549063054644,
          -0.3071103070391007,
          0.02304046542887793,
          0.2729530132607438,
          -0.5975479856090492,
          -1.307335029097629,
          -0.47343875594268553,
          0.40462706875938037,
          -0.3750837496186107,
          -1.153600856704141,
          -0.3210114638708474,
          -2.2727107459326708,
          0.14301117636838187,
          -0.4665470914808554,
          0.826330087593931,
          -0.4180146691670233,
          1.054261233414269,
          -0.769436597202262,
          0.30626623858840024,
          -1.222590132635321,
          -2.30431979214976,
          0.666109200462043,
          -1.6728303362407113,
          0.1360130473809156,
          0.2494020778281667,
          -1.4992821492867194,
          -0.5116902731427975,
          1.525411005806135,
          -1.0830706078125625,
          -1.1839618316805465,
          -1.2495174128404651,
          -0.25963125105376794,
          -1.0391021603416049,
          1.1701721156729272,
          0.5622979488932329,
          -0.4771715870306209,
          1.768125398112826,
          0.7841311388100116,
          -0.6192657048486289,
          -1.6034238616624827,
          -1.8180894620316153,
          -0.3769070560431302,
          -0.41583997308357923,
          -0.6968963202170636,
          0.13930902297487113,
          -0.6588464417475745,
          0.16723455663614806,
          -0.5816300010843882,
          0.8479015012297172,
          -0.8378041078347768,
          0.590067897520868,
          -0.7406499043141112,
          2.0006310452298584,
          0.05244393802697705,
          -1.2673761100060725,
          -1.856178347559622,
          -0.8744830899459701,
          -1.254130315577289,
          -1.1896877070913607,
          -1.1228223429505455,
          1.5350484892720089,
          -0.7992697234238435,
          0.4575057067461036,
          0.7343373638940573,
          1.1758847224955535,
          0.047416055252521176,
          -0.15774964088717078,
          -1.0755946344964076
         ],
         "xaxis": "x",
         "yaxis": "y"
        },
        {
         "line": {
          "color": "rgba(128, 128, 128, 1.0)",
          "dash": "solid",
          "shape": "linear",
          "width": 1.3
         },
         "marker": {
          "size": 2,
          "symbol": "circle"
         },
         "mode": "markers",
         "name": "A",
         "text": "",
         "type": "scatter",
         "x": [
          -1.3113999602332227,
          -0.5511892997361064,
          0.9564106365247286,
          -0.0756544666480186,
          -0.45951139552071874,
          -0.3443475067009876,
          0.5329020467359252,
          1.5965981779903844,
          -0.20924320022818726,
          1.0681126078401548,
          -0.45836557518658216,
          -1.4675364036403746,
          -0.6381239023755292,
          -0.04176861474034986,
          -0.44238044596072,
          -1.1019358315585372,
          -1.168885300883454,
          -1.0848304880389248,
          -0.8770366200242047,
          -0.8998816091576025,
          -0.257430903248447,
          -0.6354833792541387,
          -0.6693198479481702,
          -0.2559528260054829,
          1.0333323918355652,
          -0.05729430349437438,
          1.837781302884297,
          -0.46370353242448914,
          0.13857196530710683,
          -0.07449236233589691,
          0.8894995621514906,
          1.413508948643193,
          0.3150992901613012,
          -0.5601542001942031,
          -0.7421009574127645,
          0.9264598582933575,
          -1.1678766738320119,
          0.9199026350211115,
          1.3681026700375678,
          -1.1706032466392733,
          0.3058098352063741,
          1.0825115745711003,
          -0.7378682735739086,
          0.48708467631334085,
          -1.301103036688062,
          0.40206968519748654,
          -0.683857096879213,
          -1.8738912329733723,
          0.7171097033890735,
          0.03888805277076086,
          -1.1693617295332313,
          -1.500268149751419,
          1.344024211974228,
          -0.1555134136926965,
          -1.015500310369333,
          1.3380630990228026,
          1.0892709931382587,
          2.619925062300933,
          0.22134788766989708,
          -0.5265520734592678,
          -0.5930694400125788,
          2.0476451557714093,
          1.4136353954227314,
          -0.8583185862032842,
          0.909619416198989,
          -0.5818769144837174,
          -0.4288867922322983,
          -1.5589239266494332,
          -0.9503331341161685,
          -0.4871533471858235,
          0.37242352525385475,
          -0.12028847667674292,
          -0.5343988318276738,
          -0.29955801808268195,
          0.5750625586522502,
          -0.5439453452009341,
          -0.7457944468902554,
          0.21738104733639788,
          -0.8315775003113577,
          -0.16984480502465918,
          0.5637202019823333,
          -1.6541191753802165,
          0.7857574457781091,
          0.86207308970026,
          1.7636380440624961,
          0.5959513372063282,
          -1.18477284050119,
          0.5050905996685262,
          -0.7186843156620407,
          0.7277456402864244,
          -0.10883976841530896,
          -1.2800960574118065,
          0.9508036384404251,
          -1.2594942463628704,
          -0.43000599662706834,
          0.8518986087827631,
          2.1099835338576742,
          -1.1338620361510596,
          -0.1136365825121175,
          -0.31121735019710284
         ],
         "xaxis": "x2",
         "y": [
          -1.5698810706263946,
          -0.24670595182913876,
          0.9304875741808672,
          -0.5066248091859992,
          0.6849922041296616,
          1.8970178017465043,
          0.8077409636879337,
          -1.0010217400668584,
          1.3704184544113829,
          0.4285482444378609,
          -1.4904588136094539,
          -1.057101523542387,
          -0.027965777366933554,
          0.49225766147762384,
          1.7494548923444855,
          0.6281606764666283,
          0.4124195324549872,
          -1.214371296495128,
          -1.0341361517499075,
          1.226524093673132,
          -0.3702532214319981,
          -1.026602653888882,
          -2.3899848709024765,
          0.18617738129491324,
          1.4205391403152827,
          0.16620298379615436,
          0.929471725944909,
          -0.2948437483626567,
          -0.19238683310333554,
          0.3847510505627772,
          1.0876155888389627,
          -0.13114344678221457,
          -2.6313549063054644,
          -0.3071103070391007,
          0.02304046542887793,
          0.2729530132607438,
          -0.5975479856090492,
          -1.307335029097629,
          -0.47343875594268553,
          0.40462706875938037,
          -0.3750837496186107,
          -1.153600856704141,
          -0.3210114638708474,
          -2.2727107459326708,
          0.14301117636838187,
          -0.4665470914808554,
          0.826330087593931,
          -0.4180146691670233,
          1.054261233414269,
          -0.769436597202262,
          0.30626623858840024,
          -1.222590132635321,
          -2.30431979214976,
          0.666109200462043,
          -1.6728303362407113,
          0.1360130473809156,
          0.2494020778281667,
          -1.4992821492867194,
          -0.5116902731427975,
          1.525411005806135,
          -1.0830706078125625,
          -1.1839618316805465,
          -1.2495174128404651,
          -0.25963125105376794,
          -1.0391021603416049,
          1.1701721156729272,
          0.5622979488932329,
          -0.4771715870306209,
          1.768125398112826,
          0.7841311388100116,
          -0.6192657048486289,
          -1.6034238616624827,
          -1.8180894620316153,
          -0.3769070560431302,
          -0.41583997308357923,
          -0.6968963202170636,
          0.13930902297487113,
          -0.6588464417475745,
          0.16723455663614806,
          -0.5816300010843882,
          0.8479015012297172,
          -0.8378041078347768,
          0.590067897520868,
          -0.7406499043141112,
          2.0006310452298584,
          0.05244393802697705,
          -1.2673761100060725,
          -1.856178347559622,
          -0.8744830899459701,
          -1.254130315577289,
          -1.1896877070913607,
          -1.1228223429505455,
          1.5350484892720089,
          -0.7992697234238435,
          0.4575057067461036,
          0.7343373638940573,
          1.1758847224955535,
          0.047416055252521176,
          -0.15774964088717078,
          -1.0755946344964076
         ],
         "yaxis": "y2"
        },
        {
         "line": {
          "color": "rgba(128, 128, 128, 1.0)",
          "dash": "solid",
          "shape": "linear",
          "width": 1.3
         },
         "marker": {
          "size": 2,
          "symbol": "circle"
         },
         "mode": "markers",
         "name": "A",
         "text": "",
         "type": "scatter",
         "x": [
          -1.0277963728535986,
          0.40989558310469754,
          1.5350833310466399,
          1.3466211188459762,
          -0.21367980255378222,
          1.2184655661005612,
          -0.6647654704441155,
          -0.29656148351361705,
          -0.06744189322680803,
          -1.3484300862502496,
          0.15333275929662857,
          -0.00467568605895884,
          -0.2234287586903079,
          0.3696942580553424,
          -0.41792444436395626,
          -0.1569977293394031,
          -0.5095993491606567,
          0.5745633524870278,
          -2.2398401018261382,
          0.3192320536826866,
          0.967901483115932,
          -0.9000300782616163,
          0.6067188264020787,
          0.7894484684607743,
          -0.3830919249875024,
          -0.7074251059165702,
          -0.19143053267822113,
          -0.1413670345240148,
          -1.69169055813557,
          -1.788890845039639,
          0.07415872083724469,
          1.0109338646896295,
          -1.3100173079714235,
          2.150113178962219,
          -1.7546385518249705,
          1.0009792275862728,
          -1.3585838232375798,
          -0.21359845961706492,
          -1.0813905362427447,
          1.0749224280672565,
          -0.18737033437610848,
          -1.7971427774277917,
          -1.047275195508696,
          1.7027055795242951,
          -0.6898197958463056,
          -0.7592564238997,
          -1.1235688499199932,
          1.3756404611182302,
          1.0878703036748185,
          -1.8299870025566054,
          -0.5799561064215722,
          0.45626182851647223,
          -1.2536998431038242,
          0.4257854020936454,
          1.5383060981235064,
          1.2394853172000297,
          0.15178919377392014,
          0.11073815820235751,
          0.9286710682278193,
          -0.3501847278893218,
          0.17397667124766542,
          -2.071540002418569,
          -1.0418663340023109,
          1.4920333413205007,
          -1.6068871602601513,
          1.1335329089549389,
          -2.836924965596087,
          -0.7026162138622402,
          0.33643398686605996,
          1.2759651685706939,
          0.542788998294374,
          1.3425499456449346,
          0.7621067184879887,
          1.43586364624196,
          1.4373060592357538,
          -0.2482253153282465,
          1.043067030646993,
          -0.36941445515650223,
          0.05914853991195712,
          -0.793042217815076,
          -1.0673095885301342,
          0.6799265133512832,
          -0.480819229332368,
          -0.2978631306610548,
          -1.0119249092306795,
          -0.8146444117100996,
          0.2801903327454848,
          -1.7641375948739253,
          1.8184834808705337,
          1.9645831622733163,
          0.5416108056019772,
          0.15602645917752933,
          -1.1834000280969932,
          -0.4207260809567789,
          -1.3327165332387945,
          0.47186598864130247,
          -0.7778869548074504,
          -0.5920684790184321,
          0.9101906882047125,
          0.3506728388666368
         ],
         "xaxis": "x3",
         "y": [
          -1.5698810706263946,
          -0.24670595182913876,
          0.9304875741808672,
          -0.5066248091859992,
          0.6849922041296616,
          1.8970178017465043,
          0.8077409636879337,
          -1.0010217400668584,
          1.3704184544113829,
          0.4285482444378609,
          -1.4904588136094539,
          -1.057101523542387,
          -0.027965777366933554,
          0.49225766147762384,
          1.7494548923444855,
          0.6281606764666283,
          0.4124195324549872,
          -1.214371296495128,
          -1.0341361517499075,
          1.226524093673132,
          -0.3702532214319981,
          -1.026602653888882,
          -2.3899848709024765,
          0.18617738129491324,
          1.4205391403152827,
          0.16620298379615436,
          0.929471725944909,
          -0.2948437483626567,
          -0.19238683310333554,
          0.3847510505627772,
          1.0876155888389627,
          -0.13114344678221457,
          -2.6313549063054644,
          -0.3071103070391007,
          0.02304046542887793,
          0.2729530132607438,
          -0.5975479856090492,
          -1.307335029097629,
          -0.47343875594268553,
          0.40462706875938037,
          -0.3750837496186107,
          -1.153600856704141,
          -0.3210114638708474,
          -2.2727107459326708,
          0.14301117636838187,
          -0.4665470914808554,
          0.826330087593931,
          -0.4180146691670233,
          1.054261233414269,
          -0.769436597202262,
          0.30626623858840024,
          -1.222590132635321,
          -2.30431979214976,
          0.666109200462043,
          -1.6728303362407113,
          0.1360130473809156,
          0.2494020778281667,
          -1.4992821492867194,
          -0.5116902731427975,
          1.525411005806135,
          -1.0830706078125625,
          -1.1839618316805465,
          -1.2495174128404651,
          -0.25963125105376794,
          -1.0391021603416049,
          1.1701721156729272,
          0.5622979488932329,
          -0.4771715870306209,
          1.768125398112826,
          0.7841311388100116,
          -0.6192657048486289,
          -1.6034238616624827,
          -1.8180894620316153,
          -0.3769070560431302,
          -0.41583997308357923,
          -0.6968963202170636,
          0.13930902297487113,
          -0.6588464417475745,
          0.16723455663614806,
          -0.5816300010843882,
          0.8479015012297172,
          -0.8378041078347768,
          0.590067897520868,
          -0.7406499043141112,
          2.0006310452298584,
          0.05244393802697705,
          -1.2673761100060725,
          -1.856178347559622,
          -0.8744830899459701,
          -1.254130315577289,
          -1.1896877070913607,
          -1.1228223429505455,
          1.5350484892720089,
          -0.7992697234238435,
          0.4575057067461036,
          0.7343373638940573,
          1.1758847224955535,
          0.047416055252521176,
          -0.15774964088717078,
          -1.0755946344964076
         ],
         "yaxis": "y3"
        },
        {
         "line": {
          "color": "rgba(128, 128, 128, 1.0)",
          "dash": "solid",
          "shape": "linear",
          "width": 1.3
         },
         "marker": {
          "size": 2,
          "symbol": "circle"
         },
         "mode": "markers",
         "name": "A",
         "text": "",
         "type": "scatter",
         "x": [
          0.11916300730724995,
          -1.4592692105065774,
          1.8060787265728209,
          0.17503686989704614,
          0.4002454291850666,
          0.23442417470708268,
          0.5211046975249474,
          -0.13331146722298096,
          1.3413432082634766,
          0.9070099714622281,
          -2.3225068323745783,
          0.6253873437887567,
          3.0466517695337525,
          -0.025011387807534646,
          -0.8860579464022152,
          1.6765125166940615,
          -0.11688507057655162,
          2.0049154406765943,
          -1.7819306251585108,
          0.6250653565631049,
          -0.11927060224478235,
          1.3282812020097987,
          -0.43286371754802067,
          -0.7222402384231267,
          0.7178791083335256,
          1.5392952692396078,
          -0.344324965708766,
          0.13697617689928157,
          0.2657755877942632,
          -0.029288934925322592,
          0.41260051196259867,
          -0.22709844551062744,
          1.1618448532858292,
          0.8713936509936363,
          -0.5747425397960325,
          -0.7090434234352573,
          -1.4798393200272502,
          0.5993461404480717,
          -0.38894346952187886,
          -1.0224766008311459,
          0.8361269045230068,
          -0.4607977158558291,
          1.3277074186126048,
          -1.0145407490900704,
          0.6158886736937428,
          -0.8992843420412125,
          -0.6328992936225387,
          1.5522000275928174,
          1.416024771743824,
          0.6671488569132367,
          -0.9181512029359704,
          1.393091774531936,
          0.21083496487777947,
          -0.02364027596915868,
          0.8407388672370442,
          0.5934273987204705,
          0.8942461268039573,
          -0.5154282920383036,
          -0.8405199440371842,
          -0.529500492907707,
          0.23962397399718713,
          -0.15886143787690304,
          -2.722358198099253,
          0.3644950846587262,
          -0.18774141478002443,
          -1.3522265386480665,
          0.10854659998751222,
          -0.4536121680961895,
          -1.0680147908978759,
          1.2661333001982447,
          -1.3736912107361086,
          -1.2448775356293391,
          1.042802288713844,
          1.0851361086215612,
          -0.0901420510111028,
          -0.5762695845980996,
          -0.6311621396718728,
          -1.5522369447132873,
          -0.14015381932139637,
          0.9058169016568614,
          -1.1957279074720533,
          0.16939695104059013,
          1.3270627820032574,
          -0.6494277271569843,
          0.7626597171223247,
          -0.8784213191418017,
          1.5672003706559743,
          -0.9221939029516824,
          2.2888040124200995,
          0.37551063253596534,
          0.966739310650984,
          -1.2730325142011747,
          -0.4051704723522564,
          0.15662872419060897,
          -0.657969810606721,
          -0.7772228227370723,
          -0.61291068342699,
          0.44983091151087035,
          -1.7570401870403525,
          0.0564620110552343
         ],
         "xaxis": "x4",
         "y": [
          -1.5698810706263946,
          -0.24670595182913876,
          0.9304875741808672,
          -0.5066248091859992,
          0.6849922041296616,
          1.8970178017465043,
          0.8077409636879337,
          -1.0010217400668584,
          1.3704184544113829,
          0.4285482444378609,
          -1.4904588136094539,
          -1.057101523542387,
          -0.027965777366933554,
          0.49225766147762384,
          1.7494548923444855,
          0.6281606764666283,
          0.4124195324549872,
          -1.214371296495128,
          -1.0341361517499075,
          1.226524093673132,
          -0.3702532214319981,
          -1.026602653888882,
          -2.3899848709024765,
          0.18617738129491324,
          1.4205391403152827,
          0.16620298379615436,
          0.929471725944909,
          -0.2948437483626567,
          -0.19238683310333554,
          0.3847510505627772,
          1.0876155888389627,
          -0.13114344678221457,
          -2.6313549063054644,
          -0.3071103070391007,
          0.02304046542887793,
          0.2729530132607438,
          -0.5975479856090492,
          -1.307335029097629,
          -0.47343875594268553,
          0.40462706875938037,
          -0.3750837496186107,
          -1.153600856704141,
          -0.3210114638708474,
          -2.2727107459326708,
          0.14301117636838187,
          -0.4665470914808554,
          0.826330087593931,
          -0.4180146691670233,
          1.054261233414269,
          -0.769436597202262,
          0.30626623858840024,
          -1.222590132635321,
          -2.30431979214976,
          0.666109200462043,
          -1.6728303362407113,
          0.1360130473809156,
          0.2494020778281667,
          -1.4992821492867194,
          -0.5116902731427975,
          1.525411005806135,
          -1.0830706078125625,
          -1.1839618316805465,
          -1.2495174128404651,
          -0.25963125105376794,
          -1.0391021603416049,
          1.1701721156729272,
          0.5622979488932329,
          -0.4771715870306209,
          1.768125398112826,
          0.7841311388100116,
          -0.6192657048486289,
          -1.6034238616624827,
          -1.8180894620316153,
          -0.3769070560431302,
          -0.41583997308357923,
          -0.6968963202170636,
          0.13930902297487113,
          -0.6588464417475745,
          0.16723455663614806,
          -0.5816300010843882,
          0.8479015012297172,
          -0.8378041078347768,
          0.590067897520868,
          -0.7406499043141112,
          2.0006310452298584,
          0.05244393802697705,
          -1.2673761100060725,
          -1.856178347559622,
          -0.8744830899459701,
          -1.254130315577289,
          -1.1896877070913607,
          -1.1228223429505455,
          1.5350484892720089,
          -0.7992697234238435,
          0.4575057067461036,
          0.7343373638940573,
          1.1758847224955535,
          0.047416055252521176,
          -0.15774964088717078,
          -1.0755946344964076
         ],
         "yaxis": "y4"
        },
        {
         "line": {
          "color": "rgba(128, 128, 128, 1.0)",
          "dash": "solid",
          "shape": "linear",
          "width": 1.3
         },
         "marker": {
          "size": 2,
          "symbol": "circle"
         },
         "mode": "markers",
         "name": "B",
         "text": "",
         "type": "scatter",
         "x": [
          -1.5698810706263946,
          -0.24670595182913876,
          0.9304875741808672,
          -0.5066248091859992,
          0.6849922041296616,
          1.8970178017465043,
          0.8077409636879337,
          -1.0010217400668584,
          1.3704184544113829,
          0.4285482444378609,
          -1.4904588136094539,
          -1.057101523542387,
          -0.027965777366933554,
          0.49225766147762384,
          1.7494548923444855,
          0.6281606764666283,
          0.4124195324549872,
          -1.214371296495128,
          -1.0341361517499075,
          1.226524093673132,
          -0.3702532214319981,
          -1.026602653888882,
          -2.3899848709024765,
          0.18617738129491324,
          1.4205391403152827,
          0.16620298379615436,
          0.929471725944909,
          -0.2948437483626567,
          -0.19238683310333554,
          0.3847510505627772,
          1.0876155888389627,
          -0.13114344678221457,
          -2.6313549063054644,
          -0.3071103070391007,
          0.02304046542887793,
          0.2729530132607438,
          -0.5975479856090492,
          -1.307335029097629,
          -0.47343875594268553,
          0.40462706875938037,
          -0.3750837496186107,
          -1.153600856704141,
          -0.3210114638708474,
          -2.2727107459326708,
          0.14301117636838187,
          -0.4665470914808554,
          0.826330087593931,
          -0.4180146691670233,
          1.054261233414269,
          -0.769436597202262,
          0.30626623858840024,
          -1.222590132635321,
          -2.30431979214976,
          0.666109200462043,
          -1.6728303362407113,
          0.1360130473809156,
          0.2494020778281667,
          -1.4992821492867194,
          -0.5116902731427975,
          1.525411005806135,
          -1.0830706078125625,
          -1.1839618316805465,
          -1.2495174128404651,
          -0.25963125105376794,
          -1.0391021603416049,
          1.1701721156729272,
          0.5622979488932329,
          -0.4771715870306209,
          1.768125398112826,
          0.7841311388100116,
          -0.6192657048486289,
          -1.6034238616624827,
          -1.8180894620316153,
          -0.3769070560431302,
          -0.41583997308357923,
          -0.6968963202170636,
          0.13930902297487113,
          -0.6588464417475745,
          0.16723455663614806,
          -0.5816300010843882,
          0.8479015012297172,
          -0.8378041078347768,
          0.590067897520868,
          -0.7406499043141112,
          2.0006310452298584,
          0.05244393802697705,
          -1.2673761100060725,
          -1.856178347559622,
          -0.8744830899459701,
          -1.254130315577289,
          -1.1896877070913607,
          -1.1228223429505455,
          1.5350484892720089,
          -0.7992697234238435,
          0.4575057067461036,
          0.7343373638940573,
          1.1758847224955535,
          0.047416055252521176,
          -0.15774964088717078,
          -1.0755946344964076
         ],
         "xaxis": "x5",
         "y": [
          -1.3113999602332227,
          -0.5511892997361064,
          0.9564106365247286,
          -0.0756544666480186,
          -0.45951139552071874,
          -0.3443475067009876,
          0.5329020467359252,
          1.5965981779903844,
          -0.20924320022818726,
          1.0681126078401548,
          -0.45836557518658216,
          -1.4675364036403746,
          -0.6381239023755292,
          -0.04176861474034986,
          -0.44238044596072,
          -1.1019358315585372,
          -1.168885300883454,
          -1.0848304880389248,
          -0.8770366200242047,
          -0.8998816091576025,
          -0.257430903248447,
          -0.6354833792541387,
          -0.6693198479481702,
          -0.2559528260054829,
          1.0333323918355652,
          -0.05729430349437438,
          1.837781302884297,
          -0.46370353242448914,
          0.13857196530710683,
          -0.07449236233589691,
          0.8894995621514906,
          1.413508948643193,
          0.3150992901613012,
          -0.5601542001942031,
          -0.7421009574127645,
          0.9264598582933575,
          -1.1678766738320119,
          0.9199026350211115,
          1.3681026700375678,
          -1.1706032466392733,
          0.3058098352063741,
          1.0825115745711003,
          -0.7378682735739086,
          0.48708467631334085,
          -1.301103036688062,
          0.40206968519748654,
          -0.683857096879213,
          -1.8738912329733723,
          0.7171097033890735,
          0.03888805277076086,
          -1.1693617295332313,
          -1.500268149751419,
          1.344024211974228,
          -0.1555134136926965,
          -1.015500310369333,
          1.3380630990228026,
          1.0892709931382587,
          2.619925062300933,
          0.22134788766989708,
          -0.5265520734592678,
          -0.5930694400125788,
          2.0476451557714093,
          1.4136353954227314,
          -0.8583185862032842,
          0.909619416198989,
          -0.5818769144837174,
          -0.4288867922322983,
          -1.5589239266494332,
          -0.9503331341161685,
          -0.4871533471858235,
          0.37242352525385475,
          -0.12028847667674292,
          -0.5343988318276738,
          -0.29955801808268195,
          0.5750625586522502,
          -0.5439453452009341,
          -0.7457944468902554,
          0.21738104733639788,
          -0.8315775003113577,
          -0.16984480502465918,
          0.5637202019823333,
          -1.6541191753802165,
          0.7857574457781091,
          0.86207308970026,
          1.7636380440624961,
          0.5959513372063282,
          -1.18477284050119,
          0.5050905996685262,
          -0.7186843156620407,
          0.7277456402864244,
          -0.10883976841530896,
          -1.2800960574118065,
          0.9508036384404251,
          -1.2594942463628704,
          -0.43000599662706834,
          0.8518986087827631,
          2.1099835338576742,
          -1.1338620361510596,
          -0.1136365825121175,
          -0.31121735019710284
         ],
         "yaxis": "y5"
        },
        {
         "histfunc": "count",
         "histnorm": "",
         "marker": {
          "color": "rgba(55, 128, 191, 1.0)",
          "line": {
           "color": "#4D5663",
           "width": 1.3
          }
         },
         "name": "B",
         "nbinsx": 10,
         "opacity": 0.8,
         "orientation": "v",
         "type": "histogram",
         "x": [
          -1.3113999602332227,
          -0.5511892997361064,
          0.9564106365247286,
          -0.0756544666480186,
          -0.45951139552071874,
          -0.3443475067009876,
          0.5329020467359252,
          1.5965981779903844,
          -0.20924320022818726,
          1.0681126078401548,
          -0.45836557518658216,
          -1.4675364036403746,
          -0.6381239023755292,
          -0.04176861474034986,
          -0.44238044596072,
          -1.1019358315585372,
          -1.168885300883454,
          -1.0848304880389248,
          -0.8770366200242047,
          -0.8998816091576025,
          -0.257430903248447,
          -0.6354833792541387,
          -0.6693198479481702,
          -0.2559528260054829,
          1.0333323918355652,
          -0.05729430349437438,
          1.837781302884297,
          -0.46370353242448914,
          0.13857196530710683,
          -0.07449236233589691,
          0.8894995621514906,
          1.413508948643193,
          0.3150992901613012,
          -0.5601542001942031,
          -0.7421009574127645,
          0.9264598582933575,
          -1.1678766738320119,
          0.9199026350211115,
          1.3681026700375678,
          -1.1706032466392733,
          0.3058098352063741,
          1.0825115745711003,
          -0.7378682735739086,
          0.48708467631334085,
          -1.301103036688062,
          0.40206968519748654,
          -0.683857096879213,
          -1.8738912329733723,
          0.7171097033890735,
          0.03888805277076086,
          -1.1693617295332313,
          -1.500268149751419,
          1.344024211974228,
          -0.1555134136926965,
          -1.015500310369333,
          1.3380630990228026,
          1.0892709931382587,
          2.619925062300933,
          0.22134788766989708,
          -0.5265520734592678,
          -0.5930694400125788,
          2.0476451557714093,
          1.4136353954227314,
          -0.8583185862032842,
          0.909619416198989,
          -0.5818769144837174,
          -0.4288867922322983,
          -1.5589239266494332,
          -0.9503331341161685,
          -0.4871533471858235,
          0.37242352525385475,
          -0.12028847667674292,
          -0.5343988318276738,
          -0.29955801808268195,
          0.5750625586522502,
          -0.5439453452009341,
          -0.7457944468902554,
          0.21738104733639788,
          -0.8315775003113577,
          -0.16984480502465918,
          0.5637202019823333,
          -1.6541191753802165,
          0.7857574457781091,
          0.86207308970026,
          1.7636380440624961,
          0.5959513372063282,
          -1.18477284050119,
          0.5050905996685262,
          -0.7186843156620407,
          0.7277456402864244,
          -0.10883976841530896,
          -1.2800960574118065,
          0.9508036384404251,
          -1.2594942463628704,
          -0.43000599662706834,
          0.8518986087827631,
          2.1099835338576742,
          -1.1338620361510596,
          -0.1136365825121175,
          -0.31121735019710284
         ],
         "xaxis": "x6",
         "yaxis": "y6"
        },
        {
         "line": {
          "color": "rgba(128, 128, 128, 1.0)",
          "dash": "solid",
          "shape": "linear",
          "width": 1.3
         },
         "marker": {
          "size": 2,
          "symbol": "circle"
         },
         "mode": "markers",
         "name": "B",
         "text": "",
         "type": "scatter",
         "x": [
          -1.0277963728535986,
          0.40989558310469754,
          1.5350833310466399,
          1.3466211188459762,
          -0.21367980255378222,
          1.2184655661005612,
          -0.6647654704441155,
          -0.29656148351361705,
          -0.06744189322680803,
          -1.3484300862502496,
          0.15333275929662857,
          -0.00467568605895884,
          -0.2234287586903079,
          0.3696942580553424,
          -0.41792444436395626,
          -0.1569977293394031,
          -0.5095993491606567,
          0.5745633524870278,
          -2.2398401018261382,
          0.3192320536826866,
          0.967901483115932,
          -0.9000300782616163,
          0.6067188264020787,
          0.7894484684607743,
          -0.3830919249875024,
          -0.7074251059165702,
          -0.19143053267822113,
          -0.1413670345240148,
          -1.69169055813557,
          -1.788890845039639,
          0.07415872083724469,
          1.0109338646896295,
          -1.3100173079714235,
          2.150113178962219,
          -1.7546385518249705,
          1.0009792275862728,
          -1.3585838232375798,
          -0.21359845961706492,
          -1.0813905362427447,
          1.0749224280672565,
          -0.18737033437610848,
          -1.7971427774277917,
          -1.047275195508696,
          1.7027055795242951,
          -0.6898197958463056,
          -0.7592564238997,
          -1.1235688499199932,
          1.3756404611182302,
          1.0878703036748185,
          -1.8299870025566054,
          -0.5799561064215722,
          0.45626182851647223,
          -1.2536998431038242,
          0.4257854020936454,
          1.5383060981235064,
          1.2394853172000297,
          0.15178919377392014,
          0.11073815820235751,
          0.9286710682278193,
          -0.3501847278893218,
          0.17397667124766542,
          -2.071540002418569,
          -1.0418663340023109,
          1.4920333413205007,
          -1.6068871602601513,
          1.1335329089549389,
          -2.836924965596087,
          -0.7026162138622402,
          0.33643398686605996,
          1.2759651685706939,
          0.542788998294374,
          1.3425499456449346,
          0.7621067184879887,
          1.43586364624196,
          1.4373060592357538,
          -0.2482253153282465,
          1.043067030646993,
          -0.36941445515650223,
          0.05914853991195712,
          -0.793042217815076,
          -1.0673095885301342,
          0.6799265133512832,
          -0.480819229332368,
          -0.2978631306610548,
          -1.0119249092306795,
          -0.8146444117100996,
          0.2801903327454848,
          -1.7641375948739253,
          1.8184834808705337,
          1.9645831622733163,
          0.5416108056019772,
          0.15602645917752933,
          -1.1834000280969932,
          -0.4207260809567789,
          -1.3327165332387945,
          0.47186598864130247,
          -0.7778869548074504,
          -0.5920684790184321,
          0.9101906882047125,
          0.3506728388666368
         ],
         "xaxis": "x7",
         "y": [
          -1.3113999602332227,
          -0.5511892997361064,
          0.9564106365247286,
          -0.0756544666480186,
          -0.45951139552071874,
          -0.3443475067009876,
          0.5329020467359252,
          1.5965981779903844,
          -0.20924320022818726,
          1.0681126078401548,
          -0.45836557518658216,
          -1.4675364036403746,
          -0.6381239023755292,
          -0.04176861474034986,
          -0.44238044596072,
          -1.1019358315585372,
          -1.168885300883454,
          -1.0848304880389248,
          -0.8770366200242047,
          -0.8998816091576025,
          -0.257430903248447,
          -0.6354833792541387,
          -0.6693198479481702,
          -0.2559528260054829,
          1.0333323918355652,
          -0.05729430349437438,
          1.837781302884297,
          -0.46370353242448914,
          0.13857196530710683,
          -0.07449236233589691,
          0.8894995621514906,
          1.413508948643193,
          0.3150992901613012,
          -0.5601542001942031,
          -0.7421009574127645,
          0.9264598582933575,
          -1.1678766738320119,
          0.9199026350211115,
          1.3681026700375678,
          -1.1706032466392733,
          0.3058098352063741,
          1.0825115745711003,
          -0.7378682735739086,
          0.48708467631334085,
          -1.301103036688062,
          0.40206968519748654,
          -0.683857096879213,
          -1.8738912329733723,
          0.7171097033890735,
          0.03888805277076086,
          -1.1693617295332313,
          -1.500268149751419,
          1.344024211974228,
          -0.1555134136926965,
          -1.015500310369333,
          1.3380630990228026,
          1.0892709931382587,
          2.619925062300933,
          0.22134788766989708,
          -0.5265520734592678,
          -0.5930694400125788,
          2.0476451557714093,
          1.4136353954227314,
          -0.8583185862032842,
          0.909619416198989,
          -0.5818769144837174,
          -0.4288867922322983,
          -1.5589239266494332,
          -0.9503331341161685,
          -0.4871533471858235,
          0.37242352525385475,
          -0.12028847667674292,
          -0.5343988318276738,
          -0.29955801808268195,
          0.5750625586522502,
          -0.5439453452009341,
          -0.7457944468902554,
          0.21738104733639788,
          -0.8315775003113577,
          -0.16984480502465918,
          0.5637202019823333,
          -1.6541191753802165,
          0.7857574457781091,
          0.86207308970026,
          1.7636380440624961,
          0.5959513372063282,
          -1.18477284050119,
          0.5050905996685262,
          -0.7186843156620407,
          0.7277456402864244,
          -0.10883976841530896,
          -1.2800960574118065,
          0.9508036384404251,
          -1.2594942463628704,
          -0.43000599662706834,
          0.8518986087827631,
          2.1099835338576742,
          -1.1338620361510596,
          -0.1136365825121175,
          -0.31121735019710284
         ],
         "yaxis": "y7"
        },
        {
         "line": {
          "color": "rgba(128, 128, 128, 1.0)",
          "dash": "solid",
          "shape": "linear",
          "width": 1.3
         },
         "marker": {
          "size": 2,
          "symbol": "circle"
         },
         "mode": "markers",
         "name": "B",
         "text": "",
         "type": "scatter",
         "x": [
          0.11916300730724995,
          -1.4592692105065774,
          1.8060787265728209,
          0.17503686989704614,
          0.4002454291850666,
          0.23442417470708268,
          0.5211046975249474,
          -0.13331146722298096,
          1.3413432082634766,
          0.9070099714622281,
          -2.3225068323745783,
          0.6253873437887567,
          3.0466517695337525,
          -0.025011387807534646,
          -0.8860579464022152,
          1.6765125166940615,
          -0.11688507057655162,
          2.0049154406765943,
          -1.7819306251585108,
          0.6250653565631049,
          -0.11927060224478235,
          1.3282812020097987,
          -0.43286371754802067,
          -0.7222402384231267,
          0.7178791083335256,
          1.5392952692396078,
          -0.344324965708766,
          0.13697617689928157,
          0.2657755877942632,
          -0.029288934925322592,
          0.41260051196259867,
          -0.22709844551062744,
          1.1618448532858292,
          0.8713936509936363,
          -0.5747425397960325,
          -0.7090434234352573,
          -1.4798393200272502,
          0.5993461404480717,
          -0.38894346952187886,
          -1.0224766008311459,
          0.8361269045230068,
          -0.4607977158558291,
          1.3277074186126048,
          -1.0145407490900704,
          0.6158886736937428,
          -0.8992843420412125,
          -0.6328992936225387,
          1.5522000275928174,
          1.416024771743824,
          0.6671488569132367,
          -0.9181512029359704,
          1.393091774531936,
          0.21083496487777947,
          -0.02364027596915868,
          0.8407388672370442,
          0.5934273987204705,
          0.8942461268039573,
          -0.5154282920383036,
          -0.8405199440371842,
          -0.529500492907707,
          0.23962397399718713,
          -0.15886143787690304,
          -2.722358198099253,
          0.3644950846587262,
          -0.18774141478002443,
          -1.3522265386480665,
          0.10854659998751222,
          -0.4536121680961895,
          -1.0680147908978759,
          1.2661333001982447,
          -1.3736912107361086,
          -1.2448775356293391,
          1.042802288713844,
          1.0851361086215612,
          -0.0901420510111028,
          -0.5762695845980996,
          -0.6311621396718728,
          -1.5522369447132873,
          -0.14015381932139637,
          0.9058169016568614,
          -1.1957279074720533,
          0.16939695104059013,
          1.3270627820032574,
          -0.6494277271569843,
          0.7626597171223247,
          -0.8784213191418017,
          1.5672003706559743,
          -0.9221939029516824,
          2.2888040124200995,
          0.37551063253596534,
          0.966739310650984,
          -1.2730325142011747,
          -0.4051704723522564,
          0.15662872419060897,
          -0.657969810606721,
          -0.7772228227370723,
          -0.61291068342699,
          0.44983091151087035,
          -1.7570401870403525,
          0.0564620110552343
         ],
         "xaxis": "x8",
         "y": [
          -1.3113999602332227,
          -0.5511892997361064,
          0.9564106365247286,
          -0.0756544666480186,
          -0.45951139552071874,
          -0.3443475067009876,
          0.5329020467359252,
          1.5965981779903844,
          -0.20924320022818726,
          1.0681126078401548,
          -0.45836557518658216,
          -1.4675364036403746,
          -0.6381239023755292,
          -0.04176861474034986,
          -0.44238044596072,
          -1.1019358315585372,
          -1.168885300883454,
          -1.0848304880389248,
          -0.8770366200242047,
          -0.8998816091576025,
          -0.257430903248447,
          -0.6354833792541387,
          -0.6693198479481702,
          -0.2559528260054829,
          1.0333323918355652,
          -0.05729430349437438,
          1.837781302884297,
          -0.46370353242448914,
          0.13857196530710683,
          -0.07449236233589691,
          0.8894995621514906,
          1.413508948643193,
          0.3150992901613012,
          -0.5601542001942031,
          -0.7421009574127645,
          0.9264598582933575,
          -1.1678766738320119,
          0.9199026350211115,
          1.3681026700375678,
          -1.1706032466392733,
          0.3058098352063741,
          1.0825115745711003,
          -0.7378682735739086,
          0.48708467631334085,
          -1.301103036688062,
          0.40206968519748654,
          -0.683857096879213,
          -1.8738912329733723,
          0.7171097033890735,
          0.03888805277076086,
          -1.1693617295332313,
          -1.500268149751419,
          1.344024211974228,
          -0.1555134136926965,
          -1.015500310369333,
          1.3380630990228026,
          1.0892709931382587,
          2.619925062300933,
          0.22134788766989708,
          -0.5265520734592678,
          -0.5930694400125788,
          2.0476451557714093,
          1.4136353954227314,
          -0.8583185862032842,
          0.909619416198989,
          -0.5818769144837174,
          -0.4288867922322983,
          -1.5589239266494332,
          -0.9503331341161685,
          -0.4871533471858235,
          0.37242352525385475,
          -0.12028847667674292,
          -0.5343988318276738,
          -0.29955801808268195,
          0.5750625586522502,
          -0.5439453452009341,
          -0.7457944468902554,
          0.21738104733639788,
          -0.8315775003113577,
          -0.16984480502465918,
          0.5637202019823333,
          -1.6541191753802165,
          0.7857574457781091,
          0.86207308970026,
          1.7636380440624961,
          0.5959513372063282,
          -1.18477284050119,
          0.5050905996685262,
          -0.7186843156620407,
          0.7277456402864244,
          -0.10883976841530896,
          -1.2800960574118065,
          0.9508036384404251,
          -1.2594942463628704,
          -0.43000599662706834,
          0.8518986087827631,
          2.1099835338576742,
          -1.1338620361510596,
          -0.1136365825121175,
          -0.31121735019710284
         ],
         "yaxis": "y8"
        },
        {
         "line": {
          "color": "rgba(128, 128, 128, 1.0)",
          "dash": "solid",
          "shape": "linear",
          "width": 1.3
         },
         "marker": {
          "size": 2,
          "symbol": "circle"
         },
         "mode": "markers",
         "name": "C",
         "text": "",
         "type": "scatter",
         "x": [
          -1.5698810706263946,
          -0.24670595182913876,
          0.9304875741808672,
          -0.5066248091859992,
          0.6849922041296616,
          1.8970178017465043,
          0.8077409636879337,
          -1.0010217400668584,
          1.3704184544113829,
          0.4285482444378609,
          -1.4904588136094539,
          -1.057101523542387,
          -0.027965777366933554,
          0.49225766147762384,
          1.7494548923444855,
          0.6281606764666283,
          0.4124195324549872,
          -1.214371296495128,
          -1.0341361517499075,
          1.226524093673132,
          -0.3702532214319981,
          -1.026602653888882,
          -2.3899848709024765,
          0.18617738129491324,
          1.4205391403152827,
          0.16620298379615436,
          0.929471725944909,
          -0.2948437483626567,
          -0.19238683310333554,
          0.3847510505627772,
          1.0876155888389627,
          -0.13114344678221457,
          -2.6313549063054644,
          -0.3071103070391007,
          0.02304046542887793,
          0.2729530132607438,
          -0.5975479856090492,
          -1.307335029097629,
          -0.47343875594268553,
          0.40462706875938037,
          -0.3750837496186107,
          -1.153600856704141,
          -0.3210114638708474,
          -2.2727107459326708,
          0.14301117636838187,
          -0.4665470914808554,
          0.826330087593931,
          -0.4180146691670233,
          1.054261233414269,
          -0.769436597202262,
          0.30626623858840024,
          -1.222590132635321,
          -2.30431979214976,
          0.666109200462043,
          -1.6728303362407113,
          0.1360130473809156,
          0.2494020778281667,
          -1.4992821492867194,
          -0.5116902731427975,
          1.525411005806135,
          -1.0830706078125625,
          -1.1839618316805465,
          -1.2495174128404651,
          -0.25963125105376794,
          -1.0391021603416049,
          1.1701721156729272,
          0.5622979488932329,
          -0.4771715870306209,
          1.768125398112826,
          0.7841311388100116,
          -0.6192657048486289,
          -1.6034238616624827,
          -1.8180894620316153,
          -0.3769070560431302,
          -0.41583997308357923,
          -0.6968963202170636,
          0.13930902297487113,
          -0.6588464417475745,
          0.16723455663614806,
          -0.5816300010843882,
          0.8479015012297172,
          -0.8378041078347768,
          0.590067897520868,
          -0.7406499043141112,
          2.0006310452298584,
          0.05244393802697705,
          -1.2673761100060725,
          -1.856178347559622,
          -0.8744830899459701,
          -1.254130315577289,
          -1.1896877070913607,
          -1.1228223429505455,
          1.5350484892720089,
          -0.7992697234238435,
          0.4575057067461036,
          0.7343373638940573,
          1.1758847224955535,
          0.047416055252521176,
          -0.15774964088717078,
          -1.0755946344964076
         ],
         "xaxis": "x9",
         "y": [
          -1.0277963728535986,
          0.40989558310469754,
          1.5350833310466399,
          1.3466211188459762,
          -0.21367980255378222,
          1.2184655661005612,
          -0.6647654704441155,
          -0.29656148351361705,
          -0.06744189322680803,
          -1.3484300862502496,
          0.15333275929662857,
          -0.00467568605895884,
          -0.2234287586903079,
          0.3696942580553424,
          -0.41792444436395626,
          -0.1569977293394031,
          -0.5095993491606567,
          0.5745633524870278,
          -2.2398401018261382,
          0.3192320536826866,
          0.967901483115932,
          -0.9000300782616163,
          0.6067188264020787,
          0.7894484684607743,
          -0.3830919249875024,
          -0.7074251059165702,
          -0.19143053267822113,
          -0.1413670345240148,
          -1.69169055813557,
          -1.788890845039639,
          0.07415872083724469,
          1.0109338646896295,
          -1.3100173079714235,
          2.150113178962219,
          -1.7546385518249705,
          1.0009792275862728,
          -1.3585838232375798,
          -0.21359845961706492,
          -1.0813905362427447,
          1.0749224280672565,
          -0.18737033437610848,
          -1.7971427774277917,
          -1.047275195508696,
          1.7027055795242951,
          -0.6898197958463056,
          -0.7592564238997,
          -1.1235688499199932,
          1.3756404611182302,
          1.0878703036748185,
          -1.8299870025566054,
          -0.5799561064215722,
          0.45626182851647223,
          -1.2536998431038242,
          0.4257854020936454,
          1.5383060981235064,
          1.2394853172000297,
          0.15178919377392014,
          0.11073815820235751,
          0.9286710682278193,
          -0.3501847278893218,
          0.17397667124766542,
          -2.071540002418569,
          -1.0418663340023109,
          1.4920333413205007,
          -1.6068871602601513,
          1.1335329089549389,
          -2.836924965596087,
          -0.7026162138622402,
          0.33643398686605996,
          1.2759651685706939,
          0.542788998294374,
          1.3425499456449346,
          0.7621067184879887,
          1.43586364624196,
          1.4373060592357538,
          -0.2482253153282465,
          1.043067030646993,
          -0.36941445515650223,
          0.05914853991195712,
          -0.793042217815076,
          -1.0673095885301342,
          0.6799265133512832,
          -0.480819229332368,
          -0.2978631306610548,
          -1.0119249092306795,
          -0.8146444117100996,
          0.2801903327454848,
          -1.7641375948739253,
          1.8184834808705337,
          1.9645831622733163,
          0.5416108056019772,
          0.15602645917752933,
          -1.1834000280969932,
          -0.4207260809567789,
          -1.3327165332387945,
          0.47186598864130247,
          -0.7778869548074504,
          -0.5920684790184321,
          0.9101906882047125,
          0.3506728388666368
         ],
         "yaxis": "y9"
        },
        {
         "line": {
          "color": "rgba(128, 128, 128, 1.0)",
          "dash": "solid",
          "shape": "linear",
          "width": 1.3
         },
         "marker": {
          "size": 2,
          "symbol": "circle"
         },
         "mode": "markers",
         "name": "C",
         "text": "",
         "type": "scatter",
         "x": [
          -1.3113999602332227,
          -0.5511892997361064,
          0.9564106365247286,
          -0.0756544666480186,
          -0.45951139552071874,
          -0.3443475067009876,
          0.5329020467359252,
          1.5965981779903844,
          -0.20924320022818726,
          1.0681126078401548,
          -0.45836557518658216,
          -1.4675364036403746,
          -0.6381239023755292,
          -0.04176861474034986,
          -0.44238044596072,
          -1.1019358315585372,
          -1.168885300883454,
          -1.0848304880389248,
          -0.8770366200242047,
          -0.8998816091576025,
          -0.257430903248447,
          -0.6354833792541387,
          -0.6693198479481702,
          -0.2559528260054829,
          1.0333323918355652,
          -0.05729430349437438,
          1.837781302884297,
          -0.46370353242448914,
          0.13857196530710683,
          -0.07449236233589691,
          0.8894995621514906,
          1.413508948643193,
          0.3150992901613012,
          -0.5601542001942031,
          -0.7421009574127645,
          0.9264598582933575,
          -1.1678766738320119,
          0.9199026350211115,
          1.3681026700375678,
          -1.1706032466392733,
          0.3058098352063741,
          1.0825115745711003,
          -0.7378682735739086,
          0.48708467631334085,
          -1.301103036688062,
          0.40206968519748654,
          -0.683857096879213,
          -1.8738912329733723,
          0.7171097033890735,
          0.03888805277076086,
          -1.1693617295332313,
          -1.500268149751419,
          1.344024211974228,
          -0.1555134136926965,
          -1.015500310369333,
          1.3380630990228026,
          1.0892709931382587,
          2.619925062300933,
          0.22134788766989708,
          -0.5265520734592678,
          -0.5930694400125788,
          2.0476451557714093,
          1.4136353954227314,
          -0.8583185862032842,
          0.909619416198989,
          -0.5818769144837174,
          -0.4288867922322983,
          -1.5589239266494332,
          -0.9503331341161685,
          -0.4871533471858235,
          0.37242352525385475,
          -0.12028847667674292,
          -0.5343988318276738,
          -0.29955801808268195,
          0.5750625586522502,
          -0.5439453452009341,
          -0.7457944468902554,
          0.21738104733639788,
          -0.8315775003113577,
          -0.16984480502465918,
          0.5637202019823333,
          -1.6541191753802165,
          0.7857574457781091,
          0.86207308970026,
          1.7636380440624961,
          0.5959513372063282,
          -1.18477284050119,
          0.5050905996685262,
          -0.7186843156620407,
          0.7277456402864244,
          -0.10883976841530896,
          -1.2800960574118065,
          0.9508036384404251,
          -1.2594942463628704,
          -0.43000599662706834,
          0.8518986087827631,
          2.1099835338576742,
          -1.1338620361510596,
          -0.1136365825121175,
          -0.31121735019710284
         ],
         "xaxis": "x10",
         "y": [
          -1.0277963728535986,
          0.40989558310469754,
          1.5350833310466399,
          1.3466211188459762,
          -0.21367980255378222,
          1.2184655661005612,
          -0.6647654704441155,
          -0.29656148351361705,
          -0.06744189322680803,
          -1.3484300862502496,
          0.15333275929662857,
          -0.00467568605895884,
          -0.2234287586903079,
          0.3696942580553424,
          -0.41792444436395626,
          -0.1569977293394031,
          -0.5095993491606567,
          0.5745633524870278,
          -2.2398401018261382,
          0.3192320536826866,
          0.967901483115932,
          -0.9000300782616163,
          0.6067188264020787,
          0.7894484684607743,
          -0.3830919249875024,
          -0.7074251059165702,
          -0.19143053267822113,
          -0.1413670345240148,
          -1.69169055813557,
          -1.788890845039639,
          0.07415872083724469,
          1.0109338646896295,
          -1.3100173079714235,
          2.150113178962219,
          -1.7546385518249705,
          1.0009792275862728,
          -1.3585838232375798,
          -0.21359845961706492,
          -1.0813905362427447,
          1.0749224280672565,
          -0.18737033437610848,
          -1.7971427774277917,
          -1.047275195508696,
          1.7027055795242951,
          -0.6898197958463056,
          -0.7592564238997,
          -1.1235688499199932,
          1.3756404611182302,
          1.0878703036748185,
          -1.8299870025566054,
          -0.5799561064215722,
          0.45626182851647223,
          -1.2536998431038242,
          0.4257854020936454,
          1.5383060981235064,
          1.2394853172000297,
          0.15178919377392014,
          0.11073815820235751,
          0.9286710682278193,
          -0.3501847278893218,
          0.17397667124766542,
          -2.071540002418569,
          -1.0418663340023109,
          1.4920333413205007,
          -1.6068871602601513,
          1.1335329089549389,
          -2.836924965596087,
          -0.7026162138622402,
          0.33643398686605996,
          1.2759651685706939,
          0.542788998294374,
          1.3425499456449346,
          0.7621067184879887,
          1.43586364624196,
          1.4373060592357538,
          -0.2482253153282465,
          1.043067030646993,
          -0.36941445515650223,
          0.05914853991195712,
          -0.793042217815076,
          -1.0673095885301342,
          0.6799265133512832,
          -0.480819229332368,
          -0.2978631306610548,
          -1.0119249092306795,
          -0.8146444117100996,
          0.2801903327454848,
          -1.7641375948739253,
          1.8184834808705337,
          1.9645831622733163,
          0.5416108056019772,
          0.15602645917752933,
          -1.1834000280969932,
          -0.4207260809567789,
          -1.3327165332387945,
          0.47186598864130247,
          -0.7778869548074504,
          -0.5920684790184321,
          0.9101906882047125,
          0.3506728388666368
         ],
         "yaxis": "y10"
        },
        {
         "histfunc": "count",
         "histnorm": "",
         "marker": {
          "color": "rgba(50, 171, 96, 1.0)",
          "line": {
           "color": "#4D5663",
           "width": 1.3
          }
         },
         "name": "C",
         "nbinsx": 10,
         "opacity": 0.8,
         "orientation": "v",
         "type": "histogram",
         "x": [
          -1.0277963728535986,
          0.40989558310469754,
          1.5350833310466399,
          1.3466211188459762,
          -0.21367980255378222,
          1.2184655661005612,
          -0.6647654704441155,
          -0.29656148351361705,
          -0.06744189322680803,
          -1.3484300862502496,
          0.15333275929662857,
          -0.00467568605895884,
          -0.2234287586903079,
          0.3696942580553424,
          -0.41792444436395626,
          -0.1569977293394031,
          -0.5095993491606567,
          0.5745633524870278,
          -2.2398401018261382,
          0.3192320536826866,
          0.967901483115932,
          -0.9000300782616163,
          0.6067188264020787,
          0.7894484684607743,
          -0.3830919249875024,
          -0.7074251059165702,
          -0.19143053267822113,
          -0.1413670345240148,
          -1.69169055813557,
          -1.788890845039639,
          0.07415872083724469,
          1.0109338646896295,
          -1.3100173079714235,
          2.150113178962219,
          -1.7546385518249705,
          1.0009792275862728,
          -1.3585838232375798,
          -0.21359845961706492,
          -1.0813905362427447,
          1.0749224280672565,
          -0.18737033437610848,
          -1.7971427774277917,
          -1.047275195508696,
          1.7027055795242951,
          -0.6898197958463056,
          -0.7592564238997,
          -1.1235688499199932,
          1.3756404611182302,
          1.0878703036748185,
          -1.8299870025566054,
          -0.5799561064215722,
          0.45626182851647223,
          -1.2536998431038242,
          0.4257854020936454,
          1.5383060981235064,
          1.2394853172000297,
          0.15178919377392014,
          0.11073815820235751,
          0.9286710682278193,
          -0.3501847278893218,
          0.17397667124766542,
          -2.071540002418569,
          -1.0418663340023109,
          1.4920333413205007,
          -1.6068871602601513,
          1.1335329089549389,
          -2.836924965596087,
          -0.7026162138622402,
          0.33643398686605996,
          1.2759651685706939,
          0.542788998294374,
          1.3425499456449346,
          0.7621067184879887,
          1.43586364624196,
          1.4373060592357538,
          -0.2482253153282465,
          1.043067030646993,
          -0.36941445515650223,
          0.05914853991195712,
          -0.793042217815076,
          -1.0673095885301342,
          0.6799265133512832,
          -0.480819229332368,
          -0.2978631306610548,
          -1.0119249092306795,
          -0.8146444117100996,
          0.2801903327454848,
          -1.7641375948739253,
          1.8184834808705337,
          1.9645831622733163,
          0.5416108056019772,
          0.15602645917752933,
          -1.1834000280969932,
          -0.4207260809567789,
          -1.3327165332387945,
          0.47186598864130247,
          -0.7778869548074504,
          -0.5920684790184321,
          0.9101906882047125,
          0.3506728388666368
         ],
         "xaxis": "x11",
         "yaxis": "y11"
        },
        {
         "line": {
          "color": "rgba(128, 128, 128, 1.0)",
          "dash": "solid",
          "shape": "linear",
          "width": 1.3
         },
         "marker": {
          "size": 2,
          "symbol": "circle"
         },
         "mode": "markers",
         "name": "C",
         "text": "",
         "type": "scatter",
         "x": [
          0.11916300730724995,
          -1.4592692105065774,
          1.8060787265728209,
          0.17503686989704614,
          0.4002454291850666,
          0.23442417470708268,
          0.5211046975249474,
          -0.13331146722298096,
          1.3413432082634766,
          0.9070099714622281,
          -2.3225068323745783,
          0.6253873437887567,
          3.0466517695337525,
          -0.025011387807534646,
          -0.8860579464022152,
          1.6765125166940615,
          -0.11688507057655162,
          2.0049154406765943,
          -1.7819306251585108,
          0.6250653565631049,
          -0.11927060224478235,
          1.3282812020097987,
          -0.43286371754802067,
          -0.7222402384231267,
          0.7178791083335256,
          1.5392952692396078,
          -0.344324965708766,
          0.13697617689928157,
          0.2657755877942632,
          -0.029288934925322592,
          0.41260051196259867,
          -0.22709844551062744,
          1.1618448532858292,
          0.8713936509936363,
          -0.5747425397960325,
          -0.7090434234352573,
          -1.4798393200272502,
          0.5993461404480717,
          -0.38894346952187886,
          -1.0224766008311459,
          0.8361269045230068,
          -0.4607977158558291,
          1.3277074186126048,
          -1.0145407490900704,
          0.6158886736937428,
          -0.8992843420412125,
          -0.6328992936225387,
          1.5522000275928174,
          1.416024771743824,
          0.6671488569132367,
          -0.9181512029359704,
          1.393091774531936,
          0.21083496487777947,
          -0.02364027596915868,
          0.8407388672370442,
          0.5934273987204705,
          0.8942461268039573,
          -0.5154282920383036,
          -0.8405199440371842,
          -0.529500492907707,
          0.23962397399718713,
          -0.15886143787690304,
          -2.722358198099253,
          0.3644950846587262,
          -0.18774141478002443,
          -1.3522265386480665,
          0.10854659998751222,
          -0.4536121680961895,
          -1.0680147908978759,
          1.2661333001982447,
          -1.3736912107361086,
          -1.2448775356293391,
          1.042802288713844,
          1.0851361086215612,
          -0.0901420510111028,
          -0.5762695845980996,
          -0.6311621396718728,
          -1.5522369447132873,
          -0.14015381932139637,
          0.9058169016568614,
          -1.1957279074720533,
          0.16939695104059013,
          1.3270627820032574,
          -0.6494277271569843,
          0.7626597171223247,
          -0.8784213191418017,
          1.5672003706559743,
          -0.9221939029516824,
          2.2888040124200995,
          0.37551063253596534,
          0.966739310650984,
          -1.2730325142011747,
          -0.4051704723522564,
          0.15662872419060897,
          -0.657969810606721,
          -0.7772228227370723,
          -0.61291068342699,
          0.44983091151087035,
          -1.7570401870403525,
          0.0564620110552343
         ],
         "xaxis": "x12",
         "y": [
          -1.0277963728535986,
          0.40989558310469754,
          1.5350833310466399,
          1.3466211188459762,
          -0.21367980255378222,
          1.2184655661005612,
          -0.6647654704441155,
          -0.29656148351361705,
          -0.06744189322680803,
          -1.3484300862502496,
          0.15333275929662857,
          -0.00467568605895884,
          -0.2234287586903079,
          0.3696942580553424,
          -0.41792444436395626,
          -0.1569977293394031,
          -0.5095993491606567,
          0.5745633524870278,
          -2.2398401018261382,
          0.3192320536826866,
          0.967901483115932,
          -0.9000300782616163,
          0.6067188264020787,
          0.7894484684607743,
          -0.3830919249875024,
          -0.7074251059165702,
          -0.19143053267822113,
          -0.1413670345240148,
          -1.69169055813557,
          -1.788890845039639,
          0.07415872083724469,
          1.0109338646896295,
          -1.3100173079714235,
          2.150113178962219,
          -1.7546385518249705,
          1.0009792275862728,
          -1.3585838232375798,
          -0.21359845961706492,
          -1.0813905362427447,
          1.0749224280672565,
          -0.18737033437610848,
          -1.7971427774277917,
          -1.047275195508696,
          1.7027055795242951,
          -0.6898197958463056,
          -0.7592564238997,
          -1.1235688499199932,
          1.3756404611182302,
          1.0878703036748185,
          -1.8299870025566054,
          -0.5799561064215722,
          0.45626182851647223,
          -1.2536998431038242,
          0.4257854020936454,
          1.5383060981235064,
          1.2394853172000297,
          0.15178919377392014,
          0.11073815820235751,
          0.9286710682278193,
          -0.3501847278893218,
          0.17397667124766542,
          -2.071540002418569,
          -1.0418663340023109,
          1.4920333413205007,
          -1.6068871602601513,
          1.1335329089549389,
          -2.836924965596087,
          -0.7026162138622402,
          0.33643398686605996,
          1.2759651685706939,
          0.542788998294374,
          1.3425499456449346,
          0.7621067184879887,
          1.43586364624196,
          1.4373060592357538,
          -0.2482253153282465,
          1.043067030646993,
          -0.36941445515650223,
          0.05914853991195712,
          -0.793042217815076,
          -1.0673095885301342,
          0.6799265133512832,
          -0.480819229332368,
          -0.2978631306610548,
          -1.0119249092306795,
          -0.8146444117100996,
          0.2801903327454848,
          -1.7641375948739253,
          1.8184834808705337,
          1.9645831622733163,
          0.5416108056019772,
          0.15602645917752933,
          -1.1834000280969932,
          -0.4207260809567789,
          -1.3327165332387945,
          0.47186598864130247,
          -0.7778869548074504,
          -0.5920684790184321,
          0.9101906882047125,
          0.3506728388666368
         ],
         "yaxis": "y12"
        },
        {
         "line": {
          "color": "rgba(128, 128, 128, 1.0)",
          "dash": "solid",
          "shape": "linear",
          "width": 1.3
         },
         "marker": {
          "size": 2,
          "symbol": "circle"
         },
         "mode": "markers",
         "name": "D",
         "text": "",
         "type": "scatter",
         "x": [
          -1.5698810706263946,
          -0.24670595182913876,
          0.9304875741808672,
          -0.5066248091859992,
          0.6849922041296616,
          1.8970178017465043,
          0.8077409636879337,
          -1.0010217400668584,
          1.3704184544113829,
          0.4285482444378609,
          -1.4904588136094539,
          -1.057101523542387,
          -0.027965777366933554,
          0.49225766147762384,
          1.7494548923444855,
          0.6281606764666283,
          0.4124195324549872,
          -1.214371296495128,
          -1.0341361517499075,
          1.226524093673132,
          -0.3702532214319981,
          -1.026602653888882,
          -2.3899848709024765,
          0.18617738129491324,
          1.4205391403152827,
          0.16620298379615436,
          0.929471725944909,
          -0.2948437483626567,
          -0.19238683310333554,
          0.3847510505627772,
          1.0876155888389627,
          -0.13114344678221457,
          -2.6313549063054644,
          -0.3071103070391007,
          0.02304046542887793,
          0.2729530132607438,
          -0.5975479856090492,
          -1.307335029097629,
          -0.47343875594268553,
          0.40462706875938037,
          -0.3750837496186107,
          -1.153600856704141,
          -0.3210114638708474,
          -2.2727107459326708,
          0.14301117636838187,
          -0.4665470914808554,
          0.826330087593931,
          -0.4180146691670233,
          1.054261233414269,
          -0.769436597202262,
          0.30626623858840024,
          -1.222590132635321,
          -2.30431979214976,
          0.666109200462043,
          -1.6728303362407113,
          0.1360130473809156,
          0.2494020778281667,
          -1.4992821492867194,
          -0.5116902731427975,
          1.525411005806135,
          -1.0830706078125625,
          -1.1839618316805465,
          -1.2495174128404651,
          -0.25963125105376794,
          -1.0391021603416049,
          1.1701721156729272,
          0.5622979488932329,
          -0.4771715870306209,
          1.768125398112826,
          0.7841311388100116,
          -0.6192657048486289,
          -1.6034238616624827,
          -1.8180894620316153,
          -0.3769070560431302,
          -0.41583997308357923,
          -0.6968963202170636,
          0.13930902297487113,
          -0.6588464417475745,
          0.16723455663614806,
          -0.5816300010843882,
          0.8479015012297172,
          -0.8378041078347768,
          0.590067897520868,
          -0.7406499043141112,
          2.0006310452298584,
          0.05244393802697705,
          -1.2673761100060725,
          -1.856178347559622,
          -0.8744830899459701,
          -1.254130315577289,
          -1.1896877070913607,
          -1.1228223429505455,
          1.5350484892720089,
          -0.7992697234238435,
          0.4575057067461036,
          0.7343373638940573,
          1.1758847224955535,
          0.047416055252521176,
          -0.15774964088717078,
          -1.0755946344964076
         ],
         "xaxis": "x13",
         "y": [
          0.11916300730724995,
          -1.4592692105065774,
          1.8060787265728209,
          0.17503686989704614,
          0.4002454291850666,
          0.23442417470708268,
          0.5211046975249474,
          -0.13331146722298096,
          1.3413432082634766,
          0.9070099714622281,
          -2.3225068323745783,
          0.6253873437887567,
          3.0466517695337525,
          -0.025011387807534646,
          -0.8860579464022152,
          1.6765125166940615,
          -0.11688507057655162,
          2.0049154406765943,
          -1.7819306251585108,
          0.6250653565631049,
          -0.11927060224478235,
          1.3282812020097987,
          -0.43286371754802067,
          -0.7222402384231267,
          0.7178791083335256,
          1.5392952692396078,
          -0.344324965708766,
          0.13697617689928157,
          0.2657755877942632,
          -0.029288934925322592,
          0.41260051196259867,
          -0.22709844551062744,
          1.1618448532858292,
          0.8713936509936363,
          -0.5747425397960325,
          -0.7090434234352573,
          -1.4798393200272502,
          0.5993461404480717,
          -0.38894346952187886,
          -1.0224766008311459,
          0.8361269045230068,
          -0.4607977158558291,
          1.3277074186126048,
          -1.0145407490900704,
          0.6158886736937428,
          -0.8992843420412125,
          -0.6328992936225387,
          1.5522000275928174,
          1.416024771743824,
          0.6671488569132367,
          -0.9181512029359704,
          1.393091774531936,
          0.21083496487777947,
          -0.02364027596915868,
          0.8407388672370442,
          0.5934273987204705,
          0.8942461268039573,
          -0.5154282920383036,
          -0.8405199440371842,
          -0.529500492907707,
          0.23962397399718713,
          -0.15886143787690304,
          -2.722358198099253,
          0.3644950846587262,
          -0.18774141478002443,
          -1.3522265386480665,
          0.10854659998751222,
          -0.4536121680961895,
          -1.0680147908978759,
          1.2661333001982447,
          -1.3736912107361086,
          -1.2448775356293391,
          1.042802288713844,
          1.0851361086215612,
          -0.0901420510111028,
          -0.5762695845980996,
          -0.6311621396718728,
          -1.5522369447132873,
          -0.14015381932139637,
          0.9058169016568614,
          -1.1957279074720533,
          0.16939695104059013,
          1.3270627820032574,
          -0.6494277271569843,
          0.7626597171223247,
          -0.8784213191418017,
          1.5672003706559743,
          -0.9221939029516824,
          2.2888040124200995,
          0.37551063253596534,
          0.966739310650984,
          -1.2730325142011747,
          -0.4051704723522564,
          0.15662872419060897,
          -0.657969810606721,
          -0.7772228227370723,
          -0.61291068342699,
          0.44983091151087035,
          -1.7570401870403525,
          0.0564620110552343
         ],
         "yaxis": "y13"
        },
        {
         "line": {
          "color": "rgba(128, 128, 128, 1.0)",
          "dash": "solid",
          "shape": "linear",
          "width": 1.3
         },
         "marker": {
          "size": 2,
          "symbol": "circle"
         },
         "mode": "markers",
         "name": "D",
         "text": "",
         "type": "scatter",
         "x": [
          -1.3113999602332227,
          -0.5511892997361064,
          0.9564106365247286,
          -0.0756544666480186,
          -0.45951139552071874,
          -0.3443475067009876,
          0.5329020467359252,
          1.5965981779903844,
          -0.20924320022818726,
          1.0681126078401548,
          -0.45836557518658216,
          -1.4675364036403746,
          -0.6381239023755292,
          -0.04176861474034986,
          -0.44238044596072,
          -1.1019358315585372,
          -1.168885300883454,
          -1.0848304880389248,
          -0.8770366200242047,
          -0.8998816091576025,
          -0.257430903248447,
          -0.6354833792541387,
          -0.6693198479481702,
          -0.2559528260054829,
          1.0333323918355652,
          -0.05729430349437438,
          1.837781302884297,
          -0.46370353242448914,
          0.13857196530710683,
          -0.07449236233589691,
          0.8894995621514906,
          1.413508948643193,
          0.3150992901613012,
          -0.5601542001942031,
          -0.7421009574127645,
          0.9264598582933575,
          -1.1678766738320119,
          0.9199026350211115,
          1.3681026700375678,
          -1.1706032466392733,
          0.3058098352063741,
          1.0825115745711003,
          -0.7378682735739086,
          0.48708467631334085,
          -1.301103036688062,
          0.40206968519748654,
          -0.683857096879213,
          -1.8738912329733723,
          0.7171097033890735,
          0.03888805277076086,
          -1.1693617295332313,
          -1.500268149751419,
          1.344024211974228,
          -0.1555134136926965,
          -1.015500310369333,
          1.3380630990228026,
          1.0892709931382587,
          2.619925062300933,
          0.22134788766989708,
          -0.5265520734592678,
          -0.5930694400125788,
          2.0476451557714093,
          1.4136353954227314,
          -0.8583185862032842,
          0.909619416198989,
          -0.5818769144837174,
          -0.4288867922322983,
          -1.5589239266494332,
          -0.9503331341161685,
          -0.4871533471858235,
          0.37242352525385475,
          -0.12028847667674292,
          -0.5343988318276738,
          -0.29955801808268195,
          0.5750625586522502,
          -0.5439453452009341,
          -0.7457944468902554,
          0.21738104733639788,
          -0.8315775003113577,
          -0.16984480502465918,
          0.5637202019823333,
          -1.6541191753802165,
          0.7857574457781091,
          0.86207308970026,
          1.7636380440624961,
          0.5959513372063282,
          -1.18477284050119,
          0.5050905996685262,
          -0.7186843156620407,
          0.7277456402864244,
          -0.10883976841530896,
          -1.2800960574118065,
          0.9508036384404251,
          -1.2594942463628704,
          -0.43000599662706834,
          0.8518986087827631,
          2.1099835338576742,
          -1.1338620361510596,
          -0.1136365825121175,
          -0.31121735019710284
         ],
         "xaxis": "x14",
         "y": [
          0.11916300730724995,
          -1.4592692105065774,
          1.8060787265728209,
          0.17503686989704614,
          0.4002454291850666,
          0.23442417470708268,
          0.5211046975249474,
          -0.13331146722298096,
          1.3413432082634766,
          0.9070099714622281,
          -2.3225068323745783,
          0.6253873437887567,
          3.0466517695337525,
          -0.025011387807534646,
          -0.8860579464022152,
          1.6765125166940615,
          -0.11688507057655162,
          2.0049154406765943,
          -1.7819306251585108,
          0.6250653565631049,
          -0.11927060224478235,
          1.3282812020097987,
          -0.43286371754802067,
          -0.7222402384231267,
          0.7178791083335256,
          1.5392952692396078,
          -0.344324965708766,
          0.13697617689928157,
          0.2657755877942632,
          -0.029288934925322592,
          0.41260051196259867,
          -0.22709844551062744,
          1.1618448532858292,
          0.8713936509936363,
          -0.5747425397960325,
          -0.7090434234352573,
          -1.4798393200272502,
          0.5993461404480717,
          -0.38894346952187886,
          -1.0224766008311459,
          0.8361269045230068,
          -0.4607977158558291,
          1.3277074186126048,
          -1.0145407490900704,
          0.6158886736937428,
          -0.8992843420412125,
          -0.6328992936225387,
          1.5522000275928174,
          1.416024771743824,
          0.6671488569132367,
          -0.9181512029359704,
          1.393091774531936,
          0.21083496487777947,
          -0.02364027596915868,
          0.8407388672370442,
          0.5934273987204705,
          0.8942461268039573,
          -0.5154282920383036,
          -0.8405199440371842,
          -0.529500492907707,
          0.23962397399718713,
          -0.15886143787690304,
          -2.722358198099253,
          0.3644950846587262,
          -0.18774141478002443,
          -1.3522265386480665,
          0.10854659998751222,
          -0.4536121680961895,
          -1.0680147908978759,
          1.2661333001982447,
          -1.3736912107361086,
          -1.2448775356293391,
          1.042802288713844,
          1.0851361086215612,
          -0.0901420510111028,
          -0.5762695845980996,
          -0.6311621396718728,
          -1.5522369447132873,
          -0.14015381932139637,
          0.9058169016568614,
          -1.1957279074720533,
          0.16939695104059013,
          1.3270627820032574,
          -0.6494277271569843,
          0.7626597171223247,
          -0.8784213191418017,
          1.5672003706559743,
          -0.9221939029516824,
          2.2888040124200995,
          0.37551063253596534,
          0.966739310650984,
          -1.2730325142011747,
          -0.4051704723522564,
          0.15662872419060897,
          -0.657969810606721,
          -0.7772228227370723,
          -0.61291068342699,
          0.44983091151087035,
          -1.7570401870403525,
          0.0564620110552343
         ],
         "yaxis": "y14"
        },
        {
         "line": {
          "color": "rgba(128, 128, 128, 1.0)",
          "dash": "solid",
          "shape": "linear",
          "width": 1.3
         },
         "marker": {
          "size": 2,
          "symbol": "circle"
         },
         "mode": "markers",
         "name": "D",
         "text": "",
         "type": "scatter",
         "x": [
          -1.0277963728535986,
          0.40989558310469754,
          1.5350833310466399,
          1.3466211188459762,
          -0.21367980255378222,
          1.2184655661005612,
          -0.6647654704441155,
          -0.29656148351361705,
          -0.06744189322680803,
          -1.3484300862502496,
          0.15333275929662857,
          -0.00467568605895884,
          -0.2234287586903079,
          0.3696942580553424,
          -0.41792444436395626,
          -0.1569977293394031,
          -0.5095993491606567,
          0.5745633524870278,
          -2.2398401018261382,
          0.3192320536826866,
          0.967901483115932,
          -0.9000300782616163,
          0.6067188264020787,
          0.7894484684607743,
          -0.3830919249875024,
          -0.7074251059165702,
          -0.19143053267822113,
          -0.1413670345240148,
          -1.69169055813557,
          -1.788890845039639,
          0.07415872083724469,
          1.0109338646896295,
          -1.3100173079714235,
          2.150113178962219,
          -1.7546385518249705,
          1.0009792275862728,
          -1.3585838232375798,
          -0.21359845961706492,
          -1.0813905362427447,
          1.0749224280672565,
          -0.18737033437610848,
          -1.7971427774277917,
          -1.047275195508696,
          1.7027055795242951,
          -0.6898197958463056,
          -0.7592564238997,
          -1.1235688499199932,
          1.3756404611182302,
          1.0878703036748185,
          -1.8299870025566054,
          -0.5799561064215722,
          0.45626182851647223,
          -1.2536998431038242,
          0.4257854020936454,
          1.5383060981235064,
          1.2394853172000297,
          0.15178919377392014,
          0.11073815820235751,
          0.9286710682278193,
          -0.3501847278893218,
          0.17397667124766542,
          -2.071540002418569,
          -1.0418663340023109,
          1.4920333413205007,
          -1.6068871602601513,
          1.1335329089549389,
          -2.836924965596087,
          -0.7026162138622402,
          0.33643398686605996,
          1.2759651685706939,
          0.542788998294374,
          1.3425499456449346,
          0.7621067184879887,
          1.43586364624196,
          1.4373060592357538,
          -0.2482253153282465,
          1.043067030646993,
          -0.36941445515650223,
          0.05914853991195712,
          -0.793042217815076,
          -1.0673095885301342,
          0.6799265133512832,
          -0.480819229332368,
          -0.2978631306610548,
          -1.0119249092306795,
          -0.8146444117100996,
          0.2801903327454848,
          -1.7641375948739253,
          1.8184834808705337,
          1.9645831622733163,
          0.5416108056019772,
          0.15602645917752933,
          -1.1834000280969932,
          -0.4207260809567789,
          -1.3327165332387945,
          0.47186598864130247,
          -0.7778869548074504,
          -0.5920684790184321,
          0.9101906882047125,
          0.3506728388666368
         ],
         "xaxis": "x15",
         "y": [
          0.11916300730724995,
          -1.4592692105065774,
          1.8060787265728209,
          0.17503686989704614,
          0.4002454291850666,
          0.23442417470708268,
          0.5211046975249474,
          -0.13331146722298096,
          1.3413432082634766,
          0.9070099714622281,
          -2.3225068323745783,
          0.6253873437887567,
          3.0466517695337525,
          -0.025011387807534646,
          -0.8860579464022152,
          1.6765125166940615,
          -0.11688507057655162,
          2.0049154406765943,
          -1.7819306251585108,
          0.6250653565631049,
          -0.11927060224478235,
          1.3282812020097987,
          -0.43286371754802067,
          -0.7222402384231267,
          0.7178791083335256,
          1.5392952692396078,
          -0.344324965708766,
          0.13697617689928157,
          0.2657755877942632,
          -0.029288934925322592,
          0.41260051196259867,
          -0.22709844551062744,
          1.1618448532858292,
          0.8713936509936363,
          -0.5747425397960325,
          -0.7090434234352573,
          -1.4798393200272502,
          0.5993461404480717,
          -0.38894346952187886,
          -1.0224766008311459,
          0.8361269045230068,
          -0.4607977158558291,
          1.3277074186126048,
          -1.0145407490900704,
          0.6158886736937428,
          -0.8992843420412125,
          -0.6328992936225387,
          1.5522000275928174,
          1.416024771743824,
          0.6671488569132367,
          -0.9181512029359704,
          1.393091774531936,
          0.21083496487777947,
          -0.02364027596915868,
          0.8407388672370442,
          0.5934273987204705,
          0.8942461268039573,
          -0.5154282920383036,
          -0.8405199440371842,
          -0.529500492907707,
          0.23962397399718713,
          -0.15886143787690304,
          -2.722358198099253,
          0.3644950846587262,
          -0.18774141478002443,
          -1.3522265386480665,
          0.10854659998751222,
          -0.4536121680961895,
          -1.0680147908978759,
          1.2661333001982447,
          -1.3736912107361086,
          -1.2448775356293391,
          1.042802288713844,
          1.0851361086215612,
          -0.0901420510111028,
          -0.5762695845980996,
          -0.6311621396718728,
          -1.5522369447132873,
          -0.14015381932139637,
          0.9058169016568614,
          -1.1957279074720533,
          0.16939695104059013,
          1.3270627820032574,
          -0.6494277271569843,
          0.7626597171223247,
          -0.8784213191418017,
          1.5672003706559743,
          -0.9221939029516824,
          2.2888040124200995,
          0.37551063253596534,
          0.966739310650984,
          -1.2730325142011747,
          -0.4051704723522564,
          0.15662872419060897,
          -0.657969810606721,
          -0.7772228227370723,
          -0.61291068342699,
          0.44983091151087035,
          -1.7570401870403525,
          0.0564620110552343
         ],
         "yaxis": "y15"
        },
        {
         "histfunc": "count",
         "histnorm": "",
         "marker": {
          "color": "rgba(128, 0, 128, 1.0)",
          "line": {
           "color": "#4D5663",
           "width": 1.3
          }
         },
         "name": "D",
         "nbinsx": 10,
         "opacity": 0.8,
         "orientation": "v",
         "type": "histogram",
         "x": [
          0.11916300730724995,
          -1.4592692105065774,
          1.8060787265728209,
          0.17503686989704614,
          0.4002454291850666,
          0.23442417470708268,
          0.5211046975249474,
          -0.13331146722298096,
          1.3413432082634766,
          0.9070099714622281,
          -2.3225068323745783,
          0.6253873437887567,
          3.0466517695337525,
          -0.025011387807534646,
          -0.8860579464022152,
          1.6765125166940615,
          -0.11688507057655162,
          2.0049154406765943,
          -1.7819306251585108,
          0.6250653565631049,
          -0.11927060224478235,
          1.3282812020097987,
          -0.43286371754802067,
          -0.7222402384231267,
          0.7178791083335256,
          1.5392952692396078,
          -0.344324965708766,
          0.13697617689928157,
          0.2657755877942632,
          -0.029288934925322592,
          0.41260051196259867,
          -0.22709844551062744,
          1.1618448532858292,
          0.8713936509936363,
          -0.5747425397960325,
          -0.7090434234352573,
          -1.4798393200272502,
          0.5993461404480717,
          -0.38894346952187886,
          -1.0224766008311459,
          0.8361269045230068,
          -0.4607977158558291,
          1.3277074186126048,
          -1.0145407490900704,
          0.6158886736937428,
          -0.8992843420412125,
          -0.6328992936225387,
          1.5522000275928174,
          1.416024771743824,
          0.6671488569132367,
          -0.9181512029359704,
          1.393091774531936,
          0.21083496487777947,
          -0.02364027596915868,
          0.8407388672370442,
          0.5934273987204705,
          0.8942461268039573,
          -0.5154282920383036,
          -0.8405199440371842,
          -0.529500492907707,
          0.23962397399718713,
          -0.15886143787690304,
          -2.722358198099253,
          0.3644950846587262,
          -0.18774141478002443,
          -1.3522265386480665,
          0.10854659998751222,
          -0.4536121680961895,
          -1.0680147908978759,
          1.2661333001982447,
          -1.3736912107361086,
          -1.2448775356293391,
          1.042802288713844,
          1.0851361086215612,
          -0.0901420510111028,
          -0.5762695845980996,
          -0.6311621396718728,
          -1.5522369447132873,
          -0.14015381932139637,
          0.9058169016568614,
          -1.1957279074720533,
          0.16939695104059013,
          1.3270627820032574,
          -0.6494277271569843,
          0.7626597171223247,
          -0.8784213191418017,
          1.5672003706559743,
          -0.9221939029516824,
          2.2888040124200995,
          0.37551063253596534,
          0.966739310650984,
          -1.2730325142011747,
          -0.4051704723522564,
          0.15662872419060897,
          -0.657969810606721,
          -0.7772228227370723,
          -0.61291068342699,
          0.44983091151087035,
          -1.7570401870403525,
          0.0564620110552343
         ],
         "xaxis": "x16",
         "yaxis": "y16"
        }
       ],
       "layout": {
        "bargap": 0.02,
        "legend": {
         "bgcolor": "#F5F6F9",
         "font": {
          "color": "#4D5663"
         }
        },
        "paper_bgcolor": "#F5F6F9",
        "plot_bgcolor": "#F5F6F9",
        "showlegend": false,
        "template": {
         "data": {
          "bar": [
           {
            "error_x": {
             "color": "#2a3f5f"
            },
            "error_y": {
             "color": "#2a3f5f"
            },
            "marker": {
             "line": {
              "color": "#E5ECF6",
              "width": 0.5
             },
             "pattern": {
              "fillmode": "overlay",
              "size": 10,
              "solidity": 0.2
             }
            },
            "type": "bar"
           }
          ],
          "barpolar": [
           {
            "marker": {
             "line": {
              "color": "#E5ECF6",
              "width": 0.5
             },
             "pattern": {
              "fillmode": "overlay",
              "size": 10,
              "solidity": 0.2
             }
            },
            "type": "barpolar"
           }
          ],
          "carpet": [
           {
            "aaxis": {
             "endlinecolor": "#2a3f5f",
             "gridcolor": "white",
             "linecolor": "white",
             "minorgridcolor": "white",
             "startlinecolor": "#2a3f5f"
            },
            "baxis": {
             "endlinecolor": "#2a3f5f",
             "gridcolor": "white",
             "linecolor": "white",
             "minorgridcolor": "white",
             "startlinecolor": "#2a3f5f"
            },
            "type": "carpet"
           }
          ],
          "choropleth": [
           {
            "colorbar": {
             "outlinewidth": 0,
             "ticks": ""
            },
            "type": "choropleth"
           }
          ],
          "contour": [
           {
            "colorbar": {
             "outlinewidth": 0,
             "ticks": ""
            },
            "colorscale": [
             [
              0,
              "#0d0887"
             ],
             [
              0.1111111111111111,
              "#46039f"
             ],
             [
              0.2222222222222222,
              "#7201a8"
             ],
             [
              0.3333333333333333,
              "#9c179e"
             ],
             [
              0.4444444444444444,
              "#bd3786"
             ],
             [
              0.5555555555555556,
              "#d8576b"
             ],
             [
              0.6666666666666666,
              "#ed7953"
             ],
             [
              0.7777777777777778,
              "#fb9f3a"
             ],
             [
              0.8888888888888888,
              "#fdca26"
             ],
             [
              1,
              "#f0f921"
             ]
            ],
            "type": "contour"
           }
          ],
          "contourcarpet": [
           {
            "colorbar": {
             "outlinewidth": 0,
             "ticks": ""
            },
            "type": "contourcarpet"
           }
          ],
          "heatmap": [
           {
            "colorbar": {
             "outlinewidth": 0,
             "ticks": ""
            },
            "colorscale": [
             [
              0,
              "#0d0887"
             ],
             [
              0.1111111111111111,
              "#46039f"
             ],
             [
              0.2222222222222222,
              "#7201a8"
             ],
             [
              0.3333333333333333,
              "#9c179e"
             ],
             [
              0.4444444444444444,
              "#bd3786"
             ],
             [
              0.5555555555555556,
              "#d8576b"
             ],
             [
              0.6666666666666666,
              "#ed7953"
             ],
             [
              0.7777777777777778,
              "#fb9f3a"
             ],
             [
              0.8888888888888888,
              "#fdca26"
             ],
             [
              1,
              "#f0f921"
             ]
            ],
            "type": "heatmap"
           }
          ],
          "heatmapgl": [
           {
            "colorbar": {
             "outlinewidth": 0,
             "ticks": ""
            },
            "colorscale": [
             [
              0,
              "#0d0887"
             ],
             [
              0.1111111111111111,
              "#46039f"
             ],
             [
              0.2222222222222222,
              "#7201a8"
             ],
             [
              0.3333333333333333,
              "#9c179e"
             ],
             [
              0.4444444444444444,
              "#bd3786"
             ],
             [
              0.5555555555555556,
              "#d8576b"
             ],
             [
              0.6666666666666666,
              "#ed7953"
             ],
             [
              0.7777777777777778,
              "#fb9f3a"
             ],
             [
              0.8888888888888888,
              "#fdca26"
             ],
             [
              1,
              "#f0f921"
             ]
            ],
            "type": "heatmapgl"
           }
          ],
          "histogram": [
           {
            "marker": {
             "pattern": {
              "fillmode": "overlay",
              "size": 10,
              "solidity": 0.2
             }
            },
            "type": "histogram"
           }
          ],
          "histogram2d": [
           {
            "colorbar": {
             "outlinewidth": 0,
             "ticks": ""
            },
            "colorscale": [
             [
              0,
              "#0d0887"
             ],
             [
              0.1111111111111111,
              "#46039f"
             ],
             [
              0.2222222222222222,
              "#7201a8"
             ],
             [
              0.3333333333333333,
              "#9c179e"
             ],
             [
              0.4444444444444444,
              "#bd3786"
             ],
             [
              0.5555555555555556,
              "#d8576b"
             ],
             [
              0.6666666666666666,
              "#ed7953"
             ],
             [
              0.7777777777777778,
              "#fb9f3a"
             ],
             [
              0.8888888888888888,
              "#fdca26"
             ],
             [
              1,
              "#f0f921"
             ]
            ],
            "type": "histogram2d"
           }
          ],
          "histogram2dcontour": [
           {
            "colorbar": {
             "outlinewidth": 0,
             "ticks": ""
            },
            "colorscale": [
             [
              0,
              "#0d0887"
             ],
             [
              0.1111111111111111,
              "#46039f"
             ],
             [
              0.2222222222222222,
              "#7201a8"
             ],
             [
              0.3333333333333333,
              "#9c179e"
             ],
             [
              0.4444444444444444,
              "#bd3786"
             ],
             [
              0.5555555555555556,
              "#d8576b"
             ],
             [
              0.6666666666666666,
              "#ed7953"
             ],
             [
              0.7777777777777778,
              "#fb9f3a"
             ],
             [
              0.8888888888888888,
              "#fdca26"
             ],
             [
              1,
              "#f0f921"
             ]
            ],
            "type": "histogram2dcontour"
           }
          ],
          "mesh3d": [
           {
            "colorbar": {
             "outlinewidth": 0,
             "ticks": ""
            },
            "type": "mesh3d"
           }
          ],
          "parcoords": [
           {
            "line": {
             "colorbar": {
              "outlinewidth": 0,
              "ticks": ""
             }
            },
            "type": "parcoords"
           }
          ],
          "pie": [
           {
            "automargin": true,
            "type": "pie"
           }
          ],
          "scatter": [
           {
            "marker": {
             "colorbar": {
              "outlinewidth": 0,
              "ticks": ""
             }
            },
            "type": "scatter"
           }
          ],
          "scatter3d": [
           {
            "line": {
             "colorbar": {
              "outlinewidth": 0,
              "ticks": ""
             }
            },
            "marker": {
             "colorbar": {
              "outlinewidth": 0,
              "ticks": ""
             }
            },
            "type": "scatter3d"
           }
          ],
          "scattercarpet": [
           {
            "marker": {
             "colorbar": {
              "outlinewidth": 0,
              "ticks": ""
             }
            },
            "type": "scattercarpet"
           }
          ],
          "scattergeo": [
           {
            "marker": {
             "colorbar": {
              "outlinewidth": 0,
              "ticks": ""
             }
            },
            "type": "scattergeo"
           }
          ],
          "scattergl": [
           {
            "marker": {
             "colorbar": {
              "outlinewidth": 0,
              "ticks": ""
             }
            },
            "type": "scattergl"
           }
          ],
          "scattermapbox": [
           {
            "marker": {
             "colorbar": {
              "outlinewidth": 0,
              "ticks": ""
             }
            },
            "type": "scattermapbox"
           }
          ],
          "scatterpolar": [
           {
            "marker": {
             "colorbar": {
              "outlinewidth": 0,
              "ticks": ""
             }
            },
            "type": "scatterpolar"
           }
          ],
          "scatterpolargl": [
           {
            "marker": {
             "colorbar": {
              "outlinewidth": 0,
              "ticks": ""
             }
            },
            "type": "scatterpolargl"
           }
          ],
          "scatterternary": [
           {
            "marker": {
             "colorbar": {
              "outlinewidth": 0,
              "ticks": ""
             }
            },
            "type": "scatterternary"
           }
          ],
          "surface": [
           {
            "colorbar": {
             "outlinewidth": 0,
             "ticks": ""
            },
            "colorscale": [
             [
              0,
              "#0d0887"
             ],
             [
              0.1111111111111111,
              "#46039f"
             ],
             [
              0.2222222222222222,
              "#7201a8"
             ],
             [
              0.3333333333333333,
              "#9c179e"
             ],
             [
              0.4444444444444444,
              "#bd3786"
             ],
             [
              0.5555555555555556,
              "#d8576b"
             ],
             [
              0.6666666666666666,
              "#ed7953"
             ],
             [
              0.7777777777777778,
              "#fb9f3a"
             ],
             [
              0.8888888888888888,
              "#fdca26"
             ],
             [
              1,
              "#f0f921"
             ]
            ],
            "type": "surface"
           }
          ],
          "table": [
           {
            "cells": {
             "fill": {
              "color": "#EBF0F8"
             },
             "line": {
              "color": "white"
             }
            },
            "header": {
             "fill": {
              "color": "#C8D4E3"
             },
             "line": {
              "color": "white"
             }
            },
            "type": "table"
           }
          ]
         },
         "layout": {
          "annotationdefaults": {
           "arrowcolor": "#2a3f5f",
           "arrowhead": 0,
           "arrowwidth": 1
          },
          "autotypenumbers": "strict",
          "coloraxis": {
           "colorbar": {
            "outlinewidth": 0,
            "ticks": ""
           }
          },
          "colorscale": {
           "diverging": [
            [
             0,
             "#8e0152"
            ],
            [
             0.1,
             "#c51b7d"
            ],
            [
             0.2,
             "#de77ae"
            ],
            [
             0.3,
             "#f1b6da"
            ],
            [
             0.4,
             "#fde0ef"
            ],
            [
             0.5,
             "#f7f7f7"
            ],
            [
             0.6,
             "#e6f5d0"
            ],
            [
             0.7,
             "#b8e186"
            ],
            [
             0.8,
             "#7fbc41"
            ],
            [
             0.9,
             "#4d9221"
            ],
            [
             1,
             "#276419"
            ]
           ],
           "sequential": [
            [
             0,
             "#0d0887"
            ],
            [
             0.1111111111111111,
             "#46039f"
            ],
            [
             0.2222222222222222,
             "#7201a8"
            ],
            [
             0.3333333333333333,
             "#9c179e"
            ],
            [
             0.4444444444444444,
             "#bd3786"
            ],
            [
             0.5555555555555556,
             "#d8576b"
            ],
            [
             0.6666666666666666,
             "#ed7953"
            ],
            [
             0.7777777777777778,
             "#fb9f3a"
            ],
            [
             0.8888888888888888,
             "#fdca26"
            ],
            [
             1,
             "#f0f921"
            ]
           ],
           "sequentialminus": [
            [
             0,
             "#0d0887"
            ],
            [
             0.1111111111111111,
             "#46039f"
            ],
            [
             0.2222222222222222,
             "#7201a8"
            ],
            [
             0.3333333333333333,
             "#9c179e"
            ],
            [
             0.4444444444444444,
             "#bd3786"
            ],
            [
             0.5555555555555556,
             "#d8576b"
            ],
            [
             0.6666666666666666,
             "#ed7953"
            ],
            [
             0.7777777777777778,
             "#fb9f3a"
            ],
            [
             0.8888888888888888,
             "#fdca26"
            ],
            [
             1,
             "#f0f921"
            ]
           ]
          },
          "colorway": [
           "#636efa",
           "#EF553B",
           "#00cc96",
           "#ab63fa",
           "#FFA15A",
           "#19d3f3",
           "#FF6692",
           "#B6E880",
           "#FF97FF",
           "#FECB52"
          ],
          "font": {
           "color": "#2a3f5f"
          },
          "geo": {
           "bgcolor": "white",
           "lakecolor": "white",
           "landcolor": "#E5ECF6",
           "showlakes": true,
           "showland": true,
           "subunitcolor": "white"
          },
          "hoverlabel": {
           "align": "left"
          },
          "hovermode": "closest",
          "mapbox": {
           "style": "light"
          },
          "paper_bgcolor": "white",
          "plot_bgcolor": "#E5ECF6",
          "polar": {
           "angularaxis": {
            "gridcolor": "white",
            "linecolor": "white",
            "ticks": ""
           },
           "bgcolor": "#E5ECF6",
           "radialaxis": {
            "gridcolor": "white",
            "linecolor": "white",
            "ticks": ""
           }
          },
          "scene": {
           "xaxis": {
            "backgroundcolor": "#E5ECF6",
            "gridcolor": "white",
            "gridwidth": 2,
            "linecolor": "white",
            "showbackground": true,
            "ticks": "",
            "zerolinecolor": "white"
           },
           "yaxis": {
            "backgroundcolor": "#E5ECF6",
            "gridcolor": "white",
            "gridwidth": 2,
            "linecolor": "white",
            "showbackground": true,
            "ticks": "",
            "zerolinecolor": "white"
           },
           "zaxis": {
            "backgroundcolor": "#E5ECF6",
            "gridcolor": "white",
            "gridwidth": 2,
            "linecolor": "white",
            "showbackground": true,
            "ticks": "",
            "zerolinecolor": "white"
           }
          },
          "shapedefaults": {
           "line": {
            "color": "#2a3f5f"
           }
          },
          "ternary": {
           "aaxis": {
            "gridcolor": "white",
            "linecolor": "white",
            "ticks": ""
           },
           "baxis": {
            "gridcolor": "white",
            "linecolor": "white",
            "ticks": ""
           },
           "bgcolor": "#E5ECF6",
           "caxis": {
            "gridcolor": "white",
            "linecolor": "white",
            "ticks": ""
           }
          },
          "title": {
           "x": 0.05
          },
          "xaxis": {
           "automargin": true,
           "gridcolor": "white",
           "linecolor": "white",
           "ticks": "",
           "title": {
            "standoff": 15
           },
           "zerolinecolor": "white",
           "zerolinewidth": 2
          },
          "yaxis": {
           "automargin": true,
           "gridcolor": "white",
           "linecolor": "white",
           "ticks": "",
           "title": {
            "standoff": 15
           },
           "zerolinecolor": "white",
           "zerolinewidth": 2
          }
         }
        },
        "title": {
         "font": {
          "color": "#4D5663"
         }
        },
        "xaxis": {
         "anchor": "y",
         "domain": [
          0,
          0.2125
         ],
         "gridcolor": "#E1E5ED",
         "showgrid": false,
         "tickfont": {
          "color": "#4D5663"
         },
         "title": {
          "font": {
           "color": "#4D5663"
          },
          "text": ""
         },
         "zerolinecolor": "#E1E5ED"
        },
        "xaxis10": {
         "anchor": "y10",
         "domain": [
          0.2625,
          0.475
         ],
         "gridcolor": "#E1E5ED",
         "showgrid": false,
         "tickfont": {
          "color": "#4D5663"
         },
         "title": {
          "font": {
           "color": "#4D5663"
          },
          "text": ""
         },
         "zerolinecolor": "#E1E5ED"
        },
        "xaxis11": {
         "anchor": "y11",
         "domain": [
          0.525,
          0.7375
         ],
         "gridcolor": "#E1E5ED",
         "showgrid": false,
         "tickfont": {
          "color": "#4D5663"
         },
         "title": {
          "font": {
           "color": "#4D5663"
          },
          "text": ""
         },
         "zerolinecolor": "#E1E5ED"
        },
        "xaxis12": {
         "anchor": "y12",
         "domain": [
          0.7875,
          1
         ],
         "gridcolor": "#E1E5ED",
         "showgrid": false,
         "tickfont": {
          "color": "#4D5663"
         },
         "title": {
          "font": {
           "color": "#4D5663"
          },
          "text": ""
         },
         "zerolinecolor": "#E1E5ED"
        },
        "xaxis13": {
         "anchor": "y13",
         "domain": [
          0,
          0.2125
         ],
         "gridcolor": "#E1E5ED",
         "showgrid": false,
         "tickfont": {
          "color": "#4D5663"
         },
         "title": {
          "font": {
           "color": "#4D5663"
          },
          "text": ""
         },
         "zerolinecolor": "#E1E5ED"
        },
        "xaxis14": {
         "anchor": "y14",
         "domain": [
          0.2625,
          0.475
         ],
         "gridcolor": "#E1E5ED",
         "showgrid": false,
         "tickfont": {
          "color": "#4D5663"
         },
         "title": {
          "font": {
           "color": "#4D5663"
          },
          "text": ""
         },
         "zerolinecolor": "#E1E5ED"
        },
        "xaxis15": {
         "anchor": "y15",
         "domain": [
          0.525,
          0.7375
         ],
         "gridcolor": "#E1E5ED",
         "showgrid": false,
         "tickfont": {
          "color": "#4D5663"
         },
         "title": {
          "font": {
           "color": "#4D5663"
          },
          "text": ""
         },
         "zerolinecolor": "#E1E5ED"
        },
        "xaxis16": {
         "anchor": "y16",
         "domain": [
          0.7875,
          1
         ],
         "gridcolor": "#E1E5ED",
         "showgrid": false,
         "tickfont": {
          "color": "#4D5663"
         },
         "title": {
          "font": {
           "color": "#4D5663"
          },
          "text": ""
         },
         "zerolinecolor": "#E1E5ED"
        },
        "xaxis2": {
         "anchor": "y2",
         "domain": [
          0.2625,
          0.475
         ],
         "gridcolor": "#E1E5ED",
         "showgrid": false,
         "tickfont": {
          "color": "#4D5663"
         },
         "title": {
          "font": {
           "color": "#4D5663"
          },
          "text": ""
         },
         "zerolinecolor": "#E1E5ED"
        },
        "xaxis3": {
         "anchor": "y3",
         "domain": [
          0.525,
          0.7375
         ],
         "gridcolor": "#E1E5ED",
         "showgrid": false,
         "tickfont": {
          "color": "#4D5663"
         },
         "title": {
          "font": {
           "color": "#4D5663"
          },
          "text": ""
         },
         "zerolinecolor": "#E1E5ED"
        },
        "xaxis4": {
         "anchor": "y4",
         "domain": [
          0.7875,
          1
         ],
         "gridcolor": "#E1E5ED",
         "showgrid": false,
         "tickfont": {
          "color": "#4D5663"
         },
         "title": {
          "font": {
           "color": "#4D5663"
          },
          "text": ""
         },
         "zerolinecolor": "#E1E5ED"
        },
        "xaxis5": {
         "anchor": "y5",
         "domain": [
          0,
          0.2125
         ],
         "gridcolor": "#E1E5ED",
         "showgrid": false,
         "tickfont": {
          "color": "#4D5663"
         },
         "title": {
          "font": {
           "color": "#4D5663"
          },
          "text": ""
         },
         "zerolinecolor": "#E1E5ED"
        },
        "xaxis6": {
         "anchor": "y6",
         "domain": [
          0.2625,
          0.475
         ],
         "gridcolor": "#E1E5ED",
         "showgrid": false,
         "tickfont": {
          "color": "#4D5663"
         },
         "title": {
          "font": {
           "color": "#4D5663"
          },
          "text": ""
         },
         "zerolinecolor": "#E1E5ED"
        },
        "xaxis7": {
         "anchor": "y7",
         "domain": [
          0.525,
          0.7375
         ],
         "gridcolor": "#E1E5ED",
         "showgrid": false,
         "tickfont": {
          "color": "#4D5663"
         },
         "title": {
          "font": {
           "color": "#4D5663"
          },
          "text": ""
         },
         "zerolinecolor": "#E1E5ED"
        },
        "xaxis8": {
         "anchor": "y8",
         "domain": [
          0.7875,
          1
         ],
         "gridcolor": "#E1E5ED",
         "showgrid": false,
         "tickfont": {
          "color": "#4D5663"
         },
         "title": {
          "font": {
           "color": "#4D5663"
          },
          "text": ""
         },
         "zerolinecolor": "#E1E5ED"
        },
        "xaxis9": {
         "anchor": "y9",
         "domain": [
          0,
          0.2125
         ],
         "gridcolor": "#E1E5ED",
         "showgrid": false,
         "tickfont": {
          "color": "#4D5663"
         },
         "title": {
          "font": {
           "color": "#4D5663"
          },
          "text": ""
         },
         "zerolinecolor": "#E1E5ED"
        },
        "yaxis": {
         "anchor": "x",
         "domain": [
          0.8025,
          1
         ],
         "gridcolor": "#E1E5ED",
         "showgrid": false,
         "tickfont": {
          "color": "#4D5663"
         },
         "title": {
          "font": {
           "color": "#4D5663"
          },
          "text": ""
         },
         "zerolinecolor": "#E1E5ED"
        },
        "yaxis10": {
         "anchor": "x10",
         "domain": [
          0.2675,
          0.465
         ],
         "gridcolor": "#E1E5ED",
         "showgrid": false,
         "tickfont": {
          "color": "#4D5663"
         },
         "title": {
          "font": {
           "color": "#4D5663"
          },
          "text": ""
         },
         "zerolinecolor": "#E1E5ED"
        },
        "yaxis11": {
         "anchor": "x11",
         "domain": [
          0.2675,
          0.465
         ],
         "gridcolor": "#E1E5ED",
         "showgrid": false,
         "tickfont": {
          "color": "#4D5663"
         },
         "title": {
          "font": {
           "color": "#4D5663"
          },
          "text": ""
         },
         "zerolinecolor": "#E1E5ED"
        },
        "yaxis12": {
         "anchor": "x12",
         "domain": [
          0.2675,
          0.465
         ],
         "gridcolor": "#E1E5ED",
         "showgrid": false,
         "tickfont": {
          "color": "#4D5663"
         },
         "title": {
          "font": {
           "color": "#4D5663"
          },
          "text": ""
         },
         "zerolinecolor": "#E1E5ED"
        },
        "yaxis13": {
         "anchor": "x13",
         "domain": [
          0,
          0.1975
         ],
         "gridcolor": "#E1E5ED",
         "showgrid": false,
         "tickfont": {
          "color": "#4D5663"
         },
         "title": {
          "font": {
           "color": "#4D5663"
          },
          "text": ""
         },
         "zerolinecolor": "#E1E5ED"
        },
        "yaxis14": {
         "anchor": "x14",
         "domain": [
          0,
          0.1975
         ],
         "gridcolor": "#E1E5ED",
         "showgrid": false,
         "tickfont": {
          "color": "#4D5663"
         },
         "title": {
          "font": {
           "color": "#4D5663"
          },
          "text": ""
         },
         "zerolinecolor": "#E1E5ED"
        },
        "yaxis15": {
         "anchor": "x15",
         "domain": [
          0,
          0.1975
         ],
         "gridcolor": "#E1E5ED",
         "showgrid": false,
         "tickfont": {
          "color": "#4D5663"
         },
         "title": {
          "font": {
           "color": "#4D5663"
          },
          "text": ""
         },
         "zerolinecolor": "#E1E5ED"
        },
        "yaxis16": {
         "anchor": "x16",
         "domain": [
          0,
          0.1975
         ],
         "gridcolor": "#E1E5ED",
         "showgrid": false,
         "tickfont": {
          "color": "#4D5663"
         },
         "title": {
          "font": {
           "color": "#4D5663"
          },
          "text": ""
         },
         "zerolinecolor": "#E1E5ED"
        },
        "yaxis2": {
         "anchor": "x2",
         "domain": [
          0.8025,
          1
         ],
         "gridcolor": "#E1E5ED",
         "showgrid": false,
         "tickfont": {
          "color": "#4D5663"
         },
         "title": {
          "font": {
           "color": "#4D5663"
          },
          "text": ""
         },
         "zerolinecolor": "#E1E5ED"
        },
        "yaxis3": {
         "anchor": "x3",
         "domain": [
          0.8025,
          1
         ],
         "gridcolor": "#E1E5ED",
         "showgrid": false,
         "tickfont": {
          "color": "#4D5663"
         },
         "title": {
          "font": {
           "color": "#4D5663"
          },
          "text": ""
         },
         "zerolinecolor": "#E1E5ED"
        },
        "yaxis4": {
         "anchor": "x4",
         "domain": [
          0.8025,
          1
         ],
         "gridcolor": "#E1E5ED",
         "showgrid": false,
         "tickfont": {
          "color": "#4D5663"
         },
         "title": {
          "font": {
           "color": "#4D5663"
          },
          "text": ""
         },
         "zerolinecolor": "#E1E5ED"
        },
        "yaxis5": {
         "anchor": "x5",
         "domain": [
          0.535,
          0.7325
         ],
         "gridcolor": "#E1E5ED",
         "showgrid": false,
         "tickfont": {
          "color": "#4D5663"
         },
         "title": {
          "font": {
           "color": "#4D5663"
          },
          "text": ""
         },
         "zerolinecolor": "#E1E5ED"
        },
        "yaxis6": {
         "anchor": "x6",
         "domain": [
          0.535,
          0.7325
         ],
         "gridcolor": "#E1E5ED",
         "showgrid": false,
         "tickfont": {
          "color": "#4D5663"
         },
         "title": {
          "font": {
           "color": "#4D5663"
          },
          "text": ""
         },
         "zerolinecolor": "#E1E5ED"
        },
        "yaxis7": {
         "anchor": "x7",
         "domain": [
          0.535,
          0.7325
         ],
         "gridcolor": "#E1E5ED",
         "showgrid": false,
         "tickfont": {
          "color": "#4D5663"
         },
         "title": {
          "font": {
           "color": "#4D5663"
          },
          "text": ""
         },
         "zerolinecolor": "#E1E5ED"
        },
        "yaxis8": {
         "anchor": "x8",
         "domain": [
          0.535,
          0.7325
         ],
         "gridcolor": "#E1E5ED",
         "showgrid": false,
         "tickfont": {
          "color": "#4D5663"
         },
         "title": {
          "font": {
           "color": "#4D5663"
          },
          "text": ""
         },
         "zerolinecolor": "#E1E5ED"
        },
        "yaxis9": {
         "anchor": "x9",
         "domain": [
          0.2675,
          0.465
         ],
         "gridcolor": "#E1E5ED",
         "showgrid": false,
         "tickfont": {
          "color": "#4D5663"
         },
         "title": {
          "font": {
           "color": "#4D5663"
          },
          "text": ""
         },
         "zerolinecolor": "#E1E5ED"
        }
       }
      },
      "text/html": [
       "<div>                            <div id=\"4678feab-b84e-406f-b9c3-9396d05bfff8\" class=\"plotly-graph-div\" style=\"height:525px; width:100%;\"></div>            <script type=\"text/javascript\">                require([\"plotly\"], function(Plotly) {                    window.PLOTLYENV=window.PLOTLYENV || {};\n",
       "                    window.PLOTLYENV.BASE_URL='https://plot.ly';                                    if (document.getElementById(\"4678feab-b84e-406f-b9c3-9396d05bfff8\")) {                    Plotly.newPlot(                        \"4678feab-b84e-406f-b9c3-9396d05bfff8\",                        [{\"histfunc\":\"count\",\"histnorm\":\"\",\"marker\":{\"color\":\"rgba(255, 153, 51, 1.0)\",\"line\":{\"color\":\"#4D5663\",\"width\":1.3}},\"name\":\"A\",\"nbinsx\":10,\"opacity\":0.8,\"orientation\":\"v\",\"type\":\"histogram\",\"x\":[-1.5698810706263946,-0.24670595182913876,0.9304875741808672,-0.5066248091859992,0.6849922041296616,1.8970178017465043,0.8077409636879337,-1.0010217400668584,1.3704184544113829,0.4285482444378609,-1.4904588136094539,-1.057101523542387,-0.027965777366933554,0.49225766147762384,1.7494548923444855,0.6281606764666283,0.4124195324549872,-1.214371296495128,-1.0341361517499075,1.226524093673132,-0.3702532214319981,-1.026602653888882,-2.3899848709024765,0.18617738129491324,1.4205391403152827,0.16620298379615436,0.929471725944909,-0.2948437483626567,-0.19238683310333554,0.3847510505627772,1.0876155888389627,-0.13114344678221457,-2.6313549063054644,-0.3071103070391007,0.02304046542887793,0.2729530132607438,-0.5975479856090492,-1.307335029097629,-0.47343875594268553,0.40462706875938037,-0.3750837496186107,-1.153600856704141,-0.3210114638708474,-2.2727107459326708,0.14301117636838187,-0.4665470914808554,0.826330087593931,-0.4180146691670233,1.054261233414269,-0.769436597202262,0.30626623858840024,-1.222590132635321,-2.30431979214976,0.666109200462043,-1.6728303362407113,0.1360130473809156,0.2494020778281667,-1.4992821492867194,-0.5116902731427975,1.525411005806135,-1.0830706078125625,-1.1839618316805465,-1.2495174128404651,-0.25963125105376794,-1.0391021603416049,1.1701721156729272,0.5622979488932329,-0.4771715870306209,1.768125398112826,0.7841311388100116,-0.6192657048486289,-1.6034238616624827,-1.8180894620316153,-0.3769070560431302,-0.41583997308357923,-0.6968963202170636,0.13930902297487113,-0.6588464417475745,0.16723455663614806,-0.5816300010843882,0.8479015012297172,-0.8378041078347768,0.590067897520868,-0.7406499043141112,2.0006310452298584,0.05244393802697705,-1.2673761100060725,-1.856178347559622,-0.8744830899459701,-1.254130315577289,-1.1896877070913607,-1.1228223429505455,1.5350484892720089,-0.7992697234238435,0.4575057067461036,0.7343373638940573,1.1758847224955535,0.047416055252521176,-0.15774964088717078,-1.0755946344964076],\"xaxis\":\"x\",\"yaxis\":\"y\"},{\"line\":{\"color\":\"rgba(128, 128, 128, 1.0)\",\"dash\":\"solid\",\"shape\":\"linear\",\"width\":1.3},\"marker\":{\"size\":2,\"symbol\":\"circle\"},\"mode\":\"markers\",\"name\":\"A\",\"text\":\"\",\"type\":\"scatter\",\"x\":[-1.3113999602332227,-0.5511892997361064,0.9564106365247286,-0.0756544666480186,-0.45951139552071874,-0.3443475067009876,0.5329020467359252,1.5965981779903844,-0.20924320022818726,1.0681126078401548,-0.45836557518658216,-1.4675364036403746,-0.6381239023755292,-0.04176861474034986,-0.44238044596072,-1.1019358315585372,-1.168885300883454,-1.0848304880389248,-0.8770366200242047,-0.8998816091576025,-0.257430903248447,-0.6354833792541387,-0.6693198479481702,-0.2559528260054829,1.0333323918355652,-0.05729430349437438,1.837781302884297,-0.46370353242448914,0.13857196530710683,-0.07449236233589691,0.8894995621514906,1.413508948643193,0.3150992901613012,-0.5601542001942031,-0.7421009574127645,0.9264598582933575,-1.1678766738320119,0.9199026350211115,1.3681026700375678,-1.1706032466392733,0.3058098352063741,1.0825115745711003,-0.7378682735739086,0.48708467631334085,-1.301103036688062,0.40206968519748654,-0.683857096879213,-1.8738912329733723,0.7171097033890735,0.03888805277076086,-1.1693617295332313,-1.500268149751419,1.344024211974228,-0.1555134136926965,-1.015500310369333,1.3380630990228026,1.0892709931382587,2.619925062300933,0.22134788766989708,-0.5265520734592678,-0.5930694400125788,2.0476451557714093,1.4136353954227314,-0.8583185862032842,0.909619416198989,-0.5818769144837174,-0.4288867922322983,-1.5589239266494332,-0.9503331341161685,-0.4871533471858235,0.37242352525385475,-0.12028847667674292,-0.5343988318276738,-0.29955801808268195,0.5750625586522502,-0.5439453452009341,-0.7457944468902554,0.21738104733639788,-0.8315775003113577,-0.16984480502465918,0.5637202019823333,-1.6541191753802165,0.7857574457781091,0.86207308970026,1.7636380440624961,0.5959513372063282,-1.18477284050119,0.5050905996685262,-0.7186843156620407,0.7277456402864244,-0.10883976841530896,-1.2800960574118065,0.9508036384404251,-1.2594942463628704,-0.43000599662706834,0.8518986087827631,2.1099835338576742,-1.1338620361510596,-0.1136365825121175,-0.31121735019710284],\"xaxis\":\"x2\",\"y\":[-1.5698810706263946,-0.24670595182913876,0.9304875741808672,-0.5066248091859992,0.6849922041296616,1.8970178017465043,0.8077409636879337,-1.0010217400668584,1.3704184544113829,0.4285482444378609,-1.4904588136094539,-1.057101523542387,-0.027965777366933554,0.49225766147762384,1.7494548923444855,0.6281606764666283,0.4124195324549872,-1.214371296495128,-1.0341361517499075,1.226524093673132,-0.3702532214319981,-1.026602653888882,-2.3899848709024765,0.18617738129491324,1.4205391403152827,0.16620298379615436,0.929471725944909,-0.2948437483626567,-0.19238683310333554,0.3847510505627772,1.0876155888389627,-0.13114344678221457,-2.6313549063054644,-0.3071103070391007,0.02304046542887793,0.2729530132607438,-0.5975479856090492,-1.307335029097629,-0.47343875594268553,0.40462706875938037,-0.3750837496186107,-1.153600856704141,-0.3210114638708474,-2.2727107459326708,0.14301117636838187,-0.4665470914808554,0.826330087593931,-0.4180146691670233,1.054261233414269,-0.769436597202262,0.30626623858840024,-1.222590132635321,-2.30431979214976,0.666109200462043,-1.6728303362407113,0.1360130473809156,0.2494020778281667,-1.4992821492867194,-0.5116902731427975,1.525411005806135,-1.0830706078125625,-1.1839618316805465,-1.2495174128404651,-0.25963125105376794,-1.0391021603416049,1.1701721156729272,0.5622979488932329,-0.4771715870306209,1.768125398112826,0.7841311388100116,-0.6192657048486289,-1.6034238616624827,-1.8180894620316153,-0.3769070560431302,-0.41583997308357923,-0.6968963202170636,0.13930902297487113,-0.6588464417475745,0.16723455663614806,-0.5816300010843882,0.8479015012297172,-0.8378041078347768,0.590067897520868,-0.7406499043141112,2.0006310452298584,0.05244393802697705,-1.2673761100060725,-1.856178347559622,-0.8744830899459701,-1.254130315577289,-1.1896877070913607,-1.1228223429505455,1.5350484892720089,-0.7992697234238435,0.4575057067461036,0.7343373638940573,1.1758847224955535,0.047416055252521176,-0.15774964088717078,-1.0755946344964076],\"yaxis\":\"y2\"},{\"line\":{\"color\":\"rgba(128, 128, 128, 1.0)\",\"dash\":\"solid\",\"shape\":\"linear\",\"width\":1.3},\"marker\":{\"size\":2,\"symbol\":\"circle\"},\"mode\":\"markers\",\"name\":\"A\",\"text\":\"\",\"type\":\"scatter\",\"x\":[-1.0277963728535986,0.40989558310469754,1.5350833310466399,1.3466211188459762,-0.21367980255378222,1.2184655661005612,-0.6647654704441155,-0.29656148351361705,-0.06744189322680803,-1.3484300862502496,0.15333275929662857,-0.00467568605895884,-0.2234287586903079,0.3696942580553424,-0.41792444436395626,-0.1569977293394031,-0.5095993491606567,0.5745633524870278,-2.2398401018261382,0.3192320536826866,0.967901483115932,-0.9000300782616163,0.6067188264020787,0.7894484684607743,-0.3830919249875024,-0.7074251059165702,-0.19143053267822113,-0.1413670345240148,-1.69169055813557,-1.788890845039639,0.07415872083724469,1.0109338646896295,-1.3100173079714235,2.150113178962219,-1.7546385518249705,1.0009792275862728,-1.3585838232375798,-0.21359845961706492,-1.0813905362427447,1.0749224280672565,-0.18737033437610848,-1.7971427774277917,-1.047275195508696,1.7027055795242951,-0.6898197958463056,-0.7592564238997,-1.1235688499199932,1.3756404611182302,1.0878703036748185,-1.8299870025566054,-0.5799561064215722,0.45626182851647223,-1.2536998431038242,0.4257854020936454,1.5383060981235064,1.2394853172000297,0.15178919377392014,0.11073815820235751,0.9286710682278193,-0.3501847278893218,0.17397667124766542,-2.071540002418569,-1.0418663340023109,1.4920333413205007,-1.6068871602601513,1.1335329089549389,-2.836924965596087,-0.7026162138622402,0.33643398686605996,1.2759651685706939,0.542788998294374,1.3425499456449346,0.7621067184879887,1.43586364624196,1.4373060592357538,-0.2482253153282465,1.043067030646993,-0.36941445515650223,0.05914853991195712,-0.793042217815076,-1.0673095885301342,0.6799265133512832,-0.480819229332368,-0.2978631306610548,-1.0119249092306795,-0.8146444117100996,0.2801903327454848,-1.7641375948739253,1.8184834808705337,1.9645831622733163,0.5416108056019772,0.15602645917752933,-1.1834000280969932,-0.4207260809567789,-1.3327165332387945,0.47186598864130247,-0.7778869548074504,-0.5920684790184321,0.9101906882047125,0.3506728388666368],\"xaxis\":\"x3\",\"y\":[-1.5698810706263946,-0.24670595182913876,0.9304875741808672,-0.5066248091859992,0.6849922041296616,1.8970178017465043,0.8077409636879337,-1.0010217400668584,1.3704184544113829,0.4285482444378609,-1.4904588136094539,-1.057101523542387,-0.027965777366933554,0.49225766147762384,1.7494548923444855,0.6281606764666283,0.4124195324549872,-1.214371296495128,-1.0341361517499075,1.226524093673132,-0.3702532214319981,-1.026602653888882,-2.3899848709024765,0.18617738129491324,1.4205391403152827,0.16620298379615436,0.929471725944909,-0.2948437483626567,-0.19238683310333554,0.3847510505627772,1.0876155888389627,-0.13114344678221457,-2.6313549063054644,-0.3071103070391007,0.02304046542887793,0.2729530132607438,-0.5975479856090492,-1.307335029097629,-0.47343875594268553,0.40462706875938037,-0.3750837496186107,-1.153600856704141,-0.3210114638708474,-2.2727107459326708,0.14301117636838187,-0.4665470914808554,0.826330087593931,-0.4180146691670233,1.054261233414269,-0.769436597202262,0.30626623858840024,-1.222590132635321,-2.30431979214976,0.666109200462043,-1.6728303362407113,0.1360130473809156,0.2494020778281667,-1.4992821492867194,-0.5116902731427975,1.525411005806135,-1.0830706078125625,-1.1839618316805465,-1.2495174128404651,-0.25963125105376794,-1.0391021603416049,1.1701721156729272,0.5622979488932329,-0.4771715870306209,1.768125398112826,0.7841311388100116,-0.6192657048486289,-1.6034238616624827,-1.8180894620316153,-0.3769070560431302,-0.41583997308357923,-0.6968963202170636,0.13930902297487113,-0.6588464417475745,0.16723455663614806,-0.5816300010843882,0.8479015012297172,-0.8378041078347768,0.590067897520868,-0.7406499043141112,2.0006310452298584,0.05244393802697705,-1.2673761100060725,-1.856178347559622,-0.8744830899459701,-1.254130315577289,-1.1896877070913607,-1.1228223429505455,1.5350484892720089,-0.7992697234238435,0.4575057067461036,0.7343373638940573,1.1758847224955535,0.047416055252521176,-0.15774964088717078,-1.0755946344964076],\"yaxis\":\"y3\"},{\"line\":{\"color\":\"rgba(128, 128, 128, 1.0)\",\"dash\":\"solid\",\"shape\":\"linear\",\"width\":1.3},\"marker\":{\"size\":2,\"symbol\":\"circle\"},\"mode\":\"markers\",\"name\":\"A\",\"text\":\"\",\"type\":\"scatter\",\"x\":[0.11916300730724995,-1.4592692105065774,1.8060787265728209,0.17503686989704614,0.4002454291850666,0.23442417470708268,0.5211046975249474,-0.13331146722298096,1.3413432082634766,0.9070099714622281,-2.3225068323745783,0.6253873437887567,3.0466517695337525,-0.025011387807534646,-0.8860579464022152,1.6765125166940615,-0.11688507057655162,2.0049154406765943,-1.7819306251585108,0.6250653565631049,-0.11927060224478235,1.3282812020097987,-0.43286371754802067,-0.7222402384231267,0.7178791083335256,1.5392952692396078,-0.344324965708766,0.13697617689928157,0.2657755877942632,-0.029288934925322592,0.41260051196259867,-0.22709844551062744,1.1618448532858292,0.8713936509936363,-0.5747425397960325,-0.7090434234352573,-1.4798393200272502,0.5993461404480717,-0.38894346952187886,-1.0224766008311459,0.8361269045230068,-0.4607977158558291,1.3277074186126048,-1.0145407490900704,0.6158886736937428,-0.8992843420412125,-0.6328992936225387,1.5522000275928174,1.416024771743824,0.6671488569132367,-0.9181512029359704,1.393091774531936,0.21083496487777947,-0.02364027596915868,0.8407388672370442,0.5934273987204705,0.8942461268039573,-0.5154282920383036,-0.8405199440371842,-0.529500492907707,0.23962397399718713,-0.15886143787690304,-2.722358198099253,0.3644950846587262,-0.18774141478002443,-1.3522265386480665,0.10854659998751222,-0.4536121680961895,-1.0680147908978759,1.2661333001982447,-1.3736912107361086,-1.2448775356293391,1.042802288713844,1.0851361086215612,-0.0901420510111028,-0.5762695845980996,-0.6311621396718728,-1.5522369447132873,-0.14015381932139637,0.9058169016568614,-1.1957279074720533,0.16939695104059013,1.3270627820032574,-0.6494277271569843,0.7626597171223247,-0.8784213191418017,1.5672003706559743,-0.9221939029516824,2.2888040124200995,0.37551063253596534,0.966739310650984,-1.2730325142011747,-0.4051704723522564,0.15662872419060897,-0.657969810606721,-0.7772228227370723,-0.61291068342699,0.44983091151087035,-1.7570401870403525,0.0564620110552343],\"xaxis\":\"x4\",\"y\":[-1.5698810706263946,-0.24670595182913876,0.9304875741808672,-0.5066248091859992,0.6849922041296616,1.8970178017465043,0.8077409636879337,-1.0010217400668584,1.3704184544113829,0.4285482444378609,-1.4904588136094539,-1.057101523542387,-0.027965777366933554,0.49225766147762384,1.7494548923444855,0.6281606764666283,0.4124195324549872,-1.214371296495128,-1.0341361517499075,1.226524093673132,-0.3702532214319981,-1.026602653888882,-2.3899848709024765,0.18617738129491324,1.4205391403152827,0.16620298379615436,0.929471725944909,-0.2948437483626567,-0.19238683310333554,0.3847510505627772,1.0876155888389627,-0.13114344678221457,-2.6313549063054644,-0.3071103070391007,0.02304046542887793,0.2729530132607438,-0.5975479856090492,-1.307335029097629,-0.47343875594268553,0.40462706875938037,-0.3750837496186107,-1.153600856704141,-0.3210114638708474,-2.2727107459326708,0.14301117636838187,-0.4665470914808554,0.826330087593931,-0.4180146691670233,1.054261233414269,-0.769436597202262,0.30626623858840024,-1.222590132635321,-2.30431979214976,0.666109200462043,-1.6728303362407113,0.1360130473809156,0.2494020778281667,-1.4992821492867194,-0.5116902731427975,1.525411005806135,-1.0830706078125625,-1.1839618316805465,-1.2495174128404651,-0.25963125105376794,-1.0391021603416049,1.1701721156729272,0.5622979488932329,-0.4771715870306209,1.768125398112826,0.7841311388100116,-0.6192657048486289,-1.6034238616624827,-1.8180894620316153,-0.3769070560431302,-0.41583997308357923,-0.6968963202170636,0.13930902297487113,-0.6588464417475745,0.16723455663614806,-0.5816300010843882,0.8479015012297172,-0.8378041078347768,0.590067897520868,-0.7406499043141112,2.0006310452298584,0.05244393802697705,-1.2673761100060725,-1.856178347559622,-0.8744830899459701,-1.254130315577289,-1.1896877070913607,-1.1228223429505455,1.5350484892720089,-0.7992697234238435,0.4575057067461036,0.7343373638940573,1.1758847224955535,0.047416055252521176,-0.15774964088717078,-1.0755946344964076],\"yaxis\":\"y4\"},{\"line\":{\"color\":\"rgba(128, 128, 128, 1.0)\",\"dash\":\"solid\",\"shape\":\"linear\",\"width\":1.3},\"marker\":{\"size\":2,\"symbol\":\"circle\"},\"mode\":\"markers\",\"name\":\"B\",\"text\":\"\",\"type\":\"scatter\",\"x\":[-1.5698810706263946,-0.24670595182913876,0.9304875741808672,-0.5066248091859992,0.6849922041296616,1.8970178017465043,0.8077409636879337,-1.0010217400668584,1.3704184544113829,0.4285482444378609,-1.4904588136094539,-1.057101523542387,-0.027965777366933554,0.49225766147762384,1.7494548923444855,0.6281606764666283,0.4124195324549872,-1.214371296495128,-1.0341361517499075,1.226524093673132,-0.3702532214319981,-1.026602653888882,-2.3899848709024765,0.18617738129491324,1.4205391403152827,0.16620298379615436,0.929471725944909,-0.2948437483626567,-0.19238683310333554,0.3847510505627772,1.0876155888389627,-0.13114344678221457,-2.6313549063054644,-0.3071103070391007,0.02304046542887793,0.2729530132607438,-0.5975479856090492,-1.307335029097629,-0.47343875594268553,0.40462706875938037,-0.3750837496186107,-1.153600856704141,-0.3210114638708474,-2.2727107459326708,0.14301117636838187,-0.4665470914808554,0.826330087593931,-0.4180146691670233,1.054261233414269,-0.769436597202262,0.30626623858840024,-1.222590132635321,-2.30431979214976,0.666109200462043,-1.6728303362407113,0.1360130473809156,0.2494020778281667,-1.4992821492867194,-0.5116902731427975,1.525411005806135,-1.0830706078125625,-1.1839618316805465,-1.2495174128404651,-0.25963125105376794,-1.0391021603416049,1.1701721156729272,0.5622979488932329,-0.4771715870306209,1.768125398112826,0.7841311388100116,-0.6192657048486289,-1.6034238616624827,-1.8180894620316153,-0.3769070560431302,-0.41583997308357923,-0.6968963202170636,0.13930902297487113,-0.6588464417475745,0.16723455663614806,-0.5816300010843882,0.8479015012297172,-0.8378041078347768,0.590067897520868,-0.7406499043141112,2.0006310452298584,0.05244393802697705,-1.2673761100060725,-1.856178347559622,-0.8744830899459701,-1.254130315577289,-1.1896877070913607,-1.1228223429505455,1.5350484892720089,-0.7992697234238435,0.4575057067461036,0.7343373638940573,1.1758847224955535,0.047416055252521176,-0.15774964088717078,-1.0755946344964076],\"xaxis\":\"x5\",\"y\":[-1.3113999602332227,-0.5511892997361064,0.9564106365247286,-0.0756544666480186,-0.45951139552071874,-0.3443475067009876,0.5329020467359252,1.5965981779903844,-0.20924320022818726,1.0681126078401548,-0.45836557518658216,-1.4675364036403746,-0.6381239023755292,-0.04176861474034986,-0.44238044596072,-1.1019358315585372,-1.168885300883454,-1.0848304880389248,-0.8770366200242047,-0.8998816091576025,-0.257430903248447,-0.6354833792541387,-0.6693198479481702,-0.2559528260054829,1.0333323918355652,-0.05729430349437438,1.837781302884297,-0.46370353242448914,0.13857196530710683,-0.07449236233589691,0.8894995621514906,1.413508948643193,0.3150992901613012,-0.5601542001942031,-0.7421009574127645,0.9264598582933575,-1.1678766738320119,0.9199026350211115,1.3681026700375678,-1.1706032466392733,0.3058098352063741,1.0825115745711003,-0.7378682735739086,0.48708467631334085,-1.301103036688062,0.40206968519748654,-0.683857096879213,-1.8738912329733723,0.7171097033890735,0.03888805277076086,-1.1693617295332313,-1.500268149751419,1.344024211974228,-0.1555134136926965,-1.015500310369333,1.3380630990228026,1.0892709931382587,2.619925062300933,0.22134788766989708,-0.5265520734592678,-0.5930694400125788,2.0476451557714093,1.4136353954227314,-0.8583185862032842,0.909619416198989,-0.5818769144837174,-0.4288867922322983,-1.5589239266494332,-0.9503331341161685,-0.4871533471858235,0.37242352525385475,-0.12028847667674292,-0.5343988318276738,-0.29955801808268195,0.5750625586522502,-0.5439453452009341,-0.7457944468902554,0.21738104733639788,-0.8315775003113577,-0.16984480502465918,0.5637202019823333,-1.6541191753802165,0.7857574457781091,0.86207308970026,1.7636380440624961,0.5959513372063282,-1.18477284050119,0.5050905996685262,-0.7186843156620407,0.7277456402864244,-0.10883976841530896,-1.2800960574118065,0.9508036384404251,-1.2594942463628704,-0.43000599662706834,0.8518986087827631,2.1099835338576742,-1.1338620361510596,-0.1136365825121175,-0.31121735019710284],\"yaxis\":\"y5\"},{\"histfunc\":\"count\",\"histnorm\":\"\",\"marker\":{\"color\":\"rgba(55, 128, 191, 1.0)\",\"line\":{\"color\":\"#4D5663\",\"width\":1.3}},\"name\":\"B\",\"nbinsx\":10,\"opacity\":0.8,\"orientation\":\"v\",\"type\":\"histogram\",\"x\":[-1.3113999602332227,-0.5511892997361064,0.9564106365247286,-0.0756544666480186,-0.45951139552071874,-0.3443475067009876,0.5329020467359252,1.5965981779903844,-0.20924320022818726,1.0681126078401548,-0.45836557518658216,-1.4675364036403746,-0.6381239023755292,-0.04176861474034986,-0.44238044596072,-1.1019358315585372,-1.168885300883454,-1.0848304880389248,-0.8770366200242047,-0.8998816091576025,-0.257430903248447,-0.6354833792541387,-0.6693198479481702,-0.2559528260054829,1.0333323918355652,-0.05729430349437438,1.837781302884297,-0.46370353242448914,0.13857196530710683,-0.07449236233589691,0.8894995621514906,1.413508948643193,0.3150992901613012,-0.5601542001942031,-0.7421009574127645,0.9264598582933575,-1.1678766738320119,0.9199026350211115,1.3681026700375678,-1.1706032466392733,0.3058098352063741,1.0825115745711003,-0.7378682735739086,0.48708467631334085,-1.301103036688062,0.40206968519748654,-0.683857096879213,-1.8738912329733723,0.7171097033890735,0.03888805277076086,-1.1693617295332313,-1.500268149751419,1.344024211974228,-0.1555134136926965,-1.015500310369333,1.3380630990228026,1.0892709931382587,2.619925062300933,0.22134788766989708,-0.5265520734592678,-0.5930694400125788,2.0476451557714093,1.4136353954227314,-0.8583185862032842,0.909619416198989,-0.5818769144837174,-0.4288867922322983,-1.5589239266494332,-0.9503331341161685,-0.4871533471858235,0.37242352525385475,-0.12028847667674292,-0.5343988318276738,-0.29955801808268195,0.5750625586522502,-0.5439453452009341,-0.7457944468902554,0.21738104733639788,-0.8315775003113577,-0.16984480502465918,0.5637202019823333,-1.6541191753802165,0.7857574457781091,0.86207308970026,1.7636380440624961,0.5959513372063282,-1.18477284050119,0.5050905996685262,-0.7186843156620407,0.7277456402864244,-0.10883976841530896,-1.2800960574118065,0.9508036384404251,-1.2594942463628704,-0.43000599662706834,0.8518986087827631,2.1099835338576742,-1.1338620361510596,-0.1136365825121175,-0.31121735019710284],\"xaxis\":\"x6\",\"yaxis\":\"y6\"},{\"line\":{\"color\":\"rgba(128, 128, 128, 1.0)\",\"dash\":\"solid\",\"shape\":\"linear\",\"width\":1.3},\"marker\":{\"size\":2,\"symbol\":\"circle\"},\"mode\":\"markers\",\"name\":\"B\",\"text\":\"\",\"type\":\"scatter\",\"x\":[-1.0277963728535986,0.40989558310469754,1.5350833310466399,1.3466211188459762,-0.21367980255378222,1.2184655661005612,-0.6647654704441155,-0.29656148351361705,-0.06744189322680803,-1.3484300862502496,0.15333275929662857,-0.00467568605895884,-0.2234287586903079,0.3696942580553424,-0.41792444436395626,-0.1569977293394031,-0.5095993491606567,0.5745633524870278,-2.2398401018261382,0.3192320536826866,0.967901483115932,-0.9000300782616163,0.6067188264020787,0.7894484684607743,-0.3830919249875024,-0.7074251059165702,-0.19143053267822113,-0.1413670345240148,-1.69169055813557,-1.788890845039639,0.07415872083724469,1.0109338646896295,-1.3100173079714235,2.150113178962219,-1.7546385518249705,1.0009792275862728,-1.3585838232375798,-0.21359845961706492,-1.0813905362427447,1.0749224280672565,-0.18737033437610848,-1.7971427774277917,-1.047275195508696,1.7027055795242951,-0.6898197958463056,-0.7592564238997,-1.1235688499199932,1.3756404611182302,1.0878703036748185,-1.8299870025566054,-0.5799561064215722,0.45626182851647223,-1.2536998431038242,0.4257854020936454,1.5383060981235064,1.2394853172000297,0.15178919377392014,0.11073815820235751,0.9286710682278193,-0.3501847278893218,0.17397667124766542,-2.071540002418569,-1.0418663340023109,1.4920333413205007,-1.6068871602601513,1.1335329089549389,-2.836924965596087,-0.7026162138622402,0.33643398686605996,1.2759651685706939,0.542788998294374,1.3425499456449346,0.7621067184879887,1.43586364624196,1.4373060592357538,-0.2482253153282465,1.043067030646993,-0.36941445515650223,0.05914853991195712,-0.793042217815076,-1.0673095885301342,0.6799265133512832,-0.480819229332368,-0.2978631306610548,-1.0119249092306795,-0.8146444117100996,0.2801903327454848,-1.7641375948739253,1.8184834808705337,1.9645831622733163,0.5416108056019772,0.15602645917752933,-1.1834000280969932,-0.4207260809567789,-1.3327165332387945,0.47186598864130247,-0.7778869548074504,-0.5920684790184321,0.9101906882047125,0.3506728388666368],\"xaxis\":\"x7\",\"y\":[-1.3113999602332227,-0.5511892997361064,0.9564106365247286,-0.0756544666480186,-0.45951139552071874,-0.3443475067009876,0.5329020467359252,1.5965981779903844,-0.20924320022818726,1.0681126078401548,-0.45836557518658216,-1.4675364036403746,-0.6381239023755292,-0.04176861474034986,-0.44238044596072,-1.1019358315585372,-1.168885300883454,-1.0848304880389248,-0.8770366200242047,-0.8998816091576025,-0.257430903248447,-0.6354833792541387,-0.6693198479481702,-0.2559528260054829,1.0333323918355652,-0.05729430349437438,1.837781302884297,-0.46370353242448914,0.13857196530710683,-0.07449236233589691,0.8894995621514906,1.413508948643193,0.3150992901613012,-0.5601542001942031,-0.7421009574127645,0.9264598582933575,-1.1678766738320119,0.9199026350211115,1.3681026700375678,-1.1706032466392733,0.3058098352063741,1.0825115745711003,-0.7378682735739086,0.48708467631334085,-1.301103036688062,0.40206968519748654,-0.683857096879213,-1.8738912329733723,0.7171097033890735,0.03888805277076086,-1.1693617295332313,-1.500268149751419,1.344024211974228,-0.1555134136926965,-1.015500310369333,1.3380630990228026,1.0892709931382587,2.619925062300933,0.22134788766989708,-0.5265520734592678,-0.5930694400125788,2.0476451557714093,1.4136353954227314,-0.8583185862032842,0.909619416198989,-0.5818769144837174,-0.4288867922322983,-1.5589239266494332,-0.9503331341161685,-0.4871533471858235,0.37242352525385475,-0.12028847667674292,-0.5343988318276738,-0.29955801808268195,0.5750625586522502,-0.5439453452009341,-0.7457944468902554,0.21738104733639788,-0.8315775003113577,-0.16984480502465918,0.5637202019823333,-1.6541191753802165,0.7857574457781091,0.86207308970026,1.7636380440624961,0.5959513372063282,-1.18477284050119,0.5050905996685262,-0.7186843156620407,0.7277456402864244,-0.10883976841530896,-1.2800960574118065,0.9508036384404251,-1.2594942463628704,-0.43000599662706834,0.8518986087827631,2.1099835338576742,-1.1338620361510596,-0.1136365825121175,-0.31121735019710284],\"yaxis\":\"y7\"},{\"line\":{\"color\":\"rgba(128, 128, 128, 1.0)\",\"dash\":\"solid\",\"shape\":\"linear\",\"width\":1.3},\"marker\":{\"size\":2,\"symbol\":\"circle\"},\"mode\":\"markers\",\"name\":\"B\",\"text\":\"\",\"type\":\"scatter\",\"x\":[0.11916300730724995,-1.4592692105065774,1.8060787265728209,0.17503686989704614,0.4002454291850666,0.23442417470708268,0.5211046975249474,-0.13331146722298096,1.3413432082634766,0.9070099714622281,-2.3225068323745783,0.6253873437887567,3.0466517695337525,-0.025011387807534646,-0.8860579464022152,1.6765125166940615,-0.11688507057655162,2.0049154406765943,-1.7819306251585108,0.6250653565631049,-0.11927060224478235,1.3282812020097987,-0.43286371754802067,-0.7222402384231267,0.7178791083335256,1.5392952692396078,-0.344324965708766,0.13697617689928157,0.2657755877942632,-0.029288934925322592,0.41260051196259867,-0.22709844551062744,1.1618448532858292,0.8713936509936363,-0.5747425397960325,-0.7090434234352573,-1.4798393200272502,0.5993461404480717,-0.38894346952187886,-1.0224766008311459,0.8361269045230068,-0.4607977158558291,1.3277074186126048,-1.0145407490900704,0.6158886736937428,-0.8992843420412125,-0.6328992936225387,1.5522000275928174,1.416024771743824,0.6671488569132367,-0.9181512029359704,1.393091774531936,0.21083496487777947,-0.02364027596915868,0.8407388672370442,0.5934273987204705,0.8942461268039573,-0.5154282920383036,-0.8405199440371842,-0.529500492907707,0.23962397399718713,-0.15886143787690304,-2.722358198099253,0.3644950846587262,-0.18774141478002443,-1.3522265386480665,0.10854659998751222,-0.4536121680961895,-1.0680147908978759,1.2661333001982447,-1.3736912107361086,-1.2448775356293391,1.042802288713844,1.0851361086215612,-0.0901420510111028,-0.5762695845980996,-0.6311621396718728,-1.5522369447132873,-0.14015381932139637,0.9058169016568614,-1.1957279074720533,0.16939695104059013,1.3270627820032574,-0.6494277271569843,0.7626597171223247,-0.8784213191418017,1.5672003706559743,-0.9221939029516824,2.2888040124200995,0.37551063253596534,0.966739310650984,-1.2730325142011747,-0.4051704723522564,0.15662872419060897,-0.657969810606721,-0.7772228227370723,-0.61291068342699,0.44983091151087035,-1.7570401870403525,0.0564620110552343],\"xaxis\":\"x8\",\"y\":[-1.3113999602332227,-0.5511892997361064,0.9564106365247286,-0.0756544666480186,-0.45951139552071874,-0.3443475067009876,0.5329020467359252,1.5965981779903844,-0.20924320022818726,1.0681126078401548,-0.45836557518658216,-1.4675364036403746,-0.6381239023755292,-0.04176861474034986,-0.44238044596072,-1.1019358315585372,-1.168885300883454,-1.0848304880389248,-0.8770366200242047,-0.8998816091576025,-0.257430903248447,-0.6354833792541387,-0.6693198479481702,-0.2559528260054829,1.0333323918355652,-0.05729430349437438,1.837781302884297,-0.46370353242448914,0.13857196530710683,-0.07449236233589691,0.8894995621514906,1.413508948643193,0.3150992901613012,-0.5601542001942031,-0.7421009574127645,0.9264598582933575,-1.1678766738320119,0.9199026350211115,1.3681026700375678,-1.1706032466392733,0.3058098352063741,1.0825115745711003,-0.7378682735739086,0.48708467631334085,-1.301103036688062,0.40206968519748654,-0.683857096879213,-1.8738912329733723,0.7171097033890735,0.03888805277076086,-1.1693617295332313,-1.500268149751419,1.344024211974228,-0.1555134136926965,-1.015500310369333,1.3380630990228026,1.0892709931382587,2.619925062300933,0.22134788766989708,-0.5265520734592678,-0.5930694400125788,2.0476451557714093,1.4136353954227314,-0.8583185862032842,0.909619416198989,-0.5818769144837174,-0.4288867922322983,-1.5589239266494332,-0.9503331341161685,-0.4871533471858235,0.37242352525385475,-0.12028847667674292,-0.5343988318276738,-0.29955801808268195,0.5750625586522502,-0.5439453452009341,-0.7457944468902554,0.21738104733639788,-0.8315775003113577,-0.16984480502465918,0.5637202019823333,-1.6541191753802165,0.7857574457781091,0.86207308970026,1.7636380440624961,0.5959513372063282,-1.18477284050119,0.5050905996685262,-0.7186843156620407,0.7277456402864244,-0.10883976841530896,-1.2800960574118065,0.9508036384404251,-1.2594942463628704,-0.43000599662706834,0.8518986087827631,2.1099835338576742,-1.1338620361510596,-0.1136365825121175,-0.31121735019710284],\"yaxis\":\"y8\"},{\"line\":{\"color\":\"rgba(128, 128, 128, 1.0)\",\"dash\":\"solid\",\"shape\":\"linear\",\"width\":1.3},\"marker\":{\"size\":2,\"symbol\":\"circle\"},\"mode\":\"markers\",\"name\":\"C\",\"text\":\"\",\"type\":\"scatter\",\"x\":[-1.5698810706263946,-0.24670595182913876,0.9304875741808672,-0.5066248091859992,0.6849922041296616,1.8970178017465043,0.8077409636879337,-1.0010217400668584,1.3704184544113829,0.4285482444378609,-1.4904588136094539,-1.057101523542387,-0.027965777366933554,0.49225766147762384,1.7494548923444855,0.6281606764666283,0.4124195324549872,-1.214371296495128,-1.0341361517499075,1.226524093673132,-0.3702532214319981,-1.026602653888882,-2.3899848709024765,0.18617738129491324,1.4205391403152827,0.16620298379615436,0.929471725944909,-0.2948437483626567,-0.19238683310333554,0.3847510505627772,1.0876155888389627,-0.13114344678221457,-2.6313549063054644,-0.3071103070391007,0.02304046542887793,0.2729530132607438,-0.5975479856090492,-1.307335029097629,-0.47343875594268553,0.40462706875938037,-0.3750837496186107,-1.153600856704141,-0.3210114638708474,-2.2727107459326708,0.14301117636838187,-0.4665470914808554,0.826330087593931,-0.4180146691670233,1.054261233414269,-0.769436597202262,0.30626623858840024,-1.222590132635321,-2.30431979214976,0.666109200462043,-1.6728303362407113,0.1360130473809156,0.2494020778281667,-1.4992821492867194,-0.5116902731427975,1.525411005806135,-1.0830706078125625,-1.1839618316805465,-1.2495174128404651,-0.25963125105376794,-1.0391021603416049,1.1701721156729272,0.5622979488932329,-0.4771715870306209,1.768125398112826,0.7841311388100116,-0.6192657048486289,-1.6034238616624827,-1.8180894620316153,-0.3769070560431302,-0.41583997308357923,-0.6968963202170636,0.13930902297487113,-0.6588464417475745,0.16723455663614806,-0.5816300010843882,0.8479015012297172,-0.8378041078347768,0.590067897520868,-0.7406499043141112,2.0006310452298584,0.05244393802697705,-1.2673761100060725,-1.856178347559622,-0.8744830899459701,-1.254130315577289,-1.1896877070913607,-1.1228223429505455,1.5350484892720089,-0.7992697234238435,0.4575057067461036,0.7343373638940573,1.1758847224955535,0.047416055252521176,-0.15774964088717078,-1.0755946344964076],\"xaxis\":\"x9\",\"y\":[-1.0277963728535986,0.40989558310469754,1.5350833310466399,1.3466211188459762,-0.21367980255378222,1.2184655661005612,-0.6647654704441155,-0.29656148351361705,-0.06744189322680803,-1.3484300862502496,0.15333275929662857,-0.00467568605895884,-0.2234287586903079,0.3696942580553424,-0.41792444436395626,-0.1569977293394031,-0.5095993491606567,0.5745633524870278,-2.2398401018261382,0.3192320536826866,0.967901483115932,-0.9000300782616163,0.6067188264020787,0.7894484684607743,-0.3830919249875024,-0.7074251059165702,-0.19143053267822113,-0.1413670345240148,-1.69169055813557,-1.788890845039639,0.07415872083724469,1.0109338646896295,-1.3100173079714235,2.150113178962219,-1.7546385518249705,1.0009792275862728,-1.3585838232375798,-0.21359845961706492,-1.0813905362427447,1.0749224280672565,-0.18737033437610848,-1.7971427774277917,-1.047275195508696,1.7027055795242951,-0.6898197958463056,-0.7592564238997,-1.1235688499199932,1.3756404611182302,1.0878703036748185,-1.8299870025566054,-0.5799561064215722,0.45626182851647223,-1.2536998431038242,0.4257854020936454,1.5383060981235064,1.2394853172000297,0.15178919377392014,0.11073815820235751,0.9286710682278193,-0.3501847278893218,0.17397667124766542,-2.071540002418569,-1.0418663340023109,1.4920333413205007,-1.6068871602601513,1.1335329089549389,-2.836924965596087,-0.7026162138622402,0.33643398686605996,1.2759651685706939,0.542788998294374,1.3425499456449346,0.7621067184879887,1.43586364624196,1.4373060592357538,-0.2482253153282465,1.043067030646993,-0.36941445515650223,0.05914853991195712,-0.793042217815076,-1.0673095885301342,0.6799265133512832,-0.480819229332368,-0.2978631306610548,-1.0119249092306795,-0.8146444117100996,0.2801903327454848,-1.7641375948739253,1.8184834808705337,1.9645831622733163,0.5416108056019772,0.15602645917752933,-1.1834000280969932,-0.4207260809567789,-1.3327165332387945,0.47186598864130247,-0.7778869548074504,-0.5920684790184321,0.9101906882047125,0.3506728388666368],\"yaxis\":\"y9\"},{\"line\":{\"color\":\"rgba(128, 128, 128, 1.0)\",\"dash\":\"solid\",\"shape\":\"linear\",\"width\":1.3},\"marker\":{\"size\":2,\"symbol\":\"circle\"},\"mode\":\"markers\",\"name\":\"C\",\"text\":\"\",\"type\":\"scatter\",\"x\":[-1.3113999602332227,-0.5511892997361064,0.9564106365247286,-0.0756544666480186,-0.45951139552071874,-0.3443475067009876,0.5329020467359252,1.5965981779903844,-0.20924320022818726,1.0681126078401548,-0.45836557518658216,-1.4675364036403746,-0.6381239023755292,-0.04176861474034986,-0.44238044596072,-1.1019358315585372,-1.168885300883454,-1.0848304880389248,-0.8770366200242047,-0.8998816091576025,-0.257430903248447,-0.6354833792541387,-0.6693198479481702,-0.2559528260054829,1.0333323918355652,-0.05729430349437438,1.837781302884297,-0.46370353242448914,0.13857196530710683,-0.07449236233589691,0.8894995621514906,1.413508948643193,0.3150992901613012,-0.5601542001942031,-0.7421009574127645,0.9264598582933575,-1.1678766738320119,0.9199026350211115,1.3681026700375678,-1.1706032466392733,0.3058098352063741,1.0825115745711003,-0.7378682735739086,0.48708467631334085,-1.301103036688062,0.40206968519748654,-0.683857096879213,-1.8738912329733723,0.7171097033890735,0.03888805277076086,-1.1693617295332313,-1.500268149751419,1.344024211974228,-0.1555134136926965,-1.015500310369333,1.3380630990228026,1.0892709931382587,2.619925062300933,0.22134788766989708,-0.5265520734592678,-0.5930694400125788,2.0476451557714093,1.4136353954227314,-0.8583185862032842,0.909619416198989,-0.5818769144837174,-0.4288867922322983,-1.5589239266494332,-0.9503331341161685,-0.4871533471858235,0.37242352525385475,-0.12028847667674292,-0.5343988318276738,-0.29955801808268195,0.5750625586522502,-0.5439453452009341,-0.7457944468902554,0.21738104733639788,-0.8315775003113577,-0.16984480502465918,0.5637202019823333,-1.6541191753802165,0.7857574457781091,0.86207308970026,1.7636380440624961,0.5959513372063282,-1.18477284050119,0.5050905996685262,-0.7186843156620407,0.7277456402864244,-0.10883976841530896,-1.2800960574118065,0.9508036384404251,-1.2594942463628704,-0.43000599662706834,0.8518986087827631,2.1099835338576742,-1.1338620361510596,-0.1136365825121175,-0.31121735019710284],\"xaxis\":\"x10\",\"y\":[-1.0277963728535986,0.40989558310469754,1.5350833310466399,1.3466211188459762,-0.21367980255378222,1.2184655661005612,-0.6647654704441155,-0.29656148351361705,-0.06744189322680803,-1.3484300862502496,0.15333275929662857,-0.00467568605895884,-0.2234287586903079,0.3696942580553424,-0.41792444436395626,-0.1569977293394031,-0.5095993491606567,0.5745633524870278,-2.2398401018261382,0.3192320536826866,0.967901483115932,-0.9000300782616163,0.6067188264020787,0.7894484684607743,-0.3830919249875024,-0.7074251059165702,-0.19143053267822113,-0.1413670345240148,-1.69169055813557,-1.788890845039639,0.07415872083724469,1.0109338646896295,-1.3100173079714235,2.150113178962219,-1.7546385518249705,1.0009792275862728,-1.3585838232375798,-0.21359845961706492,-1.0813905362427447,1.0749224280672565,-0.18737033437610848,-1.7971427774277917,-1.047275195508696,1.7027055795242951,-0.6898197958463056,-0.7592564238997,-1.1235688499199932,1.3756404611182302,1.0878703036748185,-1.8299870025566054,-0.5799561064215722,0.45626182851647223,-1.2536998431038242,0.4257854020936454,1.5383060981235064,1.2394853172000297,0.15178919377392014,0.11073815820235751,0.9286710682278193,-0.3501847278893218,0.17397667124766542,-2.071540002418569,-1.0418663340023109,1.4920333413205007,-1.6068871602601513,1.1335329089549389,-2.836924965596087,-0.7026162138622402,0.33643398686605996,1.2759651685706939,0.542788998294374,1.3425499456449346,0.7621067184879887,1.43586364624196,1.4373060592357538,-0.2482253153282465,1.043067030646993,-0.36941445515650223,0.05914853991195712,-0.793042217815076,-1.0673095885301342,0.6799265133512832,-0.480819229332368,-0.2978631306610548,-1.0119249092306795,-0.8146444117100996,0.2801903327454848,-1.7641375948739253,1.8184834808705337,1.9645831622733163,0.5416108056019772,0.15602645917752933,-1.1834000280969932,-0.4207260809567789,-1.3327165332387945,0.47186598864130247,-0.7778869548074504,-0.5920684790184321,0.9101906882047125,0.3506728388666368],\"yaxis\":\"y10\"},{\"histfunc\":\"count\",\"histnorm\":\"\",\"marker\":{\"color\":\"rgba(50, 171, 96, 1.0)\",\"line\":{\"color\":\"#4D5663\",\"width\":1.3}},\"name\":\"C\",\"nbinsx\":10,\"opacity\":0.8,\"orientation\":\"v\",\"type\":\"histogram\",\"x\":[-1.0277963728535986,0.40989558310469754,1.5350833310466399,1.3466211188459762,-0.21367980255378222,1.2184655661005612,-0.6647654704441155,-0.29656148351361705,-0.06744189322680803,-1.3484300862502496,0.15333275929662857,-0.00467568605895884,-0.2234287586903079,0.3696942580553424,-0.41792444436395626,-0.1569977293394031,-0.5095993491606567,0.5745633524870278,-2.2398401018261382,0.3192320536826866,0.967901483115932,-0.9000300782616163,0.6067188264020787,0.7894484684607743,-0.3830919249875024,-0.7074251059165702,-0.19143053267822113,-0.1413670345240148,-1.69169055813557,-1.788890845039639,0.07415872083724469,1.0109338646896295,-1.3100173079714235,2.150113178962219,-1.7546385518249705,1.0009792275862728,-1.3585838232375798,-0.21359845961706492,-1.0813905362427447,1.0749224280672565,-0.18737033437610848,-1.7971427774277917,-1.047275195508696,1.7027055795242951,-0.6898197958463056,-0.7592564238997,-1.1235688499199932,1.3756404611182302,1.0878703036748185,-1.8299870025566054,-0.5799561064215722,0.45626182851647223,-1.2536998431038242,0.4257854020936454,1.5383060981235064,1.2394853172000297,0.15178919377392014,0.11073815820235751,0.9286710682278193,-0.3501847278893218,0.17397667124766542,-2.071540002418569,-1.0418663340023109,1.4920333413205007,-1.6068871602601513,1.1335329089549389,-2.836924965596087,-0.7026162138622402,0.33643398686605996,1.2759651685706939,0.542788998294374,1.3425499456449346,0.7621067184879887,1.43586364624196,1.4373060592357538,-0.2482253153282465,1.043067030646993,-0.36941445515650223,0.05914853991195712,-0.793042217815076,-1.0673095885301342,0.6799265133512832,-0.480819229332368,-0.2978631306610548,-1.0119249092306795,-0.8146444117100996,0.2801903327454848,-1.7641375948739253,1.8184834808705337,1.9645831622733163,0.5416108056019772,0.15602645917752933,-1.1834000280969932,-0.4207260809567789,-1.3327165332387945,0.47186598864130247,-0.7778869548074504,-0.5920684790184321,0.9101906882047125,0.3506728388666368],\"xaxis\":\"x11\",\"yaxis\":\"y11\"},{\"line\":{\"color\":\"rgba(128, 128, 128, 1.0)\",\"dash\":\"solid\",\"shape\":\"linear\",\"width\":1.3},\"marker\":{\"size\":2,\"symbol\":\"circle\"},\"mode\":\"markers\",\"name\":\"C\",\"text\":\"\",\"type\":\"scatter\",\"x\":[0.11916300730724995,-1.4592692105065774,1.8060787265728209,0.17503686989704614,0.4002454291850666,0.23442417470708268,0.5211046975249474,-0.13331146722298096,1.3413432082634766,0.9070099714622281,-2.3225068323745783,0.6253873437887567,3.0466517695337525,-0.025011387807534646,-0.8860579464022152,1.6765125166940615,-0.11688507057655162,2.0049154406765943,-1.7819306251585108,0.6250653565631049,-0.11927060224478235,1.3282812020097987,-0.43286371754802067,-0.7222402384231267,0.7178791083335256,1.5392952692396078,-0.344324965708766,0.13697617689928157,0.2657755877942632,-0.029288934925322592,0.41260051196259867,-0.22709844551062744,1.1618448532858292,0.8713936509936363,-0.5747425397960325,-0.7090434234352573,-1.4798393200272502,0.5993461404480717,-0.38894346952187886,-1.0224766008311459,0.8361269045230068,-0.4607977158558291,1.3277074186126048,-1.0145407490900704,0.6158886736937428,-0.8992843420412125,-0.6328992936225387,1.5522000275928174,1.416024771743824,0.6671488569132367,-0.9181512029359704,1.393091774531936,0.21083496487777947,-0.02364027596915868,0.8407388672370442,0.5934273987204705,0.8942461268039573,-0.5154282920383036,-0.8405199440371842,-0.529500492907707,0.23962397399718713,-0.15886143787690304,-2.722358198099253,0.3644950846587262,-0.18774141478002443,-1.3522265386480665,0.10854659998751222,-0.4536121680961895,-1.0680147908978759,1.2661333001982447,-1.3736912107361086,-1.2448775356293391,1.042802288713844,1.0851361086215612,-0.0901420510111028,-0.5762695845980996,-0.6311621396718728,-1.5522369447132873,-0.14015381932139637,0.9058169016568614,-1.1957279074720533,0.16939695104059013,1.3270627820032574,-0.6494277271569843,0.7626597171223247,-0.8784213191418017,1.5672003706559743,-0.9221939029516824,2.2888040124200995,0.37551063253596534,0.966739310650984,-1.2730325142011747,-0.4051704723522564,0.15662872419060897,-0.657969810606721,-0.7772228227370723,-0.61291068342699,0.44983091151087035,-1.7570401870403525,0.0564620110552343],\"xaxis\":\"x12\",\"y\":[-1.0277963728535986,0.40989558310469754,1.5350833310466399,1.3466211188459762,-0.21367980255378222,1.2184655661005612,-0.6647654704441155,-0.29656148351361705,-0.06744189322680803,-1.3484300862502496,0.15333275929662857,-0.00467568605895884,-0.2234287586903079,0.3696942580553424,-0.41792444436395626,-0.1569977293394031,-0.5095993491606567,0.5745633524870278,-2.2398401018261382,0.3192320536826866,0.967901483115932,-0.9000300782616163,0.6067188264020787,0.7894484684607743,-0.3830919249875024,-0.7074251059165702,-0.19143053267822113,-0.1413670345240148,-1.69169055813557,-1.788890845039639,0.07415872083724469,1.0109338646896295,-1.3100173079714235,2.150113178962219,-1.7546385518249705,1.0009792275862728,-1.3585838232375798,-0.21359845961706492,-1.0813905362427447,1.0749224280672565,-0.18737033437610848,-1.7971427774277917,-1.047275195508696,1.7027055795242951,-0.6898197958463056,-0.7592564238997,-1.1235688499199932,1.3756404611182302,1.0878703036748185,-1.8299870025566054,-0.5799561064215722,0.45626182851647223,-1.2536998431038242,0.4257854020936454,1.5383060981235064,1.2394853172000297,0.15178919377392014,0.11073815820235751,0.9286710682278193,-0.3501847278893218,0.17397667124766542,-2.071540002418569,-1.0418663340023109,1.4920333413205007,-1.6068871602601513,1.1335329089549389,-2.836924965596087,-0.7026162138622402,0.33643398686605996,1.2759651685706939,0.542788998294374,1.3425499456449346,0.7621067184879887,1.43586364624196,1.4373060592357538,-0.2482253153282465,1.043067030646993,-0.36941445515650223,0.05914853991195712,-0.793042217815076,-1.0673095885301342,0.6799265133512832,-0.480819229332368,-0.2978631306610548,-1.0119249092306795,-0.8146444117100996,0.2801903327454848,-1.7641375948739253,1.8184834808705337,1.9645831622733163,0.5416108056019772,0.15602645917752933,-1.1834000280969932,-0.4207260809567789,-1.3327165332387945,0.47186598864130247,-0.7778869548074504,-0.5920684790184321,0.9101906882047125,0.3506728388666368],\"yaxis\":\"y12\"},{\"line\":{\"color\":\"rgba(128, 128, 128, 1.0)\",\"dash\":\"solid\",\"shape\":\"linear\",\"width\":1.3},\"marker\":{\"size\":2,\"symbol\":\"circle\"},\"mode\":\"markers\",\"name\":\"D\",\"text\":\"\",\"type\":\"scatter\",\"x\":[-1.5698810706263946,-0.24670595182913876,0.9304875741808672,-0.5066248091859992,0.6849922041296616,1.8970178017465043,0.8077409636879337,-1.0010217400668584,1.3704184544113829,0.4285482444378609,-1.4904588136094539,-1.057101523542387,-0.027965777366933554,0.49225766147762384,1.7494548923444855,0.6281606764666283,0.4124195324549872,-1.214371296495128,-1.0341361517499075,1.226524093673132,-0.3702532214319981,-1.026602653888882,-2.3899848709024765,0.18617738129491324,1.4205391403152827,0.16620298379615436,0.929471725944909,-0.2948437483626567,-0.19238683310333554,0.3847510505627772,1.0876155888389627,-0.13114344678221457,-2.6313549063054644,-0.3071103070391007,0.02304046542887793,0.2729530132607438,-0.5975479856090492,-1.307335029097629,-0.47343875594268553,0.40462706875938037,-0.3750837496186107,-1.153600856704141,-0.3210114638708474,-2.2727107459326708,0.14301117636838187,-0.4665470914808554,0.826330087593931,-0.4180146691670233,1.054261233414269,-0.769436597202262,0.30626623858840024,-1.222590132635321,-2.30431979214976,0.666109200462043,-1.6728303362407113,0.1360130473809156,0.2494020778281667,-1.4992821492867194,-0.5116902731427975,1.525411005806135,-1.0830706078125625,-1.1839618316805465,-1.2495174128404651,-0.25963125105376794,-1.0391021603416049,1.1701721156729272,0.5622979488932329,-0.4771715870306209,1.768125398112826,0.7841311388100116,-0.6192657048486289,-1.6034238616624827,-1.8180894620316153,-0.3769070560431302,-0.41583997308357923,-0.6968963202170636,0.13930902297487113,-0.6588464417475745,0.16723455663614806,-0.5816300010843882,0.8479015012297172,-0.8378041078347768,0.590067897520868,-0.7406499043141112,2.0006310452298584,0.05244393802697705,-1.2673761100060725,-1.856178347559622,-0.8744830899459701,-1.254130315577289,-1.1896877070913607,-1.1228223429505455,1.5350484892720089,-0.7992697234238435,0.4575057067461036,0.7343373638940573,1.1758847224955535,0.047416055252521176,-0.15774964088717078,-1.0755946344964076],\"xaxis\":\"x13\",\"y\":[0.11916300730724995,-1.4592692105065774,1.8060787265728209,0.17503686989704614,0.4002454291850666,0.23442417470708268,0.5211046975249474,-0.13331146722298096,1.3413432082634766,0.9070099714622281,-2.3225068323745783,0.6253873437887567,3.0466517695337525,-0.025011387807534646,-0.8860579464022152,1.6765125166940615,-0.11688507057655162,2.0049154406765943,-1.7819306251585108,0.6250653565631049,-0.11927060224478235,1.3282812020097987,-0.43286371754802067,-0.7222402384231267,0.7178791083335256,1.5392952692396078,-0.344324965708766,0.13697617689928157,0.2657755877942632,-0.029288934925322592,0.41260051196259867,-0.22709844551062744,1.1618448532858292,0.8713936509936363,-0.5747425397960325,-0.7090434234352573,-1.4798393200272502,0.5993461404480717,-0.38894346952187886,-1.0224766008311459,0.8361269045230068,-0.4607977158558291,1.3277074186126048,-1.0145407490900704,0.6158886736937428,-0.8992843420412125,-0.6328992936225387,1.5522000275928174,1.416024771743824,0.6671488569132367,-0.9181512029359704,1.393091774531936,0.21083496487777947,-0.02364027596915868,0.8407388672370442,0.5934273987204705,0.8942461268039573,-0.5154282920383036,-0.8405199440371842,-0.529500492907707,0.23962397399718713,-0.15886143787690304,-2.722358198099253,0.3644950846587262,-0.18774141478002443,-1.3522265386480665,0.10854659998751222,-0.4536121680961895,-1.0680147908978759,1.2661333001982447,-1.3736912107361086,-1.2448775356293391,1.042802288713844,1.0851361086215612,-0.0901420510111028,-0.5762695845980996,-0.6311621396718728,-1.5522369447132873,-0.14015381932139637,0.9058169016568614,-1.1957279074720533,0.16939695104059013,1.3270627820032574,-0.6494277271569843,0.7626597171223247,-0.8784213191418017,1.5672003706559743,-0.9221939029516824,2.2888040124200995,0.37551063253596534,0.966739310650984,-1.2730325142011747,-0.4051704723522564,0.15662872419060897,-0.657969810606721,-0.7772228227370723,-0.61291068342699,0.44983091151087035,-1.7570401870403525,0.0564620110552343],\"yaxis\":\"y13\"},{\"line\":{\"color\":\"rgba(128, 128, 128, 1.0)\",\"dash\":\"solid\",\"shape\":\"linear\",\"width\":1.3},\"marker\":{\"size\":2,\"symbol\":\"circle\"},\"mode\":\"markers\",\"name\":\"D\",\"text\":\"\",\"type\":\"scatter\",\"x\":[-1.3113999602332227,-0.5511892997361064,0.9564106365247286,-0.0756544666480186,-0.45951139552071874,-0.3443475067009876,0.5329020467359252,1.5965981779903844,-0.20924320022818726,1.0681126078401548,-0.45836557518658216,-1.4675364036403746,-0.6381239023755292,-0.04176861474034986,-0.44238044596072,-1.1019358315585372,-1.168885300883454,-1.0848304880389248,-0.8770366200242047,-0.8998816091576025,-0.257430903248447,-0.6354833792541387,-0.6693198479481702,-0.2559528260054829,1.0333323918355652,-0.05729430349437438,1.837781302884297,-0.46370353242448914,0.13857196530710683,-0.07449236233589691,0.8894995621514906,1.413508948643193,0.3150992901613012,-0.5601542001942031,-0.7421009574127645,0.9264598582933575,-1.1678766738320119,0.9199026350211115,1.3681026700375678,-1.1706032466392733,0.3058098352063741,1.0825115745711003,-0.7378682735739086,0.48708467631334085,-1.301103036688062,0.40206968519748654,-0.683857096879213,-1.8738912329733723,0.7171097033890735,0.03888805277076086,-1.1693617295332313,-1.500268149751419,1.344024211974228,-0.1555134136926965,-1.015500310369333,1.3380630990228026,1.0892709931382587,2.619925062300933,0.22134788766989708,-0.5265520734592678,-0.5930694400125788,2.0476451557714093,1.4136353954227314,-0.8583185862032842,0.909619416198989,-0.5818769144837174,-0.4288867922322983,-1.5589239266494332,-0.9503331341161685,-0.4871533471858235,0.37242352525385475,-0.12028847667674292,-0.5343988318276738,-0.29955801808268195,0.5750625586522502,-0.5439453452009341,-0.7457944468902554,0.21738104733639788,-0.8315775003113577,-0.16984480502465918,0.5637202019823333,-1.6541191753802165,0.7857574457781091,0.86207308970026,1.7636380440624961,0.5959513372063282,-1.18477284050119,0.5050905996685262,-0.7186843156620407,0.7277456402864244,-0.10883976841530896,-1.2800960574118065,0.9508036384404251,-1.2594942463628704,-0.43000599662706834,0.8518986087827631,2.1099835338576742,-1.1338620361510596,-0.1136365825121175,-0.31121735019710284],\"xaxis\":\"x14\",\"y\":[0.11916300730724995,-1.4592692105065774,1.8060787265728209,0.17503686989704614,0.4002454291850666,0.23442417470708268,0.5211046975249474,-0.13331146722298096,1.3413432082634766,0.9070099714622281,-2.3225068323745783,0.6253873437887567,3.0466517695337525,-0.025011387807534646,-0.8860579464022152,1.6765125166940615,-0.11688507057655162,2.0049154406765943,-1.7819306251585108,0.6250653565631049,-0.11927060224478235,1.3282812020097987,-0.43286371754802067,-0.7222402384231267,0.7178791083335256,1.5392952692396078,-0.344324965708766,0.13697617689928157,0.2657755877942632,-0.029288934925322592,0.41260051196259867,-0.22709844551062744,1.1618448532858292,0.8713936509936363,-0.5747425397960325,-0.7090434234352573,-1.4798393200272502,0.5993461404480717,-0.38894346952187886,-1.0224766008311459,0.8361269045230068,-0.4607977158558291,1.3277074186126048,-1.0145407490900704,0.6158886736937428,-0.8992843420412125,-0.6328992936225387,1.5522000275928174,1.416024771743824,0.6671488569132367,-0.9181512029359704,1.393091774531936,0.21083496487777947,-0.02364027596915868,0.8407388672370442,0.5934273987204705,0.8942461268039573,-0.5154282920383036,-0.8405199440371842,-0.529500492907707,0.23962397399718713,-0.15886143787690304,-2.722358198099253,0.3644950846587262,-0.18774141478002443,-1.3522265386480665,0.10854659998751222,-0.4536121680961895,-1.0680147908978759,1.2661333001982447,-1.3736912107361086,-1.2448775356293391,1.042802288713844,1.0851361086215612,-0.0901420510111028,-0.5762695845980996,-0.6311621396718728,-1.5522369447132873,-0.14015381932139637,0.9058169016568614,-1.1957279074720533,0.16939695104059013,1.3270627820032574,-0.6494277271569843,0.7626597171223247,-0.8784213191418017,1.5672003706559743,-0.9221939029516824,2.2888040124200995,0.37551063253596534,0.966739310650984,-1.2730325142011747,-0.4051704723522564,0.15662872419060897,-0.657969810606721,-0.7772228227370723,-0.61291068342699,0.44983091151087035,-1.7570401870403525,0.0564620110552343],\"yaxis\":\"y14\"},{\"line\":{\"color\":\"rgba(128, 128, 128, 1.0)\",\"dash\":\"solid\",\"shape\":\"linear\",\"width\":1.3},\"marker\":{\"size\":2,\"symbol\":\"circle\"},\"mode\":\"markers\",\"name\":\"D\",\"text\":\"\",\"type\":\"scatter\",\"x\":[-1.0277963728535986,0.40989558310469754,1.5350833310466399,1.3466211188459762,-0.21367980255378222,1.2184655661005612,-0.6647654704441155,-0.29656148351361705,-0.06744189322680803,-1.3484300862502496,0.15333275929662857,-0.00467568605895884,-0.2234287586903079,0.3696942580553424,-0.41792444436395626,-0.1569977293394031,-0.5095993491606567,0.5745633524870278,-2.2398401018261382,0.3192320536826866,0.967901483115932,-0.9000300782616163,0.6067188264020787,0.7894484684607743,-0.3830919249875024,-0.7074251059165702,-0.19143053267822113,-0.1413670345240148,-1.69169055813557,-1.788890845039639,0.07415872083724469,1.0109338646896295,-1.3100173079714235,2.150113178962219,-1.7546385518249705,1.0009792275862728,-1.3585838232375798,-0.21359845961706492,-1.0813905362427447,1.0749224280672565,-0.18737033437610848,-1.7971427774277917,-1.047275195508696,1.7027055795242951,-0.6898197958463056,-0.7592564238997,-1.1235688499199932,1.3756404611182302,1.0878703036748185,-1.8299870025566054,-0.5799561064215722,0.45626182851647223,-1.2536998431038242,0.4257854020936454,1.5383060981235064,1.2394853172000297,0.15178919377392014,0.11073815820235751,0.9286710682278193,-0.3501847278893218,0.17397667124766542,-2.071540002418569,-1.0418663340023109,1.4920333413205007,-1.6068871602601513,1.1335329089549389,-2.836924965596087,-0.7026162138622402,0.33643398686605996,1.2759651685706939,0.542788998294374,1.3425499456449346,0.7621067184879887,1.43586364624196,1.4373060592357538,-0.2482253153282465,1.043067030646993,-0.36941445515650223,0.05914853991195712,-0.793042217815076,-1.0673095885301342,0.6799265133512832,-0.480819229332368,-0.2978631306610548,-1.0119249092306795,-0.8146444117100996,0.2801903327454848,-1.7641375948739253,1.8184834808705337,1.9645831622733163,0.5416108056019772,0.15602645917752933,-1.1834000280969932,-0.4207260809567789,-1.3327165332387945,0.47186598864130247,-0.7778869548074504,-0.5920684790184321,0.9101906882047125,0.3506728388666368],\"xaxis\":\"x15\",\"y\":[0.11916300730724995,-1.4592692105065774,1.8060787265728209,0.17503686989704614,0.4002454291850666,0.23442417470708268,0.5211046975249474,-0.13331146722298096,1.3413432082634766,0.9070099714622281,-2.3225068323745783,0.6253873437887567,3.0466517695337525,-0.025011387807534646,-0.8860579464022152,1.6765125166940615,-0.11688507057655162,2.0049154406765943,-1.7819306251585108,0.6250653565631049,-0.11927060224478235,1.3282812020097987,-0.43286371754802067,-0.7222402384231267,0.7178791083335256,1.5392952692396078,-0.344324965708766,0.13697617689928157,0.2657755877942632,-0.029288934925322592,0.41260051196259867,-0.22709844551062744,1.1618448532858292,0.8713936509936363,-0.5747425397960325,-0.7090434234352573,-1.4798393200272502,0.5993461404480717,-0.38894346952187886,-1.0224766008311459,0.8361269045230068,-0.4607977158558291,1.3277074186126048,-1.0145407490900704,0.6158886736937428,-0.8992843420412125,-0.6328992936225387,1.5522000275928174,1.416024771743824,0.6671488569132367,-0.9181512029359704,1.393091774531936,0.21083496487777947,-0.02364027596915868,0.8407388672370442,0.5934273987204705,0.8942461268039573,-0.5154282920383036,-0.8405199440371842,-0.529500492907707,0.23962397399718713,-0.15886143787690304,-2.722358198099253,0.3644950846587262,-0.18774141478002443,-1.3522265386480665,0.10854659998751222,-0.4536121680961895,-1.0680147908978759,1.2661333001982447,-1.3736912107361086,-1.2448775356293391,1.042802288713844,1.0851361086215612,-0.0901420510111028,-0.5762695845980996,-0.6311621396718728,-1.5522369447132873,-0.14015381932139637,0.9058169016568614,-1.1957279074720533,0.16939695104059013,1.3270627820032574,-0.6494277271569843,0.7626597171223247,-0.8784213191418017,1.5672003706559743,-0.9221939029516824,2.2888040124200995,0.37551063253596534,0.966739310650984,-1.2730325142011747,-0.4051704723522564,0.15662872419060897,-0.657969810606721,-0.7772228227370723,-0.61291068342699,0.44983091151087035,-1.7570401870403525,0.0564620110552343],\"yaxis\":\"y15\"},{\"histfunc\":\"count\",\"histnorm\":\"\",\"marker\":{\"color\":\"rgba(128, 0, 128, 1.0)\",\"line\":{\"color\":\"#4D5663\",\"width\":1.3}},\"name\":\"D\",\"nbinsx\":10,\"opacity\":0.8,\"orientation\":\"v\",\"type\":\"histogram\",\"x\":[0.11916300730724995,-1.4592692105065774,1.8060787265728209,0.17503686989704614,0.4002454291850666,0.23442417470708268,0.5211046975249474,-0.13331146722298096,1.3413432082634766,0.9070099714622281,-2.3225068323745783,0.6253873437887567,3.0466517695337525,-0.025011387807534646,-0.8860579464022152,1.6765125166940615,-0.11688507057655162,2.0049154406765943,-1.7819306251585108,0.6250653565631049,-0.11927060224478235,1.3282812020097987,-0.43286371754802067,-0.7222402384231267,0.7178791083335256,1.5392952692396078,-0.344324965708766,0.13697617689928157,0.2657755877942632,-0.029288934925322592,0.41260051196259867,-0.22709844551062744,1.1618448532858292,0.8713936509936363,-0.5747425397960325,-0.7090434234352573,-1.4798393200272502,0.5993461404480717,-0.38894346952187886,-1.0224766008311459,0.8361269045230068,-0.4607977158558291,1.3277074186126048,-1.0145407490900704,0.6158886736937428,-0.8992843420412125,-0.6328992936225387,1.5522000275928174,1.416024771743824,0.6671488569132367,-0.9181512029359704,1.393091774531936,0.21083496487777947,-0.02364027596915868,0.8407388672370442,0.5934273987204705,0.8942461268039573,-0.5154282920383036,-0.8405199440371842,-0.529500492907707,0.23962397399718713,-0.15886143787690304,-2.722358198099253,0.3644950846587262,-0.18774141478002443,-1.3522265386480665,0.10854659998751222,-0.4536121680961895,-1.0680147908978759,1.2661333001982447,-1.3736912107361086,-1.2448775356293391,1.042802288713844,1.0851361086215612,-0.0901420510111028,-0.5762695845980996,-0.6311621396718728,-1.5522369447132873,-0.14015381932139637,0.9058169016568614,-1.1957279074720533,0.16939695104059013,1.3270627820032574,-0.6494277271569843,0.7626597171223247,-0.8784213191418017,1.5672003706559743,-0.9221939029516824,2.2888040124200995,0.37551063253596534,0.966739310650984,-1.2730325142011747,-0.4051704723522564,0.15662872419060897,-0.657969810606721,-0.7772228227370723,-0.61291068342699,0.44983091151087035,-1.7570401870403525,0.0564620110552343],\"xaxis\":\"x16\",\"yaxis\":\"y16\"}],                        {\"bargap\":0.02,\"legend\":{\"bgcolor\":\"#F5F6F9\",\"font\":{\"color\":\"#4D5663\"}},\"paper_bgcolor\":\"#F5F6F9\",\"plot_bgcolor\":\"#F5F6F9\",\"showlegend\":false,\"template\":{\"data\":{\"bar\":[{\"error_x\":{\"color\":\"#2a3f5f\"},\"error_y\":{\"color\":\"#2a3f5f\"},\"marker\":{\"line\":{\"color\":\"#E5ECF6\",\"width\":0.5},\"pattern\":{\"fillmode\":\"overlay\",\"size\":10,\"solidity\":0.2}},\"type\":\"bar\"}],\"barpolar\":[{\"marker\":{\"line\":{\"color\":\"#E5ECF6\",\"width\":0.5},\"pattern\":{\"fillmode\":\"overlay\",\"size\":10,\"solidity\":0.2}},\"type\":\"barpolar\"}],\"carpet\":[{\"aaxis\":{\"endlinecolor\":\"#2a3f5f\",\"gridcolor\":\"white\",\"linecolor\":\"white\",\"minorgridcolor\":\"white\",\"startlinecolor\":\"#2a3f5f\"},\"baxis\":{\"endlinecolor\":\"#2a3f5f\",\"gridcolor\":\"white\",\"linecolor\":\"white\",\"minorgridcolor\":\"white\",\"startlinecolor\":\"#2a3f5f\"},\"type\":\"carpet\"}],\"choropleth\":[{\"colorbar\":{\"outlinewidth\":0,\"ticks\":\"\"},\"type\":\"choropleth\"}],\"contour\":[{\"colorbar\":{\"outlinewidth\":0,\"ticks\":\"\"},\"colorscale\":[[0.0,\"#0d0887\"],[0.1111111111111111,\"#46039f\"],[0.2222222222222222,\"#7201a8\"],[0.3333333333333333,\"#9c179e\"],[0.4444444444444444,\"#bd3786\"],[0.5555555555555556,\"#d8576b\"],[0.6666666666666666,\"#ed7953\"],[0.7777777777777778,\"#fb9f3a\"],[0.8888888888888888,\"#fdca26\"],[1.0,\"#f0f921\"]],\"type\":\"contour\"}],\"contourcarpet\":[{\"colorbar\":{\"outlinewidth\":0,\"ticks\":\"\"},\"type\":\"contourcarpet\"}],\"heatmap\":[{\"colorbar\":{\"outlinewidth\":0,\"ticks\":\"\"},\"colorscale\":[[0.0,\"#0d0887\"],[0.1111111111111111,\"#46039f\"],[0.2222222222222222,\"#7201a8\"],[0.3333333333333333,\"#9c179e\"],[0.4444444444444444,\"#bd3786\"],[0.5555555555555556,\"#d8576b\"],[0.6666666666666666,\"#ed7953\"],[0.7777777777777778,\"#fb9f3a\"],[0.8888888888888888,\"#fdca26\"],[1.0,\"#f0f921\"]],\"type\":\"heatmap\"}],\"heatmapgl\":[{\"colorbar\":{\"outlinewidth\":0,\"ticks\":\"\"},\"colorscale\":[[0.0,\"#0d0887\"],[0.1111111111111111,\"#46039f\"],[0.2222222222222222,\"#7201a8\"],[0.3333333333333333,\"#9c179e\"],[0.4444444444444444,\"#bd3786\"],[0.5555555555555556,\"#d8576b\"],[0.6666666666666666,\"#ed7953\"],[0.7777777777777778,\"#fb9f3a\"],[0.8888888888888888,\"#fdca26\"],[1.0,\"#f0f921\"]],\"type\":\"heatmapgl\"}],\"histogram\":[{\"marker\":{\"pattern\":{\"fillmode\":\"overlay\",\"size\":10,\"solidity\":0.2}},\"type\":\"histogram\"}],\"histogram2d\":[{\"colorbar\":{\"outlinewidth\":0,\"ticks\":\"\"},\"colorscale\":[[0.0,\"#0d0887\"],[0.1111111111111111,\"#46039f\"],[0.2222222222222222,\"#7201a8\"],[0.3333333333333333,\"#9c179e\"],[0.4444444444444444,\"#bd3786\"],[0.5555555555555556,\"#d8576b\"],[0.6666666666666666,\"#ed7953\"],[0.7777777777777778,\"#fb9f3a\"],[0.8888888888888888,\"#fdca26\"],[1.0,\"#f0f921\"]],\"type\":\"histogram2d\"}],\"histogram2dcontour\":[{\"colorbar\":{\"outlinewidth\":0,\"ticks\":\"\"},\"colorscale\":[[0.0,\"#0d0887\"],[0.1111111111111111,\"#46039f\"],[0.2222222222222222,\"#7201a8\"],[0.3333333333333333,\"#9c179e\"],[0.4444444444444444,\"#bd3786\"],[0.5555555555555556,\"#d8576b\"],[0.6666666666666666,\"#ed7953\"],[0.7777777777777778,\"#fb9f3a\"],[0.8888888888888888,\"#fdca26\"],[1.0,\"#f0f921\"]],\"type\":\"histogram2dcontour\"}],\"mesh3d\":[{\"colorbar\":{\"outlinewidth\":0,\"ticks\":\"\"},\"type\":\"mesh3d\"}],\"parcoords\":[{\"line\":{\"colorbar\":{\"outlinewidth\":0,\"ticks\":\"\"}},\"type\":\"parcoords\"}],\"pie\":[{\"automargin\":true,\"type\":\"pie\"}],\"scatter\":[{\"marker\":{\"colorbar\":{\"outlinewidth\":0,\"ticks\":\"\"}},\"type\":\"scatter\"}],\"scatter3d\":[{\"line\":{\"colorbar\":{\"outlinewidth\":0,\"ticks\":\"\"}},\"marker\":{\"colorbar\":{\"outlinewidth\":0,\"ticks\":\"\"}},\"type\":\"scatter3d\"}],\"scattercarpet\":[{\"marker\":{\"colorbar\":{\"outlinewidth\":0,\"ticks\":\"\"}},\"type\":\"scattercarpet\"}],\"scattergeo\":[{\"marker\":{\"colorbar\":{\"outlinewidth\":0,\"ticks\":\"\"}},\"type\":\"scattergeo\"}],\"scattergl\":[{\"marker\":{\"colorbar\":{\"outlinewidth\":0,\"ticks\":\"\"}},\"type\":\"scattergl\"}],\"scattermapbox\":[{\"marker\":{\"colorbar\":{\"outlinewidth\":0,\"ticks\":\"\"}},\"type\":\"scattermapbox\"}],\"scatterpolar\":[{\"marker\":{\"colorbar\":{\"outlinewidth\":0,\"ticks\":\"\"}},\"type\":\"scatterpolar\"}],\"scatterpolargl\":[{\"marker\":{\"colorbar\":{\"outlinewidth\":0,\"ticks\":\"\"}},\"type\":\"scatterpolargl\"}],\"scatterternary\":[{\"marker\":{\"colorbar\":{\"outlinewidth\":0,\"ticks\":\"\"}},\"type\":\"scatterternary\"}],\"surface\":[{\"colorbar\":{\"outlinewidth\":0,\"ticks\":\"\"},\"colorscale\":[[0.0,\"#0d0887\"],[0.1111111111111111,\"#46039f\"],[0.2222222222222222,\"#7201a8\"],[0.3333333333333333,\"#9c179e\"],[0.4444444444444444,\"#bd3786\"],[0.5555555555555556,\"#d8576b\"],[0.6666666666666666,\"#ed7953\"],[0.7777777777777778,\"#fb9f3a\"],[0.8888888888888888,\"#fdca26\"],[1.0,\"#f0f921\"]],\"type\":\"surface\"}],\"table\":[{\"cells\":{\"fill\":{\"color\":\"#EBF0F8\"},\"line\":{\"color\":\"white\"}},\"header\":{\"fill\":{\"color\":\"#C8D4E3\"},\"line\":{\"color\":\"white\"}},\"type\":\"table\"}]},\"layout\":{\"annotationdefaults\":{\"arrowcolor\":\"#2a3f5f\",\"arrowhead\":0,\"arrowwidth\":1},\"autotypenumbers\":\"strict\",\"coloraxis\":{\"colorbar\":{\"outlinewidth\":0,\"ticks\":\"\"}},\"colorscale\":{\"diverging\":[[0,\"#8e0152\"],[0.1,\"#c51b7d\"],[0.2,\"#de77ae\"],[0.3,\"#f1b6da\"],[0.4,\"#fde0ef\"],[0.5,\"#f7f7f7\"],[0.6,\"#e6f5d0\"],[0.7,\"#b8e186\"],[0.8,\"#7fbc41\"],[0.9,\"#4d9221\"],[1,\"#276419\"]],\"sequential\":[[0.0,\"#0d0887\"],[0.1111111111111111,\"#46039f\"],[0.2222222222222222,\"#7201a8\"],[0.3333333333333333,\"#9c179e\"],[0.4444444444444444,\"#bd3786\"],[0.5555555555555556,\"#d8576b\"],[0.6666666666666666,\"#ed7953\"],[0.7777777777777778,\"#fb9f3a\"],[0.8888888888888888,\"#fdca26\"],[1.0,\"#f0f921\"]],\"sequentialminus\":[[0.0,\"#0d0887\"],[0.1111111111111111,\"#46039f\"],[0.2222222222222222,\"#7201a8\"],[0.3333333333333333,\"#9c179e\"],[0.4444444444444444,\"#bd3786\"],[0.5555555555555556,\"#d8576b\"],[0.6666666666666666,\"#ed7953\"],[0.7777777777777778,\"#fb9f3a\"],[0.8888888888888888,\"#fdca26\"],[1.0,\"#f0f921\"]]},\"colorway\":[\"#636efa\",\"#EF553B\",\"#00cc96\",\"#ab63fa\",\"#FFA15A\",\"#19d3f3\",\"#FF6692\",\"#B6E880\",\"#FF97FF\",\"#FECB52\"],\"font\":{\"color\":\"#2a3f5f\"},\"geo\":{\"bgcolor\":\"white\",\"lakecolor\":\"white\",\"landcolor\":\"#E5ECF6\",\"showlakes\":true,\"showland\":true,\"subunitcolor\":\"white\"},\"hoverlabel\":{\"align\":\"left\"},\"hovermode\":\"closest\",\"mapbox\":{\"style\":\"light\"},\"paper_bgcolor\":\"white\",\"plot_bgcolor\":\"#E5ECF6\",\"polar\":{\"angularaxis\":{\"gridcolor\":\"white\",\"linecolor\":\"white\",\"ticks\":\"\"},\"bgcolor\":\"#E5ECF6\",\"radialaxis\":{\"gridcolor\":\"white\",\"linecolor\":\"white\",\"ticks\":\"\"}},\"scene\":{\"xaxis\":{\"backgroundcolor\":\"#E5ECF6\",\"gridcolor\":\"white\",\"gridwidth\":2,\"linecolor\":\"white\",\"showbackground\":true,\"ticks\":\"\",\"zerolinecolor\":\"white\"},\"yaxis\":{\"backgroundcolor\":\"#E5ECF6\",\"gridcolor\":\"white\",\"gridwidth\":2,\"linecolor\":\"white\",\"showbackground\":true,\"ticks\":\"\",\"zerolinecolor\":\"white\"},\"zaxis\":{\"backgroundcolor\":\"#E5ECF6\",\"gridcolor\":\"white\",\"gridwidth\":2,\"linecolor\":\"white\",\"showbackground\":true,\"ticks\":\"\",\"zerolinecolor\":\"white\"}},\"shapedefaults\":{\"line\":{\"color\":\"#2a3f5f\"}},\"ternary\":{\"aaxis\":{\"gridcolor\":\"white\",\"linecolor\":\"white\",\"ticks\":\"\"},\"baxis\":{\"gridcolor\":\"white\",\"linecolor\":\"white\",\"ticks\":\"\"},\"bgcolor\":\"#E5ECF6\",\"caxis\":{\"gridcolor\":\"white\",\"linecolor\":\"white\",\"ticks\":\"\"}},\"title\":{\"x\":0.05},\"xaxis\":{\"automargin\":true,\"gridcolor\":\"white\",\"linecolor\":\"white\",\"ticks\":\"\",\"title\":{\"standoff\":15},\"zerolinecolor\":\"white\",\"zerolinewidth\":2},\"yaxis\":{\"automargin\":true,\"gridcolor\":\"white\",\"linecolor\":\"white\",\"ticks\":\"\",\"title\":{\"standoff\":15},\"zerolinecolor\":\"white\",\"zerolinewidth\":2}}},\"title\":{\"font\":{\"color\":\"#4D5663\"}},\"xaxis\":{\"anchor\":\"y\",\"domain\":[0.0,0.2125],\"gridcolor\":\"#E1E5ED\",\"showgrid\":false,\"tickfont\":{\"color\":\"#4D5663\"},\"title\":{\"font\":{\"color\":\"#4D5663\"},\"text\":\"\"},\"zerolinecolor\":\"#E1E5ED\"},\"xaxis10\":{\"anchor\":\"y10\",\"domain\":[0.2625,0.475],\"gridcolor\":\"#E1E5ED\",\"showgrid\":false,\"tickfont\":{\"color\":\"#4D5663\"},\"title\":{\"font\":{\"color\":\"#4D5663\"},\"text\":\"\"},\"zerolinecolor\":\"#E1E5ED\"},\"xaxis11\":{\"anchor\":\"y11\",\"domain\":[0.525,0.7375],\"gridcolor\":\"#E1E5ED\",\"showgrid\":false,\"tickfont\":{\"color\":\"#4D5663\"},\"title\":{\"font\":{\"color\":\"#4D5663\"},\"text\":\"\"},\"zerolinecolor\":\"#E1E5ED\"},\"xaxis12\":{\"anchor\":\"y12\",\"domain\":[0.7875,1.0],\"gridcolor\":\"#E1E5ED\",\"showgrid\":false,\"tickfont\":{\"color\":\"#4D5663\"},\"title\":{\"font\":{\"color\":\"#4D5663\"},\"text\":\"\"},\"zerolinecolor\":\"#E1E5ED\"},\"xaxis13\":{\"anchor\":\"y13\",\"domain\":[0.0,0.2125],\"gridcolor\":\"#E1E5ED\",\"showgrid\":false,\"tickfont\":{\"color\":\"#4D5663\"},\"title\":{\"font\":{\"color\":\"#4D5663\"},\"text\":\"\"},\"zerolinecolor\":\"#E1E5ED\"},\"xaxis14\":{\"anchor\":\"y14\",\"domain\":[0.2625,0.475],\"gridcolor\":\"#E1E5ED\",\"showgrid\":false,\"tickfont\":{\"color\":\"#4D5663\"},\"title\":{\"font\":{\"color\":\"#4D5663\"},\"text\":\"\"},\"zerolinecolor\":\"#E1E5ED\"},\"xaxis15\":{\"anchor\":\"y15\",\"domain\":[0.525,0.7375],\"gridcolor\":\"#E1E5ED\",\"showgrid\":false,\"tickfont\":{\"color\":\"#4D5663\"},\"title\":{\"font\":{\"color\":\"#4D5663\"},\"text\":\"\"},\"zerolinecolor\":\"#E1E5ED\"},\"xaxis16\":{\"anchor\":\"y16\",\"domain\":[0.7875,1.0],\"gridcolor\":\"#E1E5ED\",\"showgrid\":false,\"tickfont\":{\"color\":\"#4D5663\"},\"title\":{\"font\":{\"color\":\"#4D5663\"},\"text\":\"\"},\"zerolinecolor\":\"#E1E5ED\"},\"xaxis2\":{\"anchor\":\"y2\",\"domain\":[0.2625,0.475],\"gridcolor\":\"#E1E5ED\",\"showgrid\":false,\"tickfont\":{\"color\":\"#4D5663\"},\"title\":{\"font\":{\"color\":\"#4D5663\"},\"text\":\"\"},\"zerolinecolor\":\"#E1E5ED\"},\"xaxis3\":{\"anchor\":\"y3\",\"domain\":[0.525,0.7375],\"gridcolor\":\"#E1E5ED\",\"showgrid\":false,\"tickfont\":{\"color\":\"#4D5663\"},\"title\":{\"font\":{\"color\":\"#4D5663\"},\"text\":\"\"},\"zerolinecolor\":\"#E1E5ED\"},\"xaxis4\":{\"anchor\":\"y4\",\"domain\":[0.7875,1.0],\"gridcolor\":\"#E1E5ED\",\"showgrid\":false,\"tickfont\":{\"color\":\"#4D5663\"},\"title\":{\"font\":{\"color\":\"#4D5663\"},\"text\":\"\"},\"zerolinecolor\":\"#E1E5ED\"},\"xaxis5\":{\"anchor\":\"y5\",\"domain\":[0.0,0.2125],\"gridcolor\":\"#E1E5ED\",\"showgrid\":false,\"tickfont\":{\"color\":\"#4D5663\"},\"title\":{\"font\":{\"color\":\"#4D5663\"},\"text\":\"\"},\"zerolinecolor\":\"#E1E5ED\"},\"xaxis6\":{\"anchor\":\"y6\",\"domain\":[0.2625,0.475],\"gridcolor\":\"#E1E5ED\",\"showgrid\":false,\"tickfont\":{\"color\":\"#4D5663\"},\"title\":{\"font\":{\"color\":\"#4D5663\"},\"text\":\"\"},\"zerolinecolor\":\"#E1E5ED\"},\"xaxis7\":{\"anchor\":\"y7\",\"domain\":[0.525,0.7375],\"gridcolor\":\"#E1E5ED\",\"showgrid\":false,\"tickfont\":{\"color\":\"#4D5663\"},\"title\":{\"font\":{\"color\":\"#4D5663\"},\"text\":\"\"},\"zerolinecolor\":\"#E1E5ED\"},\"xaxis8\":{\"anchor\":\"y8\",\"domain\":[0.7875,1.0],\"gridcolor\":\"#E1E5ED\",\"showgrid\":false,\"tickfont\":{\"color\":\"#4D5663\"},\"title\":{\"font\":{\"color\":\"#4D5663\"},\"text\":\"\"},\"zerolinecolor\":\"#E1E5ED\"},\"xaxis9\":{\"anchor\":\"y9\",\"domain\":[0.0,0.2125],\"gridcolor\":\"#E1E5ED\",\"showgrid\":false,\"tickfont\":{\"color\":\"#4D5663\"},\"title\":{\"font\":{\"color\":\"#4D5663\"},\"text\":\"\"},\"zerolinecolor\":\"#E1E5ED\"},\"yaxis\":{\"anchor\":\"x\",\"domain\":[0.8025,1.0],\"gridcolor\":\"#E1E5ED\",\"showgrid\":false,\"tickfont\":{\"color\":\"#4D5663\"},\"title\":{\"font\":{\"color\":\"#4D5663\"},\"text\":\"\"},\"zerolinecolor\":\"#E1E5ED\"},\"yaxis10\":{\"anchor\":\"x10\",\"domain\":[0.2675,0.465],\"gridcolor\":\"#E1E5ED\",\"showgrid\":false,\"tickfont\":{\"color\":\"#4D5663\"},\"title\":{\"font\":{\"color\":\"#4D5663\"},\"text\":\"\"},\"zerolinecolor\":\"#E1E5ED\"},\"yaxis11\":{\"anchor\":\"x11\",\"domain\":[0.2675,0.465],\"gridcolor\":\"#E1E5ED\",\"showgrid\":false,\"tickfont\":{\"color\":\"#4D5663\"},\"title\":{\"font\":{\"color\":\"#4D5663\"},\"text\":\"\"},\"zerolinecolor\":\"#E1E5ED\"},\"yaxis12\":{\"anchor\":\"x12\",\"domain\":[0.2675,0.465],\"gridcolor\":\"#E1E5ED\",\"showgrid\":false,\"tickfont\":{\"color\":\"#4D5663\"},\"title\":{\"font\":{\"color\":\"#4D5663\"},\"text\":\"\"},\"zerolinecolor\":\"#E1E5ED\"},\"yaxis13\":{\"anchor\":\"x13\",\"domain\":[0.0,0.1975],\"gridcolor\":\"#E1E5ED\",\"showgrid\":false,\"tickfont\":{\"color\":\"#4D5663\"},\"title\":{\"font\":{\"color\":\"#4D5663\"},\"text\":\"\"},\"zerolinecolor\":\"#E1E5ED\"},\"yaxis14\":{\"anchor\":\"x14\",\"domain\":[0.0,0.1975],\"gridcolor\":\"#E1E5ED\",\"showgrid\":false,\"tickfont\":{\"color\":\"#4D5663\"},\"title\":{\"font\":{\"color\":\"#4D5663\"},\"text\":\"\"},\"zerolinecolor\":\"#E1E5ED\"},\"yaxis15\":{\"anchor\":\"x15\",\"domain\":[0.0,0.1975],\"gridcolor\":\"#E1E5ED\",\"showgrid\":false,\"tickfont\":{\"color\":\"#4D5663\"},\"title\":{\"font\":{\"color\":\"#4D5663\"},\"text\":\"\"},\"zerolinecolor\":\"#E1E5ED\"},\"yaxis16\":{\"anchor\":\"x16\",\"domain\":[0.0,0.1975],\"gridcolor\":\"#E1E5ED\",\"showgrid\":false,\"tickfont\":{\"color\":\"#4D5663\"},\"title\":{\"font\":{\"color\":\"#4D5663\"},\"text\":\"\"},\"zerolinecolor\":\"#E1E5ED\"},\"yaxis2\":{\"anchor\":\"x2\",\"domain\":[0.8025,1.0],\"gridcolor\":\"#E1E5ED\",\"showgrid\":false,\"tickfont\":{\"color\":\"#4D5663\"},\"title\":{\"font\":{\"color\":\"#4D5663\"},\"text\":\"\"},\"zerolinecolor\":\"#E1E5ED\"},\"yaxis3\":{\"anchor\":\"x3\",\"domain\":[0.8025,1.0],\"gridcolor\":\"#E1E5ED\",\"showgrid\":false,\"tickfont\":{\"color\":\"#4D5663\"},\"title\":{\"font\":{\"color\":\"#4D5663\"},\"text\":\"\"},\"zerolinecolor\":\"#E1E5ED\"},\"yaxis4\":{\"anchor\":\"x4\",\"domain\":[0.8025,1.0],\"gridcolor\":\"#E1E5ED\",\"showgrid\":false,\"tickfont\":{\"color\":\"#4D5663\"},\"title\":{\"font\":{\"color\":\"#4D5663\"},\"text\":\"\"},\"zerolinecolor\":\"#E1E5ED\"},\"yaxis5\":{\"anchor\":\"x5\",\"domain\":[0.535,0.7325],\"gridcolor\":\"#E1E5ED\",\"showgrid\":false,\"tickfont\":{\"color\":\"#4D5663\"},\"title\":{\"font\":{\"color\":\"#4D5663\"},\"text\":\"\"},\"zerolinecolor\":\"#E1E5ED\"},\"yaxis6\":{\"anchor\":\"x6\",\"domain\":[0.535,0.7325],\"gridcolor\":\"#E1E5ED\",\"showgrid\":false,\"tickfont\":{\"color\":\"#4D5663\"},\"title\":{\"font\":{\"color\":\"#4D5663\"},\"text\":\"\"},\"zerolinecolor\":\"#E1E5ED\"},\"yaxis7\":{\"anchor\":\"x7\",\"domain\":[0.535,0.7325],\"gridcolor\":\"#E1E5ED\",\"showgrid\":false,\"tickfont\":{\"color\":\"#4D5663\"},\"title\":{\"font\":{\"color\":\"#4D5663\"},\"text\":\"\"},\"zerolinecolor\":\"#E1E5ED\"},\"yaxis8\":{\"anchor\":\"x8\",\"domain\":[0.535,0.7325],\"gridcolor\":\"#E1E5ED\",\"showgrid\":false,\"tickfont\":{\"color\":\"#4D5663\"},\"title\":{\"font\":{\"color\":\"#4D5663\"},\"text\":\"\"},\"zerolinecolor\":\"#E1E5ED\"},\"yaxis9\":{\"anchor\":\"x9\",\"domain\":[0.2675,0.465],\"gridcolor\":\"#E1E5ED\",\"showgrid\":false,\"tickfont\":{\"color\":\"#4D5663\"},\"title\":{\"font\":{\"color\":\"#4D5663\"},\"text\":\"\"},\"zerolinecolor\":\"#E1E5ED\"}},                        {\"showLink\": true, \"linkText\": \"Export to plot.ly\", \"plotlyServerURL\": \"https://plot.ly\", \"responsive\": true}                    ).then(function(){\n",
       "                            \n",
       "var gd = document.getElementById('4678feab-b84e-406f-b9c3-9396d05bfff8');\n",
       "var x = new MutationObserver(function (mutations, observer) {{\n",
       "        var display = window.getComputedStyle(gd).display;\n",
       "        if (!display || display === 'none') {{\n",
       "            console.log([gd, 'removed!']);\n",
       "            Plotly.purge(gd);\n",
       "            observer.disconnect();\n",
       "        }}\n",
       "}});\n",
       "\n",
       "// Listen for the removal of the full notebook cells\n",
       "var notebookContainer = gd.closest('#notebook-container');\n",
       "if (notebookContainer) {{\n",
       "    x.observe(notebookContainer, {childList: true});\n",
       "}}\n",
       "\n",
       "// Listen for the clearing of the current output cell\n",
       "var outputEl = gd.closest('.output');\n",
       "if (outputEl) {{\n",
       "    x.observe(outputEl, {childList: true});\n",
       "}}\n",
       "\n",
       "                        })                };                });            </script>        </div>"
      ]
     },
     "metadata": {},
     "output_type": "display_data"
    }
   ],
   "source": [
    "df.scatter_matrix()"
   ]
  },
  {
   "cell_type": "markdown",
   "metadata": {
    "collapsed": true
   },
   "source": [
    "# Great Job!"
   ]
  }
 ],
 "metadata": {
  "interpreter": {
   "hash": "183bbf6827d058c2a2fb0f4acdc0420849dda2b4380af0e437e38c64d798d8b7"
  },
  "kernelspec": {
   "display_name": "Python 3.8.8 64-bit ('base': conda)",
   "name": "python3"
  },
  "language_info": {
   "codemirror_mode": {
    "name": "ipython",
    "version": 3
   },
   "file_extension": ".py",
   "mimetype": "text/x-python",
   "name": "python",
   "nbconvert_exporter": "python",
   "pygments_lexer": "ipython3",
   "version": "3.8.8"
  }
 },
 "nbformat": 4,
 "nbformat_minor": 0
}
